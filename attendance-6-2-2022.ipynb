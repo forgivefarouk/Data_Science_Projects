{
 "cells": [
  {
   "cell_type": "code",
   "execution_count": 1,
   "id": "b0a929d0",
   "metadata": {
    "_cell_guid": "b1076dfc-b9ad-4769-8c92-a6c4dae69d19",
    "_uuid": "8f2839f25d086af736a60e9eeb907d3b93b6e0e5",
    "execution": {
     "iopub.execute_input": "2022-02-11T20:54:07.162283Z",
     "iopub.status.busy": "2022-02-11T20:54:07.161093Z",
     "iopub.status.idle": "2022-02-11T20:54:07.190985Z",
     "shell.execute_reply": "2022-02-11T20:54:07.190311Z",
     "shell.execute_reply.started": "2022-02-11T20:53:20.803631Z"
    },
    "papermill": {
     "duration": 0.039139,
     "end_time": "2022-02-11T20:54:07.191155",
     "exception": false,
     "start_time": "2022-02-11T20:54:07.152016",
     "status": "completed"
    },
    "tags": []
   },
   "outputs": [
    {
     "name": "stdout",
     "output_type": "stream",
     "text": [
      "/kaggle/input/attendance-622022/garag_kids_in.csv\n",
      "/kaggle/input/attendance-622022/galaa_out1.csv\n",
      "/kaggle/input/attendance-622022/galaa_in2.csv\n",
      "/kaggle/input/attendance-622022/galaa_out2.csv\n",
      "/kaggle/input/attendance-622022/garag_kids_out.csv\n",
      "/kaggle/input/attendance-622022/galaa_in1.csv\n",
      "/kaggle/input/attendance-622022/kids_in.csv\n",
      "/kaggle/input/attendance-622022/kela2.csv\n",
      "/kaggle/input/attendance-622022/kela.csv\n",
      "/kaggle/input/attendance-622022/shoon.csv\n"
     ]
    }
   ],
   "source": [
    "# This Python 3 environment comes with many helpful analytics libraries installed\n",
    "# It is defined by the kaggle/python Docker image: https://github.com/kaggle/docker-python\n",
    "# For example, here's several helpful packages to load\n",
    "\n",
    "import numpy as np # linear algebra\n",
    "import pandas as pd # data processing, CSV file I/O (e.g. pd.read_csv)\n",
    "import matplotlib.pyplot as plt\n",
    "\n",
    "# Input data files are available in the read-only \"../input/\" directory\n",
    "# For example, running this (by clicking run or pressing Shift+Enter) will list all files under the input directory\n",
    "\n",
    "import os\n",
    "for dirname, _, filenames in os.walk('/kaggle/input'):\n",
    "    for filename in filenames:\n",
    "        print(os.path.join(dirname, filename))\n",
    "\n",
    "# You can write up to 20GB to the current directory (/kaggle/working/) that gets preserved as output when you create a version using \"Save & Run All\" \n",
    "# You can also write temporary files to /kaggle/temp/, but they won't be saved outside of the current session"
   ]
  },
  {
   "cell_type": "code",
   "execution_count": 2,
   "id": "fd06cd7f",
   "metadata": {
    "execution": {
     "iopub.execute_input": "2022-02-11T20:54:07.211816Z",
     "iopub.status.busy": "2022-02-11T20:54:07.210941Z",
     "iopub.status.idle": "2022-02-11T20:54:09.559993Z",
     "shell.execute_reply": "2022-02-11T20:54:09.560505Z",
     "shell.execute_reply.started": "2022-02-11T20:53:20.819225Z"
    },
    "papermill": {
     "duration": 2.36366,
     "end_time": "2022-02-11T20:54:09.560694",
     "exception": false,
     "start_time": "2022-02-11T20:54:07.197034",
     "status": "completed"
    },
    "tags": []
   },
   "outputs": [
    {
     "data": {
      "text/html": [
       "<div>\n",
       "<style scoped>\n",
       "    .dataframe tbody tr th:only-of-type {\n",
       "        vertical-align: middle;\n",
       "    }\n",
       "\n",
       "    .dataframe tbody tr th {\n",
       "        vertical-align: top;\n",
       "    }\n",
       "\n",
       "    .dataframe thead th {\n",
       "        text-align: right;\n",
       "    }\n",
       "</style>\n",
       "<table border=\"1\" class=\"dataframe\">\n",
       "  <thead>\n",
       "    <tr style=\"text-align: right;\">\n",
       "      <th></th>\n",
       "      <th>WorkId</th>\n",
       "      <th>Date</th>\n",
       "      <th>Time</th>\n",
       "      <th>Machine</th>\n",
       "    </tr>\n",
       "  </thead>\n",
       "  <tbody>\n",
       "    <tr>\n",
       "      <th>4976</th>\n",
       "      <td>31660</td>\n",
       "      <td>2022-02-06</td>\n",
       "      <td>00:00:05</td>\n",
       "      <td>galaa_out1</td>\n",
       "    </tr>\n",
       "  </tbody>\n",
       "</table>\n",
       "</div>"
      ],
      "text/plain": [
       "      WorkId       Date      Time     Machine\n",
       "4976   31660 2022-02-06  00:00:05  galaa_out1"
      ]
     },
     "execution_count": 2,
     "metadata": {},
     "output_type": "execute_result"
    }
   ],
   "source": [
    "#list of machine name\n",
    "list_of_machine_names=['galaa_in1','galaa_in2','galaa_out1','galaa_out2','garag_kids_in','garag_kids_out','kela','kela2','kids_in','shoon']\n",
    "\n",
    " \n",
    "#read files and make DataFrame       \n",
    "for machine in list_of_machine_names:\n",
    "    globals()[machine]=pd.read_csv('../input/attendance-622022/{}.csv'.format(machine))\n",
    "    \n",
    "#what columns i need\n",
    "filter_col=['WorkId','Date','Time']\n",
    "\n",
    "#clean my data and increase \"Machine\" column\n",
    "for new_df in list_of_machine_names:\n",
    "    globals()[new_df]=globals()[new_df][filter_col]\n",
    "    globals()[new_df]['Machine']=new_df\n",
    "    \n",
    "    \n",
    "#combine all files\n",
    "combined_files = pd.concat([globals()[f] for f in list_of_machine_names ])\n",
    "\n",
    "#put data in \"combined\" file\n",
    "combined_files.to_csv( \"combined.csv\", index=False, encoding='utf-8-sig')\n",
    "\n",
    "#convert date from string to date time\n",
    "combined_files['Date']=pd.to_datetime(combined_files['Date'])\n",
    "\n",
    "#print last day in this attendane\n",
    "combined_files.nlargest(1,'Date')"
   ]
  },
  {
   "cell_type": "code",
   "execution_count": 3,
   "id": "494f29c1",
   "metadata": {
    "execution": {
     "iopub.execute_input": "2022-02-11T20:54:09.584793Z",
     "iopub.status.busy": "2022-02-11T20:54:09.584077Z",
     "iopub.status.idle": "2022-02-11T20:54:09.901528Z",
     "shell.execute_reply": "2022-02-11T20:54:09.901015Z",
     "shell.execute_reply.started": "2022-02-11T20:53:22.787645Z"
    },
    "papermill": {
     "duration": 0.335253,
     "end_time": "2022-02-11T20:54:09.901670",
     "exception": false,
     "start_time": "2022-02-11T20:54:09.566417",
     "status": "completed"
    },
    "tags": []
   },
   "outputs": [
    {
     "name": "stderr",
     "output_type": "stream",
     "text": [
      "/opt/conda/lib/python3.7/site-packages/ipykernel_launcher.py:7: UserWarning: FixedFormatter should only be used together with FixedLocator\n",
      "  import sys\n"
     ]
    },
    {
     "data": {
      "image/png": "[encoded data removed]",
      "text/plain": [
       "<Figure size 864x432 with 1 Axes>"
      ]
     },
     "metadata": {
      "needs_background": "light"
     },
     "output_type": "display_data"
    }
   ],
   "source": [
    "groubed =combined_files.groupby('Machine').agg({'Time':'count'})\n",
    "\n",
    "fig ,ax =plt.subplots()\n",
    "plt.style.use('ggplot')\n",
    "fig.set_size_inches([12,6])\n",
    "ax.bar(groubed.index,groubed['Time'])\n",
    "ax.set_xticklabels(groubed.index , rotation=90)\n",
    "plt.show()"
   ]
  },
  {
   "cell_type": "code",
   "execution_count": null,
   "id": "02834216",
   "metadata": {
    "papermill": {
     "duration": 0.00624,
     "end_time": "2022-02-11T20:54:09.914616",
     "exception": false,
     "start_time": "2022-02-11T20:54:09.908376",
     "status": "completed"
    },
    "tags": []
   },
   "outputs": [],
   "source": []
  }
 ],
 "metadata": {
  "kernelspec": {
   "display_name": "Python 3",
   "language": "python",
   "name": "python3"
  },
  "language_info": {
   "codemirror_mode": {
    "name": "ipython",
    "version": 3
   },
   "file_extension": ".py",
   "mimetype": "text/x-python",
   "name": "python",
   "nbconvert_exporter": "python",
   "pygments_lexer": "ipython3",
   "version": "3.7.12"
  },
  "papermill": {
   "default_parameters": {},
   "duration": 13.303445,
   "end_time": "2022-02-11T20:54:10.633239",
   "environment_variables": {},
   "exception": null,
   "input_path": "__notebook__.ipynb",
   "output_path": "__notebook__.ipynb",
   "parameters": {},
   "start_time": "2022-02-11T20:53:57.329794",
   "version": "2.3.3"
  }
 },
 "nbformat": 4,
 "nbformat_minor": 5
}
