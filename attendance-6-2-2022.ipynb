{
 "cells": [
  {
   "cell_type": "code",
   "execution_count": 1,
   "id": "8e5b8958",
   "metadata": {
    "_cell_guid": "b1076dfc-b9ad-4769-8c92-a6c4dae69d19",
    "_uuid": "8f2839f25d086af736a60e9eeb907d3b93b6e0e5",
    "execution": {
     "iopub.execute_input": "2022-02-12T09:41:24.282690Z",
     "iopub.status.busy": "2022-02-12T09:41:24.281991Z",
     "iopub.status.idle": "2022-02-12T09:41:24.299327Z",
     "shell.execute_reply": "2022-02-12T09:41:24.299841Z",
     "shell.execute_reply.started": "2022-02-12T09:11:55.115212Z"
    },
    "papermill": {
     "duration": 0.03437,
     "end_time": "2022-02-12T09:41:24.300070",
     "exception": false,
     "start_time": "2022-02-12T09:41:24.265700",
     "status": "completed"
    },
    "tags": []
   },
   "outputs": [
    {
     "name": "stdout",
     "output_type": "stream",
     "text": [
      "/kaggle/input/attendance-622022/garag_kids_in.csv\n",
      "/kaggle/input/attendance-622022/Personnel File2-2022.csv\n",
      "/kaggle/input/attendance-622022/galaa_out1.csv\n",
      "/kaggle/input/attendance-622022/galaa_in2.csv\n",
      "/kaggle/input/attendance-622022/galaa_out2.csv\n",
      "/kaggle/input/attendance-622022/garag_kids_out.csv\n",
      "/kaggle/input/attendance-622022/galaa_in1.csv\n",
      "/kaggle/input/attendance-622022/kids_in.csv\n",
      "/kaggle/input/attendance-622022/kela2.csv\n",
      "/kaggle/input/attendance-622022/kela.csv\n",
      "/kaggle/input/attendance-622022/shoon.csv\n"
     ]
    }
   ],
   "source": [
    "# This Python 3 environment comes with many helpful analytics libraries installed\n",
    "# It is defined by the kaggle/python Docker image: https://github.com/kaggle/docker-python\n",
    "# For example, here's several helpful packages to load\n",
    "\n",
    "import numpy as np # linear algebra\n",
    "import pandas as pd # data processing, CSV file I/O (e.g. pd.read_csv)\n",
    "import matplotlib.pyplot as plt\n",
    "\n",
    "# Input data files are available in the read-only \"../input/\" directory\n",
    "# For example, running this (by clicking run or pressing Shift+Enter) will list all files under the input directory\n",
    "\n",
    "import os\n",
    "for dirname, _, filenames in os.walk('/kaggle/input'):\n",
    "    for filename in filenames:\n",
    "        print(os.path.join(dirname, filename))\n",
    "\n",
    "# You can write up to 20GB to the current directory (/kaggle/working/) that gets preserved as output when you create a version using \"Save & Run All\" \n",
    "# You can also write temporary files to /kaggle/temp/, but they won't be saved outside of the current session"
   ]
  },
  {
   "cell_type": "code",
   "execution_count": 2,
   "id": "4ef45679",
   "metadata": {
    "execution": {
     "iopub.execute_input": "2022-02-12T09:41:24.316976Z",
     "iopub.status.busy": "2022-02-12T09:41:24.316458Z",
     "iopub.status.idle": "2022-02-12T09:41:26.604028Z",
     "shell.execute_reply": "2022-02-12T09:41:26.604441Z",
     "shell.execute_reply.started": "2022-02-12T09:11:55.129528Z"
    },
    "papermill": {
     "duration": 2.299399,
     "end_time": "2022-02-12T09:41:26.604592",
     "exception": false,
     "start_time": "2022-02-12T09:41:24.305193",
     "status": "completed"
    },
    "tags": []
   },
   "outputs": [
    {
     "data": {
      "text/html": [
       "<div>\n",
       "<style scoped>\n",
       "    .dataframe tbody tr th:only-of-type {\n",
       "        vertical-align: middle;\n",
       "    }\n",
       "\n",
       "    .dataframe tbody tr th {\n",
       "        vertical-align: top;\n",
       "    }\n",
       "\n",
       "    .dataframe thead th {\n",
       "        text-align: right;\n",
       "    }\n",
       "</style>\n",
       "<table border=\"1\" class=\"dataframe\">\n",
       "  <thead>\n",
       "    <tr style=\"text-align: right;\">\n",
       "      <th></th>\n",
       "      <th>WorkId</th>\n",
       "      <th>Date</th>\n",
       "      <th>Time</th>\n",
       "      <th>Machine</th>\n",
       "    </tr>\n",
       "  </thead>\n",
       "  <tbody>\n",
       "    <tr>\n",
       "      <th>4976</th>\n",
       "      <td>31660</td>\n",
       "      <td>2022-02-06</td>\n",
       "      <td>00:00:05</td>\n",
       "      <td>galaa_out1</td>\n",
       "    </tr>\n",
       "  </tbody>\n",
       "</table>\n",
       "</div>"
      ],
      "text/plain": [
       "      WorkId       Date      Time     Machine\n",
       "4976   31660 2022-02-06  00:00:05  galaa_out1"
      ]
     },
     "execution_count": 2,
     "metadata": {},
     "output_type": "execute_result"
    }
   ],
   "source": [
    "#list of machine name\n",
    "list_of_machine_names=['galaa_in1','galaa_in2','galaa_out1','galaa_out2','garag_kids_in','garag_kids_out','kela','kela2','kids_in','shoon']\n",
    "\n",
    " \n",
    "#read files and make DataFrame       \n",
    "for machine in list_of_machine_names:\n",
    "    globals()[machine]=pd.read_csv('../input/attendance-622022/{}.csv'.format(machine))\n",
    "    \n",
    "#what columns i need\n",
    "filter_col=['WorkId','Date','Time']\n",
    "\n",
    "#clean my data and increase \"Machine\" column\n",
    "for new_df in list_of_machine_names:\n",
    "    globals()[new_df]=globals()[new_df][filter_col]\n",
    "    globals()[new_df]['Machine']=new_df\n",
    "    \n",
    "    \n",
    "#combine all files\n",
    "combined_files = pd.concat([globals()[f] for f in list_of_machine_names ])\n",
    "\n",
    "#put data in \"combined\" file\n",
    "combined_files.to_csv( \"combined.csv\", index=False, encoding='utf-8-sig')\n",
    "\n",
    "#convert date from string to date time\n",
    "combined_files['Date']=pd.to_datetime(combined_files['Date'])\n",
    "\n",
    "#print last day in this attendane\n",
    "combined_files.nlargest(1,'Date')"
   ]
  },
  {
   "cell_type": "code",
   "execution_count": 3,
   "id": "3c946ea8",
   "metadata": {
    "execution": {
     "iopub.execute_input": "2022-02-12T09:41:26.619334Z",
     "iopub.status.busy": "2022-02-12T09:41:26.618705Z",
     "iopub.status.idle": "2022-02-12T09:41:26.909149Z",
     "shell.execute_reply": "2022-02-12T09:41:26.908678Z",
     "shell.execute_reply.started": "2022-02-12T09:11:56.271061Z"
    },
    "papermill": {
     "duration": 0.299072,
     "end_time": "2022-02-12T09:41:26.909296",
     "exception": false,
     "start_time": "2022-02-12T09:41:26.610224",
     "status": "completed"
    },
    "tags": []
   },
   "outputs": [
    {
     "name": "stderr",
     "output_type": "stream",
     "text": [
      "/opt/conda/lib/python3.7/site-packages/ipykernel_launcher.py:7: UserWarning: FixedFormatter should only be used together with FixedLocator\n",
      "  import sys\n"
     ]
    },
    {
     "data": {
      "image/png": "[encoded data removed]",
      "text/plain": [
       "<Figure size 864x432 with 1 Axes>"
      ]
     },
     "metadata": {
      "needs_background": "light"
     },
     "output_type": "display_data"
    }
   ],
   "source": [
    "groubed =combined_files.groupby('Machine').agg({'Time':'count'})\n",
    "\n",
    "fig ,ax =plt.subplots()\n",
    "plt.style.use('ggplot')\n",
    "fig.set_size_inches([12,6])\n",
    "ax.bar(groubed.index,groubed['Time'])\n",
    "ax.set_xticklabels(groubed.index , rotation=90)\n",
    "plt.show()"
   ]
  },
  {
   "cell_type": "code",
   "execution_count": 4,
   "id": "9c4af6de",
   "metadata": {
    "execution": {
     "iopub.execute_input": "2022-02-12T09:41:26.928522Z",
     "iopub.status.busy": "2022-02-12T09:41:26.927953Z",
     "iopub.status.idle": "2022-02-12T09:41:31.181614Z",
     "shell.execute_reply": "2022-02-12T09:41:31.181992Z",
     "shell.execute_reply.started": "2022-02-12T09:21:17.041479Z"
    },
    "papermill": {
     "duration": 4.266391,
     "end_time": "2022-02-12T09:41:31.182165",
     "exception": false,
     "start_time": "2022-02-12T09:41:26.915774",
     "status": "completed"
    },
    "tags": []
   },
   "outputs": [],
   "source": [
    "personal_file =pd.read_csv('../input/attendance-622022/Personnel File2-2022.csv' , encoding ='windows-1256')\n",
    "personal_file=personal_file.rename(columns={'*Person ID':'Id'})\n",
    "personal_file=personal_file.rename(columns={'*Organization':'Organization'})\n",
    "personal_file=personal_file.rename(columns={'*Person Name':'Name'})\n",
    "\n",
    "combined_files=combined_files.rename(columns={'WorkId':'Id'})\n",
    "\n",
    "merged_files = personal_file.merge(combined_files,on='Id')\n",
    "merged_files.to_csv('all_6-2-2022.csv')\n",
    "\n"
   ]
  },
  {
   "cell_type": "code",
   "execution_count": 5,
   "id": "bbd52d16",
   "metadata": {
    "execution": {
     "iopub.execute_input": "2022-02-12T09:41:31.200743Z",
     "iopub.status.busy": "2022-02-12T09:41:31.199667Z",
     "iopub.status.idle": "2022-02-12T09:41:31.581293Z",
     "shell.execute_reply": "2022-02-12T09:41:31.581693Z",
     "shell.execute_reply.started": "2022-02-12T09:35:14.676363Z"
    },
    "papermill": {
     "duration": 0.393247,
     "end_time": "2022-02-12T09:41:31.581826",
     "exception": false,
     "start_time": "2022-02-12T09:41:31.188579",
     "status": "completed"
    },
    "tags": []
   },
   "outputs": [
    {
     "data": {
      "text/html": [
       "<div>\n",
       "<style scoped>\n",
       "    .dataframe tbody tr th:only-of-type {\n",
       "        vertical-align: middle;\n",
       "    }\n",
       "\n",
       "    .dataframe tbody tr th {\n",
       "        vertical-align: top;\n",
       "    }\n",
       "\n",
       "    .dataframe thead th {\n",
       "        text-align: right;\n",
       "    }\n",
       "</style>\n",
       "<table border=\"1\" class=\"dataframe\">\n",
       "  <thead>\n",
       "    <tr style=\"text-align: right;\">\n",
       "      <th></th>\n",
       "      <th>Id</th>\n",
       "      <th>Organization</th>\n",
       "      <th>Name</th>\n",
       "      <th>Date</th>\n",
       "      <th>Time</th>\n",
       "      <th>Machine</th>\n",
       "    </tr>\n",
       "  </thead>\n",
       "  <tbody>\n",
       "    <tr>\n",
       "      <th>349</th>\n",
       "      <td>9</td>\n",
       "      <td>'الجلاء</td>\n",
       "      <td>احمد سلامة محمد رمضان</td>\n",
       "      <td>2022-01-30</td>\n",
       "      <td>14:53:24</td>\n",
       "      <td>galaa_in1</td>\n",
       "    </tr>\n",
       "    <tr>\n",
       "      <th>350</th>\n",
       "      <td>9</td>\n",
       "      <td>'الجلاء</td>\n",
       "      <td>احمد سلامة محمد رمضان</td>\n",
       "      <td>2022-02-01</td>\n",
       "      <td>10:38:09</td>\n",
       "      <td>galaa_in1</td>\n",
       "    </tr>\n",
       "    <tr>\n",
       "      <th>351</th>\n",
       "      <td>9</td>\n",
       "      <td>'الجلاء</td>\n",
       "      <td>احمد سلامة محمد رمضان</td>\n",
       "      <td>2022-02-05</td>\n",
       "      <td>08:30:47</td>\n",
       "      <td>galaa_in1</td>\n",
       "    </tr>\n",
       "    <tr>\n",
       "      <th>352</th>\n",
       "      <td>9</td>\n",
       "      <td>'الجلاء</td>\n",
       "      <td>احمد سلامة محمد رمضان</td>\n",
       "      <td>2022-02-05</td>\n",
       "      <td>21:09:13</td>\n",
       "      <td>galaa_in1</td>\n",
       "    </tr>\n",
       "    <tr>\n",
       "      <th>353</th>\n",
       "      <td>9</td>\n",
       "      <td>'الجلاء</td>\n",
       "      <td>احمد سلامة محمد رمضان</td>\n",
       "      <td>2022-02-05</td>\n",
       "      <td>21:09:16</td>\n",
       "      <td>galaa_in1</td>\n",
       "    </tr>\n",
       "    <tr>\n",
       "      <th>...</th>\n",
       "      <td>...</td>\n",
       "      <td>...</td>\n",
       "      <td>...</td>\n",
       "      <td>...</td>\n",
       "      <td>...</td>\n",
       "      <td>...</td>\n",
       "    </tr>\n",
       "    <tr>\n",
       "      <th>581</th>\n",
       "      <td>9</td>\n",
       "      <td>'الجلاء</td>\n",
       "      <td>احمد سلامة محمد رمضان</td>\n",
       "      <td>2022-01-24</td>\n",
       "      <td>16:37:33</td>\n",
       "      <td>shoon</td>\n",
       "    </tr>\n",
       "    <tr>\n",
       "      <th>582</th>\n",
       "      <td>9</td>\n",
       "      <td>'الجلاء</td>\n",
       "      <td>احمد سلامة محمد رمضان</td>\n",
       "      <td>2022-01-25</td>\n",
       "      <td>17:22:18</td>\n",
       "      <td>shoon</td>\n",
       "    </tr>\n",
       "    <tr>\n",
       "      <th>583</th>\n",
       "      <td>9</td>\n",
       "      <td>'الجلاء</td>\n",
       "      <td>احمد سلامة محمد رمضان</td>\n",
       "      <td>2022-01-25</td>\n",
       "      <td>17:22:21</td>\n",
       "      <td>shoon</td>\n",
       "    </tr>\n",
       "    <tr>\n",
       "      <th>584</th>\n",
       "      <td>9</td>\n",
       "      <td>'الجلاء</td>\n",
       "      <td>احمد سلامة محمد رمضان</td>\n",
       "      <td>2022-01-26</td>\n",
       "      <td>14:10:09</td>\n",
       "      <td>shoon</td>\n",
       "    </tr>\n",
       "    <tr>\n",
       "      <th>585</th>\n",
       "      <td>9</td>\n",
       "      <td>'الجلاء</td>\n",
       "      <td>احمد سلامة محمد رمضان</td>\n",
       "      <td>2022-01-26</td>\n",
       "      <td>15:31:22</td>\n",
       "      <td>shoon</td>\n",
       "    </tr>\n",
       "  </tbody>\n",
       "</table>\n",
       "<p>237 rows × 6 columns</p>\n",
       "</div>"
      ],
      "text/plain": [
       "     Id Organization                   Name       Date      Time    Machine\n",
       "349   9      'الجلاء  احمد سلامة محمد رمضان 2022-01-30  14:53:24  galaa_in1\n",
       "350   9      'الجلاء  احمد سلامة محمد رمضان 2022-02-01  10:38:09  galaa_in1\n",
       "351   9      'الجلاء  احمد سلامة محمد رمضان 2022-02-05  08:30:47  galaa_in1\n",
       "352   9      'الجلاء  احمد سلامة محمد رمضان 2022-02-05  21:09:13  galaa_in1\n",
       "353   9      'الجلاء  احمد سلامة محمد رمضان 2022-02-05  21:09:16  galaa_in1\n",
       "..   ..          ...                    ...        ...       ...        ...\n",
       "581   9      'الجلاء  احمد سلامة محمد رمضان 2022-01-24  16:37:33      shoon\n",
       "582   9      'الجلاء  احمد سلامة محمد رمضان 2022-01-25  17:22:18      shoon\n",
       "583   9      'الجلاء  احمد سلامة محمد رمضان 2022-01-25  17:22:21      shoon\n",
       "584   9      'الجلاء  احمد سلامة محمد رمضان 2022-01-26  14:10:09      shoon\n",
       "585   9      'الجلاء  احمد سلامة محمد رمضان 2022-01-26  15:31:22      shoon\n",
       "\n",
       "[237 rows x 6 columns]"
      ]
     },
     "execution_count": 5,
     "metadata": {},
     "output_type": "execute_result"
    },
    {
     "data": {
      "image/png": "[encoded data removed]",
      "text/plain": [
       "<Figure size 432x288 with 1 Axes>"
      ]
     },
     "metadata": {},
     "output_type": "display_data"
    }
   ],
   "source": [
    "ahmed_salama=merged_files[merged_files['Id']==9]\n",
    "gg =ahmed_salama.groupby('Machine').agg({'Date':'count'})\n",
    "gg.plot(kind='bar')\n",
    "ahmed_salama"
   ]
  }
 ],
 "metadata": {
  "kernelspec": {
   "display_name": "Python 3",
   "language": "python",
   "name": "python3"
  },
  "language_info": {
   "codemirror_mode": {
    "name": "ipython",
    "version": 3
   },
   "file_extension": ".py",
   "mimetype": "text/x-python",
   "name": "python",
   "nbconvert_exporter": "python",
   "pygments_lexer": "ipython3",
   "version": "3.7.12"
  },
  "papermill": {
   "default_parameters": {},
   "duration": 19.603876,
   "end_time": "2022-02-12T09:41:32.502559",
   "environment_variables": {},
   "exception": null,
   "input_path": "__notebook__.ipynb",
   "output_path": "__notebook__.ipynb",
   "parameters": {},
   "start_time": "2022-02-12T09:41:12.898683",
   "version": "2.3.3"
  }
 },
 "nbformat": 4,
 "nbformat_minor": 5
}
