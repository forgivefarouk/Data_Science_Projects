{
 "cells": [
  {
   "cell_type": "code",
   "execution_count": 1,
   "id": "0b7acc06",
   "metadata": {
    "_cell_guid": "b1076dfc-b9ad-4769-8c92-a6c4dae69d19",
    "_uuid": "8f2839f25d086af736a60e9eeb907d3b93b6e0e5",
    "execution": {
     "iopub.execute_input": "2022-02-11T12:08:36.393459Z",
     "iopub.status.busy": "2022-02-11T12:08:36.392220Z",
     "iopub.status.idle": "2022-02-11T12:08:36.411588Z",
     "shell.execute_reply": "2022-02-11T12:08:36.412107Z",
     "shell.execute_reply.started": "2022-02-11T11:53:53.880409Z"
    },
    "papermill": {
     "duration": 0.02835,
     "end_time": "2022-02-11T12:08:36.412403",
     "exception": false,
     "start_time": "2022-02-11T12:08:36.384053",
     "status": "completed"
    },
    "tags": []
   },
   "outputs": [
    {
     "name": "stdout",
     "output_type": "stream",
     "text": [
      "/kaggle/input/attendance-622022/garag_kids_in.csv\n",
      "/kaggle/input/attendance-622022/galaa_out1.csv\n",
      "/kaggle/input/attendance-622022/galaa_in2.csv\n",
      "/kaggle/input/attendance-622022/galaa_out2.csv\n",
      "/kaggle/input/attendance-622022/garag_kids_out.csv\n",
      "/kaggle/input/attendance-622022/galaa_in1.csv\n",
      "/kaggle/input/attendance-622022/kids_in.csv\n",
      "/kaggle/input/attendance-622022/kela2.csv\n",
      "/kaggle/input/attendance-622022/kela.csv\n",
      "/kaggle/input/attendance-622022/shoon.csv\n"
     ]
    }
   ],
   "source": [
    "# This Python 3 environment comes with many helpful analytics libraries installed\n",
    "# It is defined by the kaggle/python Docker image: https://github.com/kaggle/docker-python\n",
    "# For example, here's several helpful packages to load\n",
    "\n",
    "import numpy as np # linear algebra\n",
    "import pandas as pd # data processing, CSV file I/O (e.g. pd.read_csv)\n",
    "\n",
    "# Input data files are available in the read-only \"../input/\" directory\n",
    "# For example, running this (by clicking run or pressing Shift+Enter) will list all files under the input directory\n",
    "\n",
    "import os\n",
    "for dirname, _, filenames in os.walk('/kaggle/input'):\n",
    "    for filename in filenames:\n",
    "        print(os.path.join(dirname, filename))\n",
    "\n",
    "# You can write up to 20GB to the current directory (/kaggle/working/) that gets preserved as output when you create a version using \"Save & Run All\" \n",
    "# You can also write temporary files to /kaggle/temp/, but they won't be saved outside of the current session"
   ]
  },
  {
   "cell_type": "code",
   "execution_count": 2,
   "id": "69c82364",
   "metadata": {
    "execution": {
     "iopub.execute_input": "2022-02-11T12:08:36.423491Z",
     "iopub.status.busy": "2022-02-11T12:08:36.422851Z",
     "iopub.status.idle": "2022-02-11T12:08:38.431705Z",
     "shell.execute_reply": "2022-02-11T12:08:38.431157Z",
     "shell.execute_reply.started": "2022-02-11T12:07:11.558329Z"
    },
    "papermill": {
     "duration": 2.014666,
     "end_time": "2022-02-11T12:08:38.431862",
     "exception": false,
     "start_time": "2022-02-11T12:08:36.417196",
     "status": "completed"
    },
    "tags": []
   },
   "outputs": [],
   "source": [
    "list_of_machine_names=['galaa_in1','galaa_in2','galaa_out1','galaa_out2','garag_kids_in','garag_kids_out','kela','kela2','kids_in','shoon']\n",
    "\n",
    "for machine in list_of_machine_names:\n",
    "    globals()[machine]=pd.read_csv('../input/attendance-622022/{}.csv'.format(machine))\n",
    "    \n",
    "\n",
    "filter_col=['WorkId','Date','Time']\n",
    "\n",
    "for new_df in list_of_machine_names:\n",
    "    globals()[new_df]=globals()[new_df][filter_col]\n",
    "    globals()[new_df]['Machine']=new_df\n",
    "    \n",
    "    \n",
    "\n",
    "combined_files = pd.concat([globals()[f] for f in list_of_machine_names ])\n",
    "\n",
    "combined_files.to_csv( \"combined.csv\", index=False, encoding='utf-8-sig')\n",
    "\n"
   ]
  }
 ],
 "metadata": {
  "kernelspec": {
   "display_name": "Python 3",
   "language": "python",
   "name": "python3"
  },
  "language_info": {
   "codemirror_mode": {
    "name": "ipython",
    "version": 3
   },
   "file_extension": ".py",
   "mimetype": "text/x-python",
   "name": "python",
   "nbconvert_exporter": "python",
   "pygments_lexer": "ipython3",
   "version": "3.7.12"
  },
  "papermill": {
   "default_parameters": {},
   "duration": 12.660031,
   "end_time": "2022-02-11T12:08:39.048090",
   "environment_variables": {},
   "exception": null,
   "input_path": "__notebook__.ipynb",
   "output_path": "__notebook__.ipynb",
   "parameters": {},
   "start_time": "2022-02-11T12:08:26.388059",
   "version": "2.3.3"
  }
 },
 "nbformat": 4,
 "nbformat_minor": 5
}
