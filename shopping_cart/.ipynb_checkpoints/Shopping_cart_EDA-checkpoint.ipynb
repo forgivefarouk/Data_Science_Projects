{
 "cells": [
  {
   "cell_type": "markdown",
   "metadata": {
    "id": "WKMjV07OUG3l"
   },
   "source": [
    "# you have a data set called shopping cart it consist of four datasets \n",
    "- 1- customers.csv\n",
    "- 2- orders.csv\n",
    "- 3- products.csv\n",
    "- 4- sales.csv\n",
    "# your task in this project is: \n",
    "- 1- combine this data together\n",
    "- 2- check messing values\n",
    "- 3- show summary statistics\n",
    "- 4- deal with date time and extract features from dates\n",
    "- 5- answer at least three questions from this data"
   ]
  },
  {
   "cell_type": "markdown",
   "metadata": {
    "id": "Q9AwafilVM1u"
   },
   "source": [
    "## Import libraries"
   ]
  },
  {
   "cell_type": "code",
   "execution_count": 49,
   "metadata": {
    "id": "_gpt4mv46RIR"
   },
   "outputs": [],
   "source": [
    "import pandas as pd\n",
    "import numpy as np\n",
    "import plotly.express as px"
   ]
  },
  {
   "cell_type": "markdown",
   "metadata": {
    "id": "xuAz7L_tVQoW"
   },
   "source": [
    "## Load data"
   ]
  },
  {
   "cell_type": "code",
   "execution_count": 50,
   "metadata": {},
   "outputs": [
    {
     "data": {
      "text/html": [
       "<div>\n",
       "<style scoped>\n",
       "    .dataframe tbody tr th:only-of-type {\n",
       "        vertical-align: middle;\n",
       "    }\n",
       "\n",
       "    .dataframe tbody tr th {\n",
       "        vertical-align: top;\n",
       "    }\n",
       "\n",
       "    .dataframe thead th {\n",
       "        text-align: right;\n",
       "    }\n",
       "</style>\n",
       "<table border=\"1\" class=\"dataframe\">\n",
       "  <thead>\n",
       "    <tr style=\"text-align: right;\">\n",
       "      <th></th>\n",
       "      <th>product_ID</th>\n",
       "      <th>product_type</th>\n",
       "      <th>product_name</th>\n",
       "      <th>size</th>\n",
       "      <th>colour</th>\n",
       "      <th>price</th>\n",
       "      <th>quantity</th>\n",
       "      <th>description</th>\n",
       "    </tr>\n",
       "  </thead>\n",
       "  <tbody>\n",
       "    <tr>\n",
       "      <th>0</th>\n",
       "      <td>0</td>\n",
       "      <td>Shirt</td>\n",
       "      <td>Oxford Cloth</td>\n",
       "      <td>XS</td>\n",
       "      <td>red</td>\n",
       "      <td>114</td>\n",
       "      <td>66</td>\n",
       "      <td>A red coloured, XS sized, Oxford Cloth Shirt</td>\n",
       "    </tr>\n",
       "  </tbody>\n",
       "</table>\n",
       "</div>"
      ],
      "text/plain": [
       "   product_ID product_type  product_name size colour  price  quantity  \\\n",
       "0           0        Shirt  Oxford Cloth   XS    red    114        66   \n",
       "\n",
       "                                    description  \n",
       "0  A red coloured, XS sized, Oxford Cloth Shirt  "
      ]
     },
     "execution_count": 50,
     "metadata": {},
     "output_type": "execute_result"
    }
   ],
   "source": [
    "product = pd.read_csv('products.csv')\n",
    "product.head(1)"
   ]
  },
  {
   "cell_type": "code",
   "execution_count": 98,
   "metadata": {
    "colab": {
     "base_uri": "https://localhost:8080/",
     "height": 206
    },
    "id": "dHi3fwLi6fA1",
    "outputId": "e94d8dd5-7b2a-4e97-df6a-e00d96a4c323"
   },
   "outputs": [
    {
     "data": {
      "text/html": [
       "<div>\n",
       "<style scoped>\n",
       "    .dataframe tbody tr th:only-of-type {\n",
       "        vertical-align: middle;\n",
       "    }\n",
       "\n",
       "    .dataframe tbody tr th {\n",
       "        vertical-align: top;\n",
       "    }\n",
       "\n",
       "    .dataframe thead th {\n",
       "        text-align: right;\n",
       "    }\n",
       "</style>\n",
       "<table border=\"1\" class=\"dataframe\">\n",
       "  <thead>\n",
       "    <tr style=\"text-align: right;\">\n",
       "      <th></th>\n",
       "      <th>order_id</th>\n",
       "      <th>customer_id</th>\n",
       "      <th>payment</th>\n",
       "      <th>order_date</th>\n",
       "      <th>delivery_date</th>\n",
       "    </tr>\n",
       "  </thead>\n",
       "  <tbody>\n",
       "    <tr>\n",
       "      <th>0</th>\n",
       "      <td>1</td>\n",
       "      <td>64</td>\n",
       "      <td>30811</td>\n",
       "      <td>2021-8-30</td>\n",
       "      <td>2021-09-24</td>\n",
       "    </tr>\n",
       "    <tr>\n",
       "      <th>1</th>\n",
       "      <td>2</td>\n",
       "      <td>473</td>\n",
       "      <td>50490</td>\n",
       "      <td>2021-2-3</td>\n",
       "      <td>2021-02-13</td>\n",
       "    </tr>\n",
       "    <tr>\n",
       "      <th>2</th>\n",
       "      <td>3</td>\n",
       "      <td>774</td>\n",
       "      <td>46763</td>\n",
       "      <td>2021-10-8</td>\n",
       "      <td>2021-11-03</td>\n",
       "    </tr>\n",
       "    <tr>\n",
       "      <th>3</th>\n",
       "      <td>4</td>\n",
       "      <td>433</td>\n",
       "      <td>39782</td>\n",
       "      <td>2021-5-6</td>\n",
       "      <td>2021-05-19</td>\n",
       "    </tr>\n",
       "    <tr>\n",
       "      <th>4</th>\n",
       "      <td>5</td>\n",
       "      <td>441</td>\n",
       "      <td>14719</td>\n",
       "      <td>2021-3-23</td>\n",
       "      <td>2021-03-24</td>\n",
       "    </tr>\n",
       "  </tbody>\n",
       "</table>\n",
       "</div>"
      ],
      "text/plain": [
       "   order_id  customer_id  payment order_date delivery_date\n",
       "0         1           64    30811  2021-8-30    2021-09-24\n",
       "1         2          473    50490   2021-2-3    2021-02-13\n",
       "2         3          774    46763  2021-10-8    2021-11-03\n",
       "3         4          433    39782   2021-5-6    2021-05-19\n",
       "4         5          441    14719  2021-3-23    2021-03-24"
      ]
     },
     "execution_count": 98,
     "metadata": {},
     "output_type": "execute_result"
    }
   ],
   "source": [
    "order = pd.read_csv('orders.csv')\n",
    "order.head(5)"
   ]
  },
  {
   "cell_type": "code",
   "execution_count": 52,
   "metadata": {
    "colab": {
     "base_uri": "https://localhost:8080/",
     "height": 337
    },
    "id": "Rw7r5cAh71qj",
    "outputId": "fd6575be-0a14-4494-ed56-8b2ba5805885"
   },
   "outputs": [
    {
     "data": {
      "text/html": [
       "<div>\n",
       "<style scoped>\n",
       "    .dataframe tbody tr th:only-of-type {\n",
       "        vertical-align: middle;\n",
       "    }\n",
       "\n",
       "    .dataframe tbody tr th {\n",
       "        vertical-align: top;\n",
       "    }\n",
       "\n",
       "    .dataframe thead th {\n",
       "        text-align: right;\n",
       "    }\n",
       "</style>\n",
       "<table border=\"1\" class=\"dataframe\">\n",
       "  <thead>\n",
       "    <tr style=\"text-align: right;\">\n",
       "      <th></th>\n",
       "      <th>customer_id</th>\n",
       "      <th>customer_name</th>\n",
       "      <th>gender</th>\n",
       "      <th>age</th>\n",
       "      <th>home_address</th>\n",
       "      <th>zip_code</th>\n",
       "      <th>city</th>\n",
       "      <th>state</th>\n",
       "      <th>country</th>\n",
       "    </tr>\n",
       "  </thead>\n",
       "  <tbody>\n",
       "    <tr>\n",
       "      <th>0</th>\n",
       "      <td>1</td>\n",
       "      <td>Leanna Busson</td>\n",
       "      <td>Female</td>\n",
       "      <td>30</td>\n",
       "      <td>8606 Victoria TerraceSuite 560</td>\n",
       "      <td>5464</td>\n",
       "      <td>Johnstonhaven</td>\n",
       "      <td>Northern Territory</td>\n",
       "      <td>Australia</td>\n",
       "    </tr>\n",
       "  </tbody>\n",
       "</table>\n",
       "</div>"
      ],
      "text/plain": [
       "   customer_id  customer_name  gender  age                    home_address  \\\n",
       "0            1  Leanna Busson  Female   30  8606 Victoria TerraceSuite 560   \n",
       "\n",
       "   zip_code           city               state    country  \n",
       "0      5464  Johnstonhaven  Northern Territory  Australia  "
      ]
     },
     "execution_count": 52,
     "metadata": {},
     "output_type": "execute_result"
    }
   ],
   "source": [
    "customer = pd.read_csv('customers.csv')\n",
    "customer.head(1)"
   ]
  },
  {
   "cell_type": "code",
   "execution_count": 99,
   "metadata": {
    "colab": {
     "base_uri": "https://localhost:8080/",
     "height": 206
    },
    "id": "WoReWIj48TL0",
    "outputId": "2591472d-5e8d-4dcb-c585-c4b28bd085b9"
   },
   "outputs": [
    {
     "data": {
      "text/html": [
       "<div>\n",
       "<style scoped>\n",
       "    .dataframe tbody tr th:only-of-type {\n",
       "        vertical-align: middle;\n",
       "    }\n",
       "\n",
       "    .dataframe tbody tr th {\n",
       "        vertical-align: top;\n",
       "    }\n",
       "\n",
       "    .dataframe thead th {\n",
       "        text-align: right;\n",
       "    }\n",
       "</style>\n",
       "<table border=\"1\" class=\"dataframe\">\n",
       "  <thead>\n",
       "    <tr style=\"text-align: right;\">\n",
       "      <th></th>\n",
       "      <th>sales_id</th>\n",
       "      <th>order_id</th>\n",
       "      <th>product_id</th>\n",
       "      <th>price_per_unit</th>\n",
       "      <th>quantity</th>\n",
       "      <th>total_price</th>\n",
       "    </tr>\n",
       "  </thead>\n",
       "  <tbody>\n",
       "    <tr>\n",
       "      <th>0</th>\n",
       "      <td>0</td>\n",
       "      <td>1</td>\n",
       "      <td>218</td>\n",
       "      <td>106</td>\n",
       "      <td>2</td>\n",
       "      <td>212</td>\n",
       "    </tr>\n",
       "    <tr>\n",
       "      <th>1</th>\n",
       "      <td>1</td>\n",
       "      <td>1</td>\n",
       "      <td>481</td>\n",
       "      <td>118</td>\n",
       "      <td>1</td>\n",
       "      <td>118</td>\n",
       "    </tr>\n",
       "    <tr>\n",
       "      <th>2</th>\n",
       "      <td>2</td>\n",
       "      <td>1</td>\n",
       "      <td>2</td>\n",
       "      <td>96</td>\n",
       "      <td>3</td>\n",
       "      <td>288</td>\n",
       "    </tr>\n",
       "    <tr>\n",
       "      <th>3</th>\n",
       "      <td>3</td>\n",
       "      <td>1</td>\n",
       "      <td>1002</td>\n",
       "      <td>106</td>\n",
       "      <td>2</td>\n",
       "      <td>212</td>\n",
       "    </tr>\n",
       "    <tr>\n",
       "      <th>4</th>\n",
       "      <td>4</td>\n",
       "      <td>1</td>\n",
       "      <td>691</td>\n",
       "      <td>113</td>\n",
       "      <td>3</td>\n",
       "      <td>339</td>\n",
       "    </tr>\n",
       "  </tbody>\n",
       "</table>\n",
       "</div>"
      ],
      "text/plain": [
       "   sales_id  order_id  product_id  price_per_unit  quantity  total_price\n",
       "0         0         1         218             106         2          212\n",
       "1         1         1         481             118         1          118\n",
       "2         2         1           2              96         3          288\n",
       "3         3         1        1002             106         2          212\n",
       "4         4         1         691             113         3          339"
      ]
     },
     "execution_count": 99,
     "metadata": {},
     "output_type": "execute_result"
    }
   ],
   "source": [
    "sales = pd.read_csv('sales.csv')\n",
    "sales.head(5)"
   ]
  },
  {
   "cell_type": "code",
   "execution_count": 54,
   "metadata": {},
   "outputs": [],
   "source": [
    "sales_product = pd.merge(left=sales, right=product, how='left', left_on='product_id', right_on='product_ID')"
   ]
  },
  {
   "cell_type": "code",
   "execution_count": 55,
   "metadata": {},
   "outputs": [
    {
     "data": {
      "text/html": [
       "<div>\n",
       "<style scoped>\n",
       "    .dataframe tbody tr th:only-of-type {\n",
       "        vertical-align: middle;\n",
       "    }\n",
       "\n",
       "    .dataframe tbody tr th {\n",
       "        vertical-align: top;\n",
       "    }\n",
       "\n",
       "    .dataframe thead th {\n",
       "        text-align: right;\n",
       "    }\n",
       "</style>\n",
       "<table border=\"1\" class=\"dataframe\">\n",
       "  <thead>\n",
       "    <tr style=\"text-align: right;\">\n",
       "      <th></th>\n",
       "      <th>sales_id</th>\n",
       "      <th>order_id</th>\n",
       "      <th>product_id</th>\n",
       "      <th>price_per_unit</th>\n",
       "      <th>quantity_sales</th>\n",
       "      <th>total_price</th>\n",
       "      <th>product_ID</th>\n",
       "      <th>product_type</th>\n",
       "      <th>product_name</th>\n",
       "      <th>size</th>\n",
       "      <th>colour</th>\n",
       "      <th>price</th>\n",
       "      <th>quantity_product</th>\n",
       "      <th>description</th>\n",
       "    </tr>\n",
       "  </thead>\n",
       "  <tbody>\n",
       "    <tr>\n",
       "      <th>0</th>\n",
       "      <td>0</td>\n",
       "      <td>1</td>\n",
       "      <td>218</td>\n",
       "      <td>106</td>\n",
       "      <td>2</td>\n",
       "      <td>212</td>\n",
       "      <td>218</td>\n",
       "      <td>Shirt</td>\n",
       "      <td>Chambray</td>\n",
       "      <td>L</td>\n",
       "      <td>orange</td>\n",
       "      <td>105</td>\n",
       "      <td>44</td>\n",
       "      <td>A orange coloured, L sized, Chambray Shirt</td>\n",
       "    </tr>\n",
       "  </tbody>\n",
       "</table>\n",
       "</div>"
      ],
      "text/plain": [
       "   sales_id  order_id  product_id  price_per_unit  quantity_sales  \\\n",
       "0         0         1         218             106               2   \n",
       "\n",
       "   total_price  product_ID product_type product_name size  colour  price  \\\n",
       "0          212         218        Shirt     Chambray    L  orange    105   \n",
       "\n",
       "   quantity_product                                 description  \n",
       "0                44  A orange coloured, L sized, Chambray Shirt  "
      ]
     },
     "execution_count": 55,
     "metadata": {},
     "output_type": "execute_result"
    }
   ],
   "source": [
    "sales_product = sales.merge(product, left_on='product_id', right_on='product_ID',suffixes=('_sales', '_product'))\n",
    "sales_product.head(1)"
   ]
  },
  {
   "cell_type": "code",
   "execution_count": 56,
   "metadata": {},
   "outputs": [
    {
     "data": {
      "text/html": [
       "<div>\n",
       "<style scoped>\n",
       "    .dataframe tbody tr th:only-of-type {\n",
       "        vertical-align: middle;\n",
       "    }\n",
       "\n",
       "    .dataframe tbody tr th {\n",
       "        vertical-align: top;\n",
       "    }\n",
       "\n",
       "    .dataframe thead th {\n",
       "        text-align: right;\n",
       "    }\n",
       "</style>\n",
       "<table border=\"1\" class=\"dataframe\">\n",
       "  <thead>\n",
       "    <tr style=\"text-align: right;\">\n",
       "      <th></th>\n",
       "      <th>sales_id</th>\n",
       "      <th>order_id</th>\n",
       "      <th>product_id</th>\n",
       "      <th>price_per_unit</th>\n",
       "      <th>quantity_sales</th>\n",
       "      <th>total_price</th>\n",
       "      <th>product_ID</th>\n",
       "      <th>product_type</th>\n",
       "      <th>product_name</th>\n",
       "      <th>size</th>\n",
       "      <th>colour</th>\n",
       "      <th>price</th>\n",
       "      <th>quantity_product</th>\n",
       "      <th>description</th>\n",
       "      <th>customer_id</th>\n",
       "      <th>payment</th>\n",
       "      <th>order_date</th>\n",
       "      <th>delivery_date</th>\n",
       "    </tr>\n",
       "  </thead>\n",
       "  <tbody>\n",
       "    <tr>\n",
       "      <th>0</th>\n",
       "      <td>0</td>\n",
       "      <td>1</td>\n",
       "      <td>218</td>\n",
       "      <td>106</td>\n",
       "      <td>2</td>\n",
       "      <td>212</td>\n",
       "      <td>218</td>\n",
       "      <td>Shirt</td>\n",
       "      <td>Chambray</td>\n",
       "      <td>L</td>\n",
       "      <td>orange</td>\n",
       "      <td>105</td>\n",
       "      <td>44</td>\n",
       "      <td>A orange coloured, L sized, Chambray Shirt</td>\n",
       "      <td>64</td>\n",
       "      <td>30811</td>\n",
       "      <td>2021-8-30</td>\n",
       "      <td>2021-09-24</td>\n",
       "    </tr>\n",
       "  </tbody>\n",
       "</table>\n",
       "</div>"
      ],
      "text/plain": [
       "   sales_id  order_id  product_id  price_per_unit  quantity_sales  \\\n",
       "0         0         1         218             106               2   \n",
       "\n",
       "   total_price  product_ID product_type product_name size  colour  price  \\\n",
       "0          212         218        Shirt     Chambray    L  orange    105   \n",
       "\n",
       "   quantity_product                                 description  customer_id  \\\n",
       "0                44  A orange coloured, L sized, Chambray Shirt           64   \n",
       "\n",
       "   payment order_date delivery_date  \n",
       "0    30811  2021-8-30    2021-09-24  "
      ]
     },
     "execution_count": 56,
     "metadata": {},
     "output_type": "execute_result"
    }
   ],
   "source": [
    "sales_product_order = sales_product.merge(order, on='order_id')\n",
    "sales_product_order.head(1)"
   ]
  },
  {
   "cell_type": "code",
   "execution_count": 57,
   "metadata": {},
   "outputs": [
    {
     "data": {
      "text/html": [
       "<div>\n",
       "<style scoped>\n",
       "    .dataframe tbody tr th:only-of-type {\n",
       "        vertical-align: middle;\n",
       "    }\n",
       "\n",
       "    .dataframe tbody tr th {\n",
       "        vertical-align: top;\n",
       "    }\n",
       "\n",
       "    .dataframe thead th {\n",
       "        text-align: right;\n",
       "    }\n",
       "</style>\n",
       "<table border=\"1\" class=\"dataframe\">\n",
       "  <thead>\n",
       "    <tr style=\"text-align: right;\">\n",
       "      <th></th>\n",
       "      <th>sales_id</th>\n",
       "      <th>order_id</th>\n",
       "      <th>product_id</th>\n",
       "      <th>price_per_unit</th>\n",
       "      <th>quantity_sales</th>\n",
       "      <th>total_price</th>\n",
       "      <th>product_ID</th>\n",
       "      <th>product_type</th>\n",
       "      <th>product_name</th>\n",
       "      <th>size</th>\n",
       "      <th>...</th>\n",
       "      <th>order_date</th>\n",
       "      <th>delivery_date</th>\n",
       "      <th>customer_name</th>\n",
       "      <th>gender</th>\n",
       "      <th>age</th>\n",
       "      <th>home_address</th>\n",
       "      <th>zip_code</th>\n",
       "      <th>city</th>\n",
       "      <th>state</th>\n",
       "      <th>country</th>\n",
       "    </tr>\n",
       "  </thead>\n",
       "  <tbody>\n",
       "    <tr>\n",
       "      <th>0</th>\n",
       "      <td>0</td>\n",
       "      <td>1</td>\n",
       "      <td>218</td>\n",
       "      <td>106</td>\n",
       "      <td>2</td>\n",
       "      <td>212</td>\n",
       "      <td>218</td>\n",
       "      <td>Shirt</td>\n",
       "      <td>Chambray</td>\n",
       "      <td>L</td>\n",
       "      <td>...</td>\n",
       "      <td>2021-8-30</td>\n",
       "      <td>2021-09-24</td>\n",
       "      <td>Annabella Devote</td>\n",
       "      <td>Genderfluid</td>\n",
       "      <td>75</td>\n",
       "      <td>4927 Alice MeadowApt. 960</td>\n",
       "      <td>7787</td>\n",
       "      <td>Sanfordborough</td>\n",
       "      <td>South Australia</td>\n",
       "      <td>Australia</td>\n",
       "    </tr>\n",
       "  </tbody>\n",
       "</table>\n",
       "<p>1 rows × 26 columns</p>\n",
       "</div>"
      ],
      "text/plain": [
       "   sales_id  order_id  product_id  price_per_unit  quantity_sales  \\\n",
       "0         0         1         218             106               2   \n",
       "\n",
       "   total_price  product_ID product_type product_name size  ... order_date  \\\n",
       "0          212         218        Shirt     Chambray    L  ...  2021-8-30   \n",
       "\n",
       "   delivery_date     customer_name       gender  age  \\\n",
       "0     2021-09-24  Annabella Devote  Genderfluid   75   \n",
       "\n",
       "                home_address zip_code            city            state  \\\n",
       "0  4927 Alice MeadowApt. 960     7787  Sanfordborough  South Australia   \n",
       "\n",
       "     country  \n",
       "0  Australia  \n",
       "\n",
       "[1 rows x 26 columns]"
      ]
     },
     "execution_count": 57,
     "metadata": {},
     "output_type": "execute_result"
    }
   ],
   "source": [
    "sales_product_order_customer = sales_product_order.merge(customer, on='customer_id')\n",
    "sales_product_order_customer.head(1)"
   ]
  },
  {
   "cell_type": "code",
   "execution_count": 58,
   "metadata": {},
   "outputs": [
    {
     "name": "stdout",
     "output_type": "stream",
     "text": [
      "<class 'pandas.core.frame.DataFrame'>\n",
      "Int64Index: 5000 entries, 0 to 4999\n",
      "Data columns (total 26 columns):\n",
      " #   Column            Non-Null Count  Dtype \n",
      "---  ------            --------------  ----- \n",
      " 0   sales_id          5000 non-null   int64 \n",
      " 1   order_id          5000 non-null   int64 \n",
      " 2   product_id        5000 non-null   int64 \n",
      " 3   price_per_unit    5000 non-null   int64 \n",
      " 4   quantity_sales    5000 non-null   int64 \n",
      " 5   total_price       5000 non-null   int64 \n",
      " 6   product_ID        5000 non-null   int64 \n",
      " 7   product_type      5000 non-null   object\n",
      " 8   product_name      5000 non-null   object\n",
      " 9   size              5000 non-null   object\n",
      " 10  colour            5000 non-null   object\n",
      " 11  price             5000 non-null   int64 \n",
      " 12  quantity_product  5000 non-null   int64 \n",
      " 13  description       5000 non-null   object\n",
      " 14  customer_id       5000 non-null   int64 \n",
      " 15  payment           5000 non-null   int64 \n",
      " 16  order_date        5000 non-null   object\n",
      " 17  delivery_date     5000 non-null   object\n",
      " 18  customer_name     5000 non-null   object\n",
      " 19  gender            5000 non-null   object\n",
      " 20  age               5000 non-null   int64 \n",
      " 21  home_address      5000 non-null   object\n",
      " 22  zip_code          5000 non-null   int64 \n",
      " 23  city              5000 non-null   object\n",
      " 24  state             5000 non-null   object\n",
      " 25  country           5000 non-null   object\n",
      "dtypes: int64(13), object(13)\n",
      "memory usage: 1.0+ MB\n"
     ]
    }
   ],
   "source": [
    "spoc = sales_product_order_customer\n",
    "spoc.info()"
   ]
  },
  {
   "cell_type": "markdown",
   "metadata": {
    "id": "2HgViJIHVauC"
   },
   "source": [
    "## EDA"
   ]
  },
  {
   "cell_type": "code",
   "execution_count": 59,
   "metadata": {
    "colab": {
     "base_uri": "https://localhost:8080/",
     "height": 612
    },
    "id": "tz6oKNwUAbW0",
    "outputId": "5459b2cb-925f-4d0f-d91c-55f6b4e63b70"
   },
   "outputs": [
    {
     "data": {
      "text/html": [
       "<div>\n",
       "<style scoped>\n",
       "    .dataframe tbody tr th:only-of-type {\n",
       "        vertical-align: middle;\n",
       "    }\n",
       "\n",
       "    .dataframe tbody tr th {\n",
       "        vertical-align: top;\n",
       "    }\n",
       "\n",
       "    .dataframe thead th {\n",
       "        text-align: right;\n",
       "    }\n",
       "</style>\n",
       "<table border=\"1\" class=\"dataframe\">\n",
       "  <thead>\n",
       "    <tr style=\"text-align: right;\">\n",
       "      <th></th>\n",
       "      <th>sales_id</th>\n",
       "      <th>order_id</th>\n",
       "      <th>product_id</th>\n",
       "      <th>price_per_unit</th>\n",
       "      <th>quantity_sales</th>\n",
       "      <th>total_price</th>\n",
       "      <th>product_ID</th>\n",
       "      <th>product_type</th>\n",
       "      <th>product_name</th>\n",
       "      <th>size</th>\n",
       "      <th>...</th>\n",
       "      <th>order_date</th>\n",
       "      <th>delivery_date</th>\n",
       "      <th>customer_name</th>\n",
       "      <th>gender</th>\n",
       "      <th>age</th>\n",
       "      <th>home_address</th>\n",
       "      <th>zip_code</th>\n",
       "      <th>city</th>\n",
       "      <th>state</th>\n",
       "      <th>country</th>\n",
       "    </tr>\n",
       "  </thead>\n",
       "  <tbody>\n",
       "    <tr>\n",
       "      <th>0</th>\n",
       "      <td>0</td>\n",
       "      <td>1</td>\n",
       "      <td>218</td>\n",
       "      <td>106</td>\n",
       "      <td>2</td>\n",
       "      <td>212</td>\n",
       "      <td>218</td>\n",
       "      <td>Shirt</td>\n",
       "      <td>Chambray</td>\n",
       "      <td>L</td>\n",
       "      <td>...</td>\n",
       "      <td>2021-8-30</td>\n",
       "      <td>2021-09-24</td>\n",
       "      <td>Annabella Devote</td>\n",
       "      <td>Genderfluid</td>\n",
       "      <td>75</td>\n",
       "      <td>4927 Alice MeadowApt. 960</td>\n",
       "      <td>7787</td>\n",
       "      <td>Sanfordborough</td>\n",
       "      <td>South Australia</td>\n",
       "      <td>Australia</td>\n",
       "    </tr>\n",
       "    <tr>\n",
       "      <th>1</th>\n",
       "      <td>1</td>\n",
       "      <td>1</td>\n",
       "      <td>481</td>\n",
       "      <td>118</td>\n",
       "      <td>1</td>\n",
       "      <td>118</td>\n",
       "      <td>481</td>\n",
       "      <td>Jacket</td>\n",
       "      <td>Puffer</td>\n",
       "      <td>S</td>\n",
       "      <td>...</td>\n",
       "      <td>2021-8-30</td>\n",
       "      <td>2021-09-24</td>\n",
       "      <td>Annabella Devote</td>\n",
       "      <td>Genderfluid</td>\n",
       "      <td>75</td>\n",
       "      <td>4927 Alice MeadowApt. 960</td>\n",
       "      <td>7787</td>\n",
       "      <td>Sanfordborough</td>\n",
       "      <td>South Australia</td>\n",
       "      <td>Australia</td>\n",
       "    </tr>\n",
       "    <tr>\n",
       "      <th>2</th>\n",
       "      <td>2</td>\n",
       "      <td>1</td>\n",
       "      <td>2</td>\n",
       "      <td>96</td>\n",
       "      <td>3</td>\n",
       "      <td>288</td>\n",
       "      <td>2</td>\n",
       "      <td>Shirt</td>\n",
       "      <td>Oxford Cloth</td>\n",
       "      <td>M</td>\n",
       "      <td>...</td>\n",
       "      <td>2021-8-30</td>\n",
       "      <td>2021-09-24</td>\n",
       "      <td>Annabella Devote</td>\n",
       "      <td>Genderfluid</td>\n",
       "      <td>75</td>\n",
       "      <td>4927 Alice MeadowApt. 960</td>\n",
       "      <td>7787</td>\n",
       "      <td>Sanfordborough</td>\n",
       "      <td>South Australia</td>\n",
       "      <td>Australia</td>\n",
       "    </tr>\n",
       "    <tr>\n",
       "      <th>3</th>\n",
       "      <td>3</td>\n",
       "      <td>1</td>\n",
       "      <td>1002</td>\n",
       "      <td>106</td>\n",
       "      <td>2</td>\n",
       "      <td>212</td>\n",
       "      <td>1002</td>\n",
       "      <td>Trousers</td>\n",
       "      <td>Wool</td>\n",
       "      <td>M</td>\n",
       "      <td>...</td>\n",
       "      <td>2021-8-30</td>\n",
       "      <td>2021-09-24</td>\n",
       "      <td>Annabella Devote</td>\n",
       "      <td>Genderfluid</td>\n",
       "      <td>75</td>\n",
       "      <td>4927 Alice MeadowApt. 960</td>\n",
       "      <td>7787</td>\n",
       "      <td>Sanfordborough</td>\n",
       "      <td>South Australia</td>\n",
       "      <td>Australia</td>\n",
       "    </tr>\n",
       "    <tr>\n",
       "      <th>4</th>\n",
       "      <td>4</td>\n",
       "      <td>1</td>\n",
       "      <td>691</td>\n",
       "      <td>113</td>\n",
       "      <td>3</td>\n",
       "      <td>339</td>\n",
       "      <td>691</td>\n",
       "      <td>Jacket</td>\n",
       "      <td>Parka</td>\n",
       "      <td>S</td>\n",
       "      <td>...</td>\n",
       "      <td>2021-8-30</td>\n",
       "      <td>2021-09-24</td>\n",
       "      <td>Annabella Devote</td>\n",
       "      <td>Genderfluid</td>\n",
       "      <td>75</td>\n",
       "      <td>4927 Alice MeadowApt. 960</td>\n",
       "      <td>7787</td>\n",
       "      <td>Sanfordborough</td>\n",
       "      <td>South Australia</td>\n",
       "      <td>Australia</td>\n",
       "    </tr>\n",
       "  </tbody>\n",
       "</table>\n",
       "<p>5 rows × 26 columns</p>\n",
       "</div>"
      ],
      "text/plain": [
       "   sales_id  order_id  product_id  price_per_unit  quantity_sales  \\\n",
       "0         0         1         218             106               2   \n",
       "1         1         1         481             118               1   \n",
       "2         2         1           2              96               3   \n",
       "3         3         1        1002             106               2   \n",
       "4         4         1         691             113               3   \n",
       "\n",
       "   total_price  product_ID product_type  product_name size  ... order_date  \\\n",
       "0          212         218        Shirt      Chambray    L  ...  2021-8-30   \n",
       "1          118         481       Jacket        Puffer    S  ...  2021-8-30   \n",
       "2          288           2        Shirt  Oxford Cloth    M  ...  2021-8-30   \n",
       "3          212        1002     Trousers          Wool    M  ...  2021-8-30   \n",
       "4          339         691       Jacket         Parka    S  ...  2021-8-30   \n",
       "\n",
       "   delivery_date     customer_name       gender  age  \\\n",
       "0     2021-09-24  Annabella Devote  Genderfluid   75   \n",
       "1     2021-09-24  Annabella Devote  Genderfluid   75   \n",
       "2     2021-09-24  Annabella Devote  Genderfluid   75   \n",
       "3     2021-09-24  Annabella Devote  Genderfluid   75   \n",
       "4     2021-09-24  Annabella Devote  Genderfluid   75   \n",
       "\n",
       "                home_address zip_code            city            state  \\\n",
       "0  4927 Alice MeadowApt. 960     7787  Sanfordborough  South Australia   \n",
       "1  4927 Alice MeadowApt. 960     7787  Sanfordborough  South Australia   \n",
       "2  4927 Alice MeadowApt. 960     7787  Sanfordborough  South Australia   \n",
       "3  4927 Alice MeadowApt. 960     7787  Sanfordborough  South Australia   \n",
       "4  4927 Alice MeadowApt. 960     7787  Sanfordborough  South Australia   \n",
       "\n",
       "     country  \n",
       "0  Australia  \n",
       "1  Australia  \n",
       "2  Australia  \n",
       "3  Australia  \n",
       "4  Australia  \n",
       "\n",
       "[5 rows x 26 columns]"
      ]
     },
     "execution_count": 59,
     "metadata": {},
     "output_type": "execute_result"
    }
   ],
   "source": [
    "spoc.head()"
   ]
  },
  {
   "cell_type": "code",
   "execution_count": 60,
   "metadata": {
    "colab": {
     "base_uri": "https://localhost:8080/"
    },
    "id": "fph8WOSCEuOL",
    "outputId": "62f3372f-2716-4e73-b7de-aa13487a8c0d"
   },
   "outputs": [
    {
     "data": {
      "text/plain": [
       "sales_id            0\n",
       "order_id            0\n",
       "product_id          0\n",
       "price_per_unit      0\n",
       "quantity_sales      0\n",
       "total_price         0\n",
       "product_ID          0\n",
       "product_type        0\n",
       "product_name        0\n",
       "size                0\n",
       "colour              0\n",
       "price               0\n",
       "quantity_product    0\n",
       "description         0\n",
       "customer_id         0\n",
       "payment             0\n",
       "order_date          0\n",
       "delivery_date       0\n",
       "customer_name       0\n",
       "gender              0\n",
       "age                 0\n",
       "home_address        0\n",
       "zip_code            0\n",
       "city                0\n",
       "state               0\n",
       "country             0\n",
       "dtype: int64"
      ]
     },
     "execution_count": 60,
     "metadata": {},
     "output_type": "execute_result"
    }
   ],
   "source": [
    "spoc.isna().sum()"
   ]
  },
  {
   "cell_type": "code",
   "execution_count": 61,
   "metadata": {
    "colab": {
     "base_uri": "https://localhost:8080/",
     "height": 364
    },
    "id": "c481QQx9AfMq",
    "outputId": "9fff61e5-f678-4a23-be89-934042b0a51a"
   },
   "outputs": [
    {
     "data": {
      "text/html": [
       "<div>\n",
       "<style scoped>\n",
       "    .dataframe tbody tr th:only-of-type {\n",
       "        vertical-align: middle;\n",
       "    }\n",
       "\n",
       "    .dataframe tbody tr th {\n",
       "        vertical-align: top;\n",
       "    }\n",
       "\n",
       "    .dataframe thead th {\n",
       "        text-align: right;\n",
       "    }\n",
       "</style>\n",
       "<table border=\"1\" class=\"dataframe\">\n",
       "  <thead>\n",
       "    <tr style=\"text-align: right;\">\n",
       "      <th></th>\n",
       "      <th>sales_id</th>\n",
       "      <th>order_id</th>\n",
       "      <th>product_id</th>\n",
       "      <th>price_per_unit</th>\n",
       "      <th>quantity_sales</th>\n",
       "      <th>total_price</th>\n",
       "      <th>product_ID</th>\n",
       "      <th>price</th>\n",
       "      <th>quantity_product</th>\n",
       "      <th>customer_id</th>\n",
       "      <th>payment</th>\n",
       "      <th>age</th>\n",
       "      <th>zip_code</th>\n",
       "    </tr>\n",
       "  </thead>\n",
       "  <tbody>\n",
       "    <tr>\n",
       "      <th>count</th>\n",
       "      <td>5000.000000</td>\n",
       "      <td>5000.000000</td>\n",
       "      <td>5000.000000</td>\n",
       "      <td>5000.000000</td>\n",
       "      <td>5000.00000</td>\n",
       "      <td>5000.000000</td>\n",
       "      <td>5000.000000</td>\n",
       "      <td>5000.000000</td>\n",
       "      <td>5000.000000</td>\n",
       "      <td>5000.000000</td>\n",
       "      <td>5000.000000</td>\n",
       "      <td>5000.000000</td>\n",
       "      <td>5000.000000</td>\n",
       "    </tr>\n",
       "    <tr>\n",
       "      <th>mean</th>\n",
       "      <td>2499.500000</td>\n",
       "      <td>503.038200</td>\n",
       "      <td>634.053200</td>\n",
       "      <td>103.501600</td>\n",
       "      <td>1.99240</td>\n",
       "      <td>206.360000</td>\n",
       "      <td>634.053200</td>\n",
       "      <td>105.665400</td>\n",
       "      <td>60.083400</td>\n",
       "      <td>504.563000</td>\n",
       "      <td>33976.785000</td>\n",
       "      <td>48.760400</td>\n",
       "      <td>4912.355600</td>\n",
       "    </tr>\n",
       "    <tr>\n",
       "      <th>std</th>\n",
       "      <td>1443.520003</td>\n",
       "      <td>285.964418</td>\n",
       "      <td>363.255794</td>\n",
       "      <td>9.195004</td>\n",
       "      <td>0.80751</td>\n",
       "      <td>86.357457</td>\n",
       "      <td>363.255794</td>\n",
       "      <td>9.735564</td>\n",
       "      <td>11.682523</td>\n",
       "      <td>276.504896</td>\n",
       "      <td>14612.706539</td>\n",
       "      <td>17.577519</td>\n",
       "      <td>2907.367939</td>\n",
       "    </tr>\n",
       "    <tr>\n",
       "      <th>min</th>\n",
       "      <td>0.000000</td>\n",
       "      <td>1.000000</td>\n",
       "      <td>1.000000</td>\n",
       "      <td>90.000000</td>\n",
       "      <td>1.00000</td>\n",
       "      <td>90.000000</td>\n",
       "      <td>1.000000</td>\n",
       "      <td>90.000000</td>\n",
       "      <td>40.000000</td>\n",
       "      <td>1.000000</td>\n",
       "      <td>10043.000000</td>\n",
       "      <td>20.000000</td>\n",
       "      <td>52.000000</td>\n",
       "    </tr>\n",
       "    <tr>\n",
       "      <th>25%</th>\n",
       "      <td>1249.750000</td>\n",
       "      <td>258.000000</td>\n",
       "      <td>323.000000</td>\n",
       "      <td>95.000000</td>\n",
       "      <td>1.00000</td>\n",
       "      <td>112.000000</td>\n",
       "      <td>323.000000</td>\n",
       "      <td>95.000000</td>\n",
       "      <td>50.000000</td>\n",
       "      <td>276.000000</td>\n",
       "      <td>20627.000000</td>\n",
       "      <td>34.000000</td>\n",
       "      <td>2273.000000</td>\n",
       "    </tr>\n",
       "    <tr>\n",
       "      <th>50%</th>\n",
       "      <td>2499.500000</td>\n",
       "      <td>504.500000</td>\n",
       "      <td>635.000000</td>\n",
       "      <td>102.000000</td>\n",
       "      <td>2.00000</td>\n",
       "      <td>204.000000</td>\n",
       "      <td>635.000000</td>\n",
       "      <td>108.000000</td>\n",
       "      <td>60.000000</td>\n",
       "      <td>509.000000</td>\n",
       "      <td>34259.000000</td>\n",
       "      <td>48.000000</td>\n",
       "      <td>4750.000000</td>\n",
       "    </tr>\n",
       "    <tr>\n",
       "      <th>75%</th>\n",
       "      <td>3749.250000</td>\n",
       "      <td>749.000000</td>\n",
       "      <td>951.000000</td>\n",
       "      <td>112.000000</td>\n",
       "      <td>3.00000</td>\n",
       "      <td>285.000000</td>\n",
       "      <td>951.000000</td>\n",
       "      <td>114.000000</td>\n",
       "      <td>70.000000</td>\n",
       "      <td>733.000000</td>\n",
       "      <td>46608.000000</td>\n",
       "      <td>63.000000</td>\n",
       "      <td>7460.250000</td>\n",
       "    </tr>\n",
       "    <tr>\n",
       "      <th>max</th>\n",
       "      <td>4999.000000</td>\n",
       "      <td>999.000000</td>\n",
       "      <td>1259.000000</td>\n",
       "      <td>119.000000</td>\n",
       "      <td>3.00000</td>\n",
       "      <td>357.000000</td>\n",
       "      <td>1259.000000</td>\n",
       "      <td>119.000000</td>\n",
       "      <td>80.000000</td>\n",
       "      <td>1000.000000</td>\n",
       "      <td>59910.000000</td>\n",
       "      <td>80.000000</td>\n",
       "      <td>9998.000000</td>\n",
       "    </tr>\n",
       "  </tbody>\n",
       "</table>\n",
       "</div>"
      ],
      "text/plain": [
       "          sales_id     order_id   product_id  price_per_unit  quantity_sales  \\\n",
       "count  5000.000000  5000.000000  5000.000000     5000.000000      5000.00000   \n",
       "mean   2499.500000   503.038200   634.053200      103.501600         1.99240   \n",
       "std    1443.520003   285.964418   363.255794        9.195004         0.80751   \n",
       "min       0.000000     1.000000     1.000000       90.000000         1.00000   \n",
       "25%    1249.750000   258.000000   323.000000       95.000000         1.00000   \n",
       "50%    2499.500000   504.500000   635.000000      102.000000         2.00000   \n",
       "75%    3749.250000   749.000000   951.000000      112.000000         3.00000   \n",
       "max    4999.000000   999.000000  1259.000000      119.000000         3.00000   \n",
       "\n",
       "       total_price   product_ID        price  quantity_product  customer_id  \\\n",
       "count  5000.000000  5000.000000  5000.000000       5000.000000  5000.000000   \n",
       "mean    206.360000   634.053200   105.665400         60.083400   504.563000   \n",
       "std      86.357457   363.255794     9.735564         11.682523   276.504896   \n",
       "min      90.000000     1.000000    90.000000         40.000000     1.000000   \n",
       "25%     112.000000   323.000000    95.000000         50.000000   276.000000   \n",
       "50%     204.000000   635.000000   108.000000         60.000000   509.000000   \n",
       "75%     285.000000   951.000000   114.000000         70.000000   733.000000   \n",
       "max     357.000000  1259.000000   119.000000         80.000000  1000.000000   \n",
       "\n",
       "            payment          age     zip_code  \n",
       "count   5000.000000  5000.000000  5000.000000  \n",
       "mean   33976.785000    48.760400  4912.355600  \n",
       "std    14612.706539    17.577519  2907.367939  \n",
       "min    10043.000000    20.000000    52.000000  \n",
       "25%    20627.000000    34.000000  2273.000000  \n",
       "50%    34259.000000    48.000000  4750.000000  \n",
       "75%    46608.000000    63.000000  7460.250000  \n",
       "max    59910.000000    80.000000  9998.000000  "
      ]
     },
     "execution_count": 61,
     "metadata": {},
     "output_type": "execute_result"
    }
   ],
   "source": [
    "spoc.describe()"
   ]
  },
  {
   "cell_type": "code",
   "execution_count": 62,
   "metadata": {
    "colab": {
     "base_uri": "https://localhost:8080/",
     "height": 291
    },
    "id": "T8zPJF_EA29l",
    "outputId": "3e2a0213-713c-4d0e-9d35-6ec621a695c9"
   },
   "outputs": [
    {
     "data": {
      "text/html": [
       "<div>\n",
       "<style scoped>\n",
       "    .dataframe tbody tr th:only-of-type {\n",
       "        vertical-align: middle;\n",
       "    }\n",
       "\n",
       "    .dataframe tbody tr th {\n",
       "        vertical-align: top;\n",
       "    }\n",
       "\n",
       "    .dataframe thead th {\n",
       "        text-align: right;\n",
       "    }\n",
       "</style>\n",
       "<table border=\"1\" class=\"dataframe\">\n",
       "  <thead>\n",
       "    <tr style=\"text-align: right;\">\n",
       "      <th></th>\n",
       "      <th>product_type</th>\n",
       "      <th>product_name</th>\n",
       "      <th>size</th>\n",
       "      <th>colour</th>\n",
       "      <th>description</th>\n",
       "      <th>order_date</th>\n",
       "      <th>delivery_date</th>\n",
       "      <th>customer_name</th>\n",
       "      <th>gender</th>\n",
       "      <th>home_address</th>\n",
       "      <th>city</th>\n",
       "      <th>state</th>\n",
       "      <th>country</th>\n",
       "    </tr>\n",
       "  </thead>\n",
       "  <tbody>\n",
       "    <tr>\n",
       "      <th>count</th>\n",
       "      <td>5000</td>\n",
       "      <td>5000</td>\n",
       "      <td>5000</td>\n",
       "      <td>5000</td>\n",
       "      <td>5000</td>\n",
       "      <td>5000</td>\n",
       "      <td>5000</td>\n",
       "      <td>5000</td>\n",
       "      <td>5000</td>\n",
       "      <td>5000</td>\n",
       "      <td>5000</td>\n",
       "      <td>5000</td>\n",
       "      <td>5000</td>\n",
       "    </tr>\n",
       "    <tr>\n",
       "      <th>unique</th>\n",
       "      <td>3</td>\n",
       "      <td>35</td>\n",
       "      <td>5</td>\n",
       "      <td>7</td>\n",
       "      <td>1233</td>\n",
       "      <td>291</td>\n",
       "      <td>304</td>\n",
       "      <td>616</td>\n",
       "      <td>8</td>\n",
       "      <td>616</td>\n",
       "      <td>604</td>\n",
       "      <td>8</td>\n",
       "      <td>1</td>\n",
       "    </tr>\n",
       "    <tr>\n",
       "      <th>top</th>\n",
       "      <td>Trousers</td>\n",
       "      <td>Denim</td>\n",
       "      <td>M</td>\n",
       "      <td>blue</td>\n",
       "      <td>A orange coloured, L sized, Flannel Shirt</td>\n",
       "      <td>2021-6-21</td>\n",
       "      <td>2021-03-28</td>\n",
       "      <td>Kristofor Roos</td>\n",
       "      <td>Female</td>\n",
       "      <td>5567 Clarke MallApt. 756</td>\n",
       "      <td>Jordanside</td>\n",
       "      <td>South Australia</td>\n",
       "      <td>Australia</td>\n",
       "    </tr>\n",
       "    <tr>\n",
       "      <th>freq</th>\n",
       "      <td>1683</td>\n",
       "      <td>273</td>\n",
       "      <td>1022</td>\n",
       "      <td>762</td>\n",
       "      <td>13</td>\n",
       "      <td>51</td>\n",
       "      <td>49</td>\n",
       "      <td>37</td>\n",
       "      <td>712</td>\n",
       "      <td>37</td>\n",
       "      <td>37</td>\n",
       "      <td>718</td>\n",
       "      <td>5000</td>\n",
       "    </tr>\n",
       "  </tbody>\n",
       "</table>\n",
       "</div>"
      ],
      "text/plain": [
       "       product_type product_name  size colour  \\\n",
       "count          5000         5000  5000   5000   \n",
       "unique            3           35     5      7   \n",
       "top        Trousers        Denim     M   blue   \n",
       "freq           1683          273  1022    762   \n",
       "\n",
       "                                      description order_date delivery_date  \\\n",
       "count                                        5000       5000          5000   \n",
       "unique                                       1233        291           304   \n",
       "top     A orange coloured, L sized, Flannel Shirt  2021-6-21    2021-03-28   \n",
       "freq                                           13         51            49   \n",
       "\n",
       "         customer_name  gender              home_address        city  \\\n",
       "count             5000    5000                      5000        5000   \n",
       "unique             616       8                       616         604   \n",
       "top     Kristofor Roos  Female  5567 Clarke MallApt. 756  Jordanside   \n",
       "freq                37     712                        37          37   \n",
       "\n",
       "                  state    country  \n",
       "count              5000       5000  \n",
       "unique                8          1  \n",
       "top     South Australia  Australia  \n",
       "freq                718       5000  "
      ]
     },
     "execution_count": 62,
     "metadata": {},
     "output_type": "execute_result"
    }
   ],
   "source": [
    "spoc.describe(include='O')"
   ]
  },
  {
   "cell_type": "code",
   "execution_count": 63,
   "metadata": {
    "colab": {
     "base_uri": "https://localhost:8080/",
     "height": 521
    },
    "id": "EUstX3PFY6Df",
    "outputId": "3d7b13fb-c1c4-4976-fed7-ce0146dead39"
   },
   "outputs": [
    {
     "data": {
      "text/plain": [
       "Index(['product_type', 'product_name', 'size', 'colour', 'description',\n",
       "       'order_date', 'delivery_date', 'customer_name', 'gender',\n",
       "       'home_address', 'city', 'state', 'country'],\n",
       "      dtype='object')"
      ]
     },
     "execution_count": 63,
     "metadata": {},
     "output_type": "execute_result"
    }
   ],
   "source": [
    "spoc.select_dtypes(include='O').columns"
   ]
  },
  {
   "cell_type": "code",
   "execution_count": 64,
   "metadata": {},
   "outputs": [
    {
     "data": {
      "text/plain": [
       "Index(['product_type', 'product_name', 'size', 'colour', 'description',\n",
       "       'customer_name', 'gender', 'home_address', 'city', 'state', 'country'],\n",
       "      dtype='object')"
      ]
     },
     "execution_count": 64,
     "metadata": {},
     "output_type": "execute_result"
    }
   ],
   "source": [
    "spoc['order_date'] = pd.to_datetime(spoc['order_date'])\n",
    "spoc['delivery_date'] = pd.to_datetime(spoc['delivery_date'])\n",
    "spoc.select_dtypes(include='O').columns"
   ]
  },
  {
   "cell_type": "code",
   "execution_count": 65,
   "metadata": {
    "id": "-X_Z37OoBm_t"
   },
   "outputs": [],
   "source": [
    "# what is the unique values in each categorical column\n",
    "categorical = ['product_type', 'product_name', 'size', 'colour', 'gender', 'state', 'country']"
   ]
  },
  {
   "cell_type": "code",
   "execution_count": 66,
   "metadata": {
    "colab": {
     "base_uri": "https://localhost:8080/"
    },
    "id": "RzM2JB9sCc3c",
    "outputId": "ff3eaeed-84d3-4b9c-c641-84c6ad05381f"
   },
   "outputs": [
    {
     "name": "stdout",
     "output_type": "stream",
     "text": [
      "product_type : ['Shirt' 'Jacket' 'Trousers']\n",
      "__________________________________________________\n",
      "product_name : ['Chambray' 'Puffer' 'Oxford Cloth' 'Wool' 'Parka' 'Trench Coat' 'Pleated'\n",
      " 'Cords' 'Cardigan' 'Drawstring' 'Relaxed Leg' 'Pullover' 'Leather'\n",
      " 'Joggers' 'Peacoat' 'Dress' 'High-Waisted' 'Slim-Fit' 'Windbreaker'\n",
      " 'Tracksuit Bottoms' 'Casual Slim Fit' 'Linen' 'Bomber' 'Cuban Collar'\n",
      " 'Flannel' 'Denim' 'Cropped' 'Cargo Pants' 'Shearling' 'Camp Collared'\n",
      " 'Polo' 'Henley' 'Coach' 'Mandarin Collar' 'Chinos']\n",
      "__________________________________________________\n",
      "size : ['L' 'S' 'M' 'XS' 'XL']\n",
      "__________________________________________________\n",
      "colour : ['orange' 'indigo' 'red' 'blue' 'yellow' 'green' 'violet']\n",
      "__________________________________________________\n",
      "gender : ['Genderfluid' 'Agender' 'Non-binary' 'Polygender' 'Bigender' 'Female'\n",
      " 'Genderqueer' 'Male']\n",
      "__________________________________________________\n",
      "state : ['South Australia' 'Tasmania' 'New South Wales' 'Queensland' 'Victoria'\n",
      " 'Northern Territory' 'Australian Capital Territory' 'Western Australia']\n",
      "__________________________________________________\n",
      "country : ['Australia']\n",
      "__________________________________________________\n"
     ]
    }
   ],
   "source": [
    "for cat in categorical:\n",
    " # print(f\"{cat} : {spoc[cat].nunique()}\")\n",
    "  print(f\"{cat} : {spoc[cat].unique()}\")\n",
    "  print('_'*50) "
   ]
  },
  {
   "cell_type": "code",
   "execution_count": 67,
   "metadata": {
    "id": "TF9PtUhtD37X"
   },
   "outputs": [],
   "source": [
    "# what is the maximum number of days between the order and delivery\n",
    "spoc['differance'] = spoc['delivery_date']- spoc['order_date']"
   ]
  },
  {
   "cell_type": "code",
   "execution_count": 68,
   "metadata": {
    "colab": {
     "base_uri": "https://localhost:8080/",
     "height": 612
    },
    "id": "QHmn8my3EMaC",
    "outputId": "4831579f-de98-4027-ec70-eefcbd758f80"
   },
   "outputs": [
    {
     "data": {
      "text/html": [
       "<div>\n",
       "<style scoped>\n",
       "    .dataframe tbody tr th:only-of-type {\n",
       "        vertical-align: middle;\n",
       "    }\n",
       "\n",
       "    .dataframe tbody tr th {\n",
       "        vertical-align: top;\n",
       "    }\n",
       "\n",
       "    .dataframe thead th {\n",
       "        text-align: right;\n",
       "    }\n",
       "</style>\n",
       "<table border=\"1\" class=\"dataframe\">\n",
       "  <thead>\n",
       "    <tr style=\"text-align: right;\">\n",
       "      <th></th>\n",
       "      <th>sales_id</th>\n",
       "      <th>order_id</th>\n",
       "      <th>product_id</th>\n",
       "      <th>price_per_unit</th>\n",
       "      <th>quantity_sales</th>\n",
       "      <th>total_price</th>\n",
       "      <th>product_ID</th>\n",
       "      <th>product_type</th>\n",
       "      <th>product_name</th>\n",
       "      <th>size</th>\n",
       "      <th>...</th>\n",
       "      <th>delivery_date</th>\n",
       "      <th>customer_name</th>\n",
       "      <th>gender</th>\n",
       "      <th>age</th>\n",
       "      <th>home_address</th>\n",
       "      <th>zip_code</th>\n",
       "      <th>city</th>\n",
       "      <th>state</th>\n",
       "      <th>country</th>\n",
       "      <th>differance</th>\n",
       "    </tr>\n",
       "  </thead>\n",
       "  <tbody>\n",
       "    <tr>\n",
       "      <th>0</th>\n",
       "      <td>0</td>\n",
       "      <td>1</td>\n",
       "      <td>218</td>\n",
       "      <td>106</td>\n",
       "      <td>2</td>\n",
       "      <td>212</td>\n",
       "      <td>218</td>\n",
       "      <td>Shirt</td>\n",
       "      <td>Chambray</td>\n",
       "      <td>L</td>\n",
       "      <td>...</td>\n",
       "      <td>2021-09-24</td>\n",
       "      <td>Annabella Devote</td>\n",
       "      <td>Genderfluid</td>\n",
       "      <td>75</td>\n",
       "      <td>4927 Alice MeadowApt. 960</td>\n",
       "      <td>7787</td>\n",
       "      <td>Sanfordborough</td>\n",
       "      <td>South Australia</td>\n",
       "      <td>Australia</td>\n",
       "      <td>25 days</td>\n",
       "    </tr>\n",
       "    <tr>\n",
       "      <th>1</th>\n",
       "      <td>1</td>\n",
       "      <td>1</td>\n",
       "      <td>481</td>\n",
       "      <td>118</td>\n",
       "      <td>1</td>\n",
       "      <td>118</td>\n",
       "      <td>481</td>\n",
       "      <td>Jacket</td>\n",
       "      <td>Puffer</td>\n",
       "      <td>S</td>\n",
       "      <td>...</td>\n",
       "      <td>2021-09-24</td>\n",
       "      <td>Annabella Devote</td>\n",
       "      <td>Genderfluid</td>\n",
       "      <td>75</td>\n",
       "      <td>4927 Alice MeadowApt. 960</td>\n",
       "      <td>7787</td>\n",
       "      <td>Sanfordborough</td>\n",
       "      <td>South Australia</td>\n",
       "      <td>Australia</td>\n",
       "      <td>25 days</td>\n",
       "    </tr>\n",
       "  </tbody>\n",
       "</table>\n",
       "<p>2 rows × 27 columns</p>\n",
       "</div>"
      ],
      "text/plain": [
       "   sales_id  order_id  product_id  price_per_unit  quantity_sales  \\\n",
       "0         0         1         218             106               2   \n",
       "1         1         1         481             118               1   \n",
       "\n",
       "   total_price  product_ID product_type product_name size  ... delivery_date  \\\n",
       "0          212         218        Shirt     Chambray    L  ...    2021-09-24   \n",
       "1          118         481       Jacket       Puffer    S  ...    2021-09-24   \n",
       "\n",
       "      customer_name       gender age               home_address  zip_code  \\\n",
       "0  Annabella Devote  Genderfluid  75  4927 Alice MeadowApt. 960      7787   \n",
       "1  Annabella Devote  Genderfluid  75  4927 Alice MeadowApt. 960      7787   \n",
       "\n",
       "             city            state    country differance  \n",
       "0  Sanfordborough  South Australia  Australia    25 days  \n",
       "1  Sanfordborough  South Australia  Australia    25 days  \n",
       "\n",
       "[2 rows x 27 columns]"
      ]
     },
     "execution_count": 68,
     "metadata": {},
     "output_type": "execute_result"
    }
   ],
   "source": [
    "spoc.head(2)"
   ]
  },
  {
   "cell_type": "code",
   "execution_count": 69,
   "metadata": {
    "colab": {
     "base_uri": "https://localhost:8080/"
    },
    "id": "39hx3h4CEN9i",
    "outputId": "0969f6db-6f45-44b3-fb1d-7364158b88c7"
   },
   "outputs": [
    {
     "data": {
      "text/plain": [
       "149   27 days\n",
       "150   27 days\n",
       "151   27 days\n",
       "152   27 days\n",
       "153   27 days\n",
       "154   27 days\n",
       "155   27 days\n",
       "191   27 days\n",
       "192   27 days\n",
       "193   27 days\n",
       "Name: differance, dtype: timedelta64[ns]"
      ]
     },
     "execution_count": 69,
     "metadata": {},
     "output_type": "execute_result"
    }
   ],
   "source": [
    "spoc['differance'].nlargest(10)"
   ]
  },
  {
   "cell_type": "code",
   "execution_count": 70,
   "metadata": {},
   "outputs": [
    {
     "data": {
      "text/plain": [
       "96    1 days\n",
       "97    1 days\n",
       "98    1 days\n",
       "99    1 days\n",
       "380   1 days\n",
       "381   1 days\n",
       "382   1 days\n",
       "383   1 days\n",
       "384   1 days\n",
       "508   1 days\n",
       "Name: differance, dtype: timedelta64[ns]"
      ]
     },
     "execution_count": 70,
     "metadata": {},
     "output_type": "execute_result"
    }
   ],
   "source": [
    "spoc['differance'].nsmallest(10)"
   ]
  },
  {
   "cell_type": "code",
   "execution_count": 71,
   "metadata": {},
   "outputs": [],
   "source": [
    "spoc['differance'] = spoc['differance'].dt.days.astype('int16')"
   ]
  },
  {
   "cell_type": "code",
   "execution_count": 72,
   "metadata": {},
   "outputs": [
    {
     "data": {
      "application/vnd.plotly.v1+json": {
       "config": {
        "plotlyServerURL": "https://plot.ly"
       },
       "data": [
        {
         "alignmentgroup": "True",
         "bingroup": "x",
         "hovertemplate": "differance=%{x}<br>count=%{y}<extra></extra>",
         "legendgroup": "",
         "marker": {
          "color": "#636efa",
          "pattern": {
           "shape": ""
          }
         },
         "name": "",
         "offsetgroup": "",
         "orientation": "v",
         "showlegend": false,
         "type": "histogram",
         "x": [
          25,
          25,
          25,
          25,
          25,
          25,
          16,
          16,
          16,
          16,
          3,
          3,
          3,
          3,
          3,
          3,
          3,
          3,
          3,
          14,
          14,
          14,
          9,
          9,
          9,
          9,
          14,
          14,
          14,
          14,
          14,
          14,
          14,
          6,
          6,
          6,
          19,
          19,
          19,
          19,
          19,
          19,
          19,
          19,
          21,
          21,
          21,
          21,
          21,
          21,
          21,
          21,
          21,
          21,
          15,
          15,
          15,
          15,
          15,
          15,
          15,
          15,
          15,
          15,
          15,
          13,
          13,
          13,
          13,
          13,
          22,
          22,
          22,
          22,
          22,
          22,
          22,
          22,
          14,
          14,
          16,
          16,
          16,
          16,
          16,
          16,
          16,
          16,
          16,
          16,
          16,
          8,
          8,
          8,
          8,
          8,
          1,
          1,
          1,
          1,
          4,
          4,
          4,
          19,
          19,
          19,
          19,
          19,
          19,
          6,
          6,
          6,
          6,
          5,
          5,
          5,
          5,
          5,
          9,
          9,
          9,
          9,
          9,
          9,
          9,
          9,
          9,
          9,
          9,
          9,
          9,
          17,
          17,
          17,
          17,
          17,
          17,
          17,
          17,
          16,
          16,
          16,
          16,
          16,
          11,
          11,
          11,
          11,
          11,
          27,
          27,
          27,
          27,
          27,
          27,
          27,
          19,
          19,
          19,
          19,
          19,
          19,
          2,
          2,
          2,
          2,
          10,
          10,
          10,
          10,
          7,
          7,
          7,
          7,
          7,
          7,
          7,
          7,
          21,
          21,
          21,
          21,
          21,
          21,
          26,
          26,
          26,
          26,
          26,
          26,
          26,
          27,
          27,
          27,
          27,
          27,
          27,
          5,
          5,
          5,
          5,
          5,
          5,
          5,
          5,
          5,
          13,
          13,
          13,
          13,
          13,
          13,
          13,
          13,
          13,
          26,
          27,
          27,
          27,
          27,
          27,
          27,
          27,
          3,
          3,
          3,
          3,
          3,
          3,
          3,
          3,
          3,
          3,
          12,
          12,
          12,
          12,
          12,
          12,
          12,
          20,
          20,
          21,
          21,
          21,
          21,
          21,
          21,
          21,
          21,
          21,
          10,
          10,
          10,
          10,
          10,
          10,
          14,
          14,
          14,
          14,
          27,
          27,
          27,
          27,
          27,
          27,
          27,
          14,
          14,
          14,
          14,
          7,
          7,
          7,
          25,
          25,
          25,
          25,
          25,
          25,
          25,
          8,
          8,
          8,
          8,
          8,
          8,
          8,
          8,
          8,
          6,
          6,
          6,
          5,
          5,
          5,
          5,
          15,
          15,
          15,
          15,
          15,
          11,
          11,
          11,
          11,
          11,
          11,
          11,
          11,
          15,
          15,
          15,
          15,
          15,
          15,
          25,
          25,
          25,
          25,
          25,
          25,
          25,
          10,
          10,
          10,
          10,
          10,
          24,
          24,
          24,
          24,
          24,
          24,
          24,
          27,
          27,
          27,
          25,
          25,
          25,
          25,
          25,
          25,
          25,
          25,
          25,
          25,
          17,
          17,
          17,
          17,
          25,
          25,
          25,
          25,
          25,
          25,
          20,
          20,
          20,
          20,
          20,
          20,
          20,
          20,
          20,
          20,
          2,
          6,
          6,
          6,
          6,
          6,
          6,
          6,
          6,
          6,
          6,
          1,
          1,
          1,
          1,
          1,
          5,
          5,
          11,
          11,
          11,
          11,
          24,
          24,
          24,
          24,
          24,
          24,
          6,
          6,
          6,
          6,
          6,
          6,
          6,
          6,
          23,
          23,
          23,
          23,
          23,
          23,
          23,
          23,
          20,
          20,
          20,
          20,
          20,
          12,
          12,
          12,
          12,
          5,
          5,
          5,
          5,
          5,
          10,
          10,
          3,
          3,
          9,
          9,
          9,
          9,
          23,
          23,
          23,
          18,
          18,
          18,
          25,
          25,
          25,
          25,
          25,
          25,
          25,
          25,
          23,
          23,
          23,
          23,
          23,
          23,
          23,
          23,
          23,
          26,
          26,
          26,
          6,
          6,
          6,
          6,
          6,
          6,
          6,
          23,
          17,
          17,
          17,
          17,
          24,
          24,
          24,
          17,
          17,
          17,
          17,
          17,
          17,
          17,
          11,
          11,
          11,
          11,
          11,
          11,
          11,
          5,
          5,
          5,
          5,
          5,
          5,
          5,
          5,
          5,
          14,
          14,
          14,
          14,
          12,
          12,
          12,
          12,
          12,
          1,
          1,
          1,
          19,
          19,
          19,
          2,
          2,
          2,
          2,
          2,
          3,
          3,
          3,
          3,
          3,
          3,
          3,
          3,
          3,
          3,
          3,
          13,
          13,
          13,
          13,
          13,
          27,
          27,
          27,
          27,
          17,
          17,
          17,
          2,
          2,
          2,
          2,
          2,
          2,
          18,
          18,
          18,
          18,
          18,
          18,
          23,
          23,
          23,
          23,
          27,
          27,
          27,
          27,
          27,
          27,
          16,
          16,
          16,
          16,
          16,
          16,
          7,
          7,
          7,
          7,
          7,
          7,
          7,
          7,
          7,
          16,
          16,
          16,
          16,
          16,
          16,
          21,
          21,
          21,
          21,
          21,
          21,
          26,
          26,
          24,
          24,
          24,
          24,
          24,
          24,
          16,
          16,
          6,
          6,
          6,
          6,
          6,
          6,
          2,
          2,
          2,
          2,
          24,
          24,
          24,
          24,
          24,
          24,
          11,
          11,
          11,
          11,
          3,
          3,
          3,
          3,
          3,
          3,
          11,
          11,
          11,
          11,
          11,
          11,
          11,
          11,
          11,
          3,
          3,
          3,
          3,
          3,
          3,
          23,
          23,
          20,
          20,
          20,
          20,
          23,
          23,
          23,
          23,
          23,
          23,
          23,
          5,
          5,
          5,
          5,
          24,
          24,
          24,
          20,
          20,
          20,
          20,
          20,
          20,
          20,
          20,
          20,
          20,
          27,
          27,
          27,
          27,
          27,
          27,
          17,
          17,
          17,
          17,
          17,
          17,
          17,
          25,
          25,
          25,
          19,
          19,
          19,
          19,
          19,
          27,
          27,
          27,
          27,
          27,
          27,
          27,
          11,
          11,
          11,
          11,
          11,
          11,
          11,
          11,
          11,
          11,
          11,
          17,
          17,
          17,
          17,
          11,
          11,
          11,
          11,
          11,
          11,
          11,
          11,
          11,
          14,
          14,
          14,
          22,
          22,
          22,
          22,
          22,
          13,
          13,
          13,
          13,
          15,
          15,
          15,
          15,
          15,
          15,
          11,
          11,
          11,
          11,
          11,
          11,
          11,
          11,
          4,
          4,
          4,
          4,
          4,
          4,
          4,
          6,
          6,
          6,
          14,
          14,
          1,
          1,
          1,
          1,
          1,
          1,
          1,
          1,
          14,
          14,
          14,
          14,
          22,
          22,
          22,
          22,
          22,
          22,
          22,
          22,
          22,
          22,
          9,
          9,
          9,
          9,
          9,
          9,
          14,
          14,
          14,
          14,
          14,
          9,
          9,
          9,
          9,
          15,
          15,
          15,
          15,
          15,
          15,
          15,
          15,
          10,
          10,
          10,
          10,
          10,
          20,
          20,
          20,
          20,
          20,
          9,
          9,
          9,
          9,
          3,
          3,
          3,
          3,
          3,
          2,
          2,
          2,
          2,
          2,
          2,
          2,
          22,
          22,
          22,
          22,
          22,
          19,
          19,
          19,
          21,
          21,
          21,
          21,
          21,
          21,
          21,
          3,
          3,
          3,
          3,
          3,
          3,
          3,
          3,
          3,
          2,
          2,
          2,
          2,
          2,
          12,
          12,
          5,
          5,
          5,
          5,
          5,
          5,
          13,
          26,
          26,
          26,
          26,
          26,
          26,
          20,
          20,
          20,
          20,
          20,
          20,
          20,
          20,
          20,
          14,
          14,
          23,
          23,
          23,
          23,
          23,
          23,
          23,
          23,
          23,
          23,
          2,
          2,
          2,
          2,
          2,
          2,
          2,
          2,
          5,
          5,
          5,
          5,
          5,
          5,
          5,
          5,
          5,
          10,
          10,
          10,
          10,
          10,
          10,
          10,
          10,
          10,
          3,
          3,
          3,
          3,
          5,
          5,
          5,
          5,
          5,
          5,
          5,
          23,
          23,
          23,
          23,
          23,
          23,
          25,
          25,
          25,
          25,
          20,
          20,
          20,
          20,
          20,
          20,
          20,
          20,
          22,
          22,
          22,
          21,
          21,
          21,
          21,
          21,
          21,
          21,
          21,
          10,
          10,
          10,
          10,
          10,
          10,
          10,
          17,
          17,
          24,
          24,
          24,
          24,
          24,
          24,
          24,
          24,
          24,
          24,
          2,
          2,
          2,
          2,
          24,
          19,
          19,
          19,
          10,
          10,
          10,
          10,
          20,
          20,
          20,
          12,
          12,
          12,
          12,
          12,
          12,
          12,
          12,
          12,
          12,
          12,
          12,
          14,
          14,
          14,
          14,
          14,
          12,
          12,
          12,
          12,
          12,
          12,
          12,
          12,
          12,
          11,
          11,
          11,
          11,
          11,
          11,
          11,
          11,
          11,
          11,
          20,
          20,
          20,
          20,
          20,
          20,
          12,
          9,
          9,
          9,
          26,
          26,
          26,
          26,
          26,
          26,
          15,
          15,
          20,
          20,
          20,
          20,
          20,
          20,
          20,
          20,
          20,
          10,
          10,
          10,
          17,
          17,
          20,
          20,
          20,
          20,
          20,
          2,
          2,
          2,
          2,
          2,
          2,
          2,
          2,
          23,
          23,
          23,
          5,
          26,
          26,
          26,
          26,
          18,
          18,
          9,
          9,
          9,
          9,
          9,
          9,
          1,
          1,
          1,
          1,
          1,
          1,
          10,
          10,
          10,
          10,
          21,
          21,
          5,
          5,
          5,
          5,
          5,
          5,
          19,
          19,
          19,
          19,
          19,
          24,
          24,
          24,
          24,
          24,
          5,
          5,
          5,
          5,
          5,
          5,
          16,
          16,
          16,
          16,
          16,
          13,
          13,
          13,
          13,
          13,
          13,
          13,
          17,
          17,
          17,
          15,
          15,
          15,
          15,
          15,
          15,
          20,
          20,
          20,
          20,
          20,
          24,
          24,
          24,
          24,
          24,
          23,
          23,
          23,
          23,
          23,
          23,
          2,
          2,
          2,
          2,
          2,
          2,
          15,
          15,
          15,
          15,
          15,
          15,
          15,
          15,
          7,
          7,
          7,
          7,
          7,
          7,
          17,
          17,
          17,
          17,
          17,
          17,
          17,
          19,
          19,
          19,
          19,
          19,
          19,
          6,
          6,
          23,
          23,
          23,
          23,
          23,
          26,
          6,
          6,
          6,
          21,
          21,
          21,
          21,
          21,
          21,
          21,
          2,
          2,
          2,
          2,
          2,
          2,
          2,
          2,
          5,
          5,
          5,
          5,
          5,
          5,
          26,
          26,
          26,
          25,
          25,
          25,
          25,
          17,
          17,
          17,
          17,
          17,
          15,
          15,
          15,
          15,
          15,
          15,
          5,
          5,
          5,
          5,
          5,
          5,
          20,
          20,
          20,
          20,
          20,
          20,
          20,
          20,
          20,
          7,
          7,
          7,
          7,
          7,
          19,
          19,
          21,
          21,
          21,
          21,
          21,
          9,
          9,
          9,
          9,
          9,
          9,
          15,
          15,
          15,
          15,
          15,
          15,
          6,
          6,
          6,
          2,
          2,
          2,
          6,
          6,
          6,
          6,
          6,
          6,
          6,
          6,
          6,
          6,
          12,
          12,
          12,
          12,
          12,
          12,
          20,
          20,
          20,
          3,
          3,
          3,
          3,
          3,
          3,
          13,
          13,
          13,
          13,
          13,
          13,
          2,
          2,
          2,
          2,
          2,
          2,
          6,
          6,
          6,
          6,
          13,
          13,
          13,
          13,
          13,
          13,
          19,
          19,
          19,
          19,
          19,
          10,
          10,
          10,
          10,
          10,
          10,
          10,
          10,
          23,
          23,
          23,
          23,
          23,
          23,
          20,
          20,
          20,
          20,
          20,
          20,
          20,
          19,
          19,
          19,
          19,
          19,
          13,
          13,
          13,
          13,
          6,
          6,
          6,
          6,
          6,
          18,
          23,
          23,
          23,
          23,
          23,
          14,
          14,
          14,
          14,
          14,
          26,
          26,
          26,
          26,
          5,
          5,
          5,
          5,
          5,
          5,
          14,
          14,
          14,
          14,
          14,
          14,
          14,
          14,
          14,
          8,
          8,
          8,
          8,
          8,
          8,
          25,
          25,
          25,
          25,
          25,
          25,
          25,
          25,
          25,
          25,
          22,
          22,
          22,
          22,
          27,
          27,
          27,
          27,
          27,
          14,
          14,
          14,
          14,
          14,
          14,
          12,
          12,
          12,
          11,
          11,
          11,
          11,
          11,
          11,
          11,
          11,
          11,
          11,
          11,
          5,
          5,
          5,
          25,
          13,
          13,
          13,
          13,
          13,
          2,
          2,
          2,
          2,
          2,
          1,
          1,
          1,
          1,
          1,
          10,
          10,
          10,
          10,
          10,
          10,
          10,
          10,
          10,
          10,
          10,
          9,
          9,
          9,
          9,
          12,
          12,
          12,
          12,
          12,
          12,
          6,
          6,
          6,
          6,
          21,
          21,
          21,
          21,
          5,
          5,
          5,
          5,
          5,
          5,
          5,
          5,
          1,
          1,
          1,
          14,
          14,
          3,
          3,
          3,
          3,
          3,
          3,
          3,
          3,
          20,
          20,
          20,
          20,
          20,
          20,
          26,
          26,
          26,
          26,
          26,
          22,
          22,
          22,
          22,
          1,
          1,
          1,
          1,
          1,
          1,
          1,
          1,
          19,
          2,
          2,
          2,
          2,
          2,
          17,
          17,
          17,
          18,
          18,
          18,
          18,
          18,
          17,
          10,
          10,
          10,
          10,
          10,
          10,
          10,
          10,
          10,
          10,
          10,
          10,
          5,
          5,
          3,
          3,
          3,
          13,
          13,
          13,
          13,
          13,
          13,
          13,
          13,
          13,
          13,
          2,
          2,
          2,
          2,
          1,
          1,
          1,
          1,
          1,
          1,
          1,
          1,
          1,
          1,
          13,
          13,
          13,
          13,
          10,
          10,
          10,
          10,
          14,
          14,
          14,
          14,
          14,
          14,
          14,
          19,
          19,
          19,
          19,
          19,
          3,
          3,
          3,
          3,
          22,
          22,
          22,
          22,
          22,
          22,
          21,
          21,
          21,
          21,
          21,
          21,
          21,
          25,
          25,
          25,
          25,
          25,
          25,
          25,
          24,
          24,
          16,
          16,
          16,
          16,
          16,
          16,
          10,
          10,
          10,
          10,
          10,
          10,
          10,
          8,
          8,
          8,
          8,
          8,
          8,
          25,
          25,
          25,
          25,
          25,
          25,
          13,
          13,
          15,
          15,
          22,
          22,
          22,
          22,
          2,
          6,
          6,
          6,
          6,
          11,
          11,
          11,
          11,
          11,
          11,
          11,
          8,
          8,
          8,
          8,
          8,
          8,
          8,
          11,
          11,
          11,
          11,
          11,
          11,
          11,
          11,
          15,
          15,
          15,
          15,
          15,
          24,
          24,
          24,
          24,
          24,
          24,
          24,
          14,
          14,
          14,
          14,
          14,
          14,
          11,
          11,
          11,
          11,
          10,
          10,
          10,
          10,
          10,
          2,
          2,
          2,
          2,
          2,
          2,
          2,
          2,
          4,
          4,
          4,
          4,
          17,
          17,
          17,
          17,
          17,
          17,
          19,
          19,
          11,
          11,
          11,
          11,
          11,
          4,
          4,
          4,
          4,
          4,
          4,
          21,
          21,
          21,
          21,
          21,
          21,
          22,
          22,
          22,
          22,
          22,
          22,
          15,
          15,
          15,
          15,
          15,
          15,
          15,
          15,
          15,
          18,
          10,
          10,
          10,
          10,
          10,
          10,
          10,
          10,
          10,
          10,
          21,
          21,
          21,
          17,
          17,
          17,
          17,
          17,
          10,
          10,
          10,
          10,
          20,
          20,
          20,
          20,
          20,
          20,
          17,
          17,
          17,
          17,
          17,
          17,
          17,
          17,
          17,
          17,
          17,
          17,
          17,
          17,
          17,
          14,
          14,
          14,
          14,
          14,
          14,
          14,
          14,
          14,
          14,
          14,
          14,
          11,
          11,
          11,
          11,
          11,
          11,
          27,
          27,
          27,
          27,
          27,
          27,
          14,
          14,
          14,
          16,
          16,
          16,
          16,
          16,
          16,
          16,
          3,
          3,
          3,
          3,
          3,
          3,
          22,
          22,
          22,
          22,
          23,
          23,
          23,
          23,
          22,
          22,
          22,
          22,
          22,
          13,
          13,
          13,
          13,
          13,
          13,
          13,
          13,
          21,
          21,
          21,
          21,
          21,
          21,
          21,
          21,
          21,
          9,
          9,
          9,
          9,
          9,
          9,
          9,
          22,
          22,
          22,
          22,
          22,
          22,
          27,
          27,
          27,
          27,
          12,
          12,
          12,
          20,
          20,
          20,
          9,
          9,
          9,
          9,
          9,
          27,
          27,
          27,
          27,
          27,
          26,
          26,
          26,
          7,
          2,
          2,
          2,
          2,
          2,
          2,
          2,
          2,
          11,
          11,
          11,
          6,
          6,
          6,
          6,
          6,
          22,
          26,
          26,
          26,
          26,
          26,
          26,
          9,
          9,
          9,
          9,
          9,
          9,
          24,
          24,
          24,
          24,
          24,
          24,
          4,
          4,
          4,
          4,
          4,
          4,
          4,
          4,
          4,
          5,
          5,
          5,
          5,
          5,
          5,
          5,
          5,
          27,
          27,
          27,
          27,
          27,
          3,
          3,
          3,
          17,
          17,
          20,
          20,
          20,
          20,
          20,
          20,
          17,
          17,
          17,
          17,
          17,
          24,
          24,
          24,
          24,
          24,
          24,
          24,
          22,
          22,
          22,
          22,
          22,
          22,
          20,
          20,
          20,
          20,
          20,
          7,
          7,
          7,
          7,
          7,
          2,
          2,
          2,
          2,
          2,
          2,
          2,
          12,
          12,
          12,
          12,
          12,
          13,
          13,
          13,
          13,
          13,
          13,
          5,
          5,
          5,
          5,
          5,
          5,
          5,
          5,
          26,
          26,
          26,
          26,
          26,
          26,
          2,
          2,
          2,
          2,
          18,
          18,
          18,
          18,
          18,
          4,
          4,
          4,
          4,
          4,
          4,
          26,
          26,
          26,
          26,
          26,
          26,
          26,
          26,
          14,
          14,
          14,
          14,
          14,
          13,
          13,
          13,
          13,
          13,
          14,
          14,
          7,
          7,
          7,
          7,
          25,
          25,
          25,
          25,
          25,
          9,
          9,
          9,
          9,
          9,
          9,
          9,
          9,
          16,
          16,
          16,
          16,
          16,
          16,
          18,
          18,
          18,
          18,
          18,
          18,
          18,
          18,
          18,
          8,
          8,
          8,
          8,
          8,
          8,
          4,
          4,
          4,
          4,
          11,
          11,
          11,
          11,
          11,
          11,
          11,
          4,
          4,
          4,
          4,
          7,
          7,
          7,
          7,
          7,
          7,
          7,
          9,
          9,
          9,
          9,
          9,
          9,
          22,
          22,
          22,
          22,
          22,
          22,
          22,
          22,
          16,
          16,
          16,
          16,
          16,
          23,
          23,
          23,
          23,
          23,
          23,
          23,
          23,
          3,
          3,
          3,
          3,
          3,
          3,
          19,
          19,
          19,
          19,
          19,
          6,
          6,
          24,
          24,
          24,
          24,
          7,
          7,
          7,
          7,
          7,
          7,
          7,
          7,
          17,
          17,
          17,
          17,
          17,
          17,
          9,
          9,
          9,
          21,
          21,
          21,
          21,
          21,
          21,
          14,
          14,
          14,
          14,
          14,
          17,
          17,
          17,
          17,
          17,
          17,
          19,
          19,
          19,
          19,
          5,
          5,
          5,
          23,
          23,
          23,
          23,
          20,
          20,
          20,
          20,
          20,
          20,
          20,
          1,
          1,
          1,
          9,
          9,
          9,
          9,
          22,
          22,
          22,
          22,
          22,
          16,
          16,
          16,
          16,
          16,
          16,
          4,
          4,
          4,
          19,
          19,
          19,
          19,
          19,
          11,
          10,
          10,
          10,
          10,
          10,
          10,
          10,
          6,
          6,
          6,
          6,
          6,
          6,
          6,
          6,
          6,
          6,
          26,
          26,
          26,
          21,
          21,
          21,
          21,
          21,
          21,
          21,
          23,
          23,
          1,
          1,
          1,
          1,
          1,
          1,
          1,
          1,
          1,
          13,
          13,
          13,
          25,
          25,
          25,
          25,
          25,
          25,
          25,
          25,
          11,
          11,
          11,
          11,
          11,
          20,
          20,
          20,
          20,
          20,
          20,
          20,
          20,
          27,
          27,
          25,
          24,
          24,
          24,
          24,
          24,
          24,
          16,
          16,
          16,
          16,
          16,
          16,
          21,
          21,
          21,
          21,
          21,
          12,
          12,
          12,
          12,
          12,
          12,
          12,
          20,
          20,
          20,
          20,
          20,
          20,
          24,
          24,
          24,
          24,
          24,
          21,
          21,
          21,
          21,
          21,
          21,
          24,
          24,
          24,
          24,
          24,
          17,
          17,
          17,
          17,
          15,
          15,
          15,
          15,
          15,
          9,
          9,
          9,
          21,
          21,
          21,
          21,
          21,
          21,
          21,
          21,
          21,
          21,
          17,
          17,
          17,
          17,
          18,
          18,
          18,
          18,
          18,
          18,
          18,
          18,
          18,
          15,
          15,
          15,
          15,
          15,
          10,
          10,
          10,
          10,
          10,
          10,
          10,
          24,
          24,
          24,
          24,
          24,
          24,
          3,
          3,
          3,
          3,
          3,
          2,
          2,
          2,
          2,
          13,
          13,
          13,
          13,
          13,
          17,
          17,
          17,
          17,
          8,
          8,
          8,
          8,
          11,
          11,
          11,
          11,
          11,
          8,
          8,
          8,
          8,
          8,
          10,
          10,
          10,
          10,
          10,
          10,
          10,
          24,
          24,
          24,
          24,
          24,
          24,
          24,
          2,
          2,
          2,
          2,
          18,
          18,
          18,
          18,
          18,
          18,
          18,
          18,
          9,
          9,
          15,
          15,
          26,
          26,
          26,
          26,
          26,
          26,
          9,
          9,
          9,
          26,
          26,
          26,
          26,
          26,
          26,
          26,
          18,
          18,
          18,
          18,
          18,
          18,
          22,
          22,
          22,
          22,
          22,
          8,
          8,
          8,
          8,
          8,
          8,
          9,
          9,
          27,
          27,
          27,
          27,
          27,
          27,
          27,
          27,
          18,
          18,
          18,
          18,
          18,
          4,
          4,
          4,
          4,
          4,
          7,
          7,
          7,
          7,
          7,
          7,
          7,
          22,
          22,
          22,
          22,
          22,
          22,
          22,
          7,
          7,
          7,
          7,
          7,
          7,
          7,
          3,
          3,
          3,
          23,
          23,
          23,
          23,
          25,
          25,
          25,
          25,
          25,
          25,
          25,
          25,
          25,
          25,
          25,
          2,
          2,
          2,
          2,
          2,
          25,
          25,
          25,
          25,
          25,
          25,
          25,
          25,
          25,
          25,
          13,
          13,
          13,
          13,
          8,
          8,
          8,
          8,
          5,
          5,
          5,
          5,
          24,
          24,
          24,
          24,
          24,
          24,
          8,
          8,
          8,
          8,
          8,
          8,
          8,
          20,
          20,
          22,
          22,
          22,
          22,
          22,
          22,
          22,
          8,
          8,
          8,
          11,
          11,
          11,
          11,
          11,
          3,
          3,
          3,
          3,
          11,
          11,
          11,
          11,
          11,
          11,
          11,
          10,
          10,
          10,
          10,
          10,
          10,
          16,
          16,
          16,
          16,
          16,
          16,
          26,
          26,
          26,
          26,
          26,
          2,
          2,
          2,
          2,
          2,
          21,
          21,
          21,
          21,
          21,
          9,
          9,
          9,
          9,
          15,
          15,
          15,
          15,
          15,
          12,
          12,
          12,
          6,
          6,
          6,
          6,
          6,
          6,
          12,
          12,
          12,
          12,
          12,
          18,
          18,
          18,
          18,
          18,
          18,
          5,
          5,
          5,
          5,
          5,
          5,
          5,
          5,
          5,
          15,
          15,
          15,
          15,
          15,
          15,
          15,
          20,
          20,
          20,
          20,
          20,
          20,
          20,
          5,
          5,
          27,
          27,
          27,
          27,
          27,
          27,
          27,
          27,
          27,
          27,
          27,
          21,
          21,
          21,
          21,
          10,
          10,
          10,
          10,
          10,
          10,
          8,
          8,
          8,
          8,
          8,
          8,
          7,
          7,
          7,
          7,
          7,
          7,
          7,
          16,
          16,
          16,
          16,
          16,
          16,
          27,
          27,
          27,
          27,
          22,
          22,
          22,
          22,
          22,
          22,
          3,
          3,
          3,
          3,
          3,
          3,
          21,
          21,
          21,
          21,
          21,
          21,
          4,
          4,
          4,
          2,
          2,
          2,
          2,
          2,
          2,
          2,
          2,
          12,
          12,
          12,
          12,
          12,
          12,
          12,
          4,
          4,
          4,
          4,
          4,
          4,
          4,
          4,
          4,
          4,
          4,
          22,
          22,
          22,
          24,
          24,
          24,
          2,
          2,
          2,
          2,
          2,
          2,
          27,
          27,
          27,
          27,
          7,
          7,
          7,
          7,
          7,
          7,
          18,
          18,
          18,
          18,
          5,
          5,
          5,
          5,
          13,
          13,
          21,
          21,
          21,
          21,
          21,
          21,
          21,
          21,
          2,
          2,
          2,
          2,
          14,
          14,
          14,
          14,
          14,
          14,
          14,
          14,
          14,
          4,
          4,
          4,
          4,
          4,
          4,
          1,
          1,
          1,
          1,
          1,
          2,
          2,
          2,
          2,
          2,
          2,
          2,
          25,
          25,
          25,
          25,
          25,
          25,
          25,
          1,
          1,
          1,
          1,
          21,
          21,
          21,
          25,
          25,
          25,
          25,
          24,
          24,
          24,
          24,
          24,
          24,
          16,
          16,
          16,
          10,
          10,
          10,
          10,
          20,
          20,
          20,
          20,
          8,
          8,
          8,
          8,
          13,
          13,
          13,
          21,
          21,
          21,
          21,
          21,
          21,
          21,
          21,
          25,
          25,
          25,
          25,
          25,
          25,
          20,
          20,
          20,
          1,
          1,
          1,
          1,
          1,
          1,
          1,
          15,
          15,
          15,
          15,
          15,
          15,
          1,
          1,
          1,
          24,
          24,
          24,
          19,
          19,
          19,
          19,
          19,
          19,
          19,
          19,
          19,
          19,
          14,
          14,
          14,
          14,
          14,
          14,
          14,
          14,
          2,
          2,
          2,
          2,
          2,
          2,
          16,
          16,
          16,
          12,
          12,
          12,
          12,
          20,
          20,
          20,
          20,
          20,
          20,
          20,
          20,
          4,
          4,
          4,
          4,
          4,
          19,
          19,
          19,
          19,
          21,
          21,
          21,
          21,
          21,
          21,
          27,
          27,
          27,
          27,
          27,
          27,
          27,
          27,
          27,
          24,
          24,
          24,
          4,
          4,
          14,
          14,
          14,
          14,
          14,
          10,
          10,
          10,
          10,
          10,
          10,
          5,
          5,
          5,
          5,
          5,
          5,
          5,
          27,
          27,
          27,
          27,
          27,
          27,
          27,
          27,
          27,
          12,
          12,
          12,
          12,
          11,
          23,
          23,
          23,
          23,
          23,
          8,
          8,
          8,
          8,
          8,
          18,
          18,
          18,
          18,
          18,
          18,
          18,
          23,
          21,
          21,
          21,
          21,
          21,
          21,
          12,
          12,
          12,
          12,
          12,
          12,
          26,
          26,
          26,
          18,
          18,
          18,
          18,
          18,
          18,
          7,
          7,
          7,
          2,
          2,
          2,
          2,
          2,
          2,
          7,
          7,
          7,
          7,
          7,
          7,
          7,
          7,
          7,
          7,
          7,
          7,
          7,
          7,
          13,
          13,
          13,
          2,
          2,
          2,
          2,
          2,
          11,
          11,
          11,
          11,
          25,
          25,
          25,
          25,
          19,
          19,
          19,
          19,
          19,
          17,
          17,
          17,
          17,
          17,
          17,
          14,
          14,
          14,
          14,
          14,
          14,
          14,
          14,
          14,
          8,
          8,
          8,
          24,
          24,
          24,
          24,
          24,
          15,
          15,
          15,
          15,
          15,
          15,
          14,
          14,
          14,
          14,
          14,
          5,
          5,
          5,
          22,
          22,
          22,
          22,
          11,
          11,
          4,
          4,
          4,
          4,
          4,
          4,
          4,
          14,
          14,
          14,
          14,
          14,
          14,
          14,
          14,
          14,
          14,
          14,
          14,
          21,
          21,
          21,
          21,
          21,
          21,
          3,
          3,
          3,
          3,
          3,
          3,
          2,
          2,
          2,
          2,
          2,
          2,
          2,
          2,
          6,
          6,
          6,
          18,
          18,
          18,
          18,
          17,
          17,
          17,
          14,
          14,
          14,
          14,
          14,
          14,
          14,
          14,
          14,
          13,
          13,
          13,
          13,
          13,
          13,
          13,
          24,
          24,
          13,
          13,
          13,
          13,
          16,
          16,
          25,
          25,
          25,
          25,
          25,
          25,
          25,
          7,
          7,
          7,
          24,
          24,
          24,
          24,
          24,
          5,
          5,
          5,
          5,
          5,
          5,
          5,
          8,
          8,
          8,
          8,
          8,
          8,
          8,
          25,
          25,
          25,
          25,
          25,
          25,
          18,
          18,
          18,
          18,
          18,
          6,
          6,
          6,
          6,
          6,
          6,
          6,
          14,
          14,
          14,
          14,
          14,
          14,
          6,
          6,
          6,
          6,
          5,
          5,
          5,
          5,
          5,
          5,
          14,
          14,
          14,
          14,
          8,
          8,
          8,
          8,
          8,
          8,
          6,
          6,
          6,
          6,
          6,
          6,
          6,
          13,
          13,
          13,
          13,
          13,
          13,
          13,
          3,
          3,
          3,
          3,
          3,
          3,
          3,
          3,
          14,
          14,
          14,
          14,
          14,
          12,
          12,
          12,
          12,
          12,
          12,
          12,
          12,
          12,
          12,
          14,
          14,
          14,
          11,
          11,
          11,
          11,
          11,
          11,
          11,
          5,
          5,
          5,
          5,
          5,
          5,
          5,
          2,
          2,
          2,
          10,
          10,
          10,
          10,
          10,
          21,
          21,
          12,
          12,
          12,
          12,
          12,
          12,
          12,
          12,
          12,
          12,
          12,
          26,
          26,
          26,
          26,
          26,
          9,
          9,
          9,
          9,
          20,
          20,
          20,
          20,
          20,
          20,
          20,
          20,
          13,
          13,
          13,
          13,
          16,
          16,
          7,
          7,
          7,
          8,
          8,
          8,
          8,
          22,
          22,
          22,
          2,
          2,
          2,
          2,
          2,
          2,
          2,
          2,
          2,
          13,
          13,
          13,
          13,
          13,
          13,
          6,
          6,
          6,
          6,
          6,
          6,
          6,
          22,
          22,
          22,
          22,
          22,
          22,
          16,
          16,
          16,
          16,
          16,
          16,
          16,
          16,
          27,
          27,
          27,
          21,
          12,
          12,
          12,
          12,
          12,
          12,
          17,
          17,
          17,
          17,
          17,
          20,
          20,
          24,
          24,
          24,
          24,
          24,
          9,
          9,
          9,
          9,
          27,
          27,
          27,
          27,
          27,
          27,
          27,
          27,
          14,
          14,
          14,
          14,
          14,
          14,
          8,
          8,
          8,
          8,
          8,
          8,
          8,
          8,
          8,
          8,
          13,
          13,
          13,
          13,
          6,
          6,
          6,
          6,
          6,
          6,
          6,
          27,
          27,
          27,
          27,
          27,
          17,
          17,
          17,
          20,
          20,
          20,
          20,
          20,
          20,
          7,
          7,
          7,
          7,
          21,
          21,
          21,
          21,
          21,
          21,
          21,
          21,
          9,
          9,
          9,
          9,
          9,
          13,
          13,
          13,
          13,
          18,
          18,
          18,
          18,
          27,
          27,
          27,
          21,
          21,
          21,
          21,
          21,
          3,
          3,
          3,
          3,
          3,
          3,
          3,
          25,
          25,
          25,
          25,
          25,
          8,
          8,
          8,
          8,
          8,
          8,
          8,
          8,
          16,
          16,
          16,
          16,
          16,
          16,
          16,
          16,
          16,
          11,
          11,
          11,
          11,
          11,
          21,
          21,
          21,
          21,
          21,
          21,
          21,
          15,
          15,
          15,
          15,
          15,
          15,
          15,
          15,
          15,
          11,
          11,
          11,
          25,
          25,
          25,
          25,
          25,
          25,
          25,
          25,
          25,
          19,
          19,
          27,
          27,
          27,
          27,
          23,
          23,
          23,
          23,
          23,
          23,
          18,
          9,
          9,
          9,
          9,
          9,
          9,
          13,
          13,
          13,
          13,
          18,
          18,
          18,
          18,
          18,
          1,
          1,
          1,
          1,
          1,
          9,
          9,
          9,
          9,
          9,
          19,
          19,
          19,
          19,
          16,
          16,
          16,
          25,
          25,
          25,
          25,
          25,
          25,
          9,
          9,
          9,
          9,
          9,
          16,
          16,
          16,
          16,
          16,
          16,
          18,
          18,
          18,
          9,
          9,
          9,
          9,
          9,
          9,
          9,
          9,
          9,
          3,
          8,
          8,
          8,
          8,
          8,
          2,
          2,
          2,
          2,
          15,
          15,
          15,
          17,
          17,
          17,
          17,
          17,
          17,
          17,
          17,
          11,
          11,
          11,
          25,
          25,
          14,
          14,
          14,
          14,
          14,
          14,
          27,
          27,
          27,
          27,
          27,
          27,
          27,
          27,
          27,
          14,
          14,
          14,
          17,
          17,
          17,
          17,
          17,
          19,
          19,
          19,
          9,
          9,
          9,
          9,
          9,
          9,
          9,
          22,
          22,
          22,
          10,
          10,
          10,
          8,
          8,
          8,
          8,
          8,
          8,
          8,
          18,
          18,
          18,
          18,
          27,
          27,
          27,
          27,
          27,
          7,
          7,
          7,
          6,
          6,
          6,
          6,
          6,
          6,
          1,
          1,
          1,
          1,
          1,
          3,
          3,
          3,
          3,
          3,
          10,
          10,
          10,
          10,
          10,
          10,
          12,
          12,
          12,
          12,
          13,
          13,
          13,
          13,
          13,
          13,
          13,
          11,
          11,
          11,
          11,
          11,
          11,
          11,
          20,
          20,
          20,
          8,
          8,
          8,
          8,
          8,
          8,
          8,
          5,
          5,
          5,
          5,
          5,
          5,
          5,
          5,
          1,
          1,
          1,
          1,
          1,
          21,
          21,
          21,
          21,
          26,
          26,
          26,
          26,
          26,
          26,
          20,
          20,
          20,
          20,
          20,
          20,
          22,
          22,
          22,
          22,
          8,
          8,
          8,
          8,
          8,
          8,
          8,
          13,
          13,
          13,
          18,
          18,
          18,
          18,
          18,
          18,
          25,
          25,
          25,
          25,
          25,
          8,
          8,
          8,
          8,
          8,
          8,
          10,
          10,
          10,
          10,
          10,
          10,
          10,
          14,
          14,
          14,
          14,
          14,
          14,
          23,
          23,
          23,
          23,
          12,
          12,
          15,
          15,
          15,
          15,
          15,
          19,
          19,
          19,
          19,
          19,
          16,
          16,
          16,
          16,
          16,
          16,
          19,
          19,
          13,
          13,
          13,
          13,
          13,
          13,
          13,
          4,
          4,
          4,
          4,
          4,
          4,
          7,
          7,
          3,
          3,
          3,
          3,
          3,
          3,
          3,
          7,
          7,
          7,
          7,
          8,
          8,
          8,
          8,
          8,
          8,
          8,
          5,
          5,
          5,
          5,
          5,
          16,
          16,
          16,
          16,
          16,
          16,
          16,
          16,
          16,
          16,
          23,
          23,
          23,
          23,
          23,
          23,
          23,
          1,
          1,
          7,
          17,
          17,
          17,
          17,
          17,
          10,
          11,
          11,
          11,
          11,
          11,
          11,
          27,
          27,
          27,
          27,
          27,
          27,
          27,
          25,
          25,
          25,
          23,
          23,
          23,
          23,
          23,
          13,
          13,
          13,
          13,
          13,
          21,
          21,
          21,
          21,
          21,
          7,
          7,
          7,
          7,
          7,
          21,
          21,
          21,
          24,
          24,
          24,
          24,
          15,
          15,
          15,
          15,
          15,
          15,
          19,
          19,
          19,
          5,
          20,
          20,
          20,
          20,
          20,
          20,
          20,
          20,
          20,
          20,
          15,
          15,
          15,
          15,
          15,
          15,
          15,
          15,
          15,
          15,
          22,
          22,
          22,
          16,
          16,
          16,
          16,
          16,
          18,
          18,
          18,
          18,
          23,
          23,
          23,
          23,
          23,
          23,
          23,
          23,
          23,
          23,
          23,
          23,
          22,
          22,
          22,
          22,
          22,
          22,
          25,
          25,
          25,
          25,
          25,
          25,
          25,
          13,
          13,
          13,
          13,
          13,
          22,
          22,
          22,
          22,
          22,
          3,
          3,
          3,
          3,
          3,
          9,
          9,
          9,
          9,
          9,
          9,
          9,
          9,
          13,
          13,
          1,
          1,
          1,
          1,
          2,
          2,
          12,
          12,
          12,
          12,
          12,
          12,
          12,
          12,
          12,
          12,
          12,
          12,
          12,
          12,
          9,
          9,
          9,
          9,
          15,
          15,
          15,
          15,
          15,
          10,
          10,
          10,
          18,
          18,
          18,
          3,
          3,
          3,
          3,
          3,
          3,
          1,
          1,
          1,
          24,
          24,
          24,
          24,
          24,
          27,
          27,
          27,
          27,
          9,
          9,
          9,
          9,
          9,
          9,
          17,
          17,
          17,
          17,
          17,
          17,
          3,
          3,
          14,
          14,
          14,
          14,
          14,
          17,
          3,
          25,
          25,
          25,
          25,
          25,
          25,
          5,
          5,
          5,
          5,
          5,
          5,
          5,
          5,
          8,
          8,
          11,
          16,
          16,
          16,
          16,
          16,
          16,
          16,
          16,
          16,
          16,
          16,
          2,
          2,
          2,
          2,
          2,
          2,
          2,
          2,
          15,
          15,
          15,
          10,
          10,
          10,
          10,
          10,
          10,
          15,
          15,
          15,
          13,
          13,
          13,
          13,
          13,
          13,
          5,
          5,
          5,
          5,
          5,
          5,
          8,
          8,
          10,
          10,
          10,
          14,
          14,
          6,
          6,
          6,
          6,
          6,
          6,
          6,
          9,
          9,
          9,
          5,
          5,
          5,
          5,
          5,
          5,
          6,
          6,
          6,
          6,
          17,
          17,
          17,
          16,
          16,
          16,
          16,
          16,
          16,
          16,
          16,
          16,
          8,
          8,
          8,
          8,
          8,
          8,
          8,
          8,
          8,
          8,
          5,
          5,
          5,
          5,
          5,
          5,
          3,
          3,
          3,
          3,
          3,
          3,
          3,
          3,
          3,
          13,
          13,
          13,
          13,
          13,
          13,
          13,
          13,
          14,
          14,
          14,
          14,
          14,
          14,
          26,
          26,
          26,
          16,
          16,
          16,
          16,
          16,
          16,
          16,
          10,
          10,
          10,
          10,
          10,
          20,
          20,
          20,
          20,
          20,
          26,
          26,
          26,
          2,
          2,
          2,
          13,
          13,
          13,
          13,
          13,
          13,
          13,
          13,
          12,
          12,
          12,
          27,
          27,
          27,
          27,
          27,
          27,
          27,
          13,
          13,
          13,
          13,
          13,
          13,
          13,
          17,
          17,
          17,
          17,
          3,
          3,
          3,
          3,
          3,
          3,
          17,
          17,
          17,
          2,
          2,
          2,
          2,
          12,
          12,
          12,
          12,
          4,
          4,
          4,
          4,
          15,
          15,
          15,
          15,
          15,
          15,
          15,
          15,
          2,
          2,
          26,
          26,
          26,
          26,
          26,
          27,
          27,
          25,
          25,
          25,
          25,
          26,
          26,
          26,
          26,
          2,
          2,
          2,
          2,
          17,
          17,
          17,
          24,
          24,
          24,
          24,
          24,
          24,
          24,
          24,
          15,
          15,
          15,
          15,
          9,
          9,
          9,
          16,
          16,
          16,
          26,
          26,
          26,
          26,
          26,
          26,
          26,
          7,
          7,
          7,
          7,
          7,
          27,
          27,
          27,
          1,
          1,
          1,
          1,
          1,
          14,
          14,
          14,
          14,
          14,
          14,
          14,
          14,
          14,
          22,
          22,
          22,
          22,
          22,
          22,
          22,
          25,
          25,
          25,
          25,
          25,
          25,
          8,
          8,
          8,
          3,
          8,
          8,
          8,
          8,
          8,
          2,
          2,
          2,
          2,
          5,
          5,
          5,
          5,
          5,
          5,
          5,
          5,
          21,
          21,
          21,
          21,
          25,
          25,
          27,
          27,
          6,
          6,
          6,
          6,
          12,
          12,
          12,
          7,
          7,
          7,
          7,
          7,
          7,
          7,
          7,
          7,
          7,
          7,
          7,
          18,
          18,
          18,
          18,
          18,
          18,
          20,
          20,
          20,
          20,
          20,
          20,
          14,
          14,
          14,
          14,
          14,
          14,
          14,
          23,
          23,
          6,
          9,
          9,
          9,
          9,
          9,
          9,
          9,
          9,
          9,
          9,
          20,
          11,
          11,
          11,
          11,
          11,
          11,
          18,
          18,
          18,
          2,
          2,
          20,
          20,
          25,
          25,
          12,
          12,
          12,
          12,
          12,
          8,
          8,
          8,
          16,
          16,
          16,
          16,
          22,
          22,
          22,
          21,
          21,
          11,
          11,
          11,
          11,
          11,
          11,
          27,
          27,
          27,
          27,
          27,
          4,
          4,
          4,
          4,
          4,
          23,
          23,
          9,
          9,
          9,
          9,
          9,
          9,
          19,
          19,
          19,
          19,
          15,
          15,
          15,
          15,
          15,
          4,
          4,
          4,
          4,
          4,
          27,
          27,
          27,
          5,
          5,
          5,
          5,
          5,
          5,
          16,
          11,
          11,
          11,
          12,
          12,
          12,
          12,
          12,
          11,
          11,
          11,
          11,
          11,
          11,
          11,
          11,
          11,
          11,
          11,
          11,
          25,
          25,
          25,
          25,
          25,
          13,
          13,
          13,
          13,
          13,
          13,
          13,
          16,
          16,
          16,
          16,
          16,
          16,
          11,
          11,
          11,
          11,
          11,
          15,
          15,
          15,
          15,
          27,
          27,
          27,
          3,
          3,
          3,
          22,
          22,
          22,
          22,
          22,
          22,
          14,
          14,
          14,
          5,
          5,
          2,
          2,
          2,
          2,
          2,
          2,
          2,
          2,
          2,
          2,
          24,
          24,
          24,
          24,
          24,
          26,
          26,
          26,
          26,
          26,
          26,
          26,
          18,
          18,
          18,
          18,
          18,
          18,
          18,
          18,
          18,
          18,
          18,
          26,
          26,
          16,
          16,
          16,
          16,
          16,
          16,
          16,
          16,
          15,
          15,
          7,
          7,
          7,
          7,
          23,
          23,
          23,
          23,
          10,
          10,
          10,
          12,
          12,
          12,
          12,
          10,
          10,
          10,
          10,
          20,
          15,
          15,
          5,
          5,
          5,
          5,
          10,
          10,
          10,
          10,
          10,
          6,
          6,
          6,
          5,
          5,
          20,
          20,
          1,
          1,
          1,
          18,
          9,
          9,
          9,
          9,
          9,
          9,
          18,
          18,
          18,
          27,
          27,
          27,
          23,
          23,
          6,
          6,
          4,
          4,
          4,
          4,
          2,
          2,
          2,
          2,
          2,
          2,
          26,
          26,
          26,
          26,
          11,
          11,
          2,
          2,
          25,
          25,
          25,
          25,
          17,
          5,
          5,
          25,
          24,
          24,
          24,
          18,
          18,
          18,
          18,
          18,
          20,
          15,
          15,
          18,
          18,
          8,
          8,
          8,
          8,
          8,
          25,
          25,
          25,
          25,
          25,
          23,
          23,
          23,
          23,
          23,
          23,
          3,
          3,
          24,
          27,
          27,
          1,
          1,
          19,
          19,
          19,
          19,
          19,
          19,
          5,
          5,
          20,
          20,
          5,
          5,
          5,
          5,
          21,
          21,
          7,
          7,
          7,
          7,
          7,
          1,
          1,
          1,
          2,
          2,
          2,
          2,
          21,
          21,
          21,
          21,
          8,
          8,
          8,
          8,
          8,
          22,
          22,
          3,
          17,
          17,
          17,
          21,
          21,
          21,
          21
         ],
         "xaxis": "x",
         "yaxis": "y"
        }
       ],
       "layout": {
        "barmode": "relative",
        "legend": {
         "tracegroupgap": 0
        },
        "margin": {
         "t": 60
        },
        "template": {
         "data": {
          "bar": [
           {
            "error_x": {
             "color": "#2a3f5f"
            },
            "error_y": {
             "color": "#2a3f5f"
            },
            "marker": {
             "line": {
              "color": "#E5ECF6",
              "width": 0.5
             },
             "pattern": {
              "fillmode": "overlay",
              "size": 10,
              "solidity": 0.2
             }
            },
            "type": "bar"
           }
          ],
          "barpolar": [
           {
            "marker": {
             "line": {
              "color": "#E5ECF6",
              "width": 0.5
             },
             "pattern": {
              "fillmode": "overlay",
              "size": 10,
              "solidity": 0.2
             }
            },
            "type": "barpolar"
           }
          ],
          "carpet": [
           {
            "aaxis": {
             "endlinecolor": "#2a3f5f",
             "gridcolor": "white",
             "linecolor": "white",
             "minorgridcolor": "white",
             "startlinecolor": "#2a3f5f"
            },
            "baxis": {
             "endlinecolor": "#2a3f5f",
             "gridcolor": "white",
             "linecolor": "white",
             "minorgridcolor": "white",
             "startlinecolor": "#2a3f5f"
            },
            "type": "carpet"
           }
          ],
          "choropleth": [
           {
            "colorbar": {
             "outlinewidth": 0,
             "ticks": ""
            },
            "type": "choropleth"
           }
          ],
          "contour": [
           {
            "colorbar": {
             "outlinewidth": 0,
             "ticks": ""
            },
            "colorscale": [
             [
              0,
              "#0d0887"
             ],
             [
              0.1111111111111111,
              "#46039f"
             ],
             [
              0.2222222222222222,
              "#7201a8"
             ],
             [
              0.3333333333333333,
              "#9c179e"
             ],
             [
              0.4444444444444444,
              "#bd3786"
             ],
             [
              0.5555555555555556,
              "#d8576b"
             ],
             [
              0.6666666666666666,
              "#ed7953"
             ],
             [
              0.7777777777777778,
              "#fb9f3a"
             ],
             [
              0.8888888888888888,
              "#fdca26"
             ],
             [
              1,
              "#f0f921"
             ]
            ],
            "type": "contour"
           }
          ],
          "contourcarpet": [
           {
            "colorbar": {
             "outlinewidth": 0,
             "ticks": ""
            },
            "type": "contourcarpet"
           }
          ],
          "heatmap": [
           {
            "colorbar": {
             "outlinewidth": 0,
             "ticks": ""
            },
            "colorscale": [
             [
              0,
              "#0d0887"
             ],
             [
              0.1111111111111111,
              "#46039f"
             ],
             [
              0.2222222222222222,
              "#7201a8"
             ],
             [
              0.3333333333333333,
              "#9c179e"
             ],
             [
              0.4444444444444444,
              "#bd3786"
             ],
             [
              0.5555555555555556,
              "#d8576b"
             ],
             [
              0.6666666666666666,
              "#ed7953"
             ],
             [
              0.7777777777777778,
              "#fb9f3a"
             ],
             [
              0.8888888888888888,
              "#fdca26"
             ],
             [
              1,
              "#f0f921"
             ]
            ],
            "type": "heatmap"
           }
          ],
          "heatmapgl": [
           {
            "colorbar": {
             "outlinewidth": 0,
             "ticks": ""
            },
            "colorscale": [
             [
              0,
              "#0d0887"
             ],
             [
              0.1111111111111111,
              "#46039f"
             ],
             [
              0.2222222222222222,
              "#7201a8"
             ],
             [
              0.3333333333333333,
              "#9c179e"
             ],
             [
              0.4444444444444444,
              "#bd3786"
             ],
             [
              0.5555555555555556,
              "#d8576b"
             ],
             [
              0.6666666666666666,
              "#ed7953"
             ],
             [
              0.7777777777777778,
              "#fb9f3a"
             ],
             [
              0.8888888888888888,
              "#fdca26"
             ],
             [
              1,
              "#f0f921"
             ]
            ],
            "type": "heatmapgl"
           }
          ],
          "histogram": [
           {
            "marker": {
             "pattern": {
              "fillmode": "overlay",
              "size": 10,
              "solidity": 0.2
             }
            },
            "type": "histogram"
           }
          ],
          "histogram2d": [
           {
            "colorbar": {
             "outlinewidth": 0,
             "ticks": ""
            },
            "colorscale": [
             [
              0,
              "#0d0887"
             ],
             [
              0.1111111111111111,
              "#46039f"
             ],
             [
              0.2222222222222222,
              "#7201a8"
             ],
             [
              0.3333333333333333,
              "#9c179e"
             ],
             [
              0.4444444444444444,
              "#bd3786"
             ],
             [
              0.5555555555555556,
              "#d8576b"
             ],
             [
              0.6666666666666666,
              "#ed7953"
             ],
             [
              0.7777777777777778,
              "#fb9f3a"
             ],
             [
              0.8888888888888888,
              "#fdca26"
             ],
             [
              1,
              "#f0f921"
             ]
            ],
            "type": "histogram2d"
           }
          ],
          "histogram2dcontour": [
           {
            "colorbar": {
             "outlinewidth": 0,
             "ticks": ""
            },
            "colorscale": [
             [
              0,
              "#0d0887"
             ],
             [
              0.1111111111111111,
              "#46039f"
             ],
             [
              0.2222222222222222,
              "#7201a8"
             ],
             [
              0.3333333333333333,
              "#9c179e"
             ],
             [
              0.4444444444444444,
              "#bd3786"
             ],
             [
              0.5555555555555556,
              "#d8576b"
             ],
             [
              0.6666666666666666,
              "#ed7953"
             ],
             [
              0.7777777777777778,
              "#fb9f3a"
             ],
             [
              0.8888888888888888,
              "#fdca26"
             ],
             [
              1,
              "#f0f921"
             ]
            ],
            "type": "histogram2dcontour"
           }
          ],
          "mesh3d": [
           {
            "colorbar": {
             "outlinewidth": 0,
             "ticks": ""
            },
            "type": "mesh3d"
           }
          ],
          "parcoords": [
           {
            "line": {
             "colorbar": {
              "outlinewidth": 0,
              "ticks": ""
             }
            },
            "type": "parcoords"
           }
          ],
          "pie": [
           {
            "automargin": true,
            "type": "pie"
           }
          ],
          "scatter": [
           {
            "marker": {
             "colorbar": {
              "outlinewidth": 0,
              "ticks": ""
             }
            },
            "type": "scatter"
           }
          ],
          "scatter3d": [
           {
            "line": {
             "colorbar": {
              "outlinewidth": 0,
              "ticks": ""
             }
            },
            "marker": {
             "colorbar": {
              "outlinewidth": 0,
              "ticks": ""
             }
            },
            "type": "scatter3d"
           }
          ],
          "scattercarpet": [
           {
            "marker": {
             "colorbar": {
              "outlinewidth": 0,
              "ticks": ""
             }
            },
            "type": "scattercarpet"
           }
          ],
          "scattergeo": [
           {
            "marker": {
             "colorbar": {
              "outlinewidth": 0,
              "ticks": ""
             }
            },
            "type": "scattergeo"
           }
          ],
          "scattergl": [
           {
            "marker": {
             "colorbar": {
              "outlinewidth": 0,
              "ticks": ""
             }
            },
            "type": "scattergl"
           }
          ],
          "scattermapbox": [
           {
            "marker": {
             "colorbar": {
              "outlinewidth": 0,
              "ticks": ""
             }
            },
            "type": "scattermapbox"
           }
          ],
          "scatterpolar": [
           {
            "marker": {
             "colorbar": {
              "outlinewidth": 0,
              "ticks": ""
             }
            },
            "type": "scatterpolar"
           }
          ],
          "scatterpolargl": [
           {
            "marker": {
             "colorbar": {
              "outlinewidth": 0,
              "ticks": ""
             }
            },
            "type": "scatterpolargl"
           }
          ],
          "scatterternary": [
           {
            "marker": {
             "colorbar": {
              "outlinewidth": 0,
              "ticks": ""
             }
            },
            "type": "scatterternary"
           }
          ],
          "surface": [
           {
            "colorbar": {
             "outlinewidth": 0,
             "ticks": ""
            },
            "colorscale": [
             [
              0,
              "#0d0887"
             ],
             [
              0.1111111111111111,
              "#46039f"
             ],
             [
              0.2222222222222222,
              "#7201a8"
             ],
             [
              0.3333333333333333,
              "#9c179e"
             ],
             [
              0.4444444444444444,
              "#bd3786"
             ],
             [
              0.5555555555555556,
              "#d8576b"
             ],
             [
              0.6666666666666666,
              "#ed7953"
             ],
             [
              0.7777777777777778,
              "#fb9f3a"
             ],
             [
              0.8888888888888888,
              "#fdca26"
             ],
             [
              1,
              "#f0f921"
             ]
            ],
            "type": "surface"
           }
          ],
          "table": [
           {
            "cells": {
             "fill": {
              "color": "#EBF0F8"
             },
             "line": {
              "color": "white"
             }
            },
            "header": {
             "fill": {
              "color": "#C8D4E3"
             },
             "line": {
              "color": "white"
             }
            },
            "type": "table"
           }
          ]
         },
         "layout": {
          "annotationdefaults": {
           "arrowcolor": "#2a3f5f",
           "arrowhead": 0,
           "arrowwidth": 1
          },
          "autotypenumbers": "strict",
          "coloraxis": {
           "colorbar": {
            "outlinewidth": 0,
            "ticks": ""
           }
          },
          "colorscale": {
           "diverging": [
            [
             0,
             "#8e0152"
            ],
            [
             0.1,
             "#c51b7d"
            ],
            [
             0.2,
             "#de77ae"
            ],
            [
             0.3,
             "#f1b6da"
            ],
            [
             0.4,
             "#fde0ef"
            ],
            [
             0.5,
             "#f7f7f7"
            ],
            [
             0.6,
             "#e6f5d0"
            ],
            [
             0.7,
             "#b8e186"
            ],
            [
             0.8,
             "#7fbc41"
            ],
            [
             0.9,
             "#4d9221"
            ],
            [
             1,
             "#276419"
            ]
           ],
           "sequential": [
            [
             0,
             "#0d0887"
            ],
            [
             0.1111111111111111,
             "#46039f"
            ],
            [
             0.2222222222222222,
             "#7201a8"
            ],
            [
             0.3333333333333333,
             "#9c179e"
            ],
            [
             0.4444444444444444,
             "#bd3786"
            ],
            [
             0.5555555555555556,
             "#d8576b"
            ],
            [
             0.6666666666666666,
             "#ed7953"
            ],
            [
             0.7777777777777778,
             "#fb9f3a"
            ],
            [
             0.8888888888888888,
             "#fdca26"
            ],
            [
             1,
             "#f0f921"
            ]
           ],
           "sequentialminus": [
            [
             0,
             "#0d0887"
            ],
            [
             0.1111111111111111,
             "#46039f"
            ],
            [
             0.2222222222222222,
             "#7201a8"
            ],
            [
             0.3333333333333333,
             "#9c179e"
            ],
            [
             0.4444444444444444,
             "#bd3786"
            ],
            [
             0.5555555555555556,
             "#d8576b"
            ],
            [
             0.6666666666666666,
             "#ed7953"
            ],
            [
             0.7777777777777778,
             "#fb9f3a"
            ],
            [
             0.8888888888888888,
             "#fdca26"
            ],
            [
             1,
             "#f0f921"
            ]
           ]
          },
          "colorway": [
           "#636efa",
           "#EF553B",
           "#00cc96",
           "#ab63fa",
           "#FFA15A",
           "#19d3f3",
           "#FF6692",
           "#B6E880",
           "#FF97FF",
           "#FECB52"
          ],
          "font": {
           "color": "#2a3f5f"
          },
          "geo": {
           "bgcolor": "white",
           "lakecolor": "white",
           "landcolor": "#E5ECF6",
           "showlakes": true,
           "showland": true,
           "subunitcolor": "white"
          },
          "hoverlabel": {
           "align": "left"
          },
          "hovermode": "closest",
          "mapbox": {
           "style": "light"
          },
          "paper_bgcolor": "white",
          "plot_bgcolor": "#E5ECF6",
          "polar": {
           "angularaxis": {
            "gridcolor": "white",
            "linecolor": "white",
            "ticks": ""
           },
           "bgcolor": "#E5ECF6",
           "radialaxis": {
            "gridcolor": "white",
            "linecolor": "white",
            "ticks": ""
           }
          },
          "scene": {
           "xaxis": {
            "backgroundcolor": "#E5ECF6",
            "gridcolor": "white",
            "gridwidth": 2,
            "linecolor": "white",
            "showbackground": true,
            "ticks": "",
            "zerolinecolor": "white"
           },
           "yaxis": {
            "backgroundcolor": "#E5ECF6",
            "gridcolor": "white",
            "gridwidth": 2,
            "linecolor": "white",
            "showbackground": true,
            "ticks": "",
            "zerolinecolor": "white"
           },
           "zaxis": {
            "backgroundcolor": "#E5ECF6",
            "gridcolor": "white",
            "gridwidth": 2,
            "linecolor": "white",
            "showbackground": true,
            "ticks": "",
            "zerolinecolor": "white"
           }
          },
          "shapedefaults": {
           "line": {
            "color": "#2a3f5f"
           }
          },
          "ternary": {
           "aaxis": {
            "gridcolor": "white",
            "linecolor": "white",
            "ticks": ""
           },
           "baxis": {
            "gridcolor": "white",
            "linecolor": "white",
            "ticks": ""
           },
           "bgcolor": "#E5ECF6",
           "caxis": {
            "gridcolor": "white",
            "linecolor": "white",
            "ticks": ""
           }
          },
          "title": {
           "x": 0.05
          },
          "xaxis": {
           "automargin": true,
           "gridcolor": "white",
           "linecolor": "white",
           "ticks": "",
           "title": {
            "standoff": 15
           },
           "zerolinecolor": "white",
           "zerolinewidth": 2
          },
          "yaxis": {
           "automargin": true,
           "gridcolor": "white",
           "linecolor": "white",
           "ticks": "",
           "title": {
            "standoff": 15
           },
           "zerolinecolor": "white",
           "zerolinewidth": 2
          }
         }
        },
        "xaxis": {
         "anchor": "y",
         "domain": [
          0,
          1
         ],
         "title": {
          "text": "differance"
         }
        },
        "yaxis": {
         "anchor": "x",
         "domain": [
          0,
          1
         ],
         "title": {
          "text": "count"
         }
        }
       }
      }
     },
     "metadata": {},
     "output_type": "display_data"
    }
   ],
   "source": [
    "px.histogram(spoc, x='differance')"
   ]
  },
  {
   "cell_type": "code",
   "execution_count": 73,
   "metadata": {
    "id": "e2VCJmhhEbTG"
   },
   "outputs": [],
   "source": [
    "# extract year , month and day name for order data\n",
    "spoc['year_order'] = spoc['order_date'].dt.year\n",
    "spoc['month_order'] = spoc['order_date'].dt.month\n",
    "spoc[\"day_order\"] = spoc[\"order_date\"].dt.day\n",
    "spoc[\"name_day_order\"] = spoc[\"order_date\"].dt.day_name()"
   ]
  },
  {
   "cell_type": "code",
   "execution_count": 74,
   "metadata": {
    "id": "RbDUOMKTGVBF"
   },
   "outputs": [],
   "source": [
    "# extract year , month and day name for delivery data\n",
    "spoc['year_delivery'] = spoc['delivery_date'].dt.year\n",
    "spoc['month_delivery'] = spoc['delivery_date'].dt.month\n",
    "spoc[\"day_delivery\"] = spoc[\"delivery_date\"].dt.day\n",
    "spoc[\"name_day_delivery\"] = spoc[\"delivery_date\"].dt.day_name()"
   ]
  },
  {
   "cell_type": "code",
   "execution_count": 75,
   "metadata": {
    "colab": {
     "base_uri": "https://localhost:8080/",
     "height": 612
    },
    "id": "3y_nbcDJGohF",
    "outputId": "cf02c910-dcb0-4763-ba8f-48ab22b2ffe2"
   },
   "outputs": [
    {
     "data": {
      "text/html": [
       "<div>\n",
       "<style scoped>\n",
       "    .dataframe tbody tr th:only-of-type {\n",
       "        vertical-align: middle;\n",
       "    }\n",
       "\n",
       "    .dataframe tbody tr th {\n",
       "        vertical-align: top;\n",
       "    }\n",
       "\n",
       "    .dataframe thead th {\n",
       "        text-align: right;\n",
       "    }\n",
       "</style>\n",
       "<table border=\"1\" class=\"dataframe\">\n",
       "  <thead>\n",
       "    <tr style=\"text-align: right;\">\n",
       "      <th></th>\n",
       "      <th>sales_id</th>\n",
       "      <th>order_id</th>\n",
       "      <th>product_id</th>\n",
       "      <th>price_per_unit</th>\n",
       "      <th>quantity_sales</th>\n",
       "      <th>total_price</th>\n",
       "      <th>product_ID</th>\n",
       "      <th>product_type</th>\n",
       "      <th>product_name</th>\n",
       "      <th>size</th>\n",
       "      <th>...</th>\n",
       "      <th>country</th>\n",
       "      <th>differance</th>\n",
       "      <th>year_order</th>\n",
       "      <th>month_order</th>\n",
       "      <th>day_order</th>\n",
       "      <th>name_day_order</th>\n",
       "      <th>year_delivery</th>\n",
       "      <th>month_delivery</th>\n",
       "      <th>day_delivery</th>\n",
       "      <th>name_day_delivery</th>\n",
       "    </tr>\n",
       "  </thead>\n",
       "  <tbody>\n",
       "    <tr>\n",
       "      <th>0</th>\n",
       "      <td>0</td>\n",
       "      <td>1</td>\n",
       "      <td>218</td>\n",
       "      <td>106</td>\n",
       "      <td>2</td>\n",
       "      <td>212</td>\n",
       "      <td>218</td>\n",
       "      <td>Shirt</td>\n",
       "      <td>Chambray</td>\n",
       "      <td>L</td>\n",
       "      <td>...</td>\n",
       "      <td>Australia</td>\n",
       "      <td>25</td>\n",
       "      <td>2021</td>\n",
       "      <td>8</td>\n",
       "      <td>30</td>\n",
       "      <td>Monday</td>\n",
       "      <td>2021</td>\n",
       "      <td>9</td>\n",
       "      <td>24</td>\n",
       "      <td>Friday</td>\n",
       "    </tr>\n",
       "    <tr>\n",
       "      <th>1</th>\n",
       "      <td>1</td>\n",
       "      <td>1</td>\n",
       "      <td>481</td>\n",
       "      <td>118</td>\n",
       "      <td>1</td>\n",
       "      <td>118</td>\n",
       "      <td>481</td>\n",
       "      <td>Jacket</td>\n",
       "      <td>Puffer</td>\n",
       "      <td>S</td>\n",
       "      <td>...</td>\n",
       "      <td>Australia</td>\n",
       "      <td>25</td>\n",
       "      <td>2021</td>\n",
       "      <td>8</td>\n",
       "      <td>30</td>\n",
       "      <td>Monday</td>\n",
       "      <td>2021</td>\n",
       "      <td>9</td>\n",
       "      <td>24</td>\n",
       "      <td>Friday</td>\n",
       "    </tr>\n",
       "  </tbody>\n",
       "</table>\n",
       "<p>2 rows × 35 columns</p>\n",
       "</div>"
      ],
      "text/plain": [
       "   sales_id  order_id  product_id  price_per_unit  quantity_sales  \\\n",
       "0         0         1         218             106               2   \n",
       "1         1         1         481             118               1   \n",
       "\n",
       "   total_price  product_ID product_type product_name size  ...    country  \\\n",
       "0          212         218        Shirt     Chambray    L  ...  Australia   \n",
       "1          118         481       Jacket       Puffer    S  ...  Australia   \n",
       "\n",
       "   differance  year_order month_order  day_order  name_day_order  \\\n",
       "0          25        2021           8         30          Monday   \n",
       "1          25        2021           8         30          Monday   \n",
       "\n",
       "  year_delivery month_delivery day_delivery name_day_delivery  \n",
       "0          2021              9           24            Friday  \n",
       "1          2021              9           24            Friday  \n",
       "\n",
       "[2 rows x 35 columns]"
      ]
     },
     "execution_count": 75,
     "metadata": {},
     "output_type": "execute_result"
    }
   ],
   "source": [
    "spoc.head(2)"
   ]
  },
  {
   "cell_type": "code",
   "execution_count": 103,
   "metadata": {},
   "outputs": [
    {
     "data": {
      "text/plain": [
       "69"
      ]
     },
     "execution_count": 103,
     "metadata": {},
     "output_type": "execute_result"
    }
   ],
   "source": [
    "spoc.total_price.nunique()"
   ]
  },
  {
   "cell_type": "code",
   "execution_count": 102,
   "metadata": {},
   "outputs": [
    {
     "data": {
      "text/plain": [
       "988"
      ]
     },
     "execution_count": 102,
     "metadata": {},
     "output_type": "execute_result"
    }
   ],
   "source": [
    "spoc.payment.nunique()"
   ]
  },
  {
   "cell_type": "code",
   "execution_count": 76,
   "metadata": {
    "colab": {
     "base_uri": "https://localhost:8080/",
     "height": 332
    },
    "id": "O-rXM6q1GqCx",
    "outputId": "44aceea2-3ad4-4821-f281-5b5504410a2e"
   },
   "outputs": [
    {
     "data": {
      "text/html": [
       "<div>\n",
       "<style scoped>\n",
       "    .dataframe tbody tr th:only-of-type {\n",
       "        vertical-align: middle;\n",
       "    }\n",
       "\n",
       "    .dataframe tbody tr th {\n",
       "        vertical-align: top;\n",
       "    }\n",
       "\n",
       "    .dataframe thead th {\n",
       "        text-align: right;\n",
       "    }\n",
       "</style>\n",
       "<table border=\"1\" class=\"dataframe\">\n",
       "  <thead>\n",
       "    <tr style=\"text-align: right;\">\n",
       "      <th></th>\n",
       "      <th>total_price</th>\n",
       "    </tr>\n",
       "    <tr>\n",
       "      <th>gender</th>\n",
       "      <th></th>\n",
       "    </tr>\n",
       "  </thead>\n",
       "  <tbody>\n",
       "    <tr>\n",
       "      <th>Female</th>\n",
       "      <td>145404</td>\n",
       "    </tr>\n",
       "    <tr>\n",
       "      <th>Genderfluid</th>\n",
       "      <td>142077</td>\n",
       "    </tr>\n",
       "    <tr>\n",
       "      <th>Male</th>\n",
       "      <td>138988</td>\n",
       "    </tr>\n",
       "    <tr>\n",
       "      <th>Polygender</th>\n",
       "      <td>132548</td>\n",
       "    </tr>\n",
       "    <tr>\n",
       "      <th>Genderqueer</th>\n",
       "      <td>132389</td>\n",
       "    </tr>\n",
       "    <tr>\n",
       "      <th>Non-binary</th>\n",
       "      <td>126201</td>\n",
       "    </tr>\n",
       "    <tr>\n",
       "      <th>Agender</th>\n",
       "      <td>107179</td>\n",
       "    </tr>\n",
       "    <tr>\n",
       "      <th>Bigender</th>\n",
       "      <td>107014</td>\n",
       "    </tr>\n",
       "  </tbody>\n",
       "</table>\n",
       "</div>"
      ],
      "text/plain": [
       "             total_price\n",
       "gender                  \n",
       "Female            145404\n",
       "Genderfluid       142077\n",
       "Male              138988\n",
       "Polygender        132548\n",
       "Genderqueer       132389\n",
       "Non-binary        126201\n",
       "Agender           107179\n",
       "Bigender          107014"
      ]
     },
     "execution_count": 76,
     "metadata": {},
     "output_type": "execute_result"
    }
   ],
   "source": [
    "# wat is the total money that each gendre spent\n",
    "gender_money = spoc.groupby('gender')[['total_price']].sum().sort_values(by='total_price',ascending = False)\n",
    "gender_money"
   ]
  },
  {
   "cell_type": "code",
   "execution_count": 77,
   "metadata": {},
   "outputs": [
    {
     "data": {
      "application/vnd.plotly.v1+json": {
       "config": {
        "plotlyServerURL": "https://plot.ly"
       },
       "data": [
        {
         "alignmentgroup": "True",
         "hovertemplate": "variable=total_price<br>gender=%{x}<br>value=%{y}<extra></extra>",
         "legendgroup": "total_price",
         "marker": {
          "color": "#636efa",
          "pattern": {
           "shape": ""
          }
         },
         "name": "total_price",
         "offsetgroup": "total_price",
         "orientation": "v",
         "showlegend": true,
         "textposition": "auto",
         "type": "bar",
         "x": [
          "Female",
          "Genderfluid",
          "Male",
          "Polygender",
          "Genderqueer",
          "Non-binary",
          "Agender",
          "Bigender"
         ],
         "xaxis": "x",
         "y": [
          145404,
          142077,
          138988,
          132548,
          132389,
          126201,
          107179,
          107014
         ],
         "yaxis": "y"
        }
       ],
       "layout": {
        "barmode": "relative",
        "legend": {
         "title": {
          "text": "variable"
         },
         "tracegroupgap": 0
        },
        "margin": {
         "t": 60
        },
        "template": {
         "data": {
          "bar": [
           {
            "error_x": {
             "color": "#2a3f5f"
            },
            "error_y": {
             "color": "#2a3f5f"
            },
            "marker": {
             "line": {
              "color": "#E5ECF6",
              "width": 0.5
             },
             "pattern": {
              "fillmode": "overlay",
              "size": 10,
              "solidity": 0.2
             }
            },
            "type": "bar"
           }
          ],
          "barpolar": [
           {
            "marker": {
             "line": {
              "color": "#E5ECF6",
              "width": 0.5
             },
             "pattern": {
              "fillmode": "overlay",
              "size": 10,
              "solidity": 0.2
             }
            },
            "type": "barpolar"
           }
          ],
          "carpet": [
           {
            "aaxis": {
             "endlinecolor": "#2a3f5f",
             "gridcolor": "white",
             "linecolor": "white",
             "minorgridcolor": "white",
             "startlinecolor": "#2a3f5f"
            },
            "baxis": {
             "endlinecolor": "#2a3f5f",
             "gridcolor": "white",
             "linecolor": "white",
             "minorgridcolor": "white",
             "startlinecolor": "#2a3f5f"
            },
            "type": "carpet"
           }
          ],
          "choropleth": [
           {
            "colorbar": {
             "outlinewidth": 0,
             "ticks": ""
            },
            "type": "choropleth"
           }
          ],
          "contour": [
           {
            "colorbar": {
             "outlinewidth": 0,
             "ticks": ""
            },
            "colorscale": [
             [
              0,
              "#0d0887"
             ],
             [
              0.1111111111111111,
              "#46039f"
             ],
             [
              0.2222222222222222,
              "#7201a8"
             ],
             [
              0.3333333333333333,
              "#9c179e"
             ],
             [
              0.4444444444444444,
              "#bd3786"
             ],
             [
              0.5555555555555556,
              "#d8576b"
             ],
             [
              0.6666666666666666,
              "#ed7953"
             ],
             [
              0.7777777777777778,
              "#fb9f3a"
             ],
             [
              0.8888888888888888,
              "#fdca26"
             ],
             [
              1,
              "#f0f921"
             ]
            ],
            "type": "contour"
           }
          ],
          "contourcarpet": [
           {
            "colorbar": {
             "outlinewidth": 0,
             "ticks": ""
            },
            "type": "contourcarpet"
           }
          ],
          "heatmap": [
           {
            "colorbar": {
             "outlinewidth": 0,
             "ticks": ""
            },
            "colorscale": [
             [
              0,
              "#0d0887"
             ],
             [
              0.1111111111111111,
              "#46039f"
             ],
             [
              0.2222222222222222,
              "#7201a8"
             ],
             [
              0.3333333333333333,
              "#9c179e"
             ],
             [
              0.4444444444444444,
              "#bd3786"
             ],
             [
              0.5555555555555556,
              "#d8576b"
             ],
             [
              0.6666666666666666,
              "#ed7953"
             ],
             [
              0.7777777777777778,
              "#fb9f3a"
             ],
             [
              0.8888888888888888,
              "#fdca26"
             ],
             [
              1,
              "#f0f921"
             ]
            ],
            "type": "heatmap"
           }
          ],
          "heatmapgl": [
           {
            "colorbar": {
             "outlinewidth": 0,
             "ticks": ""
            },
            "colorscale": [
             [
              0,
              "#0d0887"
             ],
             [
              0.1111111111111111,
              "#46039f"
             ],
             [
              0.2222222222222222,
              "#7201a8"
             ],
             [
              0.3333333333333333,
              "#9c179e"
             ],
             [
              0.4444444444444444,
              "#bd3786"
             ],
             [
              0.5555555555555556,
              "#d8576b"
             ],
             [
              0.6666666666666666,
              "#ed7953"
             ],
             [
              0.7777777777777778,
              "#fb9f3a"
             ],
             [
              0.8888888888888888,
              "#fdca26"
             ],
             [
              1,
              "#f0f921"
             ]
            ],
            "type": "heatmapgl"
           }
          ],
          "histogram": [
           {
            "marker": {
             "pattern": {
              "fillmode": "overlay",
              "size": 10,
              "solidity": 0.2
             }
            },
            "type": "histogram"
           }
          ],
          "histogram2d": [
           {
            "colorbar": {
             "outlinewidth": 0,
             "ticks": ""
            },
            "colorscale": [
             [
              0,
              "#0d0887"
             ],
             [
              0.1111111111111111,
              "#46039f"
             ],
             [
              0.2222222222222222,
              "#7201a8"
             ],
             [
              0.3333333333333333,
              "#9c179e"
             ],
             [
              0.4444444444444444,
              "#bd3786"
             ],
             [
              0.5555555555555556,
              "#d8576b"
             ],
             [
              0.6666666666666666,
              "#ed7953"
             ],
             [
              0.7777777777777778,
              "#fb9f3a"
             ],
             [
              0.8888888888888888,
              "#fdca26"
             ],
             [
              1,
              "#f0f921"
             ]
            ],
            "type": "histogram2d"
           }
          ],
          "histogram2dcontour": [
           {
            "colorbar": {
             "outlinewidth": 0,
             "ticks": ""
            },
            "colorscale": [
             [
              0,
              "#0d0887"
             ],
             [
              0.1111111111111111,
              "#46039f"
             ],
             [
              0.2222222222222222,
              "#7201a8"
             ],
             [
              0.3333333333333333,
              "#9c179e"
             ],
             [
              0.4444444444444444,
              "#bd3786"
             ],
             [
              0.5555555555555556,
              "#d8576b"
             ],
             [
              0.6666666666666666,
              "#ed7953"
             ],
             [
              0.7777777777777778,
              "#fb9f3a"
             ],
             [
              0.8888888888888888,
              "#fdca26"
             ],
             [
              1,
              "#f0f921"
             ]
            ],
            "type": "histogram2dcontour"
           }
          ],
          "mesh3d": [
           {
            "colorbar": {
             "outlinewidth": 0,
             "ticks": ""
            },
            "type": "mesh3d"
           }
          ],
          "parcoords": [
           {
            "line": {
             "colorbar": {
              "outlinewidth": 0,
              "ticks": ""
             }
            },
            "type": "parcoords"
           }
          ],
          "pie": [
           {
            "automargin": true,
            "type": "pie"
           }
          ],
          "scatter": [
           {
            "marker": {
             "colorbar": {
              "outlinewidth": 0,
              "ticks": ""
             }
            },
            "type": "scatter"
           }
          ],
          "scatter3d": [
           {
            "line": {
             "colorbar": {
              "outlinewidth": 0,
              "ticks": ""
             }
            },
            "marker": {
             "colorbar": {
              "outlinewidth": 0,
              "ticks": ""
             }
            },
            "type": "scatter3d"
           }
          ],
          "scattercarpet": [
           {
            "marker": {
             "colorbar": {
              "outlinewidth": 0,
              "ticks": ""
             }
            },
            "type": "scattercarpet"
           }
          ],
          "scattergeo": [
           {
            "marker": {
             "colorbar": {
              "outlinewidth": 0,
              "ticks": ""
             }
            },
            "type": "scattergeo"
           }
          ],
          "scattergl": [
           {
            "marker": {
             "colorbar": {
              "outlinewidth": 0,
              "ticks": ""
             }
            },
            "type": "scattergl"
           }
          ],
          "scattermapbox": [
           {
            "marker": {
             "colorbar": {
              "outlinewidth": 0,
              "ticks": ""
             }
            },
            "type": "scattermapbox"
           }
          ],
          "scatterpolar": [
           {
            "marker": {
             "colorbar": {
              "outlinewidth": 0,
              "ticks": ""
             }
            },
            "type": "scatterpolar"
           }
          ],
          "scatterpolargl": [
           {
            "marker": {
             "colorbar": {
              "outlinewidth": 0,
              "ticks": ""
             }
            },
            "type": "scatterpolargl"
           }
          ],
          "scatterternary": [
           {
            "marker": {
             "colorbar": {
              "outlinewidth": 0,
              "ticks": ""
             }
            },
            "type": "scatterternary"
           }
          ],
          "surface": [
           {
            "colorbar": {
             "outlinewidth": 0,
             "ticks": ""
            },
            "colorscale": [
             [
              0,
              "#0d0887"
             ],
             [
              0.1111111111111111,
              "#46039f"
             ],
             [
              0.2222222222222222,
              "#7201a8"
             ],
             [
              0.3333333333333333,
              "#9c179e"
             ],
             [
              0.4444444444444444,
              "#bd3786"
             ],
             [
              0.5555555555555556,
              "#d8576b"
             ],
             [
              0.6666666666666666,
              "#ed7953"
             ],
             [
              0.7777777777777778,
              "#fb9f3a"
             ],
             [
              0.8888888888888888,
              "#fdca26"
             ],
             [
              1,
              "#f0f921"
             ]
            ],
            "type": "surface"
           }
          ],
          "table": [
           {
            "cells": {
             "fill": {
              "color": "#EBF0F8"
             },
             "line": {
              "color": "white"
             }
            },
            "header": {
             "fill": {
              "color": "#C8D4E3"
             },
             "line": {
              "color": "white"
             }
            },
            "type": "table"
           }
          ]
         },
         "layout": {
          "annotationdefaults": {
           "arrowcolor": "#2a3f5f",
           "arrowhead": 0,
           "arrowwidth": 1
          },
          "autotypenumbers": "strict",
          "coloraxis": {
           "colorbar": {
            "outlinewidth": 0,
            "ticks": ""
           }
          },
          "colorscale": {
           "diverging": [
            [
             0,
             "#8e0152"
            ],
            [
             0.1,
             "#c51b7d"
            ],
            [
             0.2,
             "#de77ae"
            ],
            [
             0.3,
             "#f1b6da"
            ],
            [
             0.4,
             "#fde0ef"
            ],
            [
             0.5,
             "#f7f7f7"
            ],
            [
             0.6,
             "#e6f5d0"
            ],
            [
             0.7,
             "#b8e186"
            ],
            [
             0.8,
             "#7fbc41"
            ],
            [
             0.9,
             "#4d9221"
            ],
            [
             1,
             "#276419"
            ]
           ],
           "sequential": [
            [
             0,
             "#0d0887"
            ],
            [
             0.1111111111111111,
             "#46039f"
            ],
            [
             0.2222222222222222,
             "#7201a8"
            ],
            [
             0.3333333333333333,
             "#9c179e"
            ],
            [
             0.4444444444444444,
             "#bd3786"
            ],
            [
             0.5555555555555556,
             "#d8576b"
            ],
            [
             0.6666666666666666,
             "#ed7953"
            ],
            [
             0.7777777777777778,
             "#fb9f3a"
            ],
            [
             0.8888888888888888,
             "#fdca26"
            ],
            [
             1,
             "#f0f921"
            ]
           ],
           "sequentialminus": [
            [
             0,
             "#0d0887"
            ],
            [
             0.1111111111111111,
             "#46039f"
            ],
            [
             0.2222222222222222,
             "#7201a8"
            ],
            [
             0.3333333333333333,
             "#9c179e"
            ],
            [
             0.4444444444444444,
             "#bd3786"
            ],
            [
             0.5555555555555556,
             "#d8576b"
            ],
            [
             0.6666666666666666,
             "#ed7953"
            ],
            [
             0.7777777777777778,
             "#fb9f3a"
            ],
            [
             0.8888888888888888,
             "#fdca26"
            ],
            [
             1,
             "#f0f921"
            ]
           ]
          },
          "colorway": [
           "#636efa",
           "#EF553B",
           "#00cc96",
           "#ab63fa",
           "#FFA15A",
           "#19d3f3",
           "#FF6692",
           "#B6E880",
           "#FF97FF",
           "#FECB52"
          ],
          "font": {
           "color": "#2a3f5f"
          },
          "geo": {
           "bgcolor": "white",
           "lakecolor": "white",
           "landcolor": "#E5ECF6",
           "showlakes": true,
           "showland": true,
           "subunitcolor": "white"
          },
          "hoverlabel": {
           "align": "left"
          },
          "hovermode": "closest",
          "mapbox": {
           "style": "light"
          },
          "paper_bgcolor": "white",
          "plot_bgcolor": "#E5ECF6",
          "polar": {
           "angularaxis": {
            "gridcolor": "white",
            "linecolor": "white",
            "ticks": ""
           },
           "bgcolor": "#E5ECF6",
           "radialaxis": {
            "gridcolor": "white",
            "linecolor": "white",
            "ticks": ""
           }
          },
          "scene": {
           "xaxis": {
            "backgroundcolor": "#E5ECF6",
            "gridcolor": "white",
            "gridwidth": 2,
            "linecolor": "white",
            "showbackground": true,
            "ticks": "",
            "zerolinecolor": "white"
           },
           "yaxis": {
            "backgroundcolor": "#E5ECF6",
            "gridcolor": "white",
            "gridwidth": 2,
            "linecolor": "white",
            "showbackground": true,
            "ticks": "",
            "zerolinecolor": "white"
           },
           "zaxis": {
            "backgroundcolor": "#E5ECF6",
            "gridcolor": "white",
            "gridwidth": 2,
            "linecolor": "white",
            "showbackground": true,
            "ticks": "",
            "zerolinecolor": "white"
           }
          },
          "shapedefaults": {
           "line": {
            "color": "#2a3f5f"
           }
          },
          "ternary": {
           "aaxis": {
            "gridcolor": "white",
            "linecolor": "white",
            "ticks": ""
           },
           "baxis": {
            "gridcolor": "white",
            "linecolor": "white",
            "ticks": ""
           },
           "bgcolor": "#E5ECF6",
           "caxis": {
            "gridcolor": "white",
            "linecolor": "white",
            "ticks": ""
           }
          },
          "title": {
           "x": 0.05
          },
          "xaxis": {
           "automargin": true,
           "gridcolor": "white",
           "linecolor": "white",
           "ticks": "",
           "title": {
            "standoff": 15
           },
           "zerolinecolor": "white",
           "zerolinewidth": 2
          },
          "yaxis": {
           "automargin": true,
           "gridcolor": "white",
           "linecolor": "white",
           "ticks": "",
           "title": {
            "standoff": 15
           },
           "zerolinecolor": "white",
           "zerolinewidth": 2
          }
         }
        },
        "xaxis": {
         "anchor": "y",
         "domain": [
          0,
          1
         ],
         "title": {
          "text": "gender"
         }
        },
        "yaxis": {
         "anchor": "x",
         "domain": [
          0,
          1
         ],
         "title": {
          "text": "value"
         }
        }
       }
      }
     },
     "metadata": {},
     "output_type": "display_data"
    }
   ],
   "source": [
    "gender_money_fig = px.bar(spoc.groupby('gender')[['total_price']].sum().sort_values(by='total_price',ascending = False))"
   ]
  },
  {
   "cell_type": "code",
   "execution_count": 78,
   "metadata": {
    "colab": {
     "base_uri": "https://localhost:8080/",
     "height": 300
    },
    "id": "GrG2YmM5KJRm",
    "outputId": "78fe82c8-407b-4129-b11b-b522fc22d96e"
   },
   "outputs": [
    {
     "data": {
      "text/html": [
       "<div>\n",
       "<style scoped>\n",
       "    .dataframe tbody tr th:only-of-type {\n",
       "        vertical-align: middle;\n",
       "    }\n",
       "\n",
       "    .dataframe tbody tr th {\n",
       "        vertical-align: top;\n",
       "    }\n",
       "\n",
       "    .dataframe thead th {\n",
       "        text-align: right;\n",
       "    }\n",
       "</style>\n",
       "<table border=\"1\" class=\"dataframe\">\n",
       "  <thead>\n",
       "    <tr style=\"text-align: right;\">\n",
       "      <th></th>\n",
       "      <th>total_price</th>\n",
       "    </tr>\n",
       "    <tr>\n",
       "      <th>name_day_order</th>\n",
       "      <th></th>\n",
       "    </tr>\n",
       "  </thead>\n",
       "  <tbody>\n",
       "    <tr>\n",
       "      <th>Sunday</th>\n",
       "      <td>178532</td>\n",
       "    </tr>\n",
       "    <tr>\n",
       "      <th>Tuesday</th>\n",
       "      <td>153443</td>\n",
       "    </tr>\n",
       "    <tr>\n",
       "      <th>Wednesday</th>\n",
       "      <td>152252</td>\n",
       "    </tr>\n",
       "    <tr>\n",
       "      <th>Saturday</th>\n",
       "      <td>139406</td>\n",
       "    </tr>\n",
       "    <tr>\n",
       "      <th>Thursday</th>\n",
       "      <td>139061</td>\n",
       "    </tr>\n",
       "    <tr>\n",
       "      <th>Monday</th>\n",
       "      <td>135692</td>\n",
       "    </tr>\n",
       "    <tr>\n",
       "      <th>Friday</th>\n",
       "      <td>133414</td>\n",
       "    </tr>\n",
       "  </tbody>\n",
       "</table>\n",
       "</div>"
      ],
      "text/plain": [
       "                total_price\n",
       "name_day_order             \n",
       "Sunday               178532\n",
       "Tuesday              153443\n",
       "Wednesday            152252\n",
       "Saturday             139406\n",
       "Thursday             139061\n",
       "Monday               135692\n",
       "Friday               133414"
      ]
     },
     "execution_count": 78,
     "metadata": {},
     "output_type": "execute_result"
    }
   ],
   "source": [
    "# what is the most day that get highest income\n",
    "spoc.groupby('name_day_order')[['total_price']].sum().sort_values(by='total_price',ascending = False)"
   ]
  },
  {
   "cell_type": "code",
   "execution_count": 79,
   "metadata": {},
   "outputs": [
    {
     "data": {
      "application/vnd.plotly.v1+json": {
       "config": {
        "plotlyServerURL": "https://plot.ly"
       },
       "data": [
        {
         "alignmentgroup": "True",
         "hovertemplate": "variable=total_price<br>name_day_order=%{x}<br>value=%{y}<extra></extra>",
         "legendgroup": "total_price",
         "marker": {
          "color": "#636efa",
          "pattern": {
           "shape": ""
          }
         },
         "name": "total_price",
         "offsetgroup": "total_price",
         "orientation": "v",
         "showlegend": true,
         "textposition": "auto",
         "type": "bar",
         "x": [
          "Sunday",
          "Tuesday",
          "Wednesday",
          "Saturday",
          "Thursday",
          "Monday",
          "Friday"
         ],
         "xaxis": "x",
         "y": [
          178532,
          153443,
          152252,
          139406,
          139061,
          135692,
          133414
         ],
         "yaxis": "y"
        }
       ],
       "layout": {
        "barmode": "relative",
        "legend": {
         "title": {
          "text": "variable"
         },
         "tracegroupgap": 0
        },
        "margin": {
         "t": 60
        },
        "template": {
         "data": {
          "bar": [
           {
            "error_x": {
             "color": "#2a3f5f"
            },
            "error_y": {
             "color": "#2a3f5f"
            },
            "marker": {
             "line": {
              "color": "#E5ECF6",
              "width": 0.5
             },
             "pattern": {
              "fillmode": "overlay",
              "size": 10,
              "solidity": 0.2
             }
            },
            "type": "bar"
           }
          ],
          "barpolar": [
           {
            "marker": {
             "line": {
              "color": "#E5ECF6",
              "width": 0.5
             },
             "pattern": {
              "fillmode": "overlay",
              "size": 10,
              "solidity": 0.2
             }
            },
            "type": "barpolar"
           }
          ],
          "carpet": [
           {
            "aaxis": {
             "endlinecolor": "#2a3f5f",
             "gridcolor": "white",
             "linecolor": "white",
             "minorgridcolor": "white",
             "startlinecolor": "#2a3f5f"
            },
            "baxis": {
             "endlinecolor": "#2a3f5f",
             "gridcolor": "white",
             "linecolor": "white",
             "minorgridcolor": "white",
             "startlinecolor": "#2a3f5f"
            },
            "type": "carpet"
           }
          ],
          "choropleth": [
           {
            "colorbar": {
             "outlinewidth": 0,
             "ticks": ""
            },
            "type": "choropleth"
           }
          ],
          "contour": [
           {
            "colorbar": {
             "outlinewidth": 0,
             "ticks": ""
            },
            "colorscale": [
             [
              0,
              "#0d0887"
             ],
             [
              0.1111111111111111,
              "#46039f"
             ],
             [
              0.2222222222222222,
              "#7201a8"
             ],
             [
              0.3333333333333333,
              "#9c179e"
             ],
             [
              0.4444444444444444,
              "#bd3786"
             ],
             [
              0.5555555555555556,
              "#d8576b"
             ],
             [
              0.6666666666666666,
              "#ed7953"
             ],
             [
              0.7777777777777778,
              "#fb9f3a"
             ],
             [
              0.8888888888888888,
              "#fdca26"
             ],
             [
              1,
              "#f0f921"
             ]
            ],
            "type": "contour"
           }
          ],
          "contourcarpet": [
           {
            "colorbar": {
             "outlinewidth": 0,
             "ticks": ""
            },
            "type": "contourcarpet"
           }
          ],
          "heatmap": [
           {
            "colorbar": {
             "outlinewidth": 0,
             "ticks": ""
            },
            "colorscale": [
             [
              0,
              "#0d0887"
             ],
             [
              0.1111111111111111,
              "#46039f"
             ],
             [
              0.2222222222222222,
              "#7201a8"
             ],
             [
              0.3333333333333333,
              "#9c179e"
             ],
             [
              0.4444444444444444,
              "#bd3786"
             ],
             [
              0.5555555555555556,
              "#d8576b"
             ],
             [
              0.6666666666666666,
              "#ed7953"
             ],
             [
              0.7777777777777778,
              "#fb9f3a"
             ],
             [
              0.8888888888888888,
              "#fdca26"
             ],
             [
              1,
              "#f0f921"
             ]
            ],
            "type": "heatmap"
           }
          ],
          "heatmapgl": [
           {
            "colorbar": {
             "outlinewidth": 0,
             "ticks": ""
            },
            "colorscale": [
             [
              0,
              "#0d0887"
             ],
             [
              0.1111111111111111,
              "#46039f"
             ],
             [
              0.2222222222222222,
              "#7201a8"
             ],
             [
              0.3333333333333333,
              "#9c179e"
             ],
             [
              0.4444444444444444,
              "#bd3786"
             ],
             [
              0.5555555555555556,
              "#d8576b"
             ],
             [
              0.6666666666666666,
              "#ed7953"
             ],
             [
              0.7777777777777778,
              "#fb9f3a"
             ],
             [
              0.8888888888888888,
              "#fdca26"
             ],
             [
              1,
              "#f0f921"
             ]
            ],
            "type": "heatmapgl"
           }
          ],
          "histogram": [
           {
            "marker": {
             "pattern": {
              "fillmode": "overlay",
              "size": 10,
              "solidity": 0.2
             }
            },
            "type": "histogram"
           }
          ],
          "histogram2d": [
           {
            "colorbar": {
             "outlinewidth": 0,
             "ticks": ""
            },
            "colorscale": [
             [
              0,
              "#0d0887"
             ],
             [
              0.1111111111111111,
              "#46039f"
             ],
             [
              0.2222222222222222,
              "#7201a8"
             ],
             [
              0.3333333333333333,
              "#9c179e"
             ],
             [
              0.4444444444444444,
              "#bd3786"
             ],
             [
              0.5555555555555556,
              "#d8576b"
             ],
             [
              0.6666666666666666,
              "#ed7953"
             ],
             [
              0.7777777777777778,
              "#fb9f3a"
             ],
             [
              0.8888888888888888,
              "#fdca26"
             ],
             [
              1,
              "#f0f921"
             ]
            ],
            "type": "histogram2d"
           }
          ],
          "histogram2dcontour": [
           {
            "colorbar": {
             "outlinewidth": 0,
             "ticks": ""
            },
            "colorscale": [
             [
              0,
              "#0d0887"
             ],
             [
              0.1111111111111111,
              "#46039f"
             ],
             [
              0.2222222222222222,
              "#7201a8"
             ],
             [
              0.3333333333333333,
              "#9c179e"
             ],
             [
              0.4444444444444444,
              "#bd3786"
             ],
             [
              0.5555555555555556,
              "#d8576b"
             ],
             [
              0.6666666666666666,
              "#ed7953"
             ],
             [
              0.7777777777777778,
              "#fb9f3a"
             ],
             [
              0.8888888888888888,
              "#fdca26"
             ],
             [
              1,
              "#f0f921"
             ]
            ],
            "type": "histogram2dcontour"
           }
          ],
          "mesh3d": [
           {
            "colorbar": {
             "outlinewidth": 0,
             "ticks": ""
            },
            "type": "mesh3d"
           }
          ],
          "parcoords": [
           {
            "line": {
             "colorbar": {
              "outlinewidth": 0,
              "ticks": ""
             }
            },
            "type": "parcoords"
           }
          ],
          "pie": [
           {
            "automargin": true,
            "type": "pie"
           }
          ],
          "scatter": [
           {
            "marker": {
             "colorbar": {
              "outlinewidth": 0,
              "ticks": ""
             }
            },
            "type": "scatter"
           }
          ],
          "scatter3d": [
           {
            "line": {
             "colorbar": {
              "outlinewidth": 0,
              "ticks": ""
             }
            },
            "marker": {
             "colorbar": {
              "outlinewidth": 0,
              "ticks": ""
             }
            },
            "type": "scatter3d"
           }
          ],
          "scattercarpet": [
           {
            "marker": {
             "colorbar": {
              "outlinewidth": 0,
              "ticks": ""
             }
            },
            "type": "scattercarpet"
           }
          ],
          "scattergeo": [
           {
            "marker": {
             "colorbar": {
              "outlinewidth": 0,
              "ticks": ""
             }
            },
            "type": "scattergeo"
           }
          ],
          "scattergl": [
           {
            "marker": {
             "colorbar": {
              "outlinewidth": 0,
              "ticks": ""
             }
            },
            "type": "scattergl"
           }
          ],
          "scattermapbox": [
           {
            "marker": {
             "colorbar": {
              "outlinewidth": 0,
              "ticks": ""
             }
            },
            "type": "scattermapbox"
           }
          ],
          "scatterpolar": [
           {
            "marker": {
             "colorbar": {
              "outlinewidth": 0,
              "ticks": ""
             }
            },
            "type": "scatterpolar"
           }
          ],
          "scatterpolargl": [
           {
            "marker": {
             "colorbar": {
              "outlinewidth": 0,
              "ticks": ""
             }
            },
            "type": "scatterpolargl"
           }
          ],
          "scatterternary": [
           {
            "marker": {
             "colorbar": {
              "outlinewidth": 0,
              "ticks": ""
             }
            },
            "type": "scatterternary"
           }
          ],
          "surface": [
           {
            "colorbar": {
             "outlinewidth": 0,
             "ticks": ""
            },
            "colorscale": [
             [
              0,
              "#0d0887"
             ],
             [
              0.1111111111111111,
              "#46039f"
             ],
             [
              0.2222222222222222,
              "#7201a8"
             ],
             [
              0.3333333333333333,
              "#9c179e"
             ],
             [
              0.4444444444444444,
              "#bd3786"
             ],
             [
              0.5555555555555556,
              "#d8576b"
             ],
             [
              0.6666666666666666,
              "#ed7953"
             ],
             [
              0.7777777777777778,
              "#fb9f3a"
             ],
             [
              0.8888888888888888,
              "#fdca26"
             ],
             [
              1,
              "#f0f921"
             ]
            ],
            "type": "surface"
           }
          ],
          "table": [
           {
            "cells": {
             "fill": {
              "color": "#EBF0F8"
             },
             "line": {
              "color": "white"
             }
            },
            "header": {
             "fill": {
              "color": "#C8D4E3"
             },
             "line": {
              "color": "white"
             }
            },
            "type": "table"
           }
          ]
         },
         "layout": {
          "annotationdefaults": {
           "arrowcolor": "#2a3f5f",
           "arrowhead": 0,
           "arrowwidth": 1
          },
          "autotypenumbers": "strict",
          "coloraxis": {
           "colorbar": {
            "outlinewidth": 0,
            "ticks": ""
           }
          },
          "colorscale": {
           "diverging": [
            [
             0,
             "#8e0152"
            ],
            [
             0.1,
             "#c51b7d"
            ],
            [
             0.2,
             "#de77ae"
            ],
            [
             0.3,
             "#f1b6da"
            ],
            [
             0.4,
             "#fde0ef"
            ],
            [
             0.5,
             "#f7f7f7"
            ],
            [
             0.6,
             "#e6f5d0"
            ],
            [
             0.7,
             "#b8e186"
            ],
            [
             0.8,
             "#7fbc41"
            ],
            [
             0.9,
             "#4d9221"
            ],
            [
             1,
             "#276419"
            ]
           ],
           "sequential": [
            [
             0,
             "#0d0887"
            ],
            [
             0.1111111111111111,
             "#46039f"
            ],
            [
             0.2222222222222222,
             "#7201a8"
            ],
            [
             0.3333333333333333,
             "#9c179e"
            ],
            [
             0.4444444444444444,
             "#bd3786"
            ],
            [
             0.5555555555555556,
             "#d8576b"
            ],
            [
             0.6666666666666666,
             "#ed7953"
            ],
            [
             0.7777777777777778,
             "#fb9f3a"
            ],
            [
             0.8888888888888888,
             "#fdca26"
            ],
            [
             1,
             "#f0f921"
            ]
           ],
           "sequentialminus": [
            [
             0,
             "#0d0887"
            ],
            [
             0.1111111111111111,
             "#46039f"
            ],
            [
             0.2222222222222222,
             "#7201a8"
            ],
            [
             0.3333333333333333,
             "#9c179e"
            ],
            [
             0.4444444444444444,
             "#bd3786"
            ],
            [
             0.5555555555555556,
             "#d8576b"
            ],
            [
             0.6666666666666666,
             "#ed7953"
            ],
            [
             0.7777777777777778,
             "#fb9f3a"
            ],
            [
             0.8888888888888888,
             "#fdca26"
            ],
            [
             1,
             "#f0f921"
            ]
           ]
          },
          "colorway": [
           "#636efa",
           "#EF553B",
           "#00cc96",
           "#ab63fa",
           "#FFA15A",
           "#19d3f3",
           "#FF6692",
           "#B6E880",
           "#FF97FF",
           "#FECB52"
          ],
          "font": {
           "color": "#2a3f5f"
          },
          "geo": {
           "bgcolor": "white",
           "lakecolor": "white",
           "landcolor": "#E5ECF6",
           "showlakes": true,
           "showland": true,
           "subunitcolor": "white"
          },
          "hoverlabel": {
           "align": "left"
          },
          "hovermode": "closest",
          "mapbox": {
           "style": "light"
          },
          "paper_bgcolor": "white",
          "plot_bgcolor": "#E5ECF6",
          "polar": {
           "angularaxis": {
            "gridcolor": "white",
            "linecolor": "white",
            "ticks": ""
           },
           "bgcolor": "#E5ECF6",
           "radialaxis": {
            "gridcolor": "white",
            "linecolor": "white",
            "ticks": ""
           }
          },
          "scene": {
           "xaxis": {
            "backgroundcolor": "#E5ECF6",
            "gridcolor": "white",
            "gridwidth": 2,
            "linecolor": "white",
            "showbackground": true,
            "ticks": "",
            "zerolinecolor": "white"
           },
           "yaxis": {
            "backgroundcolor": "#E5ECF6",
            "gridcolor": "white",
            "gridwidth": 2,
            "linecolor": "white",
            "showbackground": true,
            "ticks": "",
            "zerolinecolor": "white"
           },
           "zaxis": {
            "backgroundcolor": "#E5ECF6",
            "gridcolor": "white",
            "gridwidth": 2,
            "linecolor": "white",
            "showbackground": true,
            "ticks": "",
            "zerolinecolor": "white"
           }
          },
          "shapedefaults": {
           "line": {
            "color": "#2a3f5f"
           }
          },
          "ternary": {
           "aaxis": {
            "gridcolor": "white",
            "linecolor": "white",
            "ticks": ""
           },
           "baxis": {
            "gridcolor": "white",
            "linecolor": "white",
            "ticks": ""
           },
           "bgcolor": "#E5ECF6",
           "caxis": {
            "gridcolor": "white",
            "linecolor": "white",
            "ticks": ""
           }
          },
          "title": {
           "x": 0.05
          },
          "xaxis": {
           "automargin": true,
           "gridcolor": "white",
           "linecolor": "white",
           "ticks": "",
           "title": {
            "standoff": 15
           },
           "zerolinecolor": "white",
           "zerolinewidth": 2
          },
          "yaxis": {
           "automargin": true,
           "gridcolor": "white",
           "linecolor": "white",
           "ticks": "",
           "title": {
            "standoff": 15
           },
           "zerolinecolor": "white",
           "zerolinewidth": 2
          }
         }
        },
        "xaxis": {
         "anchor": "y",
         "domain": [
          0,
          1
         ],
         "title": {
          "text": "name_day_order"
         }
        },
        "yaxis": {
         "anchor": "x",
         "domain": [
          0,
          1
         ],
         "title": {
          "text": "value"
         }
        }
       }
      }
     },
     "metadata": {},
     "output_type": "display_data"
    }
   ],
   "source": [
    "px.bar(spoc.groupby('name_day_order')[['total_price']].sum().sort_values(by='total_price',ascending = False))"
   ]
  },
  {
   "cell_type": "code",
   "execution_count": 80,
   "metadata": {
    "colab": {
     "base_uri": "https://localhost:8080/",
     "height": 394
    },
    "id": "EB6KOvSnLOyu",
    "outputId": "2243525f-7b69-4cce-bdb2-75660f4bc084"
   },
   "outputs": [
    {
     "data": {
      "text/html": [
       "<div>\n",
       "<style scoped>\n",
       "    .dataframe tbody tr th:only-of-type {\n",
       "        vertical-align: middle;\n",
       "    }\n",
       "\n",
       "    .dataframe tbody tr th {\n",
       "        vertical-align: top;\n",
       "    }\n",
       "\n",
       "    .dataframe thead th {\n",
       "        text-align: right;\n",
       "    }\n",
       "</style>\n",
       "<table border=\"1\" class=\"dataframe\">\n",
       "  <thead>\n",
       "    <tr style=\"text-align: right;\">\n",
       "      <th></th>\n",
       "      <th>total_price</th>\n",
       "    </tr>\n",
       "    <tr>\n",
       "      <th>month_order</th>\n",
       "      <th></th>\n",
       "    </tr>\n",
       "  </thead>\n",
       "  <tbody>\n",
       "    <tr>\n",
       "      <th>3</th>\n",
       "      <td>131364</td>\n",
       "    </tr>\n",
       "    <tr>\n",
       "      <th>1</th>\n",
       "      <td>119333</td>\n",
       "    </tr>\n",
       "    <tr>\n",
       "      <th>7</th>\n",
       "      <td>116081</td>\n",
       "    </tr>\n",
       "    <tr>\n",
       "      <th>8</th>\n",
       "      <td>104565</td>\n",
       "    </tr>\n",
       "    <tr>\n",
       "      <th>6</th>\n",
       "      <td>101458</td>\n",
       "    </tr>\n",
       "    <tr>\n",
       "      <th>4</th>\n",
       "      <td>97530</td>\n",
       "    </tr>\n",
       "    <tr>\n",
       "      <th>9</th>\n",
       "      <td>96526</td>\n",
       "    </tr>\n",
       "    <tr>\n",
       "      <th>2</th>\n",
       "      <td>95080</td>\n",
       "    </tr>\n",
       "    <tr>\n",
       "      <th>5</th>\n",
       "      <td>85597</td>\n",
       "    </tr>\n",
       "    <tr>\n",
       "      <th>10</th>\n",
       "      <td>84266</td>\n",
       "    </tr>\n",
       "  </tbody>\n",
       "</table>\n",
       "</div>"
      ],
      "text/plain": [
       "             total_price\n",
       "month_order             \n",
       "3                 131364\n",
       "1                 119333\n",
       "7                 116081\n",
       "8                 104565\n",
       "6                 101458\n",
       "4                  97530\n",
       "9                  96526\n",
       "2                  95080\n",
       "5                  85597\n",
       "10                 84266"
      ]
     },
     "execution_count": 80,
     "metadata": {},
     "output_type": "execute_result"
    }
   ],
   "source": [
    "# what is the highest month that get the highest sales?\n",
    "spoc.groupby('month_order')[['total_price']].sum().sort_values(by='total_price',ascending = False)"
   ]
  },
  {
   "cell_type": "code",
   "execution_count": 81,
   "metadata": {},
   "outputs": [
    {
     "data": {
      "application/vnd.plotly.v1+json": {
       "config": {
        "plotlyServerURL": "https://plot.ly"
       },
       "data": [
        {
         "alignmentgroup": "True",
         "hovertemplate": "variable=total_price<br>month_order=%{x}<br>value=%{y}<extra></extra>",
         "legendgroup": "total_price",
         "marker": {
          "color": "#636efa",
          "pattern": {
           "shape": ""
          }
         },
         "name": "total_price",
         "offsetgroup": "total_price",
         "orientation": "v",
         "showlegend": true,
         "textposition": "auto",
         "type": "bar",
         "x": [
          3,
          1,
          7,
          8,
          6,
          4,
          9,
          2,
          5,
          10
         ],
         "xaxis": "x",
         "y": [
          131364,
          119333,
          116081,
          104565,
          101458,
          97530,
          96526,
          95080,
          85597,
          84266
         ],
         "yaxis": "y"
        }
       ],
       "layout": {
        "barmode": "relative",
        "legend": {
         "title": {
          "text": "variable"
         },
         "tracegroupgap": 0
        },
        "margin": {
         "t": 60
        },
        "template": {
         "data": {
          "bar": [
           {
            "error_x": {
             "color": "#2a3f5f"
            },
            "error_y": {
             "color": "#2a3f5f"
            },
            "marker": {
             "line": {
              "color": "#E5ECF6",
              "width": 0.5
             },
             "pattern": {
              "fillmode": "overlay",
              "size": 10,
              "solidity": 0.2
             }
            },
            "type": "bar"
           }
          ],
          "barpolar": [
           {
            "marker": {
             "line": {
              "color": "#E5ECF6",
              "width": 0.5
             },
             "pattern": {
              "fillmode": "overlay",
              "size": 10,
              "solidity": 0.2
             }
            },
            "type": "barpolar"
           }
          ],
          "carpet": [
           {
            "aaxis": {
             "endlinecolor": "#2a3f5f",
             "gridcolor": "white",
             "linecolor": "white",
             "minorgridcolor": "white",
             "startlinecolor": "#2a3f5f"
            },
            "baxis": {
             "endlinecolor": "#2a3f5f",
             "gridcolor": "white",
             "linecolor": "white",
             "minorgridcolor": "white",
             "startlinecolor": "#2a3f5f"
            },
            "type": "carpet"
           }
          ],
          "choropleth": [
           {
            "colorbar": {
             "outlinewidth": 0,
             "ticks": ""
            },
            "type": "choropleth"
           }
          ],
          "contour": [
           {
            "colorbar": {
             "outlinewidth": 0,
             "ticks": ""
            },
            "colorscale": [
             [
              0,
              "#0d0887"
             ],
             [
              0.1111111111111111,
              "#46039f"
             ],
             [
              0.2222222222222222,
              "#7201a8"
             ],
             [
              0.3333333333333333,
              "#9c179e"
             ],
             [
              0.4444444444444444,
              "#bd3786"
             ],
             [
              0.5555555555555556,
              "#d8576b"
             ],
             [
              0.6666666666666666,
              "#ed7953"
             ],
             [
              0.7777777777777778,
              "#fb9f3a"
             ],
             [
              0.8888888888888888,
              "#fdca26"
             ],
             [
              1,
              "#f0f921"
             ]
            ],
            "type": "contour"
           }
          ],
          "contourcarpet": [
           {
            "colorbar": {
             "outlinewidth": 0,
             "ticks": ""
            },
            "type": "contourcarpet"
           }
          ],
          "heatmap": [
           {
            "colorbar": {
             "outlinewidth": 0,
             "ticks": ""
            },
            "colorscale": [
             [
              0,
              "#0d0887"
             ],
             [
              0.1111111111111111,
              "#46039f"
             ],
             [
              0.2222222222222222,
              "#7201a8"
             ],
             [
              0.3333333333333333,
              "#9c179e"
             ],
             [
              0.4444444444444444,
              "#bd3786"
             ],
             [
              0.5555555555555556,
              "#d8576b"
             ],
             [
              0.6666666666666666,
              "#ed7953"
             ],
             [
              0.7777777777777778,
              "#fb9f3a"
             ],
             [
              0.8888888888888888,
              "#fdca26"
             ],
             [
              1,
              "#f0f921"
             ]
            ],
            "type": "heatmap"
           }
          ],
          "heatmapgl": [
           {
            "colorbar": {
             "outlinewidth": 0,
             "ticks": ""
            },
            "colorscale": [
             [
              0,
              "#0d0887"
             ],
             [
              0.1111111111111111,
              "#46039f"
             ],
             [
              0.2222222222222222,
              "#7201a8"
             ],
             [
              0.3333333333333333,
              "#9c179e"
             ],
             [
              0.4444444444444444,
              "#bd3786"
             ],
             [
              0.5555555555555556,
              "#d8576b"
             ],
             [
              0.6666666666666666,
              "#ed7953"
             ],
             [
              0.7777777777777778,
              "#fb9f3a"
             ],
             [
              0.8888888888888888,
              "#fdca26"
             ],
             [
              1,
              "#f0f921"
             ]
            ],
            "type": "heatmapgl"
           }
          ],
          "histogram": [
           {
            "marker": {
             "pattern": {
              "fillmode": "overlay",
              "size": 10,
              "solidity": 0.2
             }
            },
            "type": "histogram"
           }
          ],
          "histogram2d": [
           {
            "colorbar": {
             "outlinewidth": 0,
             "ticks": ""
            },
            "colorscale": [
             [
              0,
              "#0d0887"
             ],
             [
              0.1111111111111111,
              "#46039f"
             ],
             [
              0.2222222222222222,
              "#7201a8"
             ],
             [
              0.3333333333333333,
              "#9c179e"
             ],
             [
              0.4444444444444444,
              "#bd3786"
             ],
             [
              0.5555555555555556,
              "#d8576b"
             ],
             [
              0.6666666666666666,
              "#ed7953"
             ],
             [
              0.7777777777777778,
              "#fb9f3a"
             ],
             [
              0.8888888888888888,
              "#fdca26"
             ],
             [
              1,
              "#f0f921"
             ]
            ],
            "type": "histogram2d"
           }
          ],
          "histogram2dcontour": [
           {
            "colorbar": {
             "outlinewidth": 0,
             "ticks": ""
            },
            "colorscale": [
             [
              0,
              "#0d0887"
             ],
             [
              0.1111111111111111,
              "#46039f"
             ],
             [
              0.2222222222222222,
              "#7201a8"
             ],
             [
              0.3333333333333333,
              "#9c179e"
             ],
             [
              0.4444444444444444,
              "#bd3786"
             ],
             [
              0.5555555555555556,
              "#d8576b"
             ],
             [
              0.6666666666666666,
              "#ed7953"
             ],
             [
              0.7777777777777778,
              "#fb9f3a"
             ],
             [
              0.8888888888888888,
              "#fdca26"
             ],
             [
              1,
              "#f0f921"
             ]
            ],
            "type": "histogram2dcontour"
           }
          ],
          "mesh3d": [
           {
            "colorbar": {
             "outlinewidth": 0,
             "ticks": ""
            },
            "type": "mesh3d"
           }
          ],
          "parcoords": [
           {
            "line": {
             "colorbar": {
              "outlinewidth": 0,
              "ticks": ""
             }
            },
            "type": "parcoords"
           }
          ],
          "pie": [
           {
            "automargin": true,
            "type": "pie"
           }
          ],
          "scatter": [
           {
            "marker": {
             "colorbar": {
              "outlinewidth": 0,
              "ticks": ""
             }
            },
            "type": "scatter"
           }
          ],
          "scatter3d": [
           {
            "line": {
             "colorbar": {
              "outlinewidth": 0,
              "ticks": ""
             }
            },
            "marker": {
             "colorbar": {
              "outlinewidth": 0,
              "ticks": ""
             }
            },
            "type": "scatter3d"
           }
          ],
          "scattercarpet": [
           {
            "marker": {
             "colorbar": {
              "outlinewidth": 0,
              "ticks": ""
             }
            },
            "type": "scattercarpet"
           }
          ],
          "scattergeo": [
           {
            "marker": {
             "colorbar": {
              "outlinewidth": 0,
              "ticks": ""
             }
            },
            "type": "scattergeo"
           }
          ],
          "scattergl": [
           {
            "marker": {
             "colorbar": {
              "outlinewidth": 0,
              "ticks": ""
             }
            },
            "type": "scattergl"
           }
          ],
          "scattermapbox": [
           {
            "marker": {
             "colorbar": {
              "outlinewidth": 0,
              "ticks": ""
             }
            },
            "type": "scattermapbox"
           }
          ],
          "scatterpolar": [
           {
            "marker": {
             "colorbar": {
              "outlinewidth": 0,
              "ticks": ""
             }
            },
            "type": "scatterpolar"
           }
          ],
          "scatterpolargl": [
           {
            "marker": {
             "colorbar": {
              "outlinewidth": 0,
              "ticks": ""
             }
            },
            "type": "scatterpolargl"
           }
          ],
          "scatterternary": [
           {
            "marker": {
             "colorbar": {
              "outlinewidth": 0,
              "ticks": ""
             }
            },
            "type": "scatterternary"
           }
          ],
          "surface": [
           {
            "colorbar": {
             "outlinewidth": 0,
             "ticks": ""
            },
            "colorscale": [
             [
              0,
              "#0d0887"
             ],
             [
              0.1111111111111111,
              "#46039f"
             ],
             [
              0.2222222222222222,
              "#7201a8"
             ],
             [
              0.3333333333333333,
              "#9c179e"
             ],
             [
              0.4444444444444444,
              "#bd3786"
             ],
             [
              0.5555555555555556,
              "#d8576b"
             ],
             [
              0.6666666666666666,
              "#ed7953"
             ],
             [
              0.7777777777777778,
              "#fb9f3a"
             ],
             [
              0.8888888888888888,
              "#fdca26"
             ],
             [
              1,
              "#f0f921"
             ]
            ],
            "type": "surface"
           }
          ],
          "table": [
           {
            "cells": {
             "fill": {
              "color": "#EBF0F8"
             },
             "line": {
              "color": "white"
             }
            },
            "header": {
             "fill": {
              "color": "#C8D4E3"
             },
             "line": {
              "color": "white"
             }
            },
            "type": "table"
           }
          ]
         },
         "layout": {
          "annotationdefaults": {
           "arrowcolor": "#2a3f5f",
           "arrowhead": 0,
           "arrowwidth": 1
          },
          "autotypenumbers": "strict",
          "coloraxis": {
           "colorbar": {
            "outlinewidth": 0,
            "ticks": ""
           }
          },
          "colorscale": {
           "diverging": [
            [
             0,
             "#8e0152"
            ],
            [
             0.1,
             "#c51b7d"
            ],
            [
             0.2,
             "#de77ae"
            ],
            [
             0.3,
             "#f1b6da"
            ],
            [
             0.4,
             "#fde0ef"
            ],
            [
             0.5,
             "#f7f7f7"
            ],
            [
             0.6,
             "#e6f5d0"
            ],
            [
             0.7,
             "#b8e186"
            ],
            [
             0.8,
             "#7fbc41"
            ],
            [
             0.9,
             "#4d9221"
            ],
            [
             1,
             "#276419"
            ]
           ],
           "sequential": [
            [
             0,
             "#0d0887"
            ],
            [
             0.1111111111111111,
             "#46039f"
            ],
            [
             0.2222222222222222,
             "#7201a8"
            ],
            [
             0.3333333333333333,
             "#9c179e"
            ],
            [
             0.4444444444444444,
             "#bd3786"
            ],
            [
             0.5555555555555556,
             "#d8576b"
            ],
            [
             0.6666666666666666,
             "#ed7953"
            ],
            [
             0.7777777777777778,
             "#fb9f3a"
            ],
            [
             0.8888888888888888,
             "#fdca26"
            ],
            [
             1,
             "#f0f921"
            ]
           ],
           "sequentialminus": [
            [
             0,
             "#0d0887"
            ],
            [
             0.1111111111111111,
             "#46039f"
            ],
            [
             0.2222222222222222,
             "#7201a8"
            ],
            [
             0.3333333333333333,
             "#9c179e"
            ],
            [
             0.4444444444444444,
             "#bd3786"
            ],
            [
             0.5555555555555556,
             "#d8576b"
            ],
            [
             0.6666666666666666,
             "#ed7953"
            ],
            [
             0.7777777777777778,
             "#fb9f3a"
            ],
            [
             0.8888888888888888,
             "#fdca26"
            ],
            [
             1,
             "#f0f921"
            ]
           ]
          },
          "colorway": [
           "#636efa",
           "#EF553B",
           "#00cc96",
           "#ab63fa",
           "#FFA15A",
           "#19d3f3",
           "#FF6692",
           "#B6E880",
           "#FF97FF",
           "#FECB52"
          ],
          "font": {
           "color": "#2a3f5f"
          },
          "geo": {
           "bgcolor": "white",
           "lakecolor": "white",
           "landcolor": "#E5ECF6",
           "showlakes": true,
           "showland": true,
           "subunitcolor": "white"
          },
          "hoverlabel": {
           "align": "left"
          },
          "hovermode": "closest",
          "mapbox": {
           "style": "light"
          },
          "paper_bgcolor": "white",
          "plot_bgcolor": "#E5ECF6",
          "polar": {
           "angularaxis": {
            "gridcolor": "white",
            "linecolor": "white",
            "ticks": ""
           },
           "bgcolor": "#E5ECF6",
           "radialaxis": {
            "gridcolor": "white",
            "linecolor": "white",
            "ticks": ""
           }
          },
          "scene": {
           "xaxis": {
            "backgroundcolor": "#E5ECF6",
            "gridcolor": "white",
            "gridwidth": 2,
            "linecolor": "white",
            "showbackground": true,
            "ticks": "",
            "zerolinecolor": "white"
           },
           "yaxis": {
            "backgroundcolor": "#E5ECF6",
            "gridcolor": "white",
            "gridwidth": 2,
            "linecolor": "white",
            "showbackground": true,
            "ticks": "",
            "zerolinecolor": "white"
           },
           "zaxis": {
            "backgroundcolor": "#E5ECF6",
            "gridcolor": "white",
            "gridwidth": 2,
            "linecolor": "white",
            "showbackground": true,
            "ticks": "",
            "zerolinecolor": "white"
           }
          },
          "shapedefaults": {
           "line": {
            "color": "#2a3f5f"
           }
          },
          "ternary": {
           "aaxis": {
            "gridcolor": "white",
            "linecolor": "white",
            "ticks": ""
           },
           "baxis": {
            "gridcolor": "white",
            "linecolor": "white",
            "ticks": ""
           },
           "bgcolor": "#E5ECF6",
           "caxis": {
            "gridcolor": "white",
            "linecolor": "white",
            "ticks": ""
           }
          },
          "title": {
           "x": 0.05
          },
          "xaxis": {
           "automargin": true,
           "gridcolor": "white",
           "linecolor": "white",
           "ticks": "",
           "title": {
            "standoff": 15
           },
           "zerolinecolor": "white",
           "zerolinewidth": 2
          },
          "yaxis": {
           "automargin": true,
           "gridcolor": "white",
           "linecolor": "white",
           "ticks": "",
           "title": {
            "standoff": 15
           },
           "zerolinecolor": "white",
           "zerolinewidth": 2
          }
         }
        },
        "xaxis": {
         "anchor": "y",
         "domain": [
          0,
          1
         ],
         "title": {
          "text": "month_order"
         }
        },
        "yaxis": {
         "anchor": "x",
         "domain": [
          0,
          1
         ],
         "title": {
          "text": "value"
         }
        }
       }
      }
     },
     "metadata": {},
     "output_type": "display_data"
    }
   ],
   "source": [
    "px.bar(spoc.groupby('month_order')[['total_price']].sum().sort_values(by='total_price',ascending = False))"
   ]
  },
  {
   "cell_type": "code",
   "execution_count": 82,
   "metadata": {
    "colab": {
     "base_uri": "https://localhost:8080/",
     "height": 332
    },
    "id": "XHhv0Vo6Ntlc",
    "outputId": "e48226e7-d385-48df-aaf3-5aeed742e2f6"
   },
   "outputs": [
    {
     "data": {
      "text/html": [
       "<div>\n",
       "<style scoped>\n",
       "    .dataframe tbody tr th:only-of-type {\n",
       "        vertical-align: middle;\n",
       "    }\n",
       "\n",
       "    .dataframe tbody tr th {\n",
       "        vertical-align: top;\n",
       "    }\n",
       "\n",
       "    .dataframe thead th {\n",
       "        text-align: right;\n",
       "    }\n",
       "</style>\n",
       "<table border=\"1\" class=\"dataframe\">\n",
       "  <thead>\n",
       "    <tr style=\"text-align: right;\">\n",
       "      <th></th>\n",
       "      <th>total_price</th>\n",
       "    </tr>\n",
       "    <tr>\n",
       "      <th>state</th>\n",
       "      <th></th>\n",
       "    </tr>\n",
       "  </thead>\n",
       "  <tbody>\n",
       "    <tr>\n",
       "      <th>South Australia</th>\n",
       "      <td>147816</td>\n",
       "    </tr>\n",
       "    <tr>\n",
       "      <th>Queensland</th>\n",
       "      <td>142062</td>\n",
       "    </tr>\n",
       "    <tr>\n",
       "      <th>New South Wales</th>\n",
       "      <td>131744</td>\n",
       "    </tr>\n",
       "    <tr>\n",
       "      <th>Australian Capital Territory</th>\n",
       "      <td>130442</td>\n",
       "    </tr>\n",
       "    <tr>\n",
       "      <th>Western Australia</th>\n",
       "      <td>125430</td>\n",
       "    </tr>\n",
       "    <tr>\n",
       "      <th>Tasmania</th>\n",
       "      <td>122095</td>\n",
       "    </tr>\n",
       "    <tr>\n",
       "      <th>Victoria</th>\n",
       "      <td>120357</td>\n",
       "    </tr>\n",
       "    <tr>\n",
       "      <th>Northern Territory</th>\n",
       "      <td>111854</td>\n",
       "    </tr>\n",
       "  </tbody>\n",
       "</table>\n",
       "</div>"
      ],
      "text/plain": [
       "                              total_price\n",
       "state                                    \n",
       "South Australia                    147816\n",
       "Queensland                         142062\n",
       "New South Wales                    131744\n",
       "Australian Capital Territory       130442\n",
       "Western Australia                  125430\n",
       "Tasmania                           122095\n",
       "Victoria                           120357\n",
       "Northern Territory                 111854"
      ]
     },
     "execution_count": 82,
     "metadata": {},
     "output_type": "execute_result"
    }
   ],
   "source": [
    "# what is the highest state achieve the highest salees\n",
    "spoc.groupby(['state'])[['total_price']].sum().sort_values(by='total_price',ascending = False)"
   ]
  },
  {
   "cell_type": "code",
   "execution_count": 83,
   "metadata": {},
   "outputs": [
    {
     "data": {
      "application/vnd.plotly.v1+json": {
       "config": {
        "plotlyServerURL": "https://plot.ly"
       },
       "data": [
        {
         "alignmentgroup": "True",
         "hovertemplate": "variable=total_price<br>state=%{x}<br>value=%{y}<extra></extra>",
         "legendgroup": "total_price",
         "marker": {
          "color": "#636efa",
          "pattern": {
           "shape": ""
          }
         },
         "name": "total_price",
         "offsetgroup": "total_price",
         "orientation": "v",
         "showlegend": true,
         "textposition": "auto",
         "type": "bar",
         "x": [
          "South Australia",
          "Queensland",
          "New South Wales",
          "Australian Capital Territory",
          "Western Australia",
          "Tasmania",
          "Victoria",
          "Northern Territory"
         ],
         "xaxis": "x",
         "y": [
          147816,
          142062,
          131744,
          130442,
          125430,
          122095,
          120357,
          111854
         ],
         "yaxis": "y"
        }
       ],
       "layout": {
        "barmode": "relative",
        "legend": {
         "title": {
          "text": "variable"
         },
         "tracegroupgap": 0
        },
        "margin": {
         "t": 60
        },
        "template": {
         "data": {
          "bar": [
           {
            "error_x": {
             "color": "#2a3f5f"
            },
            "error_y": {
             "color": "#2a3f5f"
            },
            "marker": {
             "line": {
              "color": "#E5ECF6",
              "width": 0.5
             },
             "pattern": {
              "fillmode": "overlay",
              "size": 10,
              "solidity": 0.2
             }
            },
            "type": "bar"
           }
          ],
          "barpolar": [
           {
            "marker": {
             "line": {
              "color": "#E5ECF6",
              "width": 0.5
             },
             "pattern": {
              "fillmode": "overlay",
              "size": 10,
              "solidity": 0.2
             }
            },
            "type": "barpolar"
           }
          ],
          "carpet": [
           {
            "aaxis": {
             "endlinecolor": "#2a3f5f",
             "gridcolor": "white",
             "linecolor": "white",
             "minorgridcolor": "white",
             "startlinecolor": "#2a3f5f"
            },
            "baxis": {
             "endlinecolor": "#2a3f5f",
             "gridcolor": "white",
             "linecolor": "white",
             "minorgridcolor": "white",
             "startlinecolor": "#2a3f5f"
            },
            "type": "carpet"
           }
          ],
          "choropleth": [
           {
            "colorbar": {
             "outlinewidth": 0,
             "ticks": ""
            },
            "type": "choropleth"
           }
          ],
          "contour": [
           {
            "colorbar": {
             "outlinewidth": 0,
             "ticks": ""
            },
            "colorscale": [
             [
              0,
              "#0d0887"
             ],
             [
              0.1111111111111111,
              "#46039f"
             ],
             [
              0.2222222222222222,
              "#7201a8"
             ],
             [
              0.3333333333333333,
              "#9c179e"
             ],
             [
              0.4444444444444444,
              "#bd3786"
             ],
             [
              0.5555555555555556,
              "#d8576b"
             ],
             [
              0.6666666666666666,
              "#ed7953"
             ],
             [
              0.7777777777777778,
              "#fb9f3a"
             ],
             [
              0.8888888888888888,
              "#fdca26"
             ],
             [
              1,
              "#f0f921"
             ]
            ],
            "type": "contour"
           }
          ],
          "contourcarpet": [
           {
            "colorbar": {
             "outlinewidth": 0,
             "ticks": ""
            },
            "type": "contourcarpet"
           }
          ],
          "heatmap": [
           {
            "colorbar": {
             "outlinewidth": 0,
             "ticks": ""
            },
            "colorscale": [
             [
              0,
              "#0d0887"
             ],
             [
              0.1111111111111111,
              "#46039f"
             ],
             [
              0.2222222222222222,
              "#7201a8"
             ],
             [
              0.3333333333333333,
              "#9c179e"
             ],
             [
              0.4444444444444444,
              "#bd3786"
             ],
             [
              0.5555555555555556,
              "#d8576b"
             ],
             [
              0.6666666666666666,
              "#ed7953"
             ],
             [
              0.7777777777777778,
              "#fb9f3a"
             ],
             [
              0.8888888888888888,
              "#fdca26"
             ],
             [
              1,
              "#f0f921"
             ]
            ],
            "type": "heatmap"
           }
          ],
          "heatmapgl": [
           {
            "colorbar": {
             "outlinewidth": 0,
             "ticks": ""
            },
            "colorscale": [
             [
              0,
              "#0d0887"
             ],
             [
              0.1111111111111111,
              "#46039f"
             ],
             [
              0.2222222222222222,
              "#7201a8"
             ],
             [
              0.3333333333333333,
              "#9c179e"
             ],
             [
              0.4444444444444444,
              "#bd3786"
             ],
             [
              0.5555555555555556,
              "#d8576b"
             ],
             [
              0.6666666666666666,
              "#ed7953"
             ],
             [
              0.7777777777777778,
              "#fb9f3a"
             ],
             [
              0.8888888888888888,
              "#fdca26"
             ],
             [
              1,
              "#f0f921"
             ]
            ],
            "type": "heatmapgl"
           }
          ],
          "histogram": [
           {
            "marker": {
             "pattern": {
              "fillmode": "overlay",
              "size": 10,
              "solidity": 0.2
             }
            },
            "type": "histogram"
           }
          ],
          "histogram2d": [
           {
            "colorbar": {
             "outlinewidth": 0,
             "ticks": ""
            },
            "colorscale": [
             [
              0,
              "#0d0887"
             ],
             [
              0.1111111111111111,
              "#46039f"
             ],
             [
              0.2222222222222222,
              "#7201a8"
             ],
             [
              0.3333333333333333,
              "#9c179e"
             ],
             [
              0.4444444444444444,
              "#bd3786"
             ],
             [
              0.5555555555555556,
              "#d8576b"
             ],
             [
              0.6666666666666666,
              "#ed7953"
             ],
             [
              0.7777777777777778,
              "#fb9f3a"
             ],
             [
              0.8888888888888888,
              "#fdca26"
             ],
             [
              1,
              "#f0f921"
             ]
            ],
            "type": "histogram2d"
           }
          ],
          "histogram2dcontour": [
           {
            "colorbar": {
             "outlinewidth": 0,
             "ticks": ""
            },
            "colorscale": [
             [
              0,
              "#0d0887"
             ],
             [
              0.1111111111111111,
              "#46039f"
             ],
             [
              0.2222222222222222,
              "#7201a8"
             ],
             [
              0.3333333333333333,
              "#9c179e"
             ],
             [
              0.4444444444444444,
              "#bd3786"
             ],
             [
              0.5555555555555556,
              "#d8576b"
             ],
             [
              0.6666666666666666,
              "#ed7953"
             ],
             [
              0.7777777777777778,
              "#fb9f3a"
             ],
             [
              0.8888888888888888,
              "#fdca26"
             ],
             [
              1,
              "#f0f921"
             ]
            ],
            "type": "histogram2dcontour"
           }
          ],
          "mesh3d": [
           {
            "colorbar": {
             "outlinewidth": 0,
             "ticks": ""
            },
            "type": "mesh3d"
           }
          ],
          "parcoords": [
           {
            "line": {
             "colorbar": {
              "outlinewidth": 0,
              "ticks": ""
             }
            },
            "type": "parcoords"
           }
          ],
          "pie": [
           {
            "automargin": true,
            "type": "pie"
           }
          ],
          "scatter": [
           {
            "marker": {
             "colorbar": {
              "outlinewidth": 0,
              "ticks": ""
             }
            },
            "type": "scatter"
           }
          ],
          "scatter3d": [
           {
            "line": {
             "colorbar": {
              "outlinewidth": 0,
              "ticks": ""
             }
            },
            "marker": {
             "colorbar": {
              "outlinewidth": 0,
              "ticks": ""
             }
            },
            "type": "scatter3d"
           }
          ],
          "scattercarpet": [
           {
            "marker": {
             "colorbar": {
              "outlinewidth": 0,
              "ticks": ""
             }
            },
            "type": "scattercarpet"
           }
          ],
          "scattergeo": [
           {
            "marker": {
             "colorbar": {
              "outlinewidth": 0,
              "ticks": ""
             }
            },
            "type": "scattergeo"
           }
          ],
          "scattergl": [
           {
            "marker": {
             "colorbar": {
              "outlinewidth": 0,
              "ticks": ""
             }
            },
            "type": "scattergl"
           }
          ],
          "scattermapbox": [
           {
            "marker": {
             "colorbar": {
              "outlinewidth": 0,
              "ticks": ""
             }
            },
            "type": "scattermapbox"
           }
          ],
          "scatterpolar": [
           {
            "marker": {
             "colorbar": {
              "outlinewidth": 0,
              "ticks": ""
             }
            },
            "type": "scatterpolar"
           }
          ],
          "scatterpolargl": [
           {
            "marker": {
             "colorbar": {
              "outlinewidth": 0,
              "ticks": ""
             }
            },
            "type": "scatterpolargl"
           }
          ],
          "scatterternary": [
           {
            "marker": {
             "colorbar": {
              "outlinewidth": 0,
              "ticks": ""
             }
            },
            "type": "scatterternary"
           }
          ],
          "surface": [
           {
            "colorbar": {
             "outlinewidth": 0,
             "ticks": ""
            },
            "colorscale": [
             [
              0,
              "#0d0887"
             ],
             [
              0.1111111111111111,
              "#46039f"
             ],
             [
              0.2222222222222222,
              "#7201a8"
             ],
             [
              0.3333333333333333,
              "#9c179e"
             ],
             [
              0.4444444444444444,
              "#bd3786"
             ],
             [
              0.5555555555555556,
              "#d8576b"
             ],
             [
              0.6666666666666666,
              "#ed7953"
             ],
             [
              0.7777777777777778,
              "#fb9f3a"
             ],
             [
              0.8888888888888888,
              "#fdca26"
             ],
             [
              1,
              "#f0f921"
             ]
            ],
            "type": "surface"
           }
          ],
          "table": [
           {
            "cells": {
             "fill": {
              "color": "#EBF0F8"
             },
             "line": {
              "color": "white"
             }
            },
            "header": {
             "fill": {
              "color": "#C8D4E3"
             },
             "line": {
              "color": "white"
             }
            },
            "type": "table"
           }
          ]
         },
         "layout": {
          "annotationdefaults": {
           "arrowcolor": "#2a3f5f",
           "arrowhead": 0,
           "arrowwidth": 1
          },
          "autotypenumbers": "strict",
          "coloraxis": {
           "colorbar": {
            "outlinewidth": 0,
            "ticks": ""
           }
          },
          "colorscale": {
           "diverging": [
            [
             0,
             "#8e0152"
            ],
            [
             0.1,
             "#c51b7d"
            ],
            [
             0.2,
             "#de77ae"
            ],
            [
             0.3,
             "#f1b6da"
            ],
            [
             0.4,
             "#fde0ef"
            ],
            [
             0.5,
             "#f7f7f7"
            ],
            [
             0.6,
             "#e6f5d0"
            ],
            [
             0.7,
             "#b8e186"
            ],
            [
             0.8,
             "#7fbc41"
            ],
            [
             0.9,
             "#4d9221"
            ],
            [
             1,
             "#276419"
            ]
           ],
           "sequential": [
            [
             0,
             "#0d0887"
            ],
            [
             0.1111111111111111,
             "#46039f"
            ],
            [
             0.2222222222222222,
             "#7201a8"
            ],
            [
             0.3333333333333333,
             "#9c179e"
            ],
            [
             0.4444444444444444,
             "#bd3786"
            ],
            [
             0.5555555555555556,
             "#d8576b"
            ],
            [
             0.6666666666666666,
             "#ed7953"
            ],
            [
             0.7777777777777778,
             "#fb9f3a"
            ],
            [
             0.8888888888888888,
             "#fdca26"
            ],
            [
             1,
             "#f0f921"
            ]
           ],
           "sequentialminus": [
            [
             0,
             "#0d0887"
            ],
            [
             0.1111111111111111,
             "#46039f"
            ],
            [
             0.2222222222222222,
             "#7201a8"
            ],
            [
             0.3333333333333333,
             "#9c179e"
            ],
            [
             0.4444444444444444,
             "#bd3786"
            ],
            [
             0.5555555555555556,
             "#d8576b"
            ],
            [
             0.6666666666666666,
             "#ed7953"
            ],
            [
             0.7777777777777778,
             "#fb9f3a"
            ],
            [
             0.8888888888888888,
             "#fdca26"
            ],
            [
             1,
             "#f0f921"
            ]
           ]
          },
          "colorway": [
           "#636efa",
           "#EF553B",
           "#00cc96",
           "#ab63fa",
           "#FFA15A",
           "#19d3f3",
           "#FF6692",
           "#B6E880",
           "#FF97FF",
           "#FECB52"
          ],
          "font": {
           "color": "#2a3f5f"
          },
          "geo": {
           "bgcolor": "white",
           "lakecolor": "white",
           "landcolor": "#E5ECF6",
           "showlakes": true,
           "showland": true,
           "subunitcolor": "white"
          },
          "hoverlabel": {
           "align": "left"
          },
          "hovermode": "closest",
          "mapbox": {
           "style": "light"
          },
          "paper_bgcolor": "white",
          "plot_bgcolor": "#E5ECF6",
          "polar": {
           "angularaxis": {
            "gridcolor": "white",
            "linecolor": "white",
            "ticks": ""
           },
           "bgcolor": "#E5ECF6",
           "radialaxis": {
            "gridcolor": "white",
            "linecolor": "white",
            "ticks": ""
           }
          },
          "scene": {
           "xaxis": {
            "backgroundcolor": "#E5ECF6",
            "gridcolor": "white",
            "gridwidth": 2,
            "linecolor": "white",
            "showbackground": true,
            "ticks": "",
            "zerolinecolor": "white"
           },
           "yaxis": {
            "backgroundcolor": "#E5ECF6",
            "gridcolor": "white",
            "gridwidth": 2,
            "linecolor": "white",
            "showbackground": true,
            "ticks": "",
            "zerolinecolor": "white"
           },
           "zaxis": {
            "backgroundcolor": "#E5ECF6",
            "gridcolor": "white",
            "gridwidth": 2,
            "linecolor": "white",
            "showbackground": true,
            "ticks": "",
            "zerolinecolor": "white"
           }
          },
          "shapedefaults": {
           "line": {
            "color": "#2a3f5f"
           }
          },
          "ternary": {
           "aaxis": {
            "gridcolor": "white",
            "linecolor": "white",
            "ticks": ""
           },
           "baxis": {
            "gridcolor": "white",
            "linecolor": "white",
            "ticks": ""
           },
           "bgcolor": "#E5ECF6",
           "caxis": {
            "gridcolor": "white",
            "linecolor": "white",
            "ticks": ""
           }
          },
          "title": {
           "x": 0.05
          },
          "xaxis": {
           "automargin": true,
           "gridcolor": "white",
           "linecolor": "white",
           "ticks": "",
           "title": {
            "standoff": 15
           },
           "zerolinecolor": "white",
           "zerolinewidth": 2
          },
          "yaxis": {
           "automargin": true,
           "gridcolor": "white",
           "linecolor": "white",
           "ticks": "",
           "title": {
            "standoff": 15
           },
           "zerolinecolor": "white",
           "zerolinewidth": 2
          }
         }
        },
        "xaxis": {
         "anchor": "y",
         "domain": [
          0,
          1
         ],
         "title": {
          "text": "state"
         }
        },
        "yaxis": {
         "anchor": "x",
         "domain": [
          0,
          1
         ],
         "title": {
          "text": "value"
         }
        }
       }
      }
     },
     "metadata": {},
     "output_type": "display_data"
    }
   ],
   "source": [
    "px.bar(spoc.groupby(['state'])[['total_price']].sum().sort_values(by='total_price',ascending = False))"
   ]
  },
  {
   "cell_type": "code",
   "execution_count": 97,
   "metadata": {},
   "outputs": [
    {
     "data": {
      "text/plain": [
       "0       30811\n",
       "1       30811\n",
       "2       30811\n",
       "3       30811\n",
       "4       30811\n",
       "        ...  \n",
       "4995    35937\n",
       "4996    32100\n",
       "4997    32100\n",
       "4998    32100\n",
       "4999    32100\n",
       "Name: payment, Length: 5000, dtype: int64"
      ]
     },
     "execution_count": 97,
     "metadata": {},
     "output_type": "execute_result"
    }
   ],
   "source": [
    "spoc.payment"
   ]
  },
  {
   "cell_type": "code",
   "execution_count": 84,
   "metadata": {
    "colab": {
     "base_uri": "https://localhost:8080/",
     "height": 1000
    },
    "id": "kA8LzklJMYgV",
    "outputId": "3ca2ab49-efb3-4c0d-e6c3-349f3e97d1cc"
   },
   "outputs": [
    {
     "data": {
      "text/html": [
       "<div>\n",
       "<style scoped>\n",
       "    .dataframe tbody tr th:only-of-type {\n",
       "        vertical-align: middle;\n",
       "    }\n",
       "\n",
       "    .dataframe tbody tr th {\n",
       "        vertical-align: top;\n",
       "    }\n",
       "\n",
       "    .dataframe thead th {\n",
       "        text-align: right;\n",
       "    }\n",
       "</style>\n",
       "<table border=\"1\" class=\"dataframe\">\n",
       "  <thead>\n",
       "    <tr style=\"text-align: right;\">\n",
       "      <th></th>\n",
       "      <th></th>\n",
       "      <th>total_price</th>\n",
       "    </tr>\n",
       "    <tr>\n",
       "      <th>state</th>\n",
       "      <th>gender</th>\n",
       "      <th></th>\n",
       "    </tr>\n",
       "  </thead>\n",
       "  <tbody>\n",
       "    <tr>\n",
       "      <th>Queensland</th>\n",
       "      <th>Polygender</th>\n",
       "      <td>28553</td>\n",
       "    </tr>\n",
       "    <tr>\n",
       "      <th>South Australia</th>\n",
       "      <th>Genderqueer</th>\n",
       "      <td>25088</td>\n",
       "    </tr>\n",
       "    <tr>\n",
       "      <th>Victoria</th>\n",
       "      <th>Male</th>\n",
       "      <td>24626</td>\n",
       "    </tr>\n",
       "    <tr>\n",
       "      <th>Western Australia</th>\n",
       "      <th>Non-binary</th>\n",
       "      <td>24011</td>\n",
       "    </tr>\n",
       "    <tr>\n",
       "      <th>Queensland</th>\n",
       "      <th>Genderqueer</th>\n",
       "      <td>23791</td>\n",
       "    </tr>\n",
       "    <tr>\n",
       "      <th>Victoria</th>\n",
       "      <th>Genderfluid</th>\n",
       "      <td>22970</td>\n",
       "    </tr>\n",
       "    <tr>\n",
       "      <th>New South Wales</th>\n",
       "      <th>Genderfluid</th>\n",
       "      <td>22367</td>\n",
       "    </tr>\n",
       "    <tr>\n",
       "      <th>Tasmania</th>\n",
       "      <th>Non-binary</th>\n",
       "      <td>22281</td>\n",
       "    </tr>\n",
       "    <tr>\n",
       "      <th>New South Wales</th>\n",
       "      <th>Male</th>\n",
       "      <td>22248</td>\n",
       "    </tr>\n",
       "    <tr>\n",
       "      <th>Australian Capital Territory</th>\n",
       "      <th>Agender</th>\n",
       "      <td>22052</td>\n",
       "    </tr>\n",
       "    <tr>\n",
       "      <th>South Australia</th>\n",
       "      <th>Male</th>\n",
       "      <td>22043</td>\n",
       "    </tr>\n",
       "    <tr>\n",
       "      <th rowspan=\"2\" valign=\"top\">Australian Capital Territory</th>\n",
       "      <th>Genderfluid</th>\n",
       "      <td>21859</td>\n",
       "    </tr>\n",
       "    <tr>\n",
       "      <th>Male</th>\n",
       "      <td>21623</td>\n",
       "    </tr>\n",
       "    <tr>\n",
       "      <th>South Australia</th>\n",
       "      <th>Polygender</th>\n",
       "      <td>21536</td>\n",
       "    </tr>\n",
       "    <tr>\n",
       "      <th>Victoria</th>\n",
       "      <th>Female</th>\n",
       "      <td>21343</td>\n",
       "    </tr>\n",
       "    <tr>\n",
       "      <th>Tasmania</th>\n",
       "      <th>Female</th>\n",
       "      <td>21332</td>\n",
       "    </tr>\n",
       "    <tr>\n",
       "      <th>Western Australia</th>\n",
       "      <th>Polygender</th>\n",
       "      <td>21012</td>\n",
       "    </tr>\n",
       "    <tr>\n",
       "      <th>New South Wales</th>\n",
       "      <th>Non-binary</th>\n",
       "      <td>20983</td>\n",
       "    </tr>\n",
       "    <tr>\n",
       "      <th>Queensland</th>\n",
       "      <th>Genderfluid</th>\n",
       "      <td>20476</td>\n",
       "    </tr>\n",
       "    <tr>\n",
       "      <th>Tasmania</th>\n",
       "      <th>Genderqueer</th>\n",
       "      <td>20278</td>\n",
       "    </tr>\n",
       "    <tr>\n",
       "      <th>Australian Capital Territory</th>\n",
       "      <th>Female</th>\n",
       "      <td>19555</td>\n",
       "    </tr>\n",
       "    <tr>\n",
       "      <th>New South Wales</th>\n",
       "      <th>Female</th>\n",
       "      <td>18452</td>\n",
       "    </tr>\n",
       "    <tr>\n",
       "      <th>South Australia</th>\n",
       "      <th>Female</th>\n",
       "      <td>18352</td>\n",
       "    </tr>\n",
       "    <tr>\n",
       "      <th>Queensland</th>\n",
       "      <th>Female</th>\n",
       "      <td>17959</td>\n",
       "    </tr>\n",
       "    <tr>\n",
       "      <th>Tasmania</th>\n",
       "      <th>Bigender</th>\n",
       "      <td>17957</td>\n",
       "    </tr>\n",
       "    <tr>\n",
       "      <th>Northern Territory</th>\n",
       "      <th>Genderqueer</th>\n",
       "      <td>17872</td>\n",
       "    </tr>\n",
       "    <tr>\n",
       "      <th rowspan=\"2\" valign=\"top\">Western Australia</th>\n",
       "      <th>Genderqueer</th>\n",
       "      <td>16947</td>\n",
       "    </tr>\n",
       "    <tr>\n",
       "      <th>Genderfluid</th>\n",
       "      <td>16777</td>\n",
       "    </tr>\n",
       "    <tr>\n",
       "      <th>Queensland</th>\n",
       "      <th>Male</th>\n",
       "      <td>16768</td>\n",
       "    </tr>\n",
       "    <tr>\n",
       "      <th>South Australia</th>\n",
       "      <th>Bigender</th>\n",
       "      <td>16052</td>\n",
       "    </tr>\n",
       "  </tbody>\n",
       "</table>\n",
       "</div>"
      ],
      "text/plain": [
       "                                          total_price\n",
       "state                        gender                  \n",
       "Queensland                   Polygender         28553\n",
       "South Australia              Genderqueer        25088\n",
       "Victoria                     Male               24626\n",
       "Western Australia            Non-binary         24011\n",
       "Queensland                   Genderqueer        23791\n",
       "Victoria                     Genderfluid        22970\n",
       "New South Wales              Genderfluid        22367\n",
       "Tasmania                     Non-binary         22281\n",
       "New South Wales              Male               22248\n",
       "Australian Capital Territory Agender            22052\n",
       "South Australia              Male               22043\n",
       "Australian Capital Territory Genderfluid        21859\n",
       "                             Male               21623\n",
       "South Australia              Polygender         21536\n",
       "Victoria                     Female             21343\n",
       "Tasmania                     Female             21332\n",
       "Western Australia            Polygender         21012\n",
       "New South Wales              Non-binary         20983\n",
       "Queensland                   Genderfluid        20476\n",
       "Tasmania                     Genderqueer        20278\n",
       "Australian Capital Territory Female             19555\n",
       "New South Wales              Female             18452\n",
       "South Australia              Female             18352\n",
       "Queensland                   Female             17959\n",
       "Tasmania                     Bigender           17957\n",
       "Northern Territory           Genderqueer        17872\n",
       "Western Australia            Genderqueer        16947\n",
       "                             Genderfluid        16777\n",
       "Queensland                   Male               16768\n",
       "South Australia              Bigender           16052"
      ]
     },
     "execution_count": 84,
     "metadata": {},
     "output_type": "execute_result"
    }
   ],
   "source": [
    "# what is the highest state per gender achieve the highest sales\n",
    "spoc.groupby(['state','gender'])[['total_price']].sum().sort_values(by='total_price',ascending = False).head(30)"
   ]
  },
  {
   "cell_type": "code",
   "execution_count": 85,
   "metadata": {
    "colab": {
     "base_uri": "https://localhost:8080/",
     "height": 332
    },
    "id": "IODp_nT6TMq2",
    "outputId": "5636f30f-019b-47ed-a1f3-aa691f25b537"
   },
   "outputs": [
    {
     "data": {
      "text/html": [
       "<div>\n",
       "<style scoped>\n",
       "    .dataframe tbody tr th:only-of-type {\n",
       "        vertical-align: middle;\n",
       "    }\n",
       "\n",
       "    .dataframe tbody tr th {\n",
       "        vertical-align: top;\n",
       "    }\n",
       "\n",
       "    .dataframe thead th {\n",
       "        text-align: right;\n",
       "    }\n",
       "</style>\n",
       "<table border=\"1\" class=\"dataframe\">\n",
       "  <thead>\n",
       "    <tr style=\"text-align: right;\">\n",
       "      <th></th>\n",
       "      <th>age</th>\n",
       "    </tr>\n",
       "    <tr>\n",
       "      <th>state</th>\n",
       "      <th></th>\n",
       "    </tr>\n",
       "  </thead>\n",
       "  <tbody>\n",
       "    <tr>\n",
       "      <th>New South Wales</th>\n",
       "      <td>53.593509</td>\n",
       "    </tr>\n",
       "    <tr>\n",
       "      <th>Queensland</th>\n",
       "      <td>51.152838</td>\n",
       "    </tr>\n",
       "    <tr>\n",
       "      <th>Northern Territory</th>\n",
       "      <td>48.882798</td>\n",
       "    </tr>\n",
       "    <tr>\n",
       "      <th>South Australia</th>\n",
       "      <td>48.594708</td>\n",
       "    </tr>\n",
       "    <tr>\n",
       "      <th>Tasmania</th>\n",
       "      <td>48.187713</td>\n",
       "    </tr>\n",
       "    <tr>\n",
       "      <th>Australian Capital Territory</th>\n",
       "      <td>48.021944</td>\n",
       "    </tr>\n",
       "    <tr>\n",
       "      <th>Western Australia</th>\n",
       "      <td>46.804636</td>\n",
       "    </tr>\n",
       "    <tr>\n",
       "      <th>Victoria</th>\n",
       "      <td>44.143824</td>\n",
       "    </tr>\n",
       "  </tbody>\n",
       "</table>\n",
       "</div>"
      ],
      "text/plain": [
       "                                    age\n",
       "state                                  \n",
       "New South Wales               53.593509\n",
       "Queensland                    51.152838\n",
       "Northern Territory            48.882798\n",
       "South Australia               48.594708\n",
       "Tasmania                      48.187713\n",
       "Australian Capital Territory  48.021944\n",
       "Western Australia             46.804636\n",
       "Victoria                      44.143824"
      ]
     },
     "execution_count": 85,
     "metadata": {},
     "output_type": "execute_result"
    }
   ],
   "source": [
    "# what is the average age per state\n",
    "spoc.groupby(['state'])[['age']].mean().sort_values(by='age',ascending = False)"
   ]
  },
  {
   "cell_type": "code",
   "execution_count": 86,
   "metadata": {},
   "outputs": [
    {
     "data": {
      "application/vnd.plotly.v1+json": {
       "config": {
        "plotlyServerURL": "https://plot.ly"
       },
       "data": [
        {
         "alignmentgroup": "True",
         "hovertemplate": "variable=age<br>state=%{x}<br>value=%{y}<extra></extra>",
         "legendgroup": "age",
         "marker": {
          "color": "#636efa",
          "pattern": {
           "shape": ""
          }
         },
         "name": "age",
         "offsetgroup": "age",
         "orientation": "v",
         "showlegend": true,
         "textposition": "auto",
         "type": "bar",
         "x": [
          "New South Wales",
          "Queensland",
          "Northern Territory",
          "South Australia",
          "Tasmania",
          "Australian Capital Territory",
          "Western Australia",
          "Victoria"
         ],
         "xaxis": "x",
         "y": [
          53.5935085007728,
          51.1528384279476,
          48.882797731569,
          48.59470752089136,
          48.18771331058021,
          48.02194357366771,
          46.8046357615894,
          44.14382402707276
         ],
         "yaxis": "y"
        }
       ],
       "layout": {
        "barmode": "relative",
        "legend": {
         "title": {
          "text": "variable"
         },
         "tracegroupgap": 0
        },
        "margin": {
         "t": 60
        },
        "template": {
         "data": {
          "bar": [
           {
            "error_x": {
             "color": "#2a3f5f"
            },
            "error_y": {
             "color": "#2a3f5f"
            },
            "marker": {
             "line": {
              "color": "#E5ECF6",
              "width": 0.5
             },
             "pattern": {
              "fillmode": "overlay",
              "size": 10,
              "solidity": 0.2
             }
            },
            "type": "bar"
           }
          ],
          "barpolar": [
           {
            "marker": {
             "line": {
              "color": "#E5ECF6",
              "width": 0.5
             },
             "pattern": {
              "fillmode": "overlay",
              "size": 10,
              "solidity": 0.2
             }
            },
            "type": "barpolar"
           }
          ],
          "carpet": [
           {
            "aaxis": {
             "endlinecolor": "#2a3f5f",
             "gridcolor": "white",
             "linecolor": "white",
             "minorgridcolor": "white",
             "startlinecolor": "#2a3f5f"
            },
            "baxis": {
             "endlinecolor": "#2a3f5f",
             "gridcolor": "white",
             "linecolor": "white",
             "minorgridcolor": "white",
             "startlinecolor": "#2a3f5f"
            },
            "type": "carpet"
           }
          ],
          "choropleth": [
           {
            "colorbar": {
             "outlinewidth": 0,
             "ticks": ""
            },
            "type": "choropleth"
           }
          ],
          "contour": [
           {
            "colorbar": {
             "outlinewidth": 0,
             "ticks": ""
            },
            "colorscale": [
             [
              0,
              "#0d0887"
             ],
             [
              0.1111111111111111,
              "#46039f"
             ],
             [
              0.2222222222222222,
              "#7201a8"
             ],
             [
              0.3333333333333333,
              "#9c179e"
             ],
             [
              0.4444444444444444,
              "#bd3786"
             ],
             [
              0.5555555555555556,
              "#d8576b"
             ],
             [
              0.6666666666666666,
              "#ed7953"
             ],
             [
              0.7777777777777778,
              "#fb9f3a"
             ],
             [
              0.8888888888888888,
              "#fdca26"
             ],
             [
              1,
              "#f0f921"
             ]
            ],
            "type": "contour"
           }
          ],
          "contourcarpet": [
           {
            "colorbar": {
             "outlinewidth": 0,
             "ticks": ""
            },
            "type": "contourcarpet"
           }
          ],
          "heatmap": [
           {
            "colorbar": {
             "outlinewidth": 0,
             "ticks": ""
            },
            "colorscale": [
             [
              0,
              "#0d0887"
             ],
             [
              0.1111111111111111,
              "#46039f"
             ],
             [
              0.2222222222222222,
              "#7201a8"
             ],
             [
              0.3333333333333333,
              "#9c179e"
             ],
             [
              0.4444444444444444,
              "#bd3786"
             ],
             [
              0.5555555555555556,
              "#d8576b"
             ],
             [
              0.6666666666666666,
              "#ed7953"
             ],
             [
              0.7777777777777778,
              "#fb9f3a"
             ],
             [
              0.8888888888888888,
              "#fdca26"
             ],
             [
              1,
              "#f0f921"
             ]
            ],
            "type": "heatmap"
           }
          ],
          "heatmapgl": [
           {
            "colorbar": {
             "outlinewidth": 0,
             "ticks": ""
            },
            "colorscale": [
             [
              0,
              "#0d0887"
             ],
             [
              0.1111111111111111,
              "#46039f"
             ],
             [
              0.2222222222222222,
              "#7201a8"
             ],
             [
              0.3333333333333333,
              "#9c179e"
             ],
             [
              0.4444444444444444,
              "#bd3786"
             ],
             [
              0.5555555555555556,
              "#d8576b"
             ],
             [
              0.6666666666666666,
              "#ed7953"
             ],
             [
              0.7777777777777778,
              "#fb9f3a"
             ],
             [
              0.8888888888888888,
              "#fdca26"
             ],
             [
              1,
              "#f0f921"
             ]
            ],
            "type": "heatmapgl"
           }
          ],
          "histogram": [
           {
            "marker": {
             "pattern": {
              "fillmode": "overlay",
              "size": 10,
              "solidity": 0.2
             }
            },
            "type": "histogram"
           }
          ],
          "histogram2d": [
           {
            "colorbar": {
             "outlinewidth": 0,
             "ticks": ""
            },
            "colorscale": [
             [
              0,
              "#0d0887"
             ],
             [
              0.1111111111111111,
              "#46039f"
             ],
             [
              0.2222222222222222,
              "#7201a8"
             ],
             [
              0.3333333333333333,
              "#9c179e"
             ],
             [
              0.4444444444444444,
              "#bd3786"
             ],
             [
              0.5555555555555556,
              "#d8576b"
             ],
             [
              0.6666666666666666,
              "#ed7953"
             ],
             [
              0.7777777777777778,
              "#fb9f3a"
             ],
             [
              0.8888888888888888,
              "#fdca26"
             ],
             [
              1,
              "#f0f921"
             ]
            ],
            "type": "histogram2d"
           }
          ],
          "histogram2dcontour": [
           {
            "colorbar": {
             "outlinewidth": 0,
             "ticks": ""
            },
            "colorscale": [
             [
              0,
              "#0d0887"
             ],
             [
              0.1111111111111111,
              "#46039f"
             ],
             [
              0.2222222222222222,
              "#7201a8"
             ],
             [
              0.3333333333333333,
              "#9c179e"
             ],
             [
              0.4444444444444444,
              "#bd3786"
             ],
             [
              0.5555555555555556,
              "#d8576b"
             ],
             [
              0.6666666666666666,
              "#ed7953"
             ],
             [
              0.7777777777777778,
              "#fb9f3a"
             ],
             [
              0.8888888888888888,
              "#fdca26"
             ],
             [
              1,
              "#f0f921"
             ]
            ],
            "type": "histogram2dcontour"
           }
          ],
          "mesh3d": [
           {
            "colorbar": {
             "outlinewidth": 0,
             "ticks": ""
            },
            "type": "mesh3d"
           }
          ],
          "parcoords": [
           {
            "line": {
             "colorbar": {
              "outlinewidth": 0,
              "ticks": ""
             }
            },
            "type": "parcoords"
           }
          ],
          "pie": [
           {
            "automargin": true,
            "type": "pie"
           }
          ],
          "scatter": [
           {
            "marker": {
             "colorbar": {
              "outlinewidth": 0,
              "ticks": ""
             }
            },
            "type": "scatter"
           }
          ],
          "scatter3d": [
           {
            "line": {
             "colorbar": {
              "outlinewidth": 0,
              "ticks": ""
             }
            },
            "marker": {
             "colorbar": {
              "outlinewidth": 0,
              "ticks": ""
             }
            },
            "type": "scatter3d"
           }
          ],
          "scattercarpet": [
           {
            "marker": {
             "colorbar": {
              "outlinewidth": 0,
              "ticks": ""
             }
            },
            "type": "scattercarpet"
           }
          ],
          "scattergeo": [
           {
            "marker": {
             "colorbar": {
              "outlinewidth": 0,
              "ticks": ""
             }
            },
            "type": "scattergeo"
           }
          ],
          "scattergl": [
           {
            "marker": {
             "colorbar": {
              "outlinewidth": 0,
              "ticks": ""
             }
            },
            "type": "scattergl"
           }
          ],
          "scattermapbox": [
           {
            "marker": {
             "colorbar": {
              "outlinewidth": 0,
              "ticks": ""
             }
            },
            "type": "scattermapbox"
           }
          ],
          "scatterpolar": [
           {
            "marker": {
             "colorbar": {
              "outlinewidth": 0,
              "ticks": ""
             }
            },
            "type": "scatterpolar"
           }
          ],
          "scatterpolargl": [
           {
            "marker": {
             "colorbar": {
              "outlinewidth": 0,
              "ticks": ""
             }
            },
            "type": "scatterpolargl"
           }
          ],
          "scatterternary": [
           {
            "marker": {
             "colorbar": {
              "outlinewidth": 0,
              "ticks": ""
             }
            },
            "type": "scatterternary"
           }
          ],
          "surface": [
           {
            "colorbar": {
             "outlinewidth": 0,
             "ticks": ""
            },
            "colorscale": [
             [
              0,
              "#0d0887"
             ],
             [
              0.1111111111111111,
              "#46039f"
             ],
             [
              0.2222222222222222,
              "#7201a8"
             ],
             [
              0.3333333333333333,
              "#9c179e"
             ],
             [
              0.4444444444444444,
              "#bd3786"
             ],
             [
              0.5555555555555556,
              "#d8576b"
             ],
             [
              0.6666666666666666,
              "#ed7953"
             ],
             [
              0.7777777777777778,
              "#fb9f3a"
             ],
             [
              0.8888888888888888,
              "#fdca26"
             ],
             [
              1,
              "#f0f921"
             ]
            ],
            "type": "surface"
           }
          ],
          "table": [
           {
            "cells": {
             "fill": {
              "color": "#EBF0F8"
             },
             "line": {
              "color": "white"
             }
            },
            "header": {
             "fill": {
              "color": "#C8D4E3"
             },
             "line": {
              "color": "white"
             }
            },
            "type": "table"
           }
          ]
         },
         "layout": {
          "annotationdefaults": {
           "arrowcolor": "#2a3f5f",
           "arrowhead": 0,
           "arrowwidth": 1
          },
          "autotypenumbers": "strict",
          "coloraxis": {
           "colorbar": {
            "outlinewidth": 0,
            "ticks": ""
           }
          },
          "colorscale": {
           "diverging": [
            [
             0,
             "#8e0152"
            ],
            [
             0.1,
             "#c51b7d"
            ],
            [
             0.2,
             "#de77ae"
            ],
            [
             0.3,
             "#f1b6da"
            ],
            [
             0.4,
             "#fde0ef"
            ],
            [
             0.5,
             "#f7f7f7"
            ],
            [
             0.6,
             "#e6f5d0"
            ],
            [
             0.7,
             "#b8e186"
            ],
            [
             0.8,
             "#7fbc41"
            ],
            [
             0.9,
             "#4d9221"
            ],
            [
             1,
             "#276419"
            ]
           ],
           "sequential": [
            [
             0,
             "#0d0887"
            ],
            [
             0.1111111111111111,
             "#46039f"
            ],
            [
             0.2222222222222222,
             "#7201a8"
            ],
            [
             0.3333333333333333,
             "#9c179e"
            ],
            [
             0.4444444444444444,
             "#bd3786"
            ],
            [
             0.5555555555555556,
             "#d8576b"
            ],
            [
             0.6666666666666666,
             "#ed7953"
            ],
            [
             0.7777777777777778,
             "#fb9f3a"
            ],
            [
             0.8888888888888888,
             "#fdca26"
            ],
            [
             1,
             "#f0f921"
            ]
           ],
           "sequentialminus": [
            [
             0,
             "#0d0887"
            ],
            [
             0.1111111111111111,
             "#46039f"
            ],
            [
             0.2222222222222222,
             "#7201a8"
            ],
            [
             0.3333333333333333,
             "#9c179e"
            ],
            [
             0.4444444444444444,
             "#bd3786"
            ],
            [
             0.5555555555555556,
             "#d8576b"
            ],
            [
             0.6666666666666666,
             "#ed7953"
            ],
            [
             0.7777777777777778,
             "#fb9f3a"
            ],
            [
             0.8888888888888888,
             "#fdca26"
            ],
            [
             1,
             "#f0f921"
            ]
           ]
          },
          "colorway": [
           "#636efa",
           "#EF553B",
           "#00cc96",
           "#ab63fa",
           "#FFA15A",
           "#19d3f3",
           "#FF6692",
           "#B6E880",
           "#FF97FF",
           "#FECB52"
          ],
          "font": {
           "color": "#2a3f5f"
          },
          "geo": {
           "bgcolor": "white",
           "lakecolor": "white",
           "landcolor": "#E5ECF6",
           "showlakes": true,
           "showland": true,
           "subunitcolor": "white"
          },
          "hoverlabel": {
           "align": "left"
          },
          "hovermode": "closest",
          "mapbox": {
           "style": "light"
          },
          "paper_bgcolor": "white",
          "plot_bgcolor": "#E5ECF6",
          "polar": {
           "angularaxis": {
            "gridcolor": "white",
            "linecolor": "white",
            "ticks": ""
           },
           "bgcolor": "#E5ECF6",
           "radialaxis": {
            "gridcolor": "white",
            "linecolor": "white",
            "ticks": ""
           }
          },
          "scene": {
           "xaxis": {
            "backgroundcolor": "#E5ECF6",
            "gridcolor": "white",
            "gridwidth": 2,
            "linecolor": "white",
            "showbackground": true,
            "ticks": "",
            "zerolinecolor": "white"
           },
           "yaxis": {
            "backgroundcolor": "#E5ECF6",
            "gridcolor": "white",
            "gridwidth": 2,
            "linecolor": "white",
            "showbackground": true,
            "ticks": "",
            "zerolinecolor": "white"
           },
           "zaxis": {
            "backgroundcolor": "#E5ECF6",
            "gridcolor": "white",
            "gridwidth": 2,
            "linecolor": "white",
            "showbackground": true,
            "ticks": "",
            "zerolinecolor": "white"
           }
          },
          "shapedefaults": {
           "line": {
            "color": "#2a3f5f"
           }
          },
          "ternary": {
           "aaxis": {
            "gridcolor": "white",
            "linecolor": "white",
            "ticks": ""
           },
           "baxis": {
            "gridcolor": "white",
            "linecolor": "white",
            "ticks": ""
           },
           "bgcolor": "#E5ECF6",
           "caxis": {
            "gridcolor": "white",
            "linecolor": "white",
            "ticks": ""
           }
          },
          "title": {
           "x": 0.05
          },
          "xaxis": {
           "automargin": true,
           "gridcolor": "white",
           "linecolor": "white",
           "ticks": "",
           "title": {
            "standoff": 15
           },
           "zerolinecolor": "white",
           "zerolinewidth": 2
          },
          "yaxis": {
           "automargin": true,
           "gridcolor": "white",
           "linecolor": "white",
           "ticks": "",
           "title": {
            "standoff": 15
           },
           "zerolinecolor": "white",
           "zerolinewidth": 2
          }
         }
        },
        "xaxis": {
         "anchor": "y",
         "domain": [
          0,
          1
         ],
         "title": {
          "text": "state"
         }
        },
        "yaxis": {
         "anchor": "x",
         "domain": [
          0,
          1
         ],
         "title": {
          "text": "value"
         }
        }
       }
      }
     },
     "metadata": {},
     "output_type": "display_data"
    }
   ],
   "source": [
    "px.bar(spoc.groupby(['state'])[['age']].mean().sort_values(by='age',ascending = False))"
   ]
  },
  {
   "cell_type": "code",
   "execution_count": 87,
   "metadata": {
    "colab": {
     "base_uri": "https://localhost:8080/",
     "height": 1000
    },
    "id": "Al0CMl3YTase",
    "outputId": "7a79a0ed-b9e5-4b4c-96e5-79865f6f3ad7"
   },
   "outputs": [
    {
     "data": {
      "text/html": [
       "<div>\n",
       "<style scoped>\n",
       "    .dataframe tbody tr th:only-of-type {\n",
       "        vertical-align: middle;\n",
       "    }\n",
       "\n",
       "    .dataframe tbody tr th {\n",
       "        vertical-align: top;\n",
       "    }\n",
       "\n",
       "    .dataframe thead th {\n",
       "        text-align: right;\n",
       "    }\n",
       "</style>\n",
       "<table border=\"1\" class=\"dataframe\">\n",
       "  <thead>\n",
       "    <tr style=\"text-align: right;\">\n",
       "      <th></th>\n",
       "      <th></th>\n",
       "      <th>age</th>\n",
       "    </tr>\n",
       "    <tr>\n",
       "      <th>state</th>\n",
       "      <th>gender</th>\n",
       "      <th></th>\n",
       "    </tr>\n",
       "  </thead>\n",
       "  <tbody>\n",
       "    <tr>\n",
       "      <th>Queensland</th>\n",
       "      <th>Non-binary</th>\n",
       "      <td>70.405405</td>\n",
       "    </tr>\n",
       "    <tr>\n",
       "      <th>Western Australia</th>\n",
       "      <th>Non-binary</th>\n",
       "      <td>62.254717</td>\n",
       "    </tr>\n",
       "    <tr>\n",
       "      <th>Tasmania</th>\n",
       "      <th>Genderqueer</th>\n",
       "      <td>60.224490</td>\n",
       "    </tr>\n",
       "    <tr>\n",
       "      <th>New South Wales</th>\n",
       "      <th>Female</th>\n",
       "      <td>58.000000</td>\n",
       "    </tr>\n",
       "    <tr>\n",
       "      <th>Queensland</th>\n",
       "      <th>Male</th>\n",
       "      <td>57.987342</td>\n",
       "    </tr>\n",
       "    <tr>\n",
       "      <th>New South Wales</th>\n",
       "      <th>Non-binary</th>\n",
       "      <td>57.528846</td>\n",
       "    </tr>\n",
       "    <tr>\n",
       "      <th>South Australia</th>\n",
       "      <th>Bigender</th>\n",
       "      <td>57.070588</td>\n",
       "    </tr>\n",
       "    <tr>\n",
       "      <th>Australian Capital Territory</th>\n",
       "      <th>Female</th>\n",
       "      <td>56.666667</td>\n",
       "    </tr>\n",
       "    <tr>\n",
       "      <th>New South Wales</th>\n",
       "      <th>Male</th>\n",
       "      <td>55.685714</td>\n",
       "    </tr>\n",
       "    <tr>\n",
       "      <th>Queensland</th>\n",
       "      <th>Genderfluid</th>\n",
       "      <td>55.405941</td>\n",
       "    </tr>\n",
       "    <tr>\n",
       "      <th rowspan=\"2\" valign=\"top\">New South Wales</th>\n",
       "      <th>Bigender</th>\n",
       "      <td>55.267857</td>\n",
       "    </tr>\n",
       "    <tr>\n",
       "      <th>Genderqueer</th>\n",
       "      <td>54.660377</td>\n",
       "    </tr>\n",
       "    <tr>\n",
       "      <th>Northern Territory</th>\n",
       "      <th>Non-binary</th>\n",
       "      <td>54.223684</td>\n",
       "    </tr>\n",
       "    <tr>\n",
       "      <th>South Australia</th>\n",
       "      <th>Genderqueer</th>\n",
       "      <td>53.702479</td>\n",
       "    </tr>\n",
       "    <tr>\n",
       "      <th>Queensland</th>\n",
       "      <th>Bigender</th>\n",
       "      <td>52.631579</td>\n",
       "    </tr>\n",
       "    <tr>\n",
       "      <th>Western Australia</th>\n",
       "      <th>Polygender</th>\n",
       "      <td>51.558824</td>\n",
       "    </tr>\n",
       "    <tr>\n",
       "      <th>South Australia</th>\n",
       "      <th>Non-binary</th>\n",
       "      <td>51.355263</td>\n",
       "    </tr>\n",
       "    <tr>\n",
       "      <th>New South Wales</th>\n",
       "      <th>Polygender</th>\n",
       "      <td>51.225806</td>\n",
       "    </tr>\n",
       "    <tr>\n",
       "      <th>Queensland</th>\n",
       "      <th>Female</th>\n",
       "      <td>50.819277</td>\n",
       "    </tr>\n",
       "    <tr>\n",
       "      <th>Tasmania</th>\n",
       "      <th>Polygender</th>\n",
       "      <td>50.652174</td>\n",
       "    </tr>\n",
       "    <tr>\n",
       "      <th>South Australia</th>\n",
       "      <th>Genderfluid</th>\n",
       "      <td>50.562500</td>\n",
       "    </tr>\n",
       "    <tr>\n",
       "      <th>Victoria</th>\n",
       "      <th>Bigender</th>\n",
       "      <td>50.277778</td>\n",
       "    </tr>\n",
       "    <tr>\n",
       "      <th>Tasmania</th>\n",
       "      <th>Bigender</th>\n",
       "      <td>49.931818</td>\n",
       "    </tr>\n",
       "    <tr>\n",
       "      <th rowspan=\"3\" valign=\"top\">Northern Territory</th>\n",
       "      <th>Genderqueer</th>\n",
       "      <td>49.865854</td>\n",
       "    </tr>\n",
       "    <tr>\n",
       "      <th>Agender</th>\n",
       "      <td>49.838710</td>\n",
       "    </tr>\n",
       "    <tr>\n",
       "      <th>Genderfluid</th>\n",
       "      <td>49.821918</td>\n",
       "    </tr>\n",
       "    <tr>\n",
       "      <th>South Australia</th>\n",
       "      <th>Male</th>\n",
       "      <td>49.777778</td>\n",
       "    </tr>\n",
       "    <tr>\n",
       "      <th rowspan=\"2\" valign=\"top\">Australian Capital Territory</th>\n",
       "      <th>Polygender</th>\n",
       "      <td>49.242424</td>\n",
       "    </tr>\n",
       "    <tr>\n",
       "      <th>Bigender</th>\n",
       "      <td>48.934426</td>\n",
       "    </tr>\n",
       "    <tr>\n",
       "      <th>Northern Territory</th>\n",
       "      <th>Polygender</th>\n",
       "      <td>48.627119</td>\n",
       "    </tr>\n",
       "  </tbody>\n",
       "</table>\n",
       "</div>"
      ],
      "text/plain": [
       "                                                age\n",
       "state                        gender                \n",
       "Queensland                   Non-binary   70.405405\n",
       "Western Australia            Non-binary   62.254717\n",
       "Tasmania                     Genderqueer  60.224490\n",
       "New South Wales              Female       58.000000\n",
       "Queensland                   Male         57.987342\n",
       "New South Wales              Non-binary   57.528846\n",
       "South Australia              Bigender     57.070588\n",
       "Australian Capital Territory Female       56.666667\n",
       "New South Wales              Male         55.685714\n",
       "Queensland                   Genderfluid  55.405941\n",
       "New South Wales              Bigender     55.267857\n",
       "                             Genderqueer  54.660377\n",
       "Northern Territory           Non-binary   54.223684\n",
       "South Australia              Genderqueer  53.702479\n",
       "Queensland                   Bigender     52.631579\n",
       "Western Australia            Polygender   51.558824\n",
       "South Australia              Non-binary   51.355263\n",
       "New South Wales              Polygender   51.225806\n",
       "Queensland                   Female       50.819277\n",
       "Tasmania                     Polygender   50.652174\n",
       "South Australia              Genderfluid  50.562500\n",
       "Victoria                     Bigender     50.277778\n",
       "Tasmania                     Bigender     49.931818\n",
       "Northern Territory           Genderqueer  49.865854\n",
       "                             Agender      49.838710\n",
       "                             Genderfluid  49.821918\n",
       "South Australia              Male         49.777778\n",
       "Australian Capital Territory Polygender   49.242424\n",
       "                             Bigender     48.934426\n",
       "Northern Territory           Polygender   48.627119"
      ]
     },
     "execution_count": 87,
     "metadata": {},
     "output_type": "execute_result"
    }
   ],
   "source": [
    "# what is the average age per state per each gender\n",
    "spoc.groupby(['state','gender'])[['age']].mean().sort_values(by='age',ascending = False).head(30)"
   ]
  },
  {
   "cell_type": "code",
   "execution_count": 88,
   "metadata": {
    "colab": {
     "base_uri": "https://localhost:8080/"
    },
    "id": "dvKjNjYyWIZa",
    "outputId": "5b4598a9-8199-4b9e-b6d7-6b56a2ffde7a"
   },
   "outputs": [
    {
     "data": {
      "text/plain": [
       "Trousers    1683\n",
       "Jacket      1676\n",
       "Shirt       1641\n",
       "Name: product_type, dtype: int64"
      ]
     },
     "execution_count": 88,
     "metadata": {},
     "output_type": "execute_result"
    }
   ],
   "source": [
    "spoc.product_type.value_counts()"
   ]
  },
  {
   "cell_type": "code",
   "execution_count": 89,
   "metadata": {},
   "outputs": [
    {
     "data": {
      "application/vnd.plotly.v1+json": {
       "config": {
        "plotlyServerURL": "https://plot.ly"
       },
       "data": [
        {
         "domain": {
          "x": [
           0,
           1
          ],
          "y": [
           0,
           1
          ]
         },
         "hovertemplate": "product_type=%{label}<extra></extra>",
         "labels": [
          "Shirt",
          "Jacket",
          "Shirt",
          "Trousers",
          "Jacket",
          "Trousers",
          "Shirt",
          "Jacket",
          "Trousers",
          "Trousers",
          "Jacket",
          "Trousers",
          "Trousers",
          "Jacket",
          "Jacket",
          "Jacket",
          "Jacket",
          "Trousers",
          "Jacket",
          "Shirt",
          "Shirt",
          "Trousers",
          "Jacket",
          "Trousers",
          "Jacket",
          "Trousers",
          "Trousers",
          "Jacket",
          "Shirt",
          "Shirt",
          "Trousers",
          "Jacket",
          "Jacket",
          "Jacket",
          "Shirt",
          "Trousers",
          "Jacket",
          "Jacket",
          "Trousers",
          "Shirt",
          "Shirt",
          "Jacket",
          "Jacket",
          "Trousers",
          "Jacket",
          "Jacket",
          "Jacket",
          "Trousers",
          "Trousers",
          "Jacket",
          "Jacket",
          "Trousers",
          "Jacket",
          "Shirt",
          "Jacket",
          "Trousers",
          "Shirt",
          "Shirt",
          "Shirt",
          "Jacket",
          "Trousers",
          "Jacket",
          "Trousers",
          "Trousers",
          "Shirt",
          "Jacket",
          "Jacket",
          "Jacket",
          "Shirt",
          "Trousers",
          "Jacket",
          "Shirt",
          "Shirt",
          "Trousers",
          "Shirt",
          "Shirt",
          "Jacket",
          "Shirt",
          "Shirt",
          "Shirt",
          "Shirt",
          "Shirt",
          "Shirt",
          "Trousers",
          "Jacket",
          "Jacket",
          "Jacket",
          "Trousers",
          "Trousers",
          "Trousers",
          "Jacket",
          "Jacket",
          "Trousers",
          "Jacket",
          "Trousers",
          "Shirt",
          "Shirt",
          "Shirt",
          "Jacket",
          "Trousers",
          "Trousers",
          "Jacket",
          "Shirt",
          "Shirt",
          "Shirt",
          "Shirt",
          "Shirt",
          "Trousers",
          "Jacket",
          "Shirt",
          "Jacket",
          "Trousers",
          "Shirt",
          "Shirt",
          "Trousers",
          "Shirt",
          "Jacket",
          "Shirt",
          "Jacket",
          "Trousers",
          "Trousers",
          "Trousers",
          "Shirt",
          "Shirt",
          "Jacket",
          "Trousers",
          "Jacket",
          "Shirt",
          "Jacket",
          "Shirt",
          "Trousers",
          "Shirt",
          "Jacket",
          "Shirt",
          "Trousers",
          "Trousers",
          "Shirt",
          "Trousers",
          "Shirt",
          "Shirt",
          "Trousers",
          "Trousers",
          "Jacket",
          "Trousers",
          "Jacket",
          "Trousers",
          "Jacket",
          "Jacket",
          "Jacket",
          "Trousers",
          "Shirt",
          "Jacket",
          "Shirt",
          "Jacket",
          "Shirt",
          "Jacket",
          "Trousers",
          "Trousers",
          "Shirt",
          "Trousers",
          "Shirt",
          "Jacket",
          "Shirt",
          "Shirt",
          "Jacket",
          "Trousers",
          "Jacket",
          "Trousers",
          "Jacket",
          "Jacket",
          "Trousers",
          "Jacket",
          "Jacket",
          "Trousers",
          "Jacket",
          "Shirt",
          "Shirt",
          "Jacket",
          "Jacket",
          "Trousers",
          "Shirt",
          "Trousers",
          "Jacket",
          "Jacket",
          "Jacket",
          "Jacket",
          "Shirt",
          "Trousers",
          "Jacket",
          "Shirt",
          "Shirt",
          "Jacket",
          "Shirt",
          "Shirt",
          "Shirt",
          "Trousers",
          "Trousers",
          "Jacket",
          "Jacket",
          "Shirt",
          "Shirt",
          "Trousers",
          "Shirt",
          "Jacket",
          "Jacket",
          "Jacket",
          "Jacket",
          "Trousers",
          "Jacket",
          "Trousers",
          "Trousers",
          "Trousers",
          "Shirt",
          "Jacket",
          "Shirt",
          "Trousers",
          "Trousers",
          "Jacket",
          "Trousers",
          "Jacket",
          "Shirt",
          "Jacket",
          "Trousers",
          "Trousers",
          "Trousers",
          "Trousers",
          "Jacket",
          "Trousers",
          "Trousers",
          "Jacket",
          "Jacket",
          "Shirt",
          "Jacket",
          "Trousers",
          "Jacket",
          "Shirt",
          "Jacket",
          "Shirt",
          "Trousers",
          "Shirt",
          "Trousers",
          "Trousers",
          "Jacket",
          "Jacket",
          "Shirt",
          "Shirt",
          "Jacket",
          "Jacket",
          "Shirt",
          "Shirt",
          "Trousers",
          "Trousers",
          "Jacket",
          "Trousers",
          "Trousers",
          "Shirt",
          "Trousers",
          "Jacket",
          "Jacket",
          "Shirt",
          "Shirt",
          "Trousers",
          "Shirt",
          "Trousers",
          "Shirt",
          "Trousers",
          "Shirt",
          "Jacket",
          "Trousers",
          "Trousers",
          "Shirt",
          "Shirt",
          "Shirt",
          "Trousers",
          "Shirt",
          "Jacket",
          "Jacket",
          "Trousers",
          "Shirt",
          "Jacket",
          "Jacket",
          "Jacket",
          "Trousers",
          "Shirt",
          "Trousers",
          "Shirt",
          "Jacket",
          "Shirt",
          "Shirt",
          "Jacket",
          "Shirt",
          "Jacket",
          "Jacket",
          "Trousers",
          "Shirt",
          "Trousers",
          "Shirt",
          "Shirt",
          "Jacket",
          "Jacket",
          "Trousers",
          "Trousers",
          "Jacket",
          "Trousers",
          "Jacket",
          "Trousers",
          "Trousers",
          "Jacket",
          "Jacket",
          "Shirt",
          "Jacket",
          "Trousers",
          "Shirt",
          "Shirt",
          "Trousers",
          "Trousers",
          "Jacket",
          "Jacket",
          "Trousers",
          "Jacket",
          "Jacket",
          "Jacket",
          "Jacket",
          "Jacket",
          "Trousers",
          "Trousers",
          "Trousers",
          "Trousers",
          "Trousers",
          "Jacket",
          "Jacket",
          "Shirt",
          "Trousers",
          "Jacket",
          "Jacket",
          "Jacket",
          "Shirt",
          "Jacket",
          "Trousers",
          "Trousers",
          "Shirt",
          "Trousers",
          "Jacket",
          "Trousers",
          "Trousers",
          "Trousers",
          "Shirt",
          "Shirt",
          "Trousers",
          "Shirt",
          "Trousers",
          "Trousers",
          "Trousers",
          "Trousers",
          "Trousers",
          "Shirt",
          "Jacket",
          "Shirt",
          "Trousers",
          "Trousers",
          "Trousers",
          "Jacket",
          "Shirt",
          "Trousers",
          "Shirt",
          "Shirt",
          "Shirt",
          "Shirt",
          "Trousers",
          "Trousers",
          "Trousers",
          "Shirt",
          "Jacket",
          "Trousers",
          "Shirt",
          "Shirt",
          "Trousers",
          "Trousers",
          "Shirt",
          "Trousers",
          "Jacket",
          "Shirt",
          "Shirt",
          "Trousers",
          "Trousers",
          "Shirt",
          "Jacket",
          "Trousers",
          "Shirt",
          "Jacket",
          "Trousers",
          "Trousers",
          "Shirt",
          "Trousers",
          "Shirt",
          "Shirt",
          "Shirt",
          "Trousers",
          "Jacket",
          "Shirt",
          "Jacket",
          "Jacket",
          "Trousers",
          "Trousers",
          "Shirt",
          "Shirt",
          "Trousers",
          "Shirt",
          "Shirt",
          "Shirt",
          "Shirt",
          "Jacket",
          "Trousers",
          "Jacket",
          "Trousers",
          "Trousers",
          "Shirt",
          "Shirt",
          "Shirt",
          "Jacket",
          "Trousers",
          "Trousers",
          "Shirt",
          "Jacket",
          "Trousers",
          "Shirt",
          "Jacket",
          "Shirt",
          "Trousers",
          "Trousers",
          "Shirt",
          "Trousers",
          "Jacket",
          "Shirt",
          "Jacket",
          "Trousers",
          "Jacket",
          "Jacket",
          "Trousers",
          "Shirt",
          "Jacket",
          "Trousers",
          "Shirt",
          "Shirt",
          "Jacket",
          "Trousers",
          "Trousers",
          "Jacket",
          "Shirt",
          "Jacket",
          "Trousers",
          "Jacket",
          "Trousers",
          "Jacket",
          "Jacket",
          "Jacket",
          "Shirt",
          "Trousers",
          "Shirt",
          "Shirt",
          "Trousers",
          "Shirt",
          "Shirt",
          "Trousers",
          "Shirt",
          "Shirt",
          "Shirt",
          "Jacket",
          "Jacket",
          "Shirt",
          "Jacket",
          "Trousers",
          "Trousers",
          "Shirt",
          "Jacket",
          "Shirt",
          "Shirt",
          "Trousers",
          "Trousers",
          "Shirt",
          "Shirt",
          "Trousers",
          "Jacket",
          "Jacket",
          "Jacket",
          "Jacket",
          "Shirt",
          "Jacket",
          "Shirt",
          "Shirt",
          "Shirt",
          "Shirt",
          "Shirt",
          "Shirt",
          "Shirt",
          "Shirt",
          "Shirt",
          "Jacket",
          "Jacket",
          "Shirt",
          "Jacket",
          "Shirt",
          "Jacket",
          "Trousers",
          "Trousers",
          "Shirt",
          "Shirt",
          "Trousers",
          "Shirt",
          "Shirt",
          "Jacket",
          "Shirt",
          "Shirt",
          "Shirt",
          "Trousers",
          "Trousers",
          "Shirt",
          "Trousers",
          "Jacket",
          "Trousers",
          "Shirt",
          "Jacket",
          "Shirt",
          "Shirt",
          "Shirt",
          "Jacket",
          "Jacket",
          "Trousers",
          "Jacket",
          "Trousers",
          "Trousers",
          "Trousers",
          "Jacket",
          "Trousers",
          "Shirt",
          "Trousers",
          "Shirt",
          "Jacket",
          "Jacket",
          "Jacket",
          "Jacket",
          "Trousers",
          "Trousers",
          "Jacket",
          "Shirt",
          "Trousers",
          "Trousers",
          "Jacket",
          "Jacket",
          "Trousers",
          "Shirt",
          "Shirt",
          "Jacket",
          "Trousers",
          "Trousers",
          "Shirt",
          "Jacket",
          "Jacket",
          "Trousers",
          "Trousers",
          "Jacket",
          "Trousers",
          "Shirt",
          "Trousers",
          "Jacket",
          "Shirt",
          "Shirt",
          "Shirt",
          "Trousers",
          "Shirt",
          "Trousers",
          "Trousers",
          "Jacket",
          "Jacket",
          "Shirt",
          "Trousers",
          "Shirt",
          "Trousers",
          "Trousers",
          "Trousers",
          "Trousers",
          "Trousers",
          "Shirt",
          "Jacket",
          "Shirt",
          "Trousers",
          "Trousers",
          "Trousers",
          "Shirt",
          "Trousers",
          "Shirt",
          "Trousers",
          "Jacket",
          "Trousers",
          "Trousers",
          "Trousers",
          "Shirt",
          "Trousers",
          "Shirt",
          "Shirt",
          "Trousers",
          "Trousers",
          "Trousers",
          "Jacket",
          "Jacket",
          "Jacket",
          "Trousers",
          "Trousers",
          "Trousers",
          "Shirt",
          "Trousers",
          "Trousers",
          "Trousers",
          "Shirt",
          "Shirt",
          "Shirt",
          "Jacket",
          "Trousers",
          "Trousers",
          "Shirt",
          "Shirt",
          "Jacket",
          "Trousers",
          "Trousers",
          "Jacket",
          "Shirt",
          "Jacket",
          "Shirt",
          "Trousers",
          "Shirt",
          "Trousers",
          "Jacket",
          "Trousers",
          "Trousers",
          "Trousers",
          "Jacket",
          "Trousers",
          "Shirt",
          "Jacket",
          "Shirt",
          "Trousers",
          "Trousers",
          "Jacket",
          "Shirt",
          "Shirt",
          "Shirt",
          "Trousers",
          "Jacket",
          "Trousers",
          "Trousers",
          "Shirt",
          "Trousers",
          "Shirt",
          "Trousers",
          "Trousers",
          "Shirt",
          "Jacket",
          "Shirt",
          "Shirt",
          "Trousers",
          "Shirt",
          "Jacket",
          "Shirt",
          "Trousers",
          "Jacket",
          "Trousers",
          "Shirt",
          "Trousers",
          "Jacket",
          "Shirt",
          "Jacket",
          "Jacket",
          "Jacket",
          "Trousers",
          "Jacket",
          "Trousers",
          "Jacket",
          "Trousers",
          "Jacket",
          "Shirt",
          "Jacket",
          "Jacket",
          "Jacket",
          "Shirt",
          "Trousers",
          "Jacket",
          "Trousers",
          "Trousers",
          "Trousers",
          "Jacket",
          "Trousers",
          "Jacket",
          "Jacket",
          "Jacket",
          "Trousers",
          "Jacket",
          "Shirt",
          "Shirt",
          "Shirt",
          "Shirt",
          "Jacket",
          "Trousers",
          "Trousers",
          "Trousers",
          "Shirt",
          "Shirt",
          "Shirt",
          "Shirt",
          "Shirt",
          "Jacket",
          "Trousers",
          "Trousers",
          "Trousers",
          "Jacket",
          "Trousers",
          "Trousers",
          "Trousers",
          "Trousers",
          "Jacket",
          "Jacket",
          "Trousers",
          "Shirt",
          "Shirt",
          "Trousers",
          "Jacket",
          "Trousers",
          "Trousers",
          "Trousers",
          "Trousers",
          "Jacket",
          "Jacket",
          "Trousers",
          "Jacket",
          "Trousers",
          "Jacket",
          "Shirt",
          "Shirt",
          "Shirt",
          "Shirt",
          "Jacket",
          "Jacket",
          "Shirt",
          "Trousers",
          "Trousers",
          "Jacket",
          "Shirt",
          "Jacket",
          "Trousers",
          "Jacket",
          "Trousers",
          "Shirt",
          "Jacket",
          "Shirt",
          "Trousers",
          "Jacket",
          "Trousers",
          "Jacket",
          "Trousers",
          "Trousers",
          "Trousers",
          "Jacket",
          "Shirt",
          "Shirt",
          "Jacket",
          "Shirt",
          "Jacket",
          "Trousers",
          "Jacket",
          "Jacket",
          "Jacket",
          "Shirt",
          "Jacket",
          "Jacket",
          "Shirt",
          "Shirt",
          "Shirt",
          "Jacket",
          "Shirt",
          "Jacket",
          "Trousers",
          "Shirt",
          "Shirt",
          "Trousers",
          "Trousers",
          "Shirt",
          "Jacket",
          "Trousers",
          "Jacket",
          "Jacket",
          "Shirt",
          "Shirt",
          "Trousers",
          "Trousers",
          "Trousers",
          "Shirt",
          "Jacket",
          "Shirt",
          "Jacket",
          "Shirt",
          "Jacket",
          "Jacket",
          "Jacket",
          "Jacket",
          "Jacket",
          "Shirt",
          "Jacket",
          "Shirt",
          "Shirt",
          "Shirt",
          "Jacket",
          "Shirt",
          "Shirt",
          "Shirt",
          "Shirt",
          "Jacket",
          "Shirt",
          "Jacket",
          "Shirt",
          "Trousers",
          "Jacket",
          "Shirt",
          "Shirt",
          "Shirt",
          "Shirt",
          "Jacket",
          "Shirt",
          "Trousers",
          "Shirt",
          "Trousers",
          "Jacket",
          "Jacket",
          "Jacket",
          "Trousers",
          "Shirt",
          "Jacket",
          "Trousers",
          "Jacket",
          "Shirt",
          "Jacket",
          "Jacket",
          "Shirt",
          "Jacket",
          "Shirt",
          "Shirt",
          "Shirt",
          "Shirt",
          "Trousers",
          "Trousers",
          "Jacket",
          "Trousers",
          "Jacket",
          "Trousers",
          "Shirt",
          "Shirt",
          "Jacket",
          "Jacket",
          "Shirt",
          "Trousers",
          "Jacket",
          "Shirt",
          "Jacket",
          "Jacket",
          "Jacket",
          "Jacket",
          "Jacket",
          "Trousers",
          "Jacket",
          "Jacket",
          "Shirt",
          "Shirt",
          "Shirt",
          "Jacket",
          "Jacket",
          "Jacket",
          "Shirt",
          "Shirt",
          "Jacket",
          "Jacket",
          "Shirt",
          "Shirt",
          "Jacket",
          "Jacket",
          "Jacket",
          "Shirt",
          "Shirt",
          "Shirt",
          "Jacket",
          "Trousers",
          "Jacket",
          "Trousers",
          "Shirt",
          "Shirt",
          "Shirt",
          "Jacket",
          "Jacket",
          "Trousers",
          "Trousers",
          "Shirt",
          "Trousers",
          "Jacket",
          "Jacket",
          "Shirt",
          "Jacket",
          "Trousers",
          "Trousers",
          "Shirt",
          "Trousers",
          "Shirt",
          "Trousers",
          "Shirt",
          "Shirt",
          "Trousers",
          "Trousers",
          "Shirt",
          "Jacket",
          "Jacket",
          "Trousers",
          "Jacket",
          "Jacket",
          "Shirt",
          "Jacket",
          "Jacket",
          "Shirt",
          "Trousers",
          "Trousers",
          "Trousers",
          "Shirt",
          "Shirt",
          "Trousers",
          "Trousers",
          "Shirt",
          "Jacket",
          "Jacket",
          "Jacket",
          "Jacket",
          "Shirt",
          "Trousers",
          "Shirt",
          "Trousers",
          "Jacket",
          "Shirt",
          "Trousers",
          "Jacket",
          "Jacket",
          "Jacket",
          "Trousers",
          "Jacket",
          "Jacket",
          "Shirt",
          "Jacket",
          "Shirt",
          "Shirt",
          "Jacket",
          "Trousers",
          "Trousers",
          "Jacket",
          "Jacket",
          "Trousers",
          "Jacket",
          "Trousers",
          "Jacket",
          "Shirt",
          "Trousers",
          "Shirt",
          "Shirt",
          "Jacket",
          "Jacket",
          "Trousers",
          "Trousers",
          "Trousers",
          "Shirt",
          "Shirt",
          "Jacket",
          "Jacket",
          "Shirt",
          "Shirt",
          "Jacket",
          "Jacket",
          "Shirt",
          "Trousers",
          "Trousers",
          "Shirt",
          "Shirt",
          "Shirt",
          "Shirt",
          "Trousers",
          "Shirt",
          "Shirt",
          "Jacket",
          "Trousers",
          "Trousers",
          "Trousers",
          "Shirt",
          "Jacket",
          "Shirt",
          "Trousers",
          "Jacket",
          "Shirt",
          "Jacket",
          "Jacket",
          "Shirt",
          "Trousers",
          "Shirt",
          "Jacket",
          "Trousers",
          "Jacket",
          "Shirt",
          "Jacket",
          "Trousers",
          "Shirt",
          "Shirt",
          "Trousers",
          "Jacket",
          "Shirt",
          "Shirt",
          "Jacket",
          "Shirt",
          "Jacket",
          "Jacket",
          "Shirt",
          "Jacket",
          "Jacket",
          "Jacket",
          "Shirt",
          "Jacket",
          "Trousers",
          "Shirt",
          "Trousers",
          "Trousers",
          "Jacket",
          "Trousers",
          "Trousers",
          "Shirt",
          "Trousers",
          "Shirt",
          "Jacket",
          "Trousers",
          "Shirt",
          "Trousers",
          "Trousers",
          "Trousers",
          "Jacket",
          "Shirt",
          "Jacket",
          "Jacket",
          "Trousers",
          "Trousers",
          "Jacket",
          "Trousers",
          "Jacket",
          "Trousers",
          "Trousers",
          "Jacket",
          "Trousers",
          "Trousers",
          "Trousers",
          "Jacket",
          "Trousers",
          "Shirt",
          "Jacket",
          "Shirt",
          "Trousers",
          "Jacket",
          "Trousers",
          "Trousers",
          "Trousers",
          "Jacket",
          "Jacket",
          "Jacket",
          "Trousers",
          "Shirt",
          "Trousers",
          "Shirt",
          "Jacket",
          "Trousers",
          "Shirt",
          "Shirt",
          "Trousers",
          "Trousers",
          "Jacket",
          "Trousers",
          "Jacket",
          "Trousers",
          "Shirt",
          "Jacket",
          "Shirt",
          "Jacket",
          "Shirt",
          "Jacket",
          "Shirt",
          "Jacket",
          "Trousers",
          "Shirt",
          "Shirt",
          "Jacket",
          "Shirt",
          "Shirt",
          "Shirt",
          "Trousers",
          "Trousers",
          "Jacket",
          "Jacket",
          "Shirt",
          "Jacket",
          "Jacket",
          "Trousers",
          "Jacket",
          "Jacket",
          "Shirt",
          "Shirt",
          "Shirt",
          "Shirt",
          "Trousers",
          "Jacket",
          "Shirt",
          "Shirt",
          "Trousers",
          "Shirt",
          "Jacket",
          "Trousers",
          "Trousers",
          "Trousers",
          "Trousers",
          "Trousers",
          "Shirt",
          "Jacket",
          "Jacket",
          "Shirt",
          "Shirt",
          "Trousers",
          "Trousers",
          "Jacket",
          "Jacket",
          "Jacket",
          "Jacket",
          "Shirt",
          "Trousers",
          "Trousers",
          "Jacket",
          "Shirt",
          "Shirt",
          "Trousers",
          "Trousers",
          "Jacket",
          "Trousers",
          "Jacket",
          "Jacket",
          "Trousers",
          "Trousers",
          "Trousers",
          "Shirt",
          "Trousers",
          "Jacket",
          "Trousers",
          "Trousers",
          "Trousers",
          "Jacket",
          "Jacket",
          "Trousers",
          "Trousers",
          "Shirt",
          "Shirt",
          "Shirt",
          "Shirt",
          "Shirt",
          "Trousers",
          "Shirt",
          "Trousers",
          "Shirt",
          "Shirt",
          "Shirt",
          "Shirt",
          "Shirt",
          "Trousers",
          "Trousers",
          "Trousers",
          "Trousers",
          "Shirt",
          "Trousers",
          "Trousers",
          "Trousers",
          "Shirt",
          "Shirt",
          "Trousers",
          "Shirt",
          "Shirt",
          "Shirt",
          "Trousers",
          "Trousers",
          "Jacket",
          "Shirt",
          "Shirt",
          "Shirt",
          "Jacket",
          "Jacket",
          "Trousers",
          "Trousers",
          "Jacket",
          "Trousers",
          "Trousers",
          "Trousers",
          "Trousers",
          "Jacket",
          "Shirt",
          "Shirt",
          "Shirt",
          "Jacket",
          "Jacket",
          "Shirt",
          "Shirt",
          "Trousers",
          "Trousers",
          "Jacket",
          "Trousers",
          "Trousers",
          "Jacket",
          "Jacket",
          "Trousers",
          "Jacket",
          "Trousers",
          "Jacket",
          "Jacket",
          "Jacket",
          "Shirt",
          "Shirt",
          "Trousers",
          "Shirt",
          "Trousers",
          "Trousers",
          "Shirt",
          "Trousers",
          "Jacket",
          "Trousers",
          "Jacket",
          "Trousers",
          "Shirt",
          "Trousers",
          "Trousers",
          "Trousers",
          "Trousers",
          "Jacket",
          "Shirt",
          "Shirt",
          "Trousers",
          "Shirt",
          "Jacket",
          "Trousers",
          "Jacket",
          "Trousers",
          "Jacket",
          "Trousers",
          "Jacket",
          "Trousers",
          "Shirt",
          "Trousers",
          "Jacket",
          "Trousers",
          "Shirt",
          "Jacket",
          "Shirt",
          "Shirt",
          "Jacket",
          "Shirt",
          "Trousers",
          "Trousers",
          "Jacket",
          "Jacket",
          "Trousers",
          "Trousers",
          "Jacket",
          "Shirt",
          "Trousers",
          "Shirt",
          "Jacket",
          "Trousers",
          "Jacket",
          "Jacket",
          "Trousers",
          "Jacket",
          "Jacket",
          "Jacket",
          "Trousers",
          "Jacket",
          "Jacket",
          "Shirt",
          "Trousers",
          "Jacket",
          "Jacket",
          "Jacket",
          "Jacket",
          "Shirt",
          "Shirt",
          "Shirt",
          "Jacket",
          "Jacket",
          "Shirt",
          "Trousers",
          "Shirt",
          "Shirt",
          "Trousers",
          "Jacket",
          "Trousers",
          "Shirt",
          "Trousers",
          "Shirt",
          "Shirt",
          "Trousers",
          "Shirt",
          "Shirt",
          "Trousers",
          "Shirt",
          "Trousers",
          "Shirt",
          "Shirt",
          "Shirt",
          "Shirt",
          "Shirt",
          "Trousers",
          "Shirt",
          "Shirt",
          "Trousers",
          "Trousers",
          "Jacket",
          "Jacket",
          "Jacket",
          "Trousers",
          "Shirt",
          "Jacket",
          "Shirt",
          "Shirt",
          "Jacket",
          "Shirt",
          "Jacket",
          "Trousers",
          "Shirt",
          "Shirt",
          "Jacket",
          "Jacket",
          "Shirt",
          "Jacket",
          "Jacket",
          "Jacket",
          "Jacket",
          "Jacket",
          "Jacket",
          "Trousers",
          "Jacket",
          "Shirt",
          "Trousers",
          "Shirt",
          "Jacket",
          "Jacket",
          "Shirt",
          "Shirt",
          "Shirt",
          "Trousers",
          "Trousers",
          "Jacket",
          "Trousers",
          "Jacket",
          "Shirt",
          "Trousers",
          "Jacket",
          "Trousers",
          "Shirt",
          "Trousers",
          "Jacket",
          "Trousers",
          "Shirt",
          "Shirt",
          "Shirt",
          "Trousers",
          "Trousers",
          "Trousers",
          "Trousers",
          "Shirt",
          "Jacket",
          "Trousers",
          "Shirt",
          "Trousers",
          "Jacket",
          "Trousers",
          "Jacket",
          "Trousers",
          "Jacket",
          "Trousers",
          "Shirt",
          "Shirt",
          "Trousers",
          "Jacket",
          "Shirt",
          "Shirt",
          "Shirt",
          "Shirt",
          "Shirt",
          "Shirt",
          "Jacket",
          "Jacket",
          "Jacket",
          "Shirt",
          "Trousers",
          "Trousers",
          "Trousers",
          "Trousers",
          "Jacket",
          "Jacket",
          "Trousers",
          "Jacket",
          "Jacket",
          "Shirt",
          "Trousers",
          "Jacket",
          "Jacket",
          "Shirt",
          "Jacket",
          "Shirt",
          "Shirt",
          "Trousers",
          "Trousers",
          "Jacket",
          "Trousers",
          "Shirt",
          "Jacket",
          "Shirt",
          "Shirt",
          "Shirt",
          "Jacket",
          "Jacket",
          "Jacket",
          "Shirt",
          "Shirt",
          "Jacket",
          "Jacket",
          "Shirt",
          "Shirt",
          "Trousers",
          "Trousers",
          "Trousers",
          "Jacket",
          "Jacket",
          "Trousers",
          "Shirt",
          "Jacket",
          "Trousers",
          "Shirt",
          "Jacket",
          "Jacket",
          "Trousers",
          "Jacket",
          "Jacket",
          "Shirt",
          "Trousers",
          "Jacket",
          "Trousers",
          "Trousers",
          "Shirt",
          "Trousers",
          "Shirt",
          "Trousers",
          "Shirt",
          "Jacket",
          "Jacket",
          "Jacket",
          "Shirt",
          "Trousers",
          "Shirt",
          "Trousers",
          "Jacket",
          "Trousers",
          "Trousers",
          "Jacket",
          "Jacket",
          "Trousers",
          "Jacket",
          "Jacket",
          "Jacket",
          "Shirt",
          "Shirt",
          "Jacket",
          "Trousers",
          "Trousers",
          "Jacket",
          "Jacket",
          "Shirt",
          "Trousers",
          "Jacket",
          "Jacket",
          "Jacket",
          "Shirt",
          "Shirt",
          "Trousers",
          "Shirt",
          "Shirt",
          "Shirt",
          "Shirt",
          "Trousers",
          "Shirt",
          "Shirt",
          "Jacket",
          "Trousers",
          "Trousers",
          "Trousers",
          "Trousers",
          "Trousers",
          "Trousers",
          "Shirt",
          "Trousers",
          "Jacket",
          "Shirt",
          "Jacket",
          "Jacket",
          "Jacket",
          "Jacket",
          "Trousers",
          "Jacket",
          "Trousers",
          "Jacket",
          "Trousers",
          "Jacket",
          "Shirt",
          "Shirt",
          "Trousers",
          "Jacket",
          "Jacket",
          "Shirt",
          "Trousers",
          "Jacket",
          "Trousers",
          "Shirt",
          "Jacket",
          "Shirt",
          "Trousers",
          "Trousers",
          "Trousers",
          "Jacket",
          "Jacket",
          "Jacket",
          "Shirt",
          "Jacket",
          "Jacket",
          "Trousers",
          "Jacket",
          "Jacket",
          "Shirt",
          "Trousers",
          "Shirt",
          "Jacket",
          "Jacket",
          "Shirt",
          "Shirt",
          "Trousers",
          "Shirt",
          "Trousers",
          "Jacket",
          "Trousers",
          "Jacket",
          "Jacket",
          "Shirt",
          "Jacket",
          "Jacket",
          "Jacket",
          "Jacket",
          "Shirt",
          "Jacket",
          "Jacket",
          "Shirt",
          "Shirt",
          "Jacket",
          "Jacket",
          "Trousers",
          "Shirt",
          "Trousers",
          "Trousers",
          "Jacket",
          "Jacket",
          "Trousers",
          "Shirt",
          "Shirt",
          "Shirt",
          "Jacket",
          "Jacket",
          "Trousers",
          "Trousers",
          "Trousers",
          "Jacket",
          "Trousers",
          "Trousers",
          "Shirt",
          "Shirt",
          "Shirt",
          "Shirt",
          "Jacket",
          "Shirt",
          "Shirt",
          "Shirt",
          "Trousers",
          "Jacket",
          "Trousers",
          "Trousers",
          "Shirt",
          "Jacket",
          "Jacket",
          "Trousers",
          "Shirt",
          "Shirt",
          "Shirt",
          "Jacket",
          "Trousers",
          "Shirt",
          "Jacket",
          "Trousers",
          "Jacket",
          "Trousers",
          "Shirt",
          "Jacket",
          "Jacket",
          "Trousers",
          "Shirt",
          "Trousers",
          "Shirt",
          "Trousers",
          "Trousers",
          "Trousers",
          "Trousers",
          "Shirt",
          "Shirt",
          "Trousers",
          "Jacket",
          "Trousers",
          "Jacket",
          "Jacket",
          "Shirt",
          "Jacket",
          "Jacket",
          "Trousers",
          "Jacket",
          "Trousers",
          "Trousers",
          "Trousers",
          "Jacket",
          "Shirt",
          "Trousers",
          "Jacket",
          "Jacket",
          "Shirt",
          "Shirt",
          "Shirt",
          "Trousers",
          "Trousers",
          "Shirt",
          "Jacket",
          "Shirt",
          "Shirt",
          "Jacket",
          "Shirt",
          "Shirt",
          "Jacket",
          "Jacket",
          "Trousers",
          "Jacket",
          "Trousers",
          "Jacket",
          "Jacket",
          "Trousers",
          "Shirt",
          "Trousers",
          "Jacket",
          "Trousers",
          "Jacket",
          "Shirt",
          "Trousers",
          "Shirt",
          "Jacket",
          "Jacket",
          "Shirt",
          "Jacket",
          "Jacket",
          "Trousers",
          "Jacket",
          "Trousers",
          "Jacket",
          "Shirt",
          "Shirt",
          "Trousers",
          "Trousers",
          "Jacket",
          "Jacket",
          "Trousers",
          "Trousers",
          "Shirt",
          "Jacket",
          "Jacket",
          "Trousers",
          "Trousers",
          "Trousers",
          "Shirt",
          "Jacket",
          "Shirt",
          "Trousers",
          "Jacket",
          "Trousers",
          "Shirt",
          "Trousers",
          "Jacket",
          "Shirt",
          "Shirt",
          "Trousers",
          "Trousers",
          "Jacket",
          "Trousers",
          "Jacket",
          "Trousers",
          "Trousers",
          "Shirt",
          "Jacket",
          "Jacket",
          "Shirt",
          "Shirt",
          "Jacket",
          "Trousers",
          "Shirt",
          "Jacket",
          "Jacket",
          "Shirt",
          "Jacket",
          "Jacket",
          "Jacket",
          "Trousers",
          "Jacket",
          "Jacket",
          "Trousers",
          "Shirt",
          "Jacket",
          "Jacket",
          "Shirt",
          "Trousers",
          "Trousers",
          "Shirt",
          "Shirt",
          "Shirt",
          "Trousers",
          "Trousers",
          "Trousers",
          "Trousers",
          "Shirt",
          "Trousers",
          "Trousers",
          "Shirt",
          "Trousers",
          "Jacket",
          "Trousers",
          "Trousers",
          "Shirt",
          "Trousers",
          "Trousers",
          "Shirt",
          "Trousers",
          "Jacket",
          "Trousers",
          "Trousers",
          "Shirt",
          "Shirt",
          "Shirt",
          "Trousers",
          "Shirt",
          "Trousers",
          "Shirt",
          "Shirt",
          "Shirt",
          "Trousers",
          "Trousers",
          "Shirt",
          "Trousers",
          "Trousers",
          "Jacket",
          "Jacket",
          "Shirt",
          "Trousers",
          "Trousers",
          "Shirt",
          "Jacket",
          "Jacket",
          "Shirt",
          "Jacket",
          "Trousers",
          "Shirt",
          "Jacket",
          "Trousers",
          "Shirt",
          "Jacket",
          "Trousers",
          "Trousers",
          "Trousers",
          "Trousers",
          "Trousers",
          "Jacket",
          "Shirt",
          "Trousers",
          "Trousers",
          "Shirt",
          "Shirt",
          "Shirt",
          "Shirt",
          "Trousers",
          "Jacket",
          "Jacket",
          "Shirt",
          "Shirt",
          "Trousers",
          "Jacket",
          "Trousers",
          "Jacket",
          "Shirt",
          "Shirt",
          "Trousers",
          "Trousers",
          "Shirt",
          "Shirt",
          "Trousers",
          "Shirt",
          "Jacket",
          "Shirt",
          "Trousers",
          "Trousers",
          "Jacket",
          "Shirt",
          "Trousers",
          "Trousers",
          "Shirt",
          "Shirt",
          "Trousers",
          "Trousers",
          "Trousers",
          "Shirt",
          "Jacket",
          "Shirt",
          "Shirt",
          "Jacket",
          "Shirt",
          "Jacket",
          "Shirt",
          "Shirt",
          "Jacket",
          "Shirt",
          "Shirt",
          "Jacket",
          "Shirt",
          "Shirt",
          "Shirt",
          "Shirt",
          "Trousers",
          "Shirt",
          "Jacket",
          "Trousers",
          "Trousers",
          "Shirt",
          "Shirt",
          "Jacket",
          "Trousers",
          "Jacket",
          "Shirt",
          "Shirt",
          "Jacket",
          "Jacket",
          "Trousers",
          "Jacket",
          "Shirt",
          "Shirt",
          "Jacket",
          "Jacket",
          "Jacket",
          "Jacket",
          "Jacket",
          "Shirt",
          "Shirt",
          "Trousers",
          "Trousers",
          "Shirt",
          "Shirt",
          "Shirt",
          "Jacket",
          "Shirt",
          "Trousers",
          "Jacket",
          "Trousers",
          "Jacket",
          "Shirt",
          "Shirt",
          "Shirt",
          "Shirt",
          "Trousers",
          "Trousers",
          "Trousers",
          "Jacket",
          "Shirt",
          "Jacket",
          "Trousers",
          "Jacket",
          "Shirt",
          "Shirt",
          "Trousers",
          "Shirt",
          "Trousers",
          "Trousers",
          "Trousers",
          "Trousers",
          "Shirt",
          "Trousers",
          "Shirt",
          "Shirt",
          "Jacket",
          "Jacket",
          "Trousers",
          "Shirt",
          "Trousers",
          "Trousers",
          "Jacket",
          "Shirt",
          "Jacket",
          "Trousers",
          "Trousers",
          "Trousers",
          "Trousers",
          "Shirt",
          "Trousers",
          "Jacket",
          "Shirt",
          "Shirt",
          "Shirt",
          "Jacket",
          "Jacket",
          "Jacket",
          "Shirt",
          "Jacket",
          "Shirt",
          "Jacket",
          "Shirt",
          "Trousers",
          "Shirt",
          "Shirt",
          "Shirt",
          "Shirt",
          "Jacket",
          "Jacket",
          "Shirt",
          "Trousers",
          "Shirt",
          "Trousers",
          "Shirt",
          "Trousers",
          "Shirt",
          "Shirt",
          "Shirt",
          "Jacket",
          "Jacket",
          "Trousers",
          "Trousers",
          "Shirt",
          "Jacket",
          "Shirt",
          "Trousers",
          "Shirt",
          "Shirt",
          "Jacket",
          "Jacket",
          "Shirt",
          "Jacket",
          "Shirt",
          "Jacket",
          "Jacket",
          "Jacket",
          "Shirt",
          "Jacket",
          "Jacket",
          "Shirt",
          "Jacket",
          "Trousers",
          "Jacket",
          "Shirt",
          "Jacket",
          "Trousers",
          "Trousers",
          "Shirt",
          "Jacket",
          "Jacket",
          "Shirt",
          "Shirt",
          "Shirt",
          "Trousers",
          "Jacket",
          "Trousers",
          "Trousers",
          "Trousers",
          "Trousers",
          "Trousers",
          "Trousers",
          "Shirt",
          "Jacket",
          "Shirt",
          "Shirt",
          "Trousers",
          "Trousers",
          "Jacket",
          "Shirt",
          "Jacket",
          "Jacket",
          "Jacket",
          "Shirt",
          "Shirt",
          "Jacket",
          "Trousers",
          "Trousers",
          "Jacket",
          "Shirt",
          "Shirt",
          "Jacket",
          "Trousers",
          "Shirt",
          "Jacket",
          "Shirt",
          "Jacket",
          "Shirt",
          "Jacket",
          "Shirt",
          "Shirt",
          "Shirt",
          "Shirt",
          "Shirt",
          "Trousers",
          "Shirt",
          "Shirt",
          "Trousers",
          "Trousers",
          "Shirt",
          "Jacket",
          "Shirt",
          "Trousers",
          "Shirt",
          "Shirt",
          "Shirt",
          "Trousers",
          "Trousers",
          "Shirt",
          "Jacket",
          "Trousers",
          "Jacket",
          "Jacket",
          "Shirt",
          "Shirt",
          "Jacket",
          "Jacket",
          "Trousers",
          "Trousers",
          "Jacket",
          "Jacket",
          "Jacket",
          "Jacket",
          "Shirt",
          "Jacket",
          "Trousers",
          "Shirt",
          "Shirt",
          "Trousers",
          "Trousers",
          "Trousers",
          "Jacket",
          "Shirt",
          "Jacket",
          "Jacket",
          "Shirt",
          "Jacket",
          "Jacket",
          "Jacket",
          "Jacket",
          "Trousers",
          "Jacket",
          "Trousers",
          "Jacket",
          "Trousers",
          "Trousers",
          "Shirt",
          "Trousers",
          "Jacket",
          "Shirt",
          "Shirt",
          "Jacket",
          "Jacket",
          "Shirt",
          "Jacket",
          "Jacket",
          "Shirt",
          "Trousers",
          "Shirt",
          "Shirt",
          "Shirt",
          "Trousers",
          "Trousers",
          "Shirt",
          "Jacket",
          "Shirt",
          "Jacket",
          "Jacket",
          "Trousers",
          "Jacket",
          "Jacket",
          "Jacket",
          "Shirt",
          "Trousers",
          "Shirt",
          "Shirt",
          "Trousers",
          "Trousers",
          "Shirt",
          "Jacket",
          "Jacket",
          "Trousers",
          "Jacket",
          "Shirt",
          "Trousers",
          "Shirt",
          "Shirt",
          "Trousers",
          "Jacket",
          "Shirt",
          "Jacket",
          "Trousers",
          "Shirt",
          "Jacket",
          "Jacket",
          "Jacket",
          "Jacket",
          "Trousers",
          "Trousers",
          "Shirt",
          "Shirt",
          "Shirt",
          "Jacket",
          "Jacket",
          "Jacket",
          "Trousers",
          "Trousers",
          "Shirt",
          "Jacket",
          "Jacket",
          "Trousers",
          "Shirt",
          "Shirt",
          "Trousers",
          "Jacket",
          "Trousers",
          "Shirt",
          "Trousers",
          "Shirt",
          "Shirt",
          "Jacket",
          "Trousers",
          "Shirt",
          "Trousers",
          "Shirt",
          "Jacket",
          "Shirt",
          "Trousers",
          "Jacket",
          "Trousers",
          "Shirt",
          "Jacket",
          "Shirt",
          "Shirt",
          "Shirt",
          "Shirt",
          "Jacket",
          "Jacket",
          "Jacket",
          "Shirt",
          "Trousers",
          "Shirt",
          "Jacket",
          "Jacket",
          "Trousers",
          "Shirt",
          "Trousers",
          "Trousers",
          "Trousers",
          "Shirt",
          "Trousers",
          "Jacket",
          "Trousers",
          "Shirt",
          "Jacket",
          "Jacket",
          "Shirt",
          "Trousers",
          "Jacket",
          "Jacket",
          "Jacket",
          "Jacket",
          "Trousers",
          "Jacket",
          "Shirt",
          "Shirt",
          "Shirt",
          "Shirt",
          "Trousers",
          "Trousers",
          "Shirt",
          "Shirt",
          "Trousers",
          "Shirt",
          "Jacket",
          "Jacket",
          "Shirt",
          "Jacket",
          "Jacket",
          "Jacket",
          "Shirt",
          "Jacket",
          "Trousers",
          "Jacket",
          "Shirt",
          "Jacket",
          "Jacket",
          "Shirt",
          "Trousers",
          "Trousers",
          "Jacket",
          "Jacket",
          "Jacket",
          "Jacket",
          "Shirt",
          "Jacket",
          "Shirt",
          "Jacket",
          "Trousers",
          "Trousers",
          "Shirt",
          "Shirt",
          "Jacket",
          "Trousers",
          "Trousers",
          "Shirt",
          "Jacket",
          "Trousers",
          "Jacket",
          "Jacket",
          "Trousers",
          "Trousers",
          "Jacket",
          "Shirt",
          "Trousers",
          "Trousers",
          "Trousers",
          "Jacket",
          "Trousers",
          "Trousers",
          "Jacket",
          "Jacket",
          "Jacket",
          "Shirt",
          "Shirt",
          "Jacket",
          "Trousers",
          "Jacket",
          "Trousers",
          "Shirt",
          "Trousers",
          "Trousers",
          "Shirt",
          "Jacket",
          "Trousers",
          "Trousers",
          "Shirt",
          "Trousers",
          "Shirt",
          "Jacket",
          "Shirt",
          "Jacket",
          "Shirt",
          "Trousers",
          "Shirt",
          "Jacket",
          "Shirt",
          "Shirt",
          "Shirt",
          "Jacket",
          "Jacket",
          "Jacket",
          "Trousers",
          "Trousers",
          "Trousers",
          "Shirt",
          "Shirt",
          "Shirt",
          "Shirt",
          "Jacket",
          "Trousers",
          "Jacket",
          "Jacket",
          "Jacket",
          "Trousers",
          "Shirt",
          "Jacket",
          "Shirt",
          "Jacket",
          "Trousers",
          "Jacket",
          "Jacket",
          "Trousers",
          "Jacket",
          "Trousers",
          "Jacket",
          "Trousers",
          "Jacket",
          "Jacket",
          "Trousers",
          "Shirt",
          "Shirt",
          "Shirt",
          "Shirt",
          "Shirt",
          "Shirt",
          "Trousers",
          "Shirt",
          "Jacket",
          "Shirt",
          "Shirt",
          "Shirt",
          "Trousers",
          "Shirt",
          "Trousers",
          "Trousers",
          "Shirt",
          "Trousers",
          "Shirt",
          "Shirt",
          "Trousers",
          "Shirt",
          "Trousers",
          "Trousers",
          "Jacket",
          "Shirt",
          "Shirt",
          "Trousers",
          "Shirt",
          "Trousers",
          "Jacket",
          "Trousers",
          "Trousers",
          "Shirt",
          "Shirt",
          "Jacket",
          "Jacket",
          "Shirt",
          "Jacket",
          "Jacket",
          "Trousers",
          "Trousers",
          "Shirt",
          "Shirt",
          "Shirt",
          "Jacket",
          "Jacket",
          "Trousers",
          "Shirt",
          "Shirt",
          "Shirt",
          "Shirt",
          "Jacket",
          "Trousers",
          "Shirt",
          "Trousers",
          "Trousers",
          "Trousers",
          "Trousers",
          "Trousers",
          "Trousers",
          "Trousers",
          "Jacket",
          "Shirt",
          "Shirt",
          "Trousers",
          "Jacket",
          "Shirt",
          "Trousers",
          "Trousers",
          "Trousers",
          "Shirt",
          "Shirt",
          "Trousers",
          "Trousers",
          "Jacket",
          "Trousers",
          "Shirt",
          "Shirt",
          "Trousers",
          "Jacket",
          "Trousers",
          "Trousers",
          "Shirt",
          "Jacket",
          "Jacket",
          "Shirt",
          "Shirt",
          "Jacket",
          "Jacket",
          "Jacket",
          "Shirt",
          "Jacket",
          "Shirt",
          "Jacket",
          "Trousers",
          "Jacket",
          "Shirt",
          "Jacket",
          "Trousers",
          "Shirt",
          "Shirt",
          "Trousers",
          "Jacket",
          "Jacket",
          "Shirt",
          "Jacket",
          "Trousers",
          "Shirt",
          "Shirt",
          "Jacket",
          "Shirt",
          "Shirt",
          "Shirt",
          "Jacket",
          "Jacket",
          "Shirt",
          "Jacket",
          "Trousers",
          "Jacket",
          "Jacket",
          "Shirt",
          "Jacket",
          "Shirt",
          "Trousers",
          "Jacket",
          "Jacket",
          "Jacket",
          "Shirt",
          "Shirt",
          "Shirt",
          "Shirt",
          "Trousers",
          "Shirt",
          "Shirt",
          "Shirt",
          "Jacket",
          "Jacket",
          "Trousers",
          "Shirt",
          "Jacket",
          "Shirt",
          "Jacket",
          "Jacket",
          "Trousers",
          "Jacket",
          "Jacket",
          "Shirt",
          "Shirt",
          "Shirt",
          "Shirt",
          "Shirt",
          "Jacket",
          "Shirt",
          "Shirt",
          "Shirt",
          "Trousers",
          "Trousers",
          "Shirt",
          "Trousers",
          "Jacket",
          "Trousers",
          "Jacket",
          "Shirt",
          "Trousers",
          "Jacket",
          "Trousers",
          "Trousers",
          "Jacket",
          "Shirt",
          "Shirt",
          "Jacket",
          "Shirt",
          "Shirt",
          "Jacket",
          "Jacket",
          "Jacket",
          "Trousers",
          "Trousers",
          "Jacket",
          "Jacket",
          "Jacket",
          "Jacket",
          "Jacket",
          "Jacket",
          "Shirt",
          "Jacket",
          "Trousers",
          "Jacket",
          "Trousers",
          "Jacket",
          "Jacket",
          "Shirt",
          "Trousers",
          "Jacket",
          "Jacket",
          "Jacket",
          "Jacket",
          "Trousers",
          "Jacket",
          "Shirt",
          "Shirt",
          "Trousers",
          "Shirt",
          "Jacket",
          "Jacket",
          "Shirt",
          "Trousers",
          "Jacket",
          "Trousers",
          "Shirt",
          "Shirt",
          "Trousers",
          "Trousers",
          "Trousers",
          "Trousers",
          "Trousers",
          "Shirt",
          "Trousers",
          "Shirt",
          "Trousers",
          "Jacket",
          "Shirt",
          "Trousers",
          "Trousers",
          "Trousers",
          "Trousers",
          "Jacket",
          "Shirt",
          "Trousers",
          "Jacket",
          "Jacket",
          "Shirt",
          "Trousers",
          "Jacket",
          "Shirt",
          "Jacket",
          "Jacket",
          "Shirt",
          "Jacket",
          "Jacket",
          "Trousers",
          "Trousers",
          "Shirt",
          "Jacket",
          "Trousers",
          "Jacket",
          "Shirt",
          "Trousers",
          "Trousers",
          "Jacket",
          "Trousers",
          "Trousers",
          "Trousers",
          "Shirt",
          "Shirt",
          "Shirt",
          "Jacket",
          "Trousers",
          "Trousers",
          "Jacket",
          "Trousers",
          "Jacket",
          "Jacket",
          "Trousers",
          "Trousers",
          "Shirt",
          "Shirt",
          "Trousers",
          "Trousers",
          "Shirt",
          "Trousers",
          "Shirt",
          "Shirt",
          "Trousers",
          "Jacket",
          "Trousers",
          "Trousers",
          "Shirt",
          "Shirt",
          "Jacket",
          "Shirt",
          "Shirt",
          "Trousers",
          "Shirt",
          "Trousers",
          "Trousers",
          "Jacket",
          "Jacket",
          "Trousers",
          "Jacket",
          "Shirt",
          "Jacket",
          "Trousers",
          "Shirt",
          "Jacket",
          "Shirt",
          "Shirt",
          "Jacket",
          "Trousers",
          "Jacket",
          "Shirt",
          "Jacket",
          "Jacket",
          "Trousers",
          "Trousers",
          "Jacket",
          "Jacket",
          "Shirt",
          "Jacket",
          "Trousers",
          "Jacket",
          "Jacket",
          "Trousers",
          "Jacket",
          "Shirt",
          "Shirt",
          "Trousers",
          "Shirt",
          "Shirt",
          "Trousers",
          "Jacket",
          "Trousers",
          "Jacket",
          "Trousers",
          "Trousers",
          "Shirt",
          "Trousers",
          "Trousers",
          "Trousers",
          "Trousers",
          "Jacket",
          "Jacket",
          "Shirt",
          "Shirt",
          "Trousers",
          "Trousers",
          "Trousers",
          "Jacket",
          "Trousers",
          "Shirt",
          "Trousers",
          "Shirt",
          "Shirt",
          "Shirt",
          "Jacket",
          "Jacket",
          "Shirt",
          "Jacket",
          "Trousers",
          "Jacket",
          "Shirt",
          "Shirt",
          "Shirt",
          "Shirt",
          "Trousers",
          "Trousers",
          "Shirt",
          "Shirt",
          "Shirt",
          "Trousers",
          "Trousers",
          "Trousers",
          "Trousers",
          "Shirt",
          "Jacket",
          "Jacket",
          "Shirt",
          "Shirt",
          "Jacket",
          "Shirt",
          "Jacket",
          "Trousers",
          "Trousers",
          "Trousers",
          "Shirt",
          "Jacket",
          "Jacket",
          "Jacket",
          "Shirt",
          "Shirt",
          "Trousers",
          "Shirt",
          "Jacket",
          "Jacket",
          "Shirt",
          "Trousers",
          "Trousers",
          "Shirt",
          "Shirt",
          "Jacket",
          "Shirt",
          "Jacket",
          "Trousers",
          "Shirt",
          "Jacket",
          "Jacket",
          "Trousers",
          "Jacket",
          "Jacket",
          "Shirt",
          "Shirt",
          "Shirt",
          "Shirt",
          "Trousers",
          "Shirt",
          "Trousers",
          "Jacket",
          "Shirt",
          "Trousers",
          "Jacket",
          "Jacket",
          "Trousers",
          "Jacket",
          "Trousers",
          "Jacket",
          "Jacket",
          "Trousers",
          "Trousers",
          "Jacket",
          "Trousers",
          "Jacket",
          "Trousers",
          "Shirt",
          "Shirt",
          "Trousers",
          "Shirt",
          "Trousers",
          "Shirt",
          "Jacket",
          "Shirt",
          "Trousers",
          "Jacket",
          "Jacket",
          "Shirt",
          "Shirt",
          "Trousers",
          "Jacket",
          "Shirt",
          "Jacket",
          "Trousers",
          "Trousers",
          "Trousers",
          "Shirt",
          "Trousers",
          "Shirt",
          "Jacket",
          "Jacket",
          "Trousers",
          "Jacket",
          "Jacket",
          "Trousers",
          "Trousers",
          "Shirt",
          "Trousers",
          "Shirt",
          "Trousers",
          "Trousers",
          "Jacket",
          "Trousers",
          "Jacket",
          "Trousers",
          "Jacket",
          "Shirt",
          "Shirt",
          "Trousers",
          "Jacket",
          "Shirt",
          "Jacket",
          "Trousers",
          "Trousers",
          "Jacket",
          "Jacket",
          "Trousers",
          "Shirt",
          "Jacket",
          "Jacket",
          "Trousers",
          "Jacket",
          "Jacket",
          "Jacket",
          "Trousers",
          "Jacket",
          "Shirt",
          "Trousers",
          "Trousers",
          "Shirt",
          "Shirt",
          "Shirt",
          "Trousers",
          "Trousers",
          "Jacket",
          "Shirt",
          "Shirt",
          "Jacket",
          "Jacket",
          "Trousers",
          "Trousers",
          "Trousers",
          "Trousers",
          "Jacket",
          "Shirt",
          "Jacket",
          "Shirt",
          "Shirt",
          "Jacket",
          "Jacket",
          "Jacket",
          "Jacket",
          "Jacket",
          "Shirt",
          "Shirt",
          "Shirt",
          "Jacket",
          "Shirt",
          "Jacket",
          "Trousers",
          "Jacket",
          "Trousers",
          "Shirt",
          "Trousers",
          "Trousers",
          "Shirt",
          "Shirt",
          "Trousers",
          "Shirt",
          "Jacket",
          "Trousers",
          "Shirt",
          "Trousers",
          "Jacket",
          "Shirt",
          "Jacket",
          "Trousers",
          "Trousers",
          "Shirt",
          "Jacket",
          "Jacket",
          "Trousers",
          "Trousers",
          "Shirt",
          "Shirt",
          "Jacket",
          "Jacket",
          "Shirt",
          "Trousers",
          "Trousers",
          "Jacket",
          "Trousers",
          "Trousers",
          "Shirt",
          "Trousers",
          "Trousers",
          "Shirt",
          "Jacket",
          "Shirt",
          "Jacket",
          "Shirt",
          "Shirt",
          "Jacket",
          "Jacket",
          "Jacket",
          "Jacket",
          "Jacket",
          "Jacket",
          "Trousers",
          "Trousers",
          "Shirt",
          "Jacket",
          "Trousers",
          "Jacket",
          "Shirt",
          "Jacket",
          "Jacket",
          "Jacket",
          "Jacket",
          "Shirt",
          "Trousers",
          "Shirt",
          "Shirt",
          "Jacket",
          "Trousers",
          "Jacket",
          "Trousers",
          "Trousers",
          "Jacket",
          "Trousers",
          "Jacket",
          "Trousers",
          "Shirt",
          "Shirt",
          "Jacket",
          "Trousers",
          "Shirt",
          "Jacket",
          "Shirt",
          "Trousers",
          "Jacket",
          "Shirt",
          "Shirt",
          "Trousers",
          "Trousers",
          "Jacket",
          "Trousers",
          "Shirt",
          "Jacket",
          "Shirt",
          "Jacket",
          "Shirt",
          "Trousers",
          "Shirt",
          "Shirt",
          "Shirt",
          "Trousers",
          "Jacket",
          "Trousers",
          "Jacket",
          "Jacket",
          "Shirt",
          "Shirt",
          "Shirt",
          "Jacket",
          "Trousers",
          "Shirt",
          "Jacket",
          "Trousers",
          "Jacket",
          "Shirt",
          "Shirt",
          "Shirt",
          "Shirt",
          "Shirt",
          "Shirt",
          "Trousers",
          "Jacket",
          "Shirt",
          "Shirt",
          "Shirt",
          "Shirt",
          "Shirt",
          "Shirt",
          "Trousers",
          "Shirt",
          "Shirt",
          "Jacket",
          "Jacket",
          "Shirt",
          "Shirt",
          "Shirt",
          "Shirt",
          "Shirt",
          "Shirt",
          "Trousers",
          "Trousers",
          "Jacket",
          "Trousers",
          "Shirt",
          "Shirt",
          "Shirt",
          "Trousers",
          "Jacket",
          "Trousers",
          "Jacket",
          "Trousers",
          "Shirt",
          "Shirt",
          "Jacket",
          "Trousers",
          "Jacket",
          "Shirt",
          "Shirt",
          "Shirt",
          "Jacket",
          "Trousers",
          "Shirt",
          "Shirt",
          "Jacket",
          "Trousers",
          "Jacket",
          "Trousers",
          "Trousers",
          "Shirt",
          "Trousers",
          "Shirt",
          "Trousers",
          "Shirt",
          "Shirt",
          "Trousers",
          "Jacket",
          "Jacket",
          "Jacket",
          "Shirt",
          "Shirt",
          "Jacket",
          "Jacket",
          "Shirt",
          "Shirt",
          "Shirt",
          "Jacket",
          "Trousers",
          "Shirt",
          "Jacket",
          "Jacket",
          "Jacket",
          "Jacket",
          "Jacket",
          "Jacket",
          "Shirt",
          "Jacket",
          "Shirt",
          "Shirt",
          "Jacket",
          "Shirt",
          "Trousers",
          "Trousers",
          "Trousers",
          "Jacket",
          "Jacket",
          "Jacket",
          "Trousers",
          "Jacket",
          "Jacket",
          "Jacket",
          "Shirt",
          "Jacket",
          "Shirt",
          "Trousers",
          "Trousers",
          "Trousers",
          "Trousers",
          "Trousers",
          "Jacket",
          "Shirt",
          "Shirt",
          "Trousers",
          "Jacket",
          "Jacket",
          "Jacket",
          "Shirt",
          "Trousers",
          "Trousers",
          "Jacket",
          "Shirt",
          "Trousers",
          "Trousers",
          "Jacket",
          "Jacket",
          "Trousers",
          "Jacket",
          "Shirt",
          "Trousers",
          "Jacket",
          "Jacket",
          "Shirt",
          "Jacket",
          "Shirt",
          "Trousers",
          "Trousers",
          "Shirt",
          "Trousers",
          "Trousers",
          "Jacket",
          "Trousers",
          "Jacket",
          "Shirt",
          "Jacket",
          "Trousers",
          "Jacket",
          "Shirt",
          "Jacket",
          "Trousers",
          "Shirt",
          "Trousers",
          "Jacket",
          "Jacket",
          "Jacket",
          "Trousers",
          "Shirt",
          "Jacket",
          "Shirt",
          "Jacket",
          "Trousers",
          "Jacket",
          "Shirt",
          "Jacket",
          "Trousers",
          "Jacket",
          "Shirt",
          "Jacket",
          "Trousers",
          "Jacket",
          "Trousers",
          "Shirt",
          "Trousers",
          "Jacket",
          "Trousers",
          "Jacket",
          "Jacket",
          "Trousers",
          "Jacket",
          "Jacket",
          "Shirt",
          "Jacket",
          "Trousers",
          "Jacket",
          "Trousers",
          "Shirt",
          "Shirt",
          "Shirt",
          "Jacket",
          "Trousers",
          "Shirt",
          "Jacket",
          "Trousers",
          "Trousers",
          "Shirt",
          "Shirt",
          "Shirt",
          "Shirt",
          "Shirt",
          "Jacket",
          "Shirt",
          "Trousers",
          "Trousers",
          "Shirt",
          "Shirt",
          "Jacket",
          "Shirt",
          "Trousers",
          "Jacket",
          "Trousers",
          "Trousers",
          "Jacket",
          "Jacket",
          "Shirt",
          "Shirt",
          "Shirt",
          "Trousers",
          "Jacket",
          "Trousers",
          "Shirt",
          "Shirt",
          "Trousers",
          "Jacket",
          "Jacket",
          "Jacket",
          "Jacket",
          "Shirt",
          "Trousers",
          "Jacket",
          "Trousers",
          "Trousers",
          "Trousers",
          "Shirt",
          "Shirt",
          "Trousers",
          "Shirt",
          "Trousers",
          "Jacket",
          "Trousers",
          "Trousers",
          "Trousers",
          "Shirt",
          "Jacket",
          "Trousers",
          "Shirt",
          "Jacket",
          "Jacket",
          "Shirt",
          "Shirt",
          "Jacket",
          "Shirt",
          "Shirt",
          "Trousers",
          "Shirt",
          "Trousers",
          "Trousers",
          "Shirt",
          "Jacket",
          "Trousers",
          "Trousers",
          "Trousers",
          "Jacket",
          "Shirt",
          "Shirt",
          "Jacket",
          "Shirt",
          "Jacket",
          "Trousers",
          "Shirt",
          "Jacket",
          "Trousers",
          "Jacket",
          "Shirt",
          "Jacket",
          "Jacket",
          "Trousers",
          "Trousers",
          "Shirt",
          "Trousers",
          "Trousers",
          "Shirt",
          "Jacket",
          "Trousers",
          "Trousers",
          "Shirt",
          "Jacket",
          "Shirt",
          "Jacket",
          "Trousers",
          "Jacket",
          "Trousers",
          "Trousers",
          "Trousers",
          "Trousers",
          "Jacket",
          "Trousers",
          "Shirt",
          "Jacket",
          "Jacket",
          "Shirt",
          "Shirt",
          "Jacket",
          "Jacket",
          "Trousers",
          "Jacket",
          "Shirt",
          "Trousers",
          "Trousers",
          "Shirt",
          "Trousers",
          "Jacket",
          "Shirt",
          "Jacket",
          "Shirt",
          "Shirt",
          "Trousers",
          "Shirt",
          "Jacket",
          "Shirt",
          "Trousers",
          "Trousers",
          "Trousers",
          "Trousers",
          "Jacket",
          "Trousers",
          "Jacket",
          "Jacket",
          "Shirt",
          "Jacket",
          "Shirt",
          "Jacket",
          "Shirt",
          "Trousers",
          "Jacket",
          "Trousers",
          "Shirt",
          "Trousers",
          "Shirt",
          "Shirt",
          "Shirt",
          "Jacket",
          "Jacket",
          "Shirt",
          "Jacket",
          "Trousers",
          "Trousers",
          "Trousers",
          "Trousers",
          "Shirt",
          "Jacket",
          "Jacket",
          "Jacket",
          "Trousers",
          "Shirt",
          "Jacket",
          "Jacket",
          "Shirt",
          "Trousers",
          "Trousers",
          "Shirt",
          "Jacket",
          "Trousers",
          "Trousers",
          "Shirt",
          "Trousers",
          "Shirt",
          "Shirt",
          "Jacket",
          "Trousers",
          "Jacket",
          "Jacket",
          "Jacket",
          "Trousers",
          "Shirt",
          "Shirt",
          "Trousers",
          "Shirt",
          "Jacket",
          "Shirt",
          "Trousers",
          "Trousers",
          "Trousers",
          "Jacket",
          "Trousers",
          "Jacket",
          "Shirt",
          "Trousers",
          "Trousers",
          "Shirt",
          "Shirt",
          "Trousers",
          "Jacket",
          "Shirt",
          "Trousers",
          "Jacket",
          "Shirt",
          "Jacket",
          "Jacket",
          "Shirt",
          "Trousers",
          "Jacket",
          "Jacket",
          "Jacket",
          "Shirt",
          "Jacket",
          "Jacket",
          "Shirt",
          "Shirt",
          "Trousers",
          "Trousers",
          "Jacket",
          "Trousers",
          "Shirt",
          "Jacket",
          "Jacket",
          "Trousers",
          "Shirt",
          "Shirt",
          "Trousers",
          "Trousers",
          "Shirt",
          "Trousers",
          "Trousers",
          "Shirt",
          "Jacket",
          "Trousers",
          "Trousers",
          "Jacket",
          "Shirt",
          "Shirt",
          "Trousers",
          "Jacket",
          "Shirt",
          "Trousers",
          "Trousers",
          "Shirt",
          "Trousers",
          "Trousers",
          "Jacket",
          "Shirt",
          "Jacket",
          "Jacket",
          "Shirt",
          "Trousers",
          "Shirt",
          "Trousers",
          "Jacket",
          "Jacket",
          "Trousers",
          "Jacket",
          "Trousers",
          "Trousers",
          "Shirt",
          "Trousers",
          "Shirt",
          "Jacket",
          "Jacket",
          "Trousers",
          "Jacket",
          "Jacket",
          "Trousers",
          "Shirt",
          "Shirt",
          "Trousers",
          "Jacket",
          "Trousers",
          "Trousers",
          "Shirt",
          "Trousers",
          "Trousers",
          "Jacket",
          "Jacket",
          "Trousers",
          "Trousers",
          "Jacket",
          "Shirt",
          "Shirt",
          "Trousers",
          "Jacket",
          "Jacket",
          "Jacket",
          "Jacket",
          "Jacket",
          "Trousers",
          "Shirt",
          "Jacket",
          "Jacket",
          "Jacket",
          "Trousers",
          "Trousers",
          "Trousers",
          "Trousers",
          "Jacket",
          "Jacket",
          "Jacket",
          "Jacket",
          "Shirt",
          "Shirt",
          "Jacket",
          "Shirt",
          "Jacket",
          "Trousers",
          "Trousers",
          "Jacket",
          "Trousers",
          "Shirt",
          "Jacket",
          "Shirt",
          "Jacket",
          "Shirt",
          "Shirt",
          "Shirt",
          "Trousers",
          "Trousers",
          "Shirt",
          "Shirt",
          "Shirt",
          "Trousers",
          "Jacket",
          "Trousers",
          "Trousers",
          "Trousers",
          "Jacket",
          "Jacket",
          "Jacket",
          "Shirt",
          "Jacket",
          "Jacket",
          "Trousers",
          "Jacket",
          "Trousers",
          "Trousers",
          "Shirt",
          "Trousers",
          "Shirt",
          "Jacket",
          "Trousers",
          "Jacket",
          "Trousers",
          "Shirt",
          "Trousers",
          "Trousers",
          "Trousers",
          "Trousers",
          "Trousers",
          "Shirt",
          "Trousers",
          "Trousers",
          "Shirt",
          "Trousers",
          "Trousers",
          "Jacket",
          "Shirt",
          "Shirt",
          "Jacket",
          "Jacket",
          "Shirt",
          "Shirt",
          "Shirt",
          "Trousers",
          "Trousers",
          "Jacket",
          "Jacket",
          "Shirt",
          "Trousers",
          "Jacket",
          "Trousers",
          "Jacket",
          "Trousers",
          "Jacket",
          "Shirt",
          "Trousers",
          "Shirt",
          "Trousers",
          "Trousers",
          "Shirt",
          "Shirt",
          "Shirt",
          "Trousers",
          "Jacket",
          "Trousers",
          "Trousers",
          "Shirt",
          "Jacket",
          "Trousers",
          "Shirt",
          "Jacket",
          "Jacket",
          "Shirt",
          "Trousers",
          "Jacket",
          "Shirt",
          "Jacket",
          "Trousers",
          "Jacket",
          "Trousers",
          "Trousers",
          "Trousers",
          "Trousers",
          "Jacket",
          "Trousers",
          "Trousers",
          "Jacket",
          "Shirt",
          "Jacket",
          "Shirt",
          "Jacket",
          "Shirt",
          "Jacket",
          "Shirt",
          "Trousers",
          "Trousers",
          "Jacket",
          "Shirt",
          "Jacket",
          "Jacket",
          "Trousers",
          "Trousers",
          "Jacket",
          "Trousers",
          "Jacket",
          "Shirt",
          "Trousers",
          "Shirt",
          "Jacket",
          "Trousers",
          "Trousers",
          "Shirt",
          "Jacket",
          "Trousers",
          "Shirt",
          "Shirt",
          "Shirt",
          "Trousers",
          "Trousers",
          "Jacket",
          "Shirt",
          "Trousers",
          "Jacket",
          "Jacket",
          "Shirt",
          "Trousers",
          "Trousers",
          "Jacket",
          "Shirt",
          "Shirt",
          "Trousers",
          "Trousers",
          "Jacket",
          "Jacket",
          "Jacket",
          "Shirt",
          "Trousers",
          "Jacket",
          "Jacket",
          "Shirt",
          "Trousers",
          "Jacket",
          "Trousers",
          "Jacket",
          "Shirt",
          "Jacket",
          "Shirt",
          "Jacket",
          "Shirt",
          "Shirt",
          "Trousers",
          "Shirt",
          "Jacket",
          "Jacket",
          "Trousers",
          "Jacket",
          "Trousers",
          "Shirt",
          "Trousers",
          "Trousers",
          "Jacket",
          "Trousers",
          "Shirt",
          "Jacket",
          "Trousers",
          "Shirt",
          "Trousers",
          "Trousers",
          "Shirt",
          "Trousers",
          "Trousers",
          "Jacket",
          "Jacket",
          "Jacket",
          "Shirt",
          "Jacket",
          "Jacket",
          "Jacket",
          "Jacket",
          "Shirt",
          "Shirt",
          "Jacket",
          "Jacket",
          "Jacket",
          "Jacket",
          "Shirt",
          "Shirt",
          "Trousers",
          "Trousers",
          "Shirt",
          "Trousers",
          "Jacket",
          "Trousers",
          "Jacket",
          "Trousers",
          "Jacket",
          "Jacket",
          "Trousers",
          "Shirt",
          "Shirt",
          "Jacket",
          "Trousers",
          "Jacket",
          "Jacket",
          "Trousers",
          "Jacket",
          "Shirt",
          "Jacket",
          "Trousers",
          "Jacket",
          "Trousers",
          "Trousers",
          "Jacket",
          "Trousers",
          "Shirt",
          "Jacket",
          "Shirt",
          "Jacket",
          "Jacket",
          "Jacket",
          "Jacket",
          "Trousers",
          "Trousers",
          "Trousers",
          "Trousers",
          "Shirt",
          "Shirt",
          "Shirt",
          "Jacket",
          "Jacket",
          "Jacket",
          "Trousers",
          "Trousers",
          "Trousers",
          "Shirt",
          "Jacket",
          "Jacket",
          "Trousers",
          "Shirt",
          "Trousers",
          "Jacket",
          "Shirt",
          "Shirt",
          "Jacket",
          "Jacket",
          "Jacket",
          "Shirt",
          "Trousers",
          "Trousers",
          "Jacket",
          "Jacket",
          "Jacket",
          "Jacket",
          "Trousers",
          "Trousers",
          "Jacket",
          "Trousers",
          "Jacket",
          "Trousers",
          "Trousers",
          "Shirt",
          "Jacket",
          "Trousers",
          "Trousers",
          "Shirt",
          "Jacket",
          "Jacket",
          "Jacket",
          "Jacket",
          "Trousers",
          "Jacket",
          "Shirt",
          "Shirt",
          "Shirt",
          "Trousers",
          "Trousers",
          "Shirt",
          "Trousers",
          "Trousers",
          "Trousers",
          "Jacket",
          "Jacket",
          "Shirt",
          "Jacket",
          "Jacket",
          "Trousers",
          "Shirt",
          "Trousers",
          "Jacket",
          "Shirt",
          "Trousers",
          "Jacket",
          "Trousers",
          "Jacket",
          "Trousers",
          "Jacket",
          "Trousers",
          "Trousers",
          "Trousers",
          "Jacket",
          "Jacket",
          "Shirt",
          "Trousers",
          "Trousers",
          "Jacket",
          "Jacket",
          "Jacket",
          "Trousers",
          "Shirt",
          "Trousers",
          "Trousers",
          "Jacket",
          "Jacket",
          "Jacket",
          "Jacket",
          "Shirt",
          "Trousers",
          "Jacket",
          "Jacket",
          "Jacket",
          "Shirt",
          "Shirt",
          "Trousers",
          "Shirt",
          "Shirt",
          "Shirt",
          "Jacket",
          "Shirt",
          "Shirt",
          "Trousers",
          "Shirt",
          "Jacket",
          "Jacket",
          "Shirt",
          "Jacket",
          "Jacket",
          "Shirt",
          "Shirt",
          "Trousers",
          "Shirt",
          "Shirt",
          "Jacket",
          "Trousers",
          "Trousers",
          "Shirt",
          "Shirt",
          "Jacket",
          "Shirt",
          "Trousers",
          "Shirt",
          "Trousers",
          "Trousers",
          "Trousers",
          "Trousers",
          "Jacket",
          "Jacket",
          "Shirt",
          "Shirt",
          "Trousers",
          "Shirt",
          "Jacket",
          "Shirt",
          "Jacket",
          "Shirt",
          "Trousers",
          "Jacket",
          "Shirt",
          "Shirt",
          "Trousers",
          "Jacket",
          "Trousers",
          "Trousers",
          "Trousers",
          "Shirt",
          "Shirt",
          "Shirt",
          "Trousers",
          "Shirt",
          "Jacket",
          "Trousers",
          "Trousers",
          "Jacket",
          "Trousers",
          "Shirt",
          "Trousers",
          "Trousers",
          "Trousers",
          "Trousers",
          "Trousers",
          "Trousers",
          "Shirt",
          "Shirt",
          "Trousers",
          "Shirt",
          "Trousers",
          "Jacket",
          "Shirt",
          "Shirt",
          "Shirt",
          "Jacket",
          "Trousers",
          "Jacket",
          "Trousers",
          "Trousers",
          "Trousers",
          "Shirt",
          "Trousers",
          "Jacket",
          "Shirt",
          "Jacket",
          "Jacket",
          "Jacket",
          "Trousers",
          "Shirt",
          "Jacket",
          "Trousers",
          "Shirt",
          "Jacket",
          "Trousers",
          "Jacket",
          "Trousers",
          "Trousers",
          "Trousers",
          "Trousers",
          "Jacket",
          "Trousers",
          "Jacket",
          "Shirt",
          "Trousers",
          "Jacket",
          "Shirt",
          "Trousers",
          "Jacket",
          "Jacket",
          "Shirt",
          "Jacket",
          "Jacket",
          "Jacket",
          "Shirt",
          "Trousers",
          "Shirt",
          "Jacket",
          "Jacket",
          "Shirt",
          "Jacket",
          "Trousers",
          "Trousers",
          "Shirt",
          "Jacket",
          "Jacket",
          "Jacket",
          "Shirt",
          "Trousers",
          "Shirt",
          "Trousers",
          "Shirt",
          "Jacket",
          "Shirt",
          "Jacket",
          "Trousers",
          "Trousers",
          "Jacket",
          "Shirt",
          "Shirt",
          "Shirt",
          "Trousers",
          "Jacket",
          "Jacket",
          "Jacket",
          "Trousers",
          "Trousers",
          "Shirt",
          "Shirt",
          "Jacket",
          "Shirt",
          "Trousers",
          "Trousers",
          "Jacket",
          "Trousers",
          "Trousers",
          "Jacket",
          "Shirt",
          "Jacket",
          "Shirt",
          "Shirt",
          "Jacket",
          "Trousers",
          "Shirt",
          "Jacket",
          "Shirt",
          "Shirt",
          "Jacket",
          "Shirt",
          "Jacket",
          "Trousers",
          "Trousers",
          "Shirt",
          "Shirt",
          "Trousers",
          "Trousers",
          "Jacket",
          "Trousers",
          "Trousers",
          "Trousers",
          "Trousers",
          "Jacket",
          "Trousers",
          "Shirt",
          "Jacket",
          "Jacket",
          "Shirt",
          "Trousers",
          "Trousers",
          "Jacket",
          "Trousers",
          "Shirt",
          "Trousers",
          "Jacket",
          "Trousers",
          "Jacket",
          "Shirt",
          "Jacket",
          "Jacket",
          "Jacket",
          "Jacket",
          "Jacket",
          "Trousers",
          "Shirt",
          "Jacket",
          "Jacket",
          "Trousers",
          "Trousers",
          "Trousers",
          "Jacket",
          "Shirt",
          "Shirt",
          "Trousers",
          "Trousers",
          "Trousers",
          "Jacket",
          "Jacket",
          "Shirt",
          "Shirt",
          "Trousers",
          "Trousers",
          "Jacket",
          "Trousers",
          "Jacket",
          "Trousers",
          "Jacket",
          "Jacket",
          "Trousers",
          "Jacket",
          "Shirt",
          "Shirt",
          "Trousers",
          "Jacket",
          "Jacket",
          "Trousers",
          "Trousers",
          "Shirt",
          "Jacket",
          "Trousers",
          "Trousers",
          "Jacket",
          "Shirt",
          "Trousers",
          "Jacket",
          "Shirt",
          "Trousers",
          "Shirt",
          "Jacket",
          "Jacket",
          "Jacket",
          "Trousers",
          "Trousers",
          "Trousers",
          "Shirt",
          "Trousers",
          "Shirt",
          "Jacket",
          "Trousers",
          "Trousers",
          "Shirt",
          "Shirt",
          "Shirt",
          "Jacket",
          "Shirt",
          "Shirt",
          "Shirt",
          "Shirt",
          "Shirt",
          "Jacket",
          "Shirt",
          "Trousers",
          "Trousers",
          "Shirt",
          "Trousers",
          "Trousers",
          "Jacket",
          "Jacket",
          "Shirt",
          "Shirt",
          "Jacket",
          "Trousers",
          "Trousers",
          "Trousers",
          "Jacket",
          "Shirt",
          "Jacket",
          "Trousers",
          "Shirt",
          "Shirt",
          "Jacket",
          "Shirt",
          "Trousers",
          "Trousers",
          "Trousers",
          "Jacket",
          "Trousers",
          "Shirt",
          "Trousers",
          "Shirt",
          "Shirt",
          "Trousers",
          "Shirt",
          "Jacket",
          "Trousers",
          "Jacket",
          "Jacket",
          "Trousers",
          "Shirt",
          "Jacket",
          "Jacket",
          "Trousers",
          "Trousers",
          "Trousers",
          "Shirt",
          "Jacket",
          "Shirt",
          "Jacket",
          "Shirt",
          "Shirt",
          "Jacket",
          "Trousers",
          "Jacket",
          "Shirt",
          "Trousers",
          "Shirt",
          "Trousers",
          "Shirt",
          "Trousers",
          "Jacket",
          "Trousers",
          "Trousers",
          "Jacket",
          "Shirt",
          "Trousers",
          "Shirt",
          "Jacket",
          "Trousers",
          "Trousers",
          "Jacket",
          "Shirt",
          "Jacket",
          "Shirt",
          "Trousers",
          "Shirt",
          "Shirt",
          "Shirt",
          "Shirt",
          "Trousers",
          "Jacket",
          "Shirt",
          "Jacket",
          "Jacket",
          "Jacket",
          "Shirt",
          "Jacket",
          "Jacket",
          "Jacket",
          "Trousers",
          "Jacket",
          "Shirt",
          "Jacket",
          "Jacket",
          "Trousers",
          "Shirt",
          "Trousers",
          "Shirt",
          "Shirt",
          "Trousers",
          "Shirt",
          "Trousers",
          "Shirt",
          "Jacket",
          "Jacket",
          "Trousers",
          "Shirt",
          "Trousers",
          "Shirt",
          "Jacket",
          "Jacket",
          "Shirt",
          "Shirt",
          "Trousers",
          "Trousers",
          "Shirt",
          "Jacket",
          "Trousers",
          "Shirt",
          "Jacket",
          "Trousers",
          "Jacket",
          "Jacket",
          "Trousers",
          "Jacket",
          "Trousers",
          "Shirt",
          "Shirt",
          "Trousers",
          "Shirt",
          "Trousers",
          "Shirt",
          "Jacket",
          "Trousers",
          "Trousers",
          "Shirt",
          "Shirt",
          "Trousers",
          "Shirt",
          "Jacket",
          "Shirt",
          "Jacket",
          "Jacket",
          "Trousers",
          "Trousers",
          "Shirt",
          "Trousers",
          "Jacket",
          "Jacket",
          "Shirt",
          "Jacket",
          "Jacket",
          "Shirt",
          "Trousers",
          "Jacket",
          "Jacket",
          "Trousers",
          "Trousers",
          "Shirt",
          "Shirt",
          "Jacket",
          "Shirt",
          "Trousers",
          "Trousers",
          "Trousers",
          "Shirt",
          "Jacket",
          "Shirt",
          "Shirt",
          "Jacket",
          "Shirt",
          "Shirt",
          "Jacket",
          "Jacket",
          "Trousers",
          "Shirt",
          "Shirt",
          "Shirt",
          "Trousers",
          "Jacket",
          "Jacket",
          "Shirt",
          "Jacket",
          "Jacket",
          "Shirt",
          "Trousers",
          "Jacket",
          "Trousers",
          "Jacket",
          "Jacket",
          "Trousers",
          "Jacket",
          "Jacket",
          "Shirt",
          "Jacket",
          "Trousers",
          "Jacket",
          "Trousers",
          "Jacket",
          "Trousers",
          "Trousers",
          "Jacket",
          "Jacket",
          "Jacket",
          "Shirt",
          "Trousers",
          "Jacket",
          "Jacket",
          "Jacket",
          "Shirt",
          "Jacket",
          "Shirt",
          "Jacket",
          "Trousers",
          "Trousers",
          "Shirt",
          "Jacket",
          "Shirt",
          "Shirt",
          "Shirt",
          "Jacket",
          "Trousers",
          "Trousers",
          "Jacket",
          "Trousers",
          "Shirt",
          "Trousers",
          "Shirt",
          "Trousers",
          "Trousers",
          "Jacket",
          "Trousers",
          "Jacket",
          "Jacket",
          "Jacket",
          "Shirt",
          "Jacket",
          "Trousers",
          "Trousers",
          "Jacket",
          "Jacket",
          "Shirt",
          "Jacket",
          "Trousers",
          "Jacket",
          "Shirt",
          "Jacket",
          "Trousers",
          "Shirt",
          "Shirt",
          "Trousers",
          "Trousers",
          "Shirt",
          "Trousers",
          "Shirt",
          "Shirt",
          "Trousers",
          "Shirt",
          "Shirt",
          "Trousers",
          "Trousers",
          "Jacket",
          "Trousers",
          "Jacket",
          "Shirt",
          "Trousers",
          "Trousers",
          "Shirt",
          "Shirt",
          "Trousers",
          "Shirt",
          "Trousers",
          "Jacket",
          "Shirt",
          "Jacket",
          "Shirt",
          "Trousers",
          "Shirt",
          "Trousers",
          "Trousers",
          "Trousers",
          "Trousers",
          "Jacket",
          "Jacket",
          "Shirt",
          "Shirt",
          "Shirt",
          "Jacket",
          "Shirt",
          "Trousers",
          "Shirt",
          "Jacket",
          "Jacket",
          "Shirt",
          "Shirt",
          "Shirt",
          "Trousers",
          "Jacket",
          "Jacket",
          "Shirt",
          "Jacket",
          "Jacket",
          "Trousers",
          "Trousers",
          "Jacket",
          "Trousers",
          "Shirt",
          "Jacket",
          "Trousers",
          "Jacket",
          "Trousers",
          "Trousers",
          "Jacket",
          "Trousers",
          "Trousers",
          "Jacket",
          "Jacket",
          "Shirt",
          "Jacket",
          "Trousers",
          "Jacket",
          "Shirt",
          "Trousers",
          "Trousers",
          "Jacket",
          "Trousers",
          "Shirt",
          "Jacket",
          "Shirt",
          "Trousers",
          "Shirt",
          "Jacket",
          "Jacket",
          "Jacket",
          "Shirt",
          "Jacket",
          "Trousers",
          "Trousers",
          "Shirt",
          "Trousers",
          "Jacket",
          "Trousers",
          "Jacket",
          "Trousers",
          "Shirt",
          "Shirt",
          "Trousers",
          "Shirt",
          "Jacket",
          "Trousers",
          "Jacket",
          "Trousers",
          "Jacket",
          "Shirt",
          "Jacket",
          "Jacket",
          "Shirt",
          "Jacket",
          "Shirt",
          "Shirt",
          "Jacket",
          "Trousers",
          "Jacket",
          "Shirt",
          "Shirt",
          "Trousers",
          "Shirt",
          "Shirt",
          "Trousers",
          "Trousers",
          "Trousers",
          "Trousers",
          "Jacket",
          "Trousers",
          "Trousers",
          "Jacket",
          "Shirt",
          "Trousers",
          "Trousers",
          "Trousers",
          "Shirt",
          "Trousers",
          "Shirt",
          "Jacket",
          "Trousers",
          "Shirt",
          "Trousers",
          "Trousers",
          "Shirt",
          "Trousers",
          "Trousers",
          "Shirt",
          "Jacket",
          "Shirt",
          "Jacket",
          "Trousers",
          "Trousers",
          "Trousers",
          "Trousers",
          "Trousers",
          "Trousers",
          "Shirt",
          "Shirt",
          "Jacket",
          "Jacket",
          "Shirt",
          "Shirt",
          "Trousers",
          "Shirt",
          "Jacket",
          "Jacket",
          "Trousers",
          "Shirt",
          "Jacket",
          "Shirt",
          "Shirt",
          "Shirt",
          "Trousers",
          "Jacket",
          "Shirt",
          "Shirt",
          "Shirt",
          "Shirt",
          "Jacket",
          "Trousers",
          "Jacket",
          "Jacket",
          "Trousers",
          "Trousers",
          "Trousers",
          "Trousers",
          "Trousers",
          "Trousers",
          "Jacket",
          "Jacket",
          "Jacket",
          "Trousers",
          "Shirt",
          "Jacket",
          "Trousers",
          "Trousers",
          "Trousers",
          "Shirt",
          "Trousers",
          "Jacket",
          "Trousers",
          "Jacket",
          "Trousers",
          "Jacket",
          "Jacket",
          "Jacket",
          "Shirt",
          "Shirt",
          "Jacket",
          "Jacket",
          "Jacket",
          "Trousers",
          "Shirt",
          "Jacket",
          "Jacket",
          "Trousers",
          "Jacket",
          "Shirt",
          "Trousers",
          "Trousers",
          "Jacket",
          "Trousers",
          "Trousers",
          "Trousers",
          "Jacket",
          "Trousers",
          "Shirt",
          "Jacket",
          "Jacket",
          "Shirt",
          "Jacket",
          "Trousers",
          "Trousers",
          "Trousers",
          "Jacket",
          "Jacket",
          "Shirt",
          "Jacket",
          "Jacket",
          "Trousers",
          "Trousers",
          "Jacket",
          "Trousers",
          "Jacket",
          "Shirt",
          "Trousers",
          "Trousers",
          "Jacket",
          "Trousers",
          "Trousers",
          "Jacket",
          "Shirt",
          "Trousers",
          "Shirt",
          "Shirt",
          "Shirt",
          "Shirt",
          "Trousers",
          "Shirt",
          "Jacket",
          "Shirt",
          "Trousers",
          "Shirt",
          "Trousers",
          "Shirt",
          "Jacket",
          "Shirt",
          "Jacket",
          "Shirt",
          "Jacket",
          "Jacket",
          "Jacket",
          "Trousers",
          "Jacket",
          "Shirt",
          "Trousers",
          "Shirt",
          "Jacket",
          "Shirt",
          "Jacket",
          "Shirt",
          "Trousers",
          "Trousers",
          "Trousers",
          "Jacket",
          "Jacket",
          "Shirt",
          "Jacket",
          "Shirt",
          "Trousers",
          "Trousers",
          "Jacket",
          "Trousers",
          "Shirt",
          "Jacket",
          "Jacket",
          "Trousers",
          "Trousers",
          "Shirt",
          "Trousers",
          "Trousers",
          "Trousers",
          "Trousers",
          "Shirt",
          "Shirt",
          "Trousers",
          "Shirt",
          "Trousers",
          "Jacket",
          "Shirt",
          "Jacket",
          "Jacket",
          "Trousers",
          "Shirt",
          "Shirt",
          "Shirt",
          "Trousers",
          "Trousers",
          "Trousers",
          "Trousers",
          "Trousers",
          "Trousers",
          "Trousers",
          "Jacket",
          "Trousers",
          "Jacket",
          "Jacket",
          "Shirt",
          "Shirt",
          "Jacket",
          "Jacket",
          "Jacket",
          "Shirt",
          "Shirt",
          "Shirt",
          "Trousers",
          "Trousers",
          "Jacket",
          "Trousers",
          "Jacket",
          "Trousers",
          "Trousers",
          "Jacket",
          "Shirt",
          "Jacket",
          "Jacket",
          "Jacket",
          "Jacket",
          "Shirt",
          "Jacket",
          "Shirt",
          "Shirt",
          "Trousers",
          "Shirt",
          "Trousers",
          "Trousers",
          "Jacket",
          "Jacket",
          "Jacket",
          "Jacket",
          "Shirt",
          "Jacket",
          "Jacket",
          "Trousers",
          "Shirt",
          "Jacket",
          "Shirt",
          "Trousers",
          "Jacket",
          "Trousers",
          "Trousers",
          "Jacket",
          "Jacket",
          "Trousers",
          "Trousers",
          "Jacket",
          "Shirt",
          "Shirt",
          "Trousers",
          "Shirt",
          "Jacket",
          "Jacket",
          "Trousers",
          "Shirt",
          "Trousers",
          "Shirt",
          "Shirt",
          "Trousers",
          "Jacket",
          "Shirt",
          "Shirt",
          "Trousers",
          "Shirt",
          "Jacket",
          "Shirt",
          "Shirt",
          "Shirt",
          "Trousers",
          "Jacket",
          "Jacket",
          "Jacket",
          "Trousers",
          "Trousers",
          "Jacket",
          "Jacket",
          "Jacket",
          "Jacket",
          "Shirt",
          "Jacket",
          "Shirt",
          "Jacket",
          "Jacket",
          "Shirt",
          "Jacket",
          "Jacket",
          "Trousers",
          "Trousers",
          "Shirt",
          "Trousers",
          "Jacket",
          "Shirt",
          "Jacket",
          "Shirt",
          "Trousers",
          "Shirt",
          "Jacket",
          "Trousers",
          "Trousers",
          "Trousers",
          "Trousers",
          "Shirt",
          "Shirt",
          "Trousers",
          "Trousers",
          "Trousers",
          "Jacket",
          "Jacket",
          "Jacket",
          "Shirt",
          "Trousers",
          "Shirt",
          "Shirt",
          "Jacket",
          "Shirt",
          "Jacket",
          "Shirt",
          "Jacket",
          "Shirt",
          "Trousers",
          "Trousers",
          "Shirt",
          "Trousers",
          "Shirt",
          "Trousers",
          "Shirt",
          "Jacket",
          "Shirt",
          "Trousers",
          "Jacket",
          "Shirt",
          "Shirt",
          "Trousers",
          "Trousers",
          "Shirt",
          "Jacket",
          "Trousers",
          "Shirt",
          "Shirt",
          "Shirt",
          "Trousers",
          "Shirt",
          "Jacket",
          "Shirt",
          "Shirt",
          "Shirt",
          "Jacket",
          "Shirt",
          "Shirt",
          "Jacket",
          "Trousers",
          "Trousers",
          "Shirt",
          "Jacket",
          "Trousers",
          "Trousers",
          "Trousers",
          "Trousers",
          "Jacket",
          "Trousers",
          "Trousers",
          "Trousers",
          "Shirt",
          "Jacket",
          "Jacket",
          "Trousers",
          "Trousers",
          "Jacket",
          "Jacket",
          "Jacket",
          "Trousers",
          "Jacket",
          "Trousers",
          "Jacket",
          "Trousers",
          "Jacket",
          "Shirt",
          "Trousers",
          "Jacket",
          "Trousers",
          "Jacket",
          "Shirt",
          "Shirt",
          "Trousers",
          "Shirt",
          "Trousers",
          "Trousers",
          "Shirt",
          "Jacket",
          "Shirt",
          "Shirt",
          "Jacket",
          "Trousers",
          "Jacket",
          "Shirt",
          "Trousers",
          "Jacket",
          "Shirt",
          "Trousers",
          "Shirt",
          "Jacket",
          "Jacket",
          "Shirt",
          "Shirt",
          "Trousers",
          "Trousers",
          "Shirt",
          "Jacket",
          "Shirt",
          "Shirt",
          "Trousers",
          "Jacket",
          "Trousers",
          "Shirt",
          "Jacket",
          "Jacket",
          "Jacket",
          "Trousers",
          "Shirt",
          "Shirt",
          "Trousers",
          "Jacket",
          "Trousers",
          "Trousers",
          "Jacket",
          "Jacket",
          "Trousers",
          "Shirt",
          "Shirt",
          "Trousers",
          "Trousers",
          "Jacket",
          "Shirt",
          "Shirt",
          "Trousers",
          "Trousers",
          "Shirt",
          "Shirt",
          "Trousers",
          "Shirt",
          "Shirt",
          "Trousers",
          "Jacket",
          "Shirt",
          "Trousers",
          "Trousers",
          "Trousers",
          "Jacket",
          "Trousers",
          "Jacket",
          "Jacket",
          "Trousers",
          "Shirt",
          "Jacket",
          "Trousers",
          "Jacket",
          "Shirt",
          "Trousers",
          "Trousers",
          "Trousers",
          "Trousers",
          "Jacket",
          "Trousers",
          "Shirt",
          "Shirt",
          "Jacket",
          "Shirt",
          "Jacket",
          "Trousers",
          "Jacket",
          "Trousers",
          "Trousers",
          "Jacket",
          "Shirt",
          "Trousers",
          "Trousers",
          "Trousers",
          "Trousers",
          "Trousers",
          "Trousers",
          "Shirt",
          "Trousers",
          "Trousers",
          "Shirt",
          "Jacket",
          "Jacket",
          "Shirt",
          "Jacket",
          "Shirt",
          "Jacket",
          "Shirt",
          "Jacket",
          "Shirt",
          "Jacket",
          "Jacket",
          "Shirt",
          "Trousers",
          "Jacket",
          "Shirt",
          "Trousers",
          "Shirt",
          "Jacket",
          "Shirt",
          "Trousers",
          "Jacket",
          "Trousers",
          "Shirt",
          "Trousers",
          "Trousers",
          "Trousers",
          "Trousers",
          "Shirt",
          "Shirt",
          "Shirt",
          "Shirt",
          "Jacket",
          "Trousers",
          "Jacket",
          "Trousers",
          "Trousers",
          "Trousers",
          "Jacket",
          "Shirt",
          "Jacket",
          "Jacket",
          "Trousers",
          "Shirt",
          "Shirt",
          "Trousers",
          "Shirt",
          "Shirt",
          "Shirt",
          "Shirt",
          "Jacket",
          "Shirt",
          "Jacket",
          "Shirt",
          "Jacket",
          "Jacket",
          "Trousers",
          "Jacket",
          "Jacket",
          "Shirt",
          "Jacket",
          "Jacket",
          "Shirt",
          "Trousers",
          "Shirt",
          "Trousers",
          "Trousers",
          "Shirt",
          "Shirt",
          "Jacket",
          "Trousers",
          "Trousers",
          "Shirt",
          "Jacket",
          "Jacket",
          "Trousers",
          "Shirt",
          "Shirt",
          "Jacket",
          "Trousers",
          "Trousers",
          "Jacket",
          "Jacket",
          "Shirt",
          "Jacket",
          "Shirt",
          "Shirt",
          "Trousers",
          "Jacket",
          "Jacket",
          "Shirt",
          "Shirt",
          "Jacket",
          "Jacket",
          "Trousers",
          "Jacket",
          "Trousers",
          "Jacket",
          "Shirt",
          "Shirt"
         ],
         "legendgroup": "",
         "name": "",
         "showlegend": true,
         "type": "pie"
        }
       ],
       "layout": {
        "height": 300,
        "legend": {
         "tracegroupgap": 0
        },
        "margin": {
         "t": 60
        },
        "template": {
         "data": {
          "bar": [
           {
            "error_x": {
             "color": "#2a3f5f"
            },
            "error_y": {
             "color": "#2a3f5f"
            },
            "marker": {
             "line": {
              "color": "#E5ECF6",
              "width": 0.5
             },
             "pattern": {
              "fillmode": "overlay",
              "size": 10,
              "solidity": 0.2
             }
            },
            "type": "bar"
           }
          ],
          "barpolar": [
           {
            "marker": {
             "line": {
              "color": "#E5ECF6",
              "width": 0.5
             },
             "pattern": {
              "fillmode": "overlay",
              "size": 10,
              "solidity": 0.2
             }
            },
            "type": "barpolar"
           }
          ],
          "carpet": [
           {
            "aaxis": {
             "endlinecolor": "#2a3f5f",
             "gridcolor": "white",
             "linecolor": "white",
             "minorgridcolor": "white",
             "startlinecolor": "#2a3f5f"
            },
            "baxis": {
             "endlinecolor": "#2a3f5f",
             "gridcolor": "white",
             "linecolor": "white",
             "minorgridcolor": "white",
             "startlinecolor": "#2a3f5f"
            },
            "type": "carpet"
           }
          ],
          "choropleth": [
           {
            "colorbar": {
             "outlinewidth": 0,
             "ticks": ""
            },
            "type": "choropleth"
           }
          ],
          "contour": [
           {
            "colorbar": {
             "outlinewidth": 0,
             "ticks": ""
            },
            "colorscale": [
             [
              0,
              "#0d0887"
             ],
             [
              0.1111111111111111,
              "#46039f"
             ],
             [
              0.2222222222222222,
              "#7201a8"
             ],
             [
              0.3333333333333333,
              "#9c179e"
             ],
             [
              0.4444444444444444,
              "#bd3786"
             ],
             [
              0.5555555555555556,
              "#d8576b"
             ],
             [
              0.6666666666666666,
              "#ed7953"
             ],
             [
              0.7777777777777778,
              "#fb9f3a"
             ],
             [
              0.8888888888888888,
              "#fdca26"
             ],
             [
              1,
              "#f0f921"
             ]
            ],
            "type": "contour"
           }
          ],
          "contourcarpet": [
           {
            "colorbar": {
             "outlinewidth": 0,
             "ticks": ""
            },
            "type": "contourcarpet"
           }
          ],
          "heatmap": [
           {
            "colorbar": {
             "outlinewidth": 0,
             "ticks": ""
            },
            "colorscale": [
             [
              0,
              "#0d0887"
             ],
             [
              0.1111111111111111,
              "#46039f"
             ],
             [
              0.2222222222222222,
              "#7201a8"
             ],
             [
              0.3333333333333333,
              "#9c179e"
             ],
             [
              0.4444444444444444,
              "#bd3786"
             ],
             [
              0.5555555555555556,
              "#d8576b"
             ],
             [
              0.6666666666666666,
              "#ed7953"
             ],
             [
              0.7777777777777778,
              "#fb9f3a"
             ],
             [
              0.8888888888888888,
              "#fdca26"
             ],
             [
              1,
              "#f0f921"
             ]
            ],
            "type": "heatmap"
           }
          ],
          "heatmapgl": [
           {
            "colorbar": {
             "outlinewidth": 0,
             "ticks": ""
            },
            "colorscale": [
             [
              0,
              "#0d0887"
             ],
             [
              0.1111111111111111,
              "#46039f"
             ],
             [
              0.2222222222222222,
              "#7201a8"
             ],
             [
              0.3333333333333333,
              "#9c179e"
             ],
             [
              0.4444444444444444,
              "#bd3786"
             ],
             [
              0.5555555555555556,
              "#d8576b"
             ],
             [
              0.6666666666666666,
              "#ed7953"
             ],
             [
              0.7777777777777778,
              "#fb9f3a"
             ],
             [
              0.8888888888888888,
              "#fdca26"
             ],
             [
              1,
              "#f0f921"
             ]
            ],
            "type": "heatmapgl"
           }
          ],
          "histogram": [
           {
            "marker": {
             "pattern": {
              "fillmode": "overlay",
              "size": 10,
              "solidity": 0.2
             }
            },
            "type": "histogram"
           }
          ],
          "histogram2d": [
           {
            "colorbar": {
             "outlinewidth": 0,
             "ticks": ""
            },
            "colorscale": [
             [
              0,
              "#0d0887"
             ],
             [
              0.1111111111111111,
              "#46039f"
             ],
             [
              0.2222222222222222,
              "#7201a8"
             ],
             [
              0.3333333333333333,
              "#9c179e"
             ],
             [
              0.4444444444444444,
              "#bd3786"
             ],
             [
              0.5555555555555556,
              "#d8576b"
             ],
             [
              0.6666666666666666,
              "#ed7953"
             ],
             [
              0.7777777777777778,
              "#fb9f3a"
             ],
             [
              0.8888888888888888,
              "#fdca26"
             ],
             [
              1,
              "#f0f921"
             ]
            ],
            "type": "histogram2d"
           }
          ],
          "histogram2dcontour": [
           {
            "colorbar": {
             "outlinewidth": 0,
             "ticks": ""
            },
            "colorscale": [
             [
              0,
              "#0d0887"
             ],
             [
              0.1111111111111111,
              "#46039f"
             ],
             [
              0.2222222222222222,
              "#7201a8"
             ],
             [
              0.3333333333333333,
              "#9c179e"
             ],
             [
              0.4444444444444444,
              "#bd3786"
             ],
             [
              0.5555555555555556,
              "#d8576b"
             ],
             [
              0.6666666666666666,
              "#ed7953"
             ],
             [
              0.7777777777777778,
              "#fb9f3a"
             ],
             [
              0.8888888888888888,
              "#fdca26"
             ],
             [
              1,
              "#f0f921"
             ]
            ],
            "type": "histogram2dcontour"
           }
          ],
          "mesh3d": [
           {
            "colorbar": {
             "outlinewidth": 0,
             "ticks": ""
            },
            "type": "mesh3d"
           }
          ],
          "parcoords": [
           {
            "line": {
             "colorbar": {
              "outlinewidth": 0,
              "ticks": ""
             }
            },
            "type": "parcoords"
           }
          ],
          "pie": [
           {
            "automargin": true,
            "type": "pie"
           }
          ],
          "scatter": [
           {
            "marker": {
             "colorbar": {
              "outlinewidth": 0,
              "ticks": ""
             }
            },
            "type": "scatter"
           }
          ],
          "scatter3d": [
           {
            "line": {
             "colorbar": {
              "outlinewidth": 0,
              "ticks": ""
             }
            },
            "marker": {
             "colorbar": {
              "outlinewidth": 0,
              "ticks": ""
             }
            },
            "type": "scatter3d"
           }
          ],
          "scattercarpet": [
           {
            "marker": {
             "colorbar": {
              "outlinewidth": 0,
              "ticks": ""
             }
            },
            "type": "scattercarpet"
           }
          ],
          "scattergeo": [
           {
            "marker": {
             "colorbar": {
              "outlinewidth": 0,
              "ticks": ""
             }
            },
            "type": "scattergeo"
           }
          ],
          "scattergl": [
           {
            "marker": {
             "colorbar": {
              "outlinewidth": 0,
              "ticks": ""
             }
            },
            "type": "scattergl"
           }
          ],
          "scattermapbox": [
           {
            "marker": {
             "colorbar": {
              "outlinewidth": 0,
              "ticks": ""
             }
            },
            "type": "scattermapbox"
           }
          ],
          "scatterpolar": [
           {
            "marker": {
             "colorbar": {
              "outlinewidth": 0,
              "ticks": ""
             }
            },
            "type": "scatterpolar"
           }
          ],
          "scatterpolargl": [
           {
            "marker": {
             "colorbar": {
              "outlinewidth": 0,
              "ticks": ""
             }
            },
            "type": "scatterpolargl"
           }
          ],
          "scatterternary": [
           {
            "marker": {
             "colorbar": {
              "outlinewidth": 0,
              "ticks": ""
             }
            },
            "type": "scatterternary"
           }
          ],
          "surface": [
           {
            "colorbar": {
             "outlinewidth": 0,
             "ticks": ""
            },
            "colorscale": [
             [
              0,
              "#0d0887"
             ],
             [
              0.1111111111111111,
              "#46039f"
             ],
             [
              0.2222222222222222,
              "#7201a8"
             ],
             [
              0.3333333333333333,
              "#9c179e"
             ],
             [
              0.4444444444444444,
              "#bd3786"
             ],
             [
              0.5555555555555556,
              "#d8576b"
             ],
             [
              0.6666666666666666,
              "#ed7953"
             ],
             [
              0.7777777777777778,
              "#fb9f3a"
             ],
             [
              0.8888888888888888,
              "#fdca26"
             ],
             [
              1,
              "#f0f921"
             ]
            ],
            "type": "surface"
           }
          ],
          "table": [
           {
            "cells": {
             "fill": {
              "color": "#EBF0F8"
             },
             "line": {
              "color": "white"
             }
            },
            "header": {
             "fill": {
              "color": "#C8D4E3"
             },
             "line": {
              "color": "white"
             }
            },
            "type": "table"
           }
          ]
         },
         "layout": {
          "annotationdefaults": {
           "arrowcolor": "#2a3f5f",
           "arrowhead": 0,
           "arrowwidth": 1
          },
          "autotypenumbers": "strict",
          "coloraxis": {
           "colorbar": {
            "outlinewidth": 0,
            "ticks": ""
           }
          },
          "colorscale": {
           "diverging": [
            [
             0,
             "#8e0152"
            ],
            [
             0.1,
             "#c51b7d"
            ],
            [
             0.2,
             "#de77ae"
            ],
            [
             0.3,
             "#f1b6da"
            ],
            [
             0.4,
             "#fde0ef"
            ],
            [
             0.5,
             "#f7f7f7"
            ],
            [
             0.6,
             "#e6f5d0"
            ],
            [
             0.7,
             "#b8e186"
            ],
            [
             0.8,
             "#7fbc41"
            ],
            [
             0.9,
             "#4d9221"
            ],
            [
             1,
             "#276419"
            ]
           ],
           "sequential": [
            [
             0,
             "#0d0887"
            ],
            [
             0.1111111111111111,
             "#46039f"
            ],
            [
             0.2222222222222222,
             "#7201a8"
            ],
            [
             0.3333333333333333,
             "#9c179e"
            ],
            [
             0.4444444444444444,
             "#bd3786"
            ],
            [
             0.5555555555555556,
             "#d8576b"
            ],
            [
             0.6666666666666666,
             "#ed7953"
            ],
            [
             0.7777777777777778,
             "#fb9f3a"
            ],
            [
             0.8888888888888888,
             "#fdca26"
            ],
            [
             1,
             "#f0f921"
            ]
           ],
           "sequentialminus": [
            [
             0,
             "#0d0887"
            ],
            [
             0.1111111111111111,
             "#46039f"
            ],
            [
             0.2222222222222222,
             "#7201a8"
            ],
            [
             0.3333333333333333,
             "#9c179e"
            ],
            [
             0.4444444444444444,
             "#bd3786"
            ],
            [
             0.5555555555555556,
             "#d8576b"
            ],
            [
             0.6666666666666666,
             "#ed7953"
            ],
            [
             0.7777777777777778,
             "#fb9f3a"
            ],
            [
             0.8888888888888888,
             "#fdca26"
            ],
            [
             1,
             "#f0f921"
            ]
           ]
          },
          "colorway": [
           "#636efa",
           "#EF553B",
           "#00cc96",
           "#ab63fa",
           "#FFA15A",
           "#19d3f3",
           "#FF6692",
           "#B6E880",
           "#FF97FF",
           "#FECB52"
          ],
          "font": {
           "color": "#2a3f5f"
          },
          "geo": {
           "bgcolor": "white",
           "lakecolor": "white",
           "landcolor": "#E5ECF6",
           "showlakes": true,
           "showland": true,
           "subunitcolor": "white"
          },
          "hoverlabel": {
           "align": "left"
          },
          "hovermode": "closest",
          "mapbox": {
           "style": "light"
          },
          "paper_bgcolor": "white",
          "plot_bgcolor": "#E5ECF6",
          "polar": {
           "angularaxis": {
            "gridcolor": "white",
            "linecolor": "white",
            "ticks": ""
           },
           "bgcolor": "#E5ECF6",
           "radialaxis": {
            "gridcolor": "white",
            "linecolor": "white",
            "ticks": ""
           }
          },
          "scene": {
           "xaxis": {
            "backgroundcolor": "#E5ECF6",
            "gridcolor": "white",
            "gridwidth": 2,
            "linecolor": "white",
            "showbackground": true,
            "ticks": "",
            "zerolinecolor": "white"
           },
           "yaxis": {
            "backgroundcolor": "#E5ECF6",
            "gridcolor": "white",
            "gridwidth": 2,
            "linecolor": "white",
            "showbackground": true,
            "ticks": "",
            "zerolinecolor": "white"
           },
           "zaxis": {
            "backgroundcolor": "#E5ECF6",
            "gridcolor": "white",
            "gridwidth": 2,
            "linecolor": "white",
            "showbackground": true,
            "ticks": "",
            "zerolinecolor": "white"
           }
          },
          "shapedefaults": {
           "line": {
            "color": "#2a3f5f"
           }
          },
          "ternary": {
           "aaxis": {
            "gridcolor": "white",
            "linecolor": "white",
            "ticks": ""
           },
           "baxis": {
            "gridcolor": "white",
            "linecolor": "white",
            "ticks": ""
           },
           "bgcolor": "#E5ECF6",
           "caxis": {
            "gridcolor": "white",
            "linecolor": "white",
            "ticks": ""
           }
          },
          "title": {
           "x": 0.05
          },
          "xaxis": {
           "automargin": true,
           "gridcolor": "white",
           "linecolor": "white",
           "ticks": "",
           "title": {
            "standoff": 15
           },
           "zerolinecolor": "white",
           "zerolinewidth": 2
          },
          "yaxis": {
           "automargin": true,
           "gridcolor": "white",
           "linecolor": "white",
           "ticks": "",
           "title": {
            "standoff": 15
           },
           "zerolinecolor": "white",
           "zerolinewidth": 2
          }
         }
        },
        "width": 500
       }
      }
     },
     "metadata": {},
     "output_type": "display_data"
    }
   ],
   "source": [
    "px.pie(spoc, names='product_type', width=500, height=300)"
   ]
  },
  {
   "cell_type": "code",
   "execution_count": 90,
   "metadata": {
    "colab": {
     "base_uri": "https://localhost:8080/",
     "height": 175
    },
    "id": "HbygiYMJVn6N",
    "outputId": "c12e8be0-ea31-4051-d313-2a9cd78b9cda"
   },
   "outputs": [
    {
     "data": {
      "text/html": [
       "<div>\n",
       "<style scoped>\n",
       "    .dataframe tbody tr th:only-of-type {\n",
       "        vertical-align: middle;\n",
       "    }\n",
       "\n",
       "    .dataframe tbody tr th {\n",
       "        vertical-align: top;\n",
       "    }\n",
       "\n",
       "    .dataframe thead th {\n",
       "        text-align: right;\n",
       "    }\n",
       "</style>\n",
       "<table border=\"1\" class=\"dataframe\">\n",
       "  <thead>\n",
       "    <tr style=\"text-align: right;\">\n",
       "      <th></th>\n",
       "      <th>total_price</th>\n",
       "    </tr>\n",
       "    <tr>\n",
       "      <th>product_type</th>\n",
       "      <th></th>\n",
       "    </tr>\n",
       "  </thead>\n",
       "  <tbody>\n",
       "    <tr>\n",
       "      <th>Jacket</th>\n",
       "      <td>357026</td>\n",
       "    </tr>\n",
       "    <tr>\n",
       "      <th>Trousers</th>\n",
       "      <td>341174</td>\n",
       "    </tr>\n",
       "    <tr>\n",
       "      <th>Shirt</th>\n",
       "      <td>333600</td>\n",
       "    </tr>\n",
       "  </tbody>\n",
       "</table>\n",
       "</div>"
      ],
      "text/plain": [
       "              total_price\n",
       "product_type             \n",
       "Jacket             357026\n",
       "Trousers           341174\n",
       "Shirt              333600"
      ]
     },
     "execution_count": 90,
     "metadata": {},
     "output_type": "execute_result"
    }
   ],
   "source": [
    "# what is the product type that have the highest sales\n",
    "spoc.groupby(['product_type'])[['total_price']].sum().sort_values(by='total_price',ascending = False)"
   ]
  },
  {
   "cell_type": "code",
   "execution_count": 91,
   "metadata": {},
   "outputs": [
    {
     "data": {
      "application/vnd.plotly.v1+json": {
       "config": {
        "plotlyServerURL": "https://plot.ly"
       },
       "data": [
        {
         "alignmentgroup": "True",
         "hovertemplate": "variable=total_price<br>product_type=%{x}<br>value=%{y}<extra></extra>",
         "legendgroup": "total_price",
         "marker": {
          "color": "#636efa",
          "pattern": {
           "shape": ""
          }
         },
         "name": "total_price",
         "offsetgroup": "total_price",
         "orientation": "v",
         "showlegend": true,
         "textposition": "auto",
         "type": "bar",
         "x": [
          "Jacket",
          "Trousers",
          "Shirt"
         ],
         "xaxis": "x",
         "y": [
          357026,
          341174,
          333600
         ],
         "yaxis": "y"
        }
       ],
       "layout": {
        "barmode": "relative",
        "legend": {
         "title": {
          "text": "variable"
         },
         "tracegroupgap": 0
        },
        "margin": {
         "t": 60
        },
        "template": {
         "data": {
          "bar": [
           {
            "error_x": {
             "color": "#2a3f5f"
            },
            "error_y": {
             "color": "#2a3f5f"
            },
            "marker": {
             "line": {
              "color": "#E5ECF6",
              "width": 0.5
             },
             "pattern": {
              "fillmode": "overlay",
              "size": 10,
              "solidity": 0.2
             }
            },
            "type": "bar"
           }
          ],
          "barpolar": [
           {
            "marker": {
             "line": {
              "color": "#E5ECF6",
              "width": 0.5
             },
             "pattern": {
              "fillmode": "overlay",
              "size": 10,
              "solidity": 0.2
             }
            },
            "type": "barpolar"
           }
          ],
          "carpet": [
           {
            "aaxis": {
             "endlinecolor": "#2a3f5f",
             "gridcolor": "white",
             "linecolor": "white",
             "minorgridcolor": "white",
             "startlinecolor": "#2a3f5f"
            },
            "baxis": {
             "endlinecolor": "#2a3f5f",
             "gridcolor": "white",
             "linecolor": "white",
             "minorgridcolor": "white",
             "startlinecolor": "#2a3f5f"
            },
            "type": "carpet"
           }
          ],
          "choropleth": [
           {
            "colorbar": {
             "outlinewidth": 0,
             "ticks": ""
            },
            "type": "choropleth"
           }
          ],
          "contour": [
           {
            "colorbar": {
             "outlinewidth": 0,
             "ticks": ""
            },
            "colorscale": [
             [
              0,
              "#0d0887"
             ],
             [
              0.1111111111111111,
              "#46039f"
             ],
             [
              0.2222222222222222,
              "#7201a8"
             ],
             [
              0.3333333333333333,
              "#9c179e"
             ],
             [
              0.4444444444444444,
              "#bd3786"
             ],
             [
              0.5555555555555556,
              "#d8576b"
             ],
             [
              0.6666666666666666,
              "#ed7953"
             ],
             [
              0.7777777777777778,
              "#fb9f3a"
             ],
             [
              0.8888888888888888,
              "#fdca26"
             ],
             [
              1,
              "#f0f921"
             ]
            ],
            "type": "contour"
           }
          ],
          "contourcarpet": [
           {
            "colorbar": {
             "outlinewidth": 0,
             "ticks": ""
            },
            "type": "contourcarpet"
           }
          ],
          "heatmap": [
           {
            "colorbar": {
             "outlinewidth": 0,
             "ticks": ""
            },
            "colorscale": [
             [
              0,
              "#0d0887"
             ],
             [
              0.1111111111111111,
              "#46039f"
             ],
             [
              0.2222222222222222,
              "#7201a8"
             ],
             [
              0.3333333333333333,
              "#9c179e"
             ],
             [
              0.4444444444444444,
              "#bd3786"
             ],
             [
              0.5555555555555556,
              "#d8576b"
             ],
             [
              0.6666666666666666,
              "#ed7953"
             ],
             [
              0.7777777777777778,
              "#fb9f3a"
             ],
             [
              0.8888888888888888,
              "#fdca26"
             ],
             [
              1,
              "#f0f921"
             ]
            ],
            "type": "heatmap"
           }
          ],
          "heatmapgl": [
           {
            "colorbar": {
             "outlinewidth": 0,
             "ticks": ""
            },
            "colorscale": [
             [
              0,
              "#0d0887"
             ],
             [
              0.1111111111111111,
              "#46039f"
             ],
             [
              0.2222222222222222,
              "#7201a8"
             ],
             [
              0.3333333333333333,
              "#9c179e"
             ],
             [
              0.4444444444444444,
              "#bd3786"
             ],
             [
              0.5555555555555556,
              "#d8576b"
             ],
             [
              0.6666666666666666,
              "#ed7953"
             ],
             [
              0.7777777777777778,
              "#fb9f3a"
             ],
             [
              0.8888888888888888,
              "#fdca26"
             ],
             [
              1,
              "#f0f921"
             ]
            ],
            "type": "heatmapgl"
           }
          ],
          "histogram": [
           {
            "marker": {
             "pattern": {
              "fillmode": "overlay",
              "size": 10,
              "solidity": 0.2
             }
            },
            "type": "histogram"
           }
          ],
          "histogram2d": [
           {
            "colorbar": {
             "outlinewidth": 0,
             "ticks": ""
            },
            "colorscale": [
             [
              0,
              "#0d0887"
             ],
             [
              0.1111111111111111,
              "#46039f"
             ],
             [
              0.2222222222222222,
              "#7201a8"
             ],
             [
              0.3333333333333333,
              "#9c179e"
             ],
             [
              0.4444444444444444,
              "#bd3786"
             ],
             [
              0.5555555555555556,
              "#d8576b"
             ],
             [
              0.6666666666666666,
              "#ed7953"
             ],
             [
              0.7777777777777778,
              "#fb9f3a"
             ],
             [
              0.8888888888888888,
              "#fdca26"
             ],
             [
              1,
              "#f0f921"
             ]
            ],
            "type": "histogram2d"
           }
          ],
          "histogram2dcontour": [
           {
            "colorbar": {
             "outlinewidth": 0,
             "ticks": ""
            },
            "colorscale": [
             [
              0,
              "#0d0887"
             ],
             [
              0.1111111111111111,
              "#46039f"
             ],
             [
              0.2222222222222222,
              "#7201a8"
             ],
             [
              0.3333333333333333,
              "#9c179e"
             ],
             [
              0.4444444444444444,
              "#bd3786"
             ],
             [
              0.5555555555555556,
              "#d8576b"
             ],
             [
              0.6666666666666666,
              "#ed7953"
             ],
             [
              0.7777777777777778,
              "#fb9f3a"
             ],
             [
              0.8888888888888888,
              "#fdca26"
             ],
             [
              1,
              "#f0f921"
             ]
            ],
            "type": "histogram2dcontour"
           }
          ],
          "mesh3d": [
           {
            "colorbar": {
             "outlinewidth": 0,
             "ticks": ""
            },
            "type": "mesh3d"
           }
          ],
          "parcoords": [
           {
            "line": {
             "colorbar": {
              "outlinewidth": 0,
              "ticks": ""
             }
            },
            "type": "parcoords"
           }
          ],
          "pie": [
           {
            "automargin": true,
            "type": "pie"
           }
          ],
          "scatter": [
           {
            "marker": {
             "colorbar": {
              "outlinewidth": 0,
              "ticks": ""
             }
            },
            "type": "scatter"
           }
          ],
          "scatter3d": [
           {
            "line": {
             "colorbar": {
              "outlinewidth": 0,
              "ticks": ""
             }
            },
            "marker": {
             "colorbar": {
              "outlinewidth": 0,
              "ticks": ""
             }
            },
            "type": "scatter3d"
           }
          ],
          "scattercarpet": [
           {
            "marker": {
             "colorbar": {
              "outlinewidth": 0,
              "ticks": ""
             }
            },
            "type": "scattercarpet"
           }
          ],
          "scattergeo": [
           {
            "marker": {
             "colorbar": {
              "outlinewidth": 0,
              "ticks": ""
             }
            },
            "type": "scattergeo"
           }
          ],
          "scattergl": [
           {
            "marker": {
             "colorbar": {
              "outlinewidth": 0,
              "ticks": ""
             }
            },
            "type": "scattergl"
           }
          ],
          "scattermapbox": [
           {
            "marker": {
             "colorbar": {
              "outlinewidth": 0,
              "ticks": ""
             }
            },
            "type": "scattermapbox"
           }
          ],
          "scatterpolar": [
           {
            "marker": {
             "colorbar": {
              "outlinewidth": 0,
              "ticks": ""
             }
            },
            "type": "scatterpolar"
           }
          ],
          "scatterpolargl": [
           {
            "marker": {
             "colorbar": {
              "outlinewidth": 0,
              "ticks": ""
             }
            },
            "type": "scatterpolargl"
           }
          ],
          "scatterternary": [
           {
            "marker": {
             "colorbar": {
              "outlinewidth": 0,
              "ticks": ""
             }
            },
            "type": "scatterternary"
           }
          ],
          "surface": [
           {
            "colorbar": {
             "outlinewidth": 0,
             "ticks": ""
            },
            "colorscale": [
             [
              0,
              "#0d0887"
             ],
             [
              0.1111111111111111,
              "#46039f"
             ],
             [
              0.2222222222222222,
              "#7201a8"
             ],
             [
              0.3333333333333333,
              "#9c179e"
             ],
             [
              0.4444444444444444,
              "#bd3786"
             ],
             [
              0.5555555555555556,
              "#d8576b"
             ],
             [
              0.6666666666666666,
              "#ed7953"
             ],
             [
              0.7777777777777778,
              "#fb9f3a"
             ],
             [
              0.8888888888888888,
              "#fdca26"
             ],
             [
              1,
              "#f0f921"
             ]
            ],
            "type": "surface"
           }
          ],
          "table": [
           {
            "cells": {
             "fill": {
              "color": "#EBF0F8"
             },
             "line": {
              "color": "white"
             }
            },
            "header": {
             "fill": {
              "color": "#C8D4E3"
             },
             "line": {
              "color": "white"
             }
            },
            "type": "table"
           }
          ]
         },
         "layout": {
          "annotationdefaults": {
           "arrowcolor": "#2a3f5f",
           "arrowhead": 0,
           "arrowwidth": 1
          },
          "autotypenumbers": "strict",
          "coloraxis": {
           "colorbar": {
            "outlinewidth": 0,
            "ticks": ""
           }
          },
          "colorscale": {
           "diverging": [
            [
             0,
             "#8e0152"
            ],
            [
             0.1,
             "#c51b7d"
            ],
            [
             0.2,
             "#de77ae"
            ],
            [
             0.3,
             "#f1b6da"
            ],
            [
             0.4,
             "#fde0ef"
            ],
            [
             0.5,
             "#f7f7f7"
            ],
            [
             0.6,
             "#e6f5d0"
            ],
            [
             0.7,
             "#b8e186"
            ],
            [
             0.8,
             "#7fbc41"
            ],
            [
             0.9,
             "#4d9221"
            ],
            [
             1,
             "#276419"
            ]
           ],
           "sequential": [
            [
             0,
             "#0d0887"
            ],
            [
             0.1111111111111111,
             "#46039f"
            ],
            [
             0.2222222222222222,
             "#7201a8"
            ],
            [
             0.3333333333333333,
             "#9c179e"
            ],
            [
             0.4444444444444444,
             "#bd3786"
            ],
            [
             0.5555555555555556,
             "#d8576b"
            ],
            [
             0.6666666666666666,
             "#ed7953"
            ],
            [
             0.7777777777777778,
             "#fb9f3a"
            ],
            [
             0.8888888888888888,
             "#fdca26"
            ],
            [
             1,
             "#f0f921"
            ]
           ],
           "sequentialminus": [
            [
             0,
             "#0d0887"
            ],
            [
             0.1111111111111111,
             "#46039f"
            ],
            [
             0.2222222222222222,
             "#7201a8"
            ],
            [
             0.3333333333333333,
             "#9c179e"
            ],
            [
             0.4444444444444444,
             "#bd3786"
            ],
            [
             0.5555555555555556,
             "#d8576b"
            ],
            [
             0.6666666666666666,
             "#ed7953"
            ],
            [
             0.7777777777777778,
             "#fb9f3a"
            ],
            [
             0.8888888888888888,
             "#fdca26"
            ],
            [
             1,
             "#f0f921"
            ]
           ]
          },
          "colorway": [
           "#636efa",
           "#EF553B",
           "#00cc96",
           "#ab63fa",
           "#FFA15A",
           "#19d3f3",
           "#FF6692",
           "#B6E880",
           "#FF97FF",
           "#FECB52"
          ],
          "font": {
           "color": "#2a3f5f"
          },
          "geo": {
           "bgcolor": "white",
           "lakecolor": "white",
           "landcolor": "#E5ECF6",
           "showlakes": true,
           "showland": true,
           "subunitcolor": "white"
          },
          "hoverlabel": {
           "align": "left"
          },
          "hovermode": "closest",
          "mapbox": {
           "style": "light"
          },
          "paper_bgcolor": "white",
          "plot_bgcolor": "#E5ECF6",
          "polar": {
           "angularaxis": {
            "gridcolor": "white",
            "linecolor": "white",
            "ticks": ""
           },
           "bgcolor": "#E5ECF6",
           "radialaxis": {
            "gridcolor": "white",
            "linecolor": "white",
            "ticks": ""
           }
          },
          "scene": {
           "xaxis": {
            "backgroundcolor": "#E5ECF6",
            "gridcolor": "white",
            "gridwidth": 2,
            "linecolor": "white",
            "showbackground": true,
            "ticks": "",
            "zerolinecolor": "white"
           },
           "yaxis": {
            "backgroundcolor": "#E5ECF6",
            "gridcolor": "white",
            "gridwidth": 2,
            "linecolor": "white",
            "showbackground": true,
            "ticks": "",
            "zerolinecolor": "white"
           },
           "zaxis": {
            "backgroundcolor": "#E5ECF6",
            "gridcolor": "white",
            "gridwidth": 2,
            "linecolor": "white",
            "showbackground": true,
            "ticks": "",
            "zerolinecolor": "white"
           }
          },
          "shapedefaults": {
           "line": {
            "color": "#2a3f5f"
           }
          },
          "ternary": {
           "aaxis": {
            "gridcolor": "white",
            "linecolor": "white",
            "ticks": ""
           },
           "baxis": {
            "gridcolor": "white",
            "linecolor": "white",
            "ticks": ""
           },
           "bgcolor": "#E5ECF6",
           "caxis": {
            "gridcolor": "white",
            "linecolor": "white",
            "ticks": ""
           }
          },
          "title": {
           "x": 0.05
          },
          "xaxis": {
           "automargin": true,
           "gridcolor": "white",
           "linecolor": "white",
           "ticks": "",
           "title": {
            "standoff": 15
           },
           "zerolinecolor": "white",
           "zerolinewidth": 2
          },
          "yaxis": {
           "automargin": true,
           "gridcolor": "white",
           "linecolor": "white",
           "ticks": "",
           "title": {
            "standoff": 15
           },
           "zerolinecolor": "white",
           "zerolinewidth": 2
          }
         }
        },
        "xaxis": {
         "anchor": "y",
         "domain": [
          0,
          1
         ],
         "title": {
          "text": "product_type"
         }
        },
        "yaxis": {
         "anchor": "x",
         "domain": [
          0,
          1
         ],
         "title": {
          "text": "value"
         }
        }
       }
      }
     },
     "metadata": {},
     "output_type": "display_data"
    }
   ],
   "source": [
    "px.bar(spoc.groupby(['product_type'])[['total_price']].sum().sort_values(by='total_price',ascending = False))"
   ]
  },
  {
   "cell_type": "code",
   "execution_count": 92,
   "metadata": {
    "colab": {
     "base_uri": "https://localhost:8080/",
     "height": 739
    },
    "id": "R8Ko6piKXZBE",
    "outputId": "5958205a-c868-4a85-ed03-803f99857768"
   },
   "outputs": [
    {
     "data": {
      "text/html": [
       "<div>\n",
       "<style scoped>\n",
       "    .dataframe tbody tr th:only-of-type {\n",
       "        vertical-align: middle;\n",
       "    }\n",
       "\n",
       "    .dataframe tbody tr th {\n",
       "        vertical-align: top;\n",
       "    }\n",
       "\n",
       "    .dataframe thead th {\n",
       "        text-align: right;\n",
       "    }\n",
       "</style>\n",
       "<table border=\"1\" class=\"dataframe\">\n",
       "  <thead>\n",
       "    <tr style=\"text-align: right;\">\n",
       "      <th></th>\n",
       "      <th></th>\n",
       "      <th>total_price</th>\n",
       "    </tr>\n",
       "    <tr>\n",
       "      <th>colour</th>\n",
       "      <th>product_type</th>\n",
       "      <th></th>\n",
       "    </tr>\n",
       "  </thead>\n",
       "  <tbody>\n",
       "    <tr>\n",
       "      <th>blue</th>\n",
       "      <th>Jacket</th>\n",
       "      <td>56381</td>\n",
       "    </tr>\n",
       "    <tr>\n",
       "      <th>green</th>\n",
       "      <th>Jacket</th>\n",
       "      <td>55160</td>\n",
       "    </tr>\n",
       "    <tr>\n",
       "      <th>violet</th>\n",
       "      <th>Shirt</th>\n",
       "      <td>53583</td>\n",
       "    </tr>\n",
       "    <tr>\n",
       "      <th>blue</th>\n",
       "      <th>Trousers</th>\n",
       "      <td>53392</td>\n",
       "    </tr>\n",
       "    <tr>\n",
       "      <th>indigo</th>\n",
       "      <th>Trousers</th>\n",
       "      <td>50487</td>\n",
       "    </tr>\n",
       "    <tr>\n",
       "      <th>yellow</th>\n",
       "      <th>Jacket</th>\n",
       "      <td>50451</td>\n",
       "    </tr>\n",
       "    <tr>\n",
       "      <th>red</th>\n",
       "      <th>Jacket</th>\n",
       "      <td>50063</td>\n",
       "    </tr>\n",
       "    <tr>\n",
       "      <th rowspan=\"2\" valign=\"top\">indigo</th>\n",
       "      <th>Jacket</th>\n",
       "      <td>49791</td>\n",
       "    </tr>\n",
       "    <tr>\n",
       "      <th>Shirt</th>\n",
       "      <td>49161</td>\n",
       "    </tr>\n",
       "    <tr>\n",
       "      <th>violet</th>\n",
       "      <th>Jacket</th>\n",
       "      <td>48839</td>\n",
       "    </tr>\n",
       "    <tr>\n",
       "      <th>red</th>\n",
       "      <th>Shirt</th>\n",
       "      <td>48573</td>\n",
       "    </tr>\n",
       "    <tr>\n",
       "      <th>blue</th>\n",
       "      <th>Shirt</th>\n",
       "      <td>48447</td>\n",
       "    </tr>\n",
       "    <tr>\n",
       "      <th>yellow</th>\n",
       "      <th>Trousers</th>\n",
       "      <td>48354</td>\n",
       "    </tr>\n",
       "    <tr>\n",
       "      <th>violet</th>\n",
       "      <th>Trousers</th>\n",
       "      <td>47538</td>\n",
       "    </tr>\n",
       "    <tr>\n",
       "      <th>orange</th>\n",
       "      <th>Trousers</th>\n",
       "      <td>47269</td>\n",
       "    </tr>\n",
       "    <tr>\n",
       "      <th>red</th>\n",
       "      <th>Trousers</th>\n",
       "      <td>47262</td>\n",
       "    </tr>\n",
       "    <tr>\n",
       "      <th>orange</th>\n",
       "      <th>Shirt</th>\n",
       "      <td>47147</td>\n",
       "    </tr>\n",
       "    <tr>\n",
       "      <th>green</th>\n",
       "      <th>Trousers</th>\n",
       "      <td>46872</td>\n",
       "    </tr>\n",
       "    <tr>\n",
       "      <th>orange</th>\n",
       "      <th>Jacket</th>\n",
       "      <td>46341</td>\n",
       "    </tr>\n",
       "    <tr>\n",
       "      <th>yellow</th>\n",
       "      <th>Shirt</th>\n",
       "      <td>45363</td>\n",
       "    </tr>\n",
       "    <tr>\n",
       "      <th>green</th>\n",
       "      <th>Shirt</th>\n",
       "      <td>41326</td>\n",
       "    </tr>\n",
       "  </tbody>\n",
       "</table>\n",
       "</div>"
      ],
      "text/plain": [
       "                     total_price\n",
       "colour product_type             \n",
       "blue   Jacket              56381\n",
       "green  Jacket              55160\n",
       "violet Shirt               53583\n",
       "blue   Trousers            53392\n",
       "indigo Trousers            50487\n",
       "yellow Jacket              50451\n",
       "red    Jacket              50063\n",
       "indigo Jacket              49791\n",
       "       Shirt               49161\n",
       "violet Jacket              48839\n",
       "red    Shirt               48573\n",
       "blue   Shirt               48447\n",
       "yellow Trousers            48354\n",
       "violet Trousers            47538\n",
       "orange Trousers            47269\n",
       "red    Trousers            47262\n",
       "orange Shirt               47147\n",
       "green  Trousers            46872\n",
       "orange Jacket              46341\n",
       "yellow Shirt               45363\n",
       "green  Shirt               41326"
      ]
     },
     "execution_count": 92,
     "metadata": {},
     "output_type": "execute_result"
    }
   ],
   "source": [
    "# what is the color of the product type that have highest sales?\n",
    "spoc.groupby(['colour','product_type'])[['total_price']].sum().sort_values(by='total_price',ascending = False)"
   ]
  },
  {
   "cell_type": "code",
   "execution_count": 93,
   "metadata": {},
   "outputs": [],
   "source": [
    "#save the data\n",
    "spoc.to_csv('shopping_data.csv', index=False)"
   ]
  },
  {
   "cell_type": "code",
   "execution_count": 94,
   "metadata": {},
   "outputs": [
    {
     "data": {
      "text/html": [
       "<div>\n",
       "<style scoped>\n",
       "    .dataframe tbody tr th:only-of-type {\n",
       "        vertical-align: middle;\n",
       "    }\n",
       "\n",
       "    .dataframe tbody tr th {\n",
       "        vertical-align: top;\n",
       "    }\n",
       "\n",
       "    .dataframe thead th {\n",
       "        text-align: right;\n",
       "    }\n",
       "</style>\n",
       "<table border=\"1\" class=\"dataframe\">\n",
       "  <thead>\n",
       "    <tr style=\"text-align: right;\">\n",
       "      <th></th>\n",
       "      <th>sales_id</th>\n",
       "      <th>order_id</th>\n",
       "      <th>product_id</th>\n",
       "      <th>price_per_unit</th>\n",
       "      <th>quantity_sales</th>\n",
       "      <th>total_price</th>\n",
       "      <th>product_ID</th>\n",
       "      <th>product_type</th>\n",
       "      <th>product_name</th>\n",
       "      <th>size</th>\n",
       "      <th>...</th>\n",
       "      <th>country</th>\n",
       "      <th>differance</th>\n",
       "      <th>year_order</th>\n",
       "      <th>month_order</th>\n",
       "      <th>day_order</th>\n",
       "      <th>name_day_order</th>\n",
       "      <th>year_delivery</th>\n",
       "      <th>month_delivery</th>\n",
       "      <th>day_delivery</th>\n",
       "      <th>name_day_delivery</th>\n",
       "    </tr>\n",
       "  </thead>\n",
       "  <tbody>\n",
       "    <tr>\n",
       "      <th>0</th>\n",
       "      <td>0</td>\n",
       "      <td>1</td>\n",
       "      <td>218</td>\n",
       "      <td>106</td>\n",
       "      <td>2</td>\n",
       "      <td>212</td>\n",
       "      <td>218</td>\n",
       "      <td>Shirt</td>\n",
       "      <td>Chambray</td>\n",
       "      <td>L</td>\n",
       "      <td>...</td>\n",
       "      <td>Australia</td>\n",
       "      <td>25</td>\n",
       "      <td>2021</td>\n",
       "      <td>8</td>\n",
       "      <td>30</td>\n",
       "      <td>Monday</td>\n",
       "      <td>2021</td>\n",
       "      <td>9</td>\n",
       "      <td>24</td>\n",
       "      <td>Friday</td>\n",
       "    </tr>\n",
       "    <tr>\n",
       "      <th>1</th>\n",
       "      <td>1</td>\n",
       "      <td>1</td>\n",
       "      <td>481</td>\n",
       "      <td>118</td>\n",
       "      <td>1</td>\n",
       "      <td>118</td>\n",
       "      <td>481</td>\n",
       "      <td>Jacket</td>\n",
       "      <td>Puffer</td>\n",
       "      <td>S</td>\n",
       "      <td>...</td>\n",
       "      <td>Australia</td>\n",
       "      <td>25</td>\n",
       "      <td>2021</td>\n",
       "      <td>8</td>\n",
       "      <td>30</td>\n",
       "      <td>Monday</td>\n",
       "      <td>2021</td>\n",
       "      <td>9</td>\n",
       "      <td>24</td>\n",
       "      <td>Friday</td>\n",
       "    </tr>\n",
       "    <tr>\n",
       "      <th>2</th>\n",
       "      <td>2</td>\n",
       "      <td>1</td>\n",
       "      <td>2</td>\n",
       "      <td>96</td>\n",
       "      <td>3</td>\n",
       "      <td>288</td>\n",
       "      <td>2</td>\n",
       "      <td>Shirt</td>\n",
       "      <td>Oxford Cloth</td>\n",
       "      <td>M</td>\n",
       "      <td>...</td>\n",
       "      <td>Australia</td>\n",
       "      <td>25</td>\n",
       "      <td>2021</td>\n",
       "      <td>8</td>\n",
       "      <td>30</td>\n",
       "      <td>Monday</td>\n",
       "      <td>2021</td>\n",
       "      <td>9</td>\n",
       "      <td>24</td>\n",
       "      <td>Friday</td>\n",
       "    </tr>\n",
       "    <tr>\n",
       "      <th>3</th>\n",
       "      <td>3</td>\n",
       "      <td>1</td>\n",
       "      <td>1002</td>\n",
       "      <td>106</td>\n",
       "      <td>2</td>\n",
       "      <td>212</td>\n",
       "      <td>1002</td>\n",
       "      <td>Trousers</td>\n",
       "      <td>Wool</td>\n",
       "      <td>M</td>\n",
       "      <td>...</td>\n",
       "      <td>Australia</td>\n",
       "      <td>25</td>\n",
       "      <td>2021</td>\n",
       "      <td>8</td>\n",
       "      <td>30</td>\n",
       "      <td>Monday</td>\n",
       "      <td>2021</td>\n",
       "      <td>9</td>\n",
       "      <td>24</td>\n",
       "      <td>Friday</td>\n",
       "    </tr>\n",
       "    <tr>\n",
       "      <th>4</th>\n",
       "      <td>4</td>\n",
       "      <td>1</td>\n",
       "      <td>691</td>\n",
       "      <td>113</td>\n",
       "      <td>3</td>\n",
       "      <td>339</td>\n",
       "      <td>691</td>\n",
       "      <td>Jacket</td>\n",
       "      <td>Parka</td>\n",
       "      <td>S</td>\n",
       "      <td>...</td>\n",
       "      <td>Australia</td>\n",
       "      <td>25</td>\n",
       "      <td>2021</td>\n",
       "      <td>8</td>\n",
       "      <td>30</td>\n",
       "      <td>Monday</td>\n",
       "      <td>2021</td>\n",
       "      <td>9</td>\n",
       "      <td>24</td>\n",
       "      <td>Friday</td>\n",
       "    </tr>\n",
       "    <tr>\n",
       "      <th>...</th>\n",
       "      <td>...</td>\n",
       "      <td>...</td>\n",
       "      <td>...</td>\n",
       "      <td>...</td>\n",
       "      <td>...</td>\n",
       "      <td>...</td>\n",
       "      <td>...</td>\n",
       "      <td>...</td>\n",
       "      <td>...</td>\n",
       "      <td>...</td>\n",
       "      <td>...</td>\n",
       "      <td>...</td>\n",
       "      <td>...</td>\n",
       "      <td>...</td>\n",
       "      <td>...</td>\n",
       "      <td>...</td>\n",
       "      <td>...</td>\n",
       "      <td>...</td>\n",
       "      <td>...</td>\n",
       "      <td>...</td>\n",
       "      <td>...</td>\n",
       "    </tr>\n",
       "    <tr>\n",
       "      <th>4995</th>\n",
       "      <td>2605</td>\n",
       "      <td>522</td>\n",
       "      <td>433</td>\n",
       "      <td>107</td>\n",
       "      <td>3</td>\n",
       "      <td>321</td>\n",
       "      <td>433</td>\n",
       "      <td>Jacket</td>\n",
       "      <td>Denim</td>\n",
       "      <td>L</td>\n",
       "      <td>...</td>\n",
       "      <td>Australia</td>\n",
       "      <td>17</td>\n",
       "      <td>2021</td>\n",
       "      <td>3</td>\n",
       "      <td>19</td>\n",
       "      <td>Friday</td>\n",
       "      <td>2021</td>\n",
       "      <td>4</td>\n",
       "      <td>5</td>\n",
       "      <td>Monday</td>\n",
       "    </tr>\n",
       "    <tr>\n",
       "      <th>4996</th>\n",
       "      <td>3422</td>\n",
       "      <td>690</td>\n",
       "      <td>919</td>\n",
       "      <td>96</td>\n",
       "      <td>3</td>\n",
       "      <td>288</td>\n",
       "      <td>919</td>\n",
       "      <td>Trousers</td>\n",
       "      <td>Drawstring</td>\n",
       "      <td>XL</td>\n",
       "      <td>...</td>\n",
       "      <td>Australia</td>\n",
       "      <td>21</td>\n",
       "      <td>2021</td>\n",
       "      <td>10</td>\n",
       "      <td>5</td>\n",
       "      <td>Tuesday</td>\n",
       "      <td>2021</td>\n",
       "      <td>10</td>\n",
       "      <td>26</td>\n",
       "      <td>Tuesday</td>\n",
       "    </tr>\n",
       "    <tr>\n",
       "      <th>4997</th>\n",
       "      <td>3420</td>\n",
       "      <td>690</td>\n",
       "      <td>454</td>\n",
       "      <td>107</td>\n",
       "      <td>1</td>\n",
       "      <td>107</td>\n",
       "      <td>454</td>\n",
       "      <td>Jacket</td>\n",
       "      <td>Denim</td>\n",
       "      <td>XL</td>\n",
       "      <td>...</td>\n",
       "      <td>Australia</td>\n",
       "      <td>21</td>\n",
       "      <td>2021</td>\n",
       "      <td>10</td>\n",
       "      <td>5</td>\n",
       "      <td>Tuesday</td>\n",
       "      <td>2021</td>\n",
       "      <td>10</td>\n",
       "      <td>26</td>\n",
       "      <td>Tuesday</td>\n",
       "    </tr>\n",
       "    <tr>\n",
       "      <th>4998</th>\n",
       "      <td>3421</td>\n",
       "      <td>690</td>\n",
       "      <td>296</td>\n",
       "      <td>105</td>\n",
       "      <td>3</td>\n",
       "      <td>315</td>\n",
       "      <td>296</td>\n",
       "      <td>Shirt</td>\n",
       "      <td>Cuban Collar</td>\n",
       "      <td>S</td>\n",
       "      <td>...</td>\n",
       "      <td>Australia</td>\n",
       "      <td>21</td>\n",
       "      <td>2021</td>\n",
       "      <td>10</td>\n",
       "      <td>5</td>\n",
       "      <td>Tuesday</td>\n",
       "      <td>2021</td>\n",
       "      <td>10</td>\n",
       "      <td>26</td>\n",
       "      <td>Tuesday</td>\n",
       "    </tr>\n",
       "    <tr>\n",
       "      <th>4999</th>\n",
       "      <td>3423</td>\n",
       "      <td>690</td>\n",
       "      <td>304</td>\n",
       "      <td>105</td>\n",
       "      <td>1</td>\n",
       "      <td>105</td>\n",
       "      <td>304</td>\n",
       "      <td>Shirt</td>\n",
       "      <td>Cuban Collar</td>\n",
       "      <td>XL</td>\n",
       "      <td>...</td>\n",
       "      <td>Australia</td>\n",
       "      <td>21</td>\n",
       "      <td>2021</td>\n",
       "      <td>10</td>\n",
       "      <td>5</td>\n",
       "      <td>Tuesday</td>\n",
       "      <td>2021</td>\n",
       "      <td>10</td>\n",
       "      <td>26</td>\n",
       "      <td>Tuesday</td>\n",
       "    </tr>\n",
       "  </tbody>\n",
       "</table>\n",
       "<p>5000 rows × 35 columns</p>\n",
       "</div>"
      ],
      "text/plain": [
       "      sales_id  order_id  product_id  price_per_unit  quantity_sales  \\\n",
       "0            0         1         218             106               2   \n",
       "1            1         1         481             118               1   \n",
       "2            2         1           2              96               3   \n",
       "3            3         1        1002             106               2   \n",
       "4            4         1         691             113               3   \n",
       "...        ...       ...         ...             ...             ...   \n",
       "4995      2605       522         433             107               3   \n",
       "4996      3422       690         919              96               3   \n",
       "4997      3420       690         454             107               1   \n",
       "4998      3421       690         296             105               3   \n",
       "4999      3423       690         304             105               1   \n",
       "\n",
       "      total_price  product_ID product_type  product_name size  ...    country  \\\n",
       "0             212         218        Shirt      Chambray    L  ...  Australia   \n",
       "1             118         481       Jacket        Puffer    S  ...  Australia   \n",
       "2             288           2        Shirt  Oxford Cloth    M  ...  Australia   \n",
       "3             212        1002     Trousers          Wool    M  ...  Australia   \n",
       "4             339         691       Jacket         Parka    S  ...  Australia   \n",
       "...           ...         ...          ...           ...  ...  ...        ...   \n",
       "4995          321         433       Jacket         Denim    L  ...  Australia   \n",
       "4996          288         919     Trousers    Drawstring   XL  ...  Australia   \n",
       "4997          107         454       Jacket         Denim   XL  ...  Australia   \n",
       "4998          315         296        Shirt  Cuban Collar    S  ...  Australia   \n",
       "4999          105         304        Shirt  Cuban Collar   XL  ...  Australia   \n",
       "\n",
       "      differance  year_order month_order  day_order  name_day_order  \\\n",
       "0             25        2021           8         30          Monday   \n",
       "1             25        2021           8         30          Monday   \n",
       "2             25        2021           8         30          Monday   \n",
       "3             25        2021           8         30          Monday   \n",
       "4             25        2021           8         30          Monday   \n",
       "...          ...         ...         ...        ...             ...   \n",
       "4995          17        2021           3         19          Friday   \n",
       "4996          21        2021          10          5         Tuesday   \n",
       "4997          21        2021          10          5         Tuesday   \n",
       "4998          21        2021          10          5         Tuesday   \n",
       "4999          21        2021          10          5         Tuesday   \n",
       "\n",
       "     year_delivery month_delivery day_delivery name_day_delivery  \n",
       "0             2021              9           24            Friday  \n",
       "1             2021              9           24            Friday  \n",
       "2             2021              9           24            Friday  \n",
       "3             2021              9           24            Friday  \n",
       "4             2021              9           24            Friday  \n",
       "...            ...            ...          ...               ...  \n",
       "4995          2021              4            5            Monday  \n",
       "4996          2021             10           26           Tuesday  \n",
       "4997          2021             10           26           Tuesday  \n",
       "4998          2021             10           26           Tuesday  \n",
       "4999          2021             10           26           Tuesday  \n",
       "\n",
       "[5000 rows x 35 columns]"
      ]
     },
     "execution_count": 94,
     "metadata": {},
     "output_type": "execute_result"
    }
   ],
   "source": [
    "pd.read_csv('shopping_data.csv')"
   ]
  },
  {
   "cell_type": "code",
   "execution_count": 95,
   "metadata": {},
   "outputs": [
    {
     "data": {
      "text/plain": [
       "Index(['sales_id', 'order_id', 'product_id', 'price_per_unit',\n",
       "       'quantity_sales', 'total_price', 'product_ID', 'product_type',\n",
       "       'product_name', 'size', 'colour', 'price', 'quantity_product',\n",
       "       'description', 'customer_id', 'payment', 'order_date', 'delivery_date',\n",
       "       'customer_name', 'gender', 'age', 'home_address', 'zip_code', 'city',\n",
       "       'state', 'country', 'differance', 'year_order', 'month_order',\n",
       "       'day_order', 'name_day_order', 'year_delivery', 'month_delivery',\n",
       "       'day_delivery', 'name_day_delivery'],\n",
       "      dtype='object')"
      ]
     },
     "execution_count": 95,
     "metadata": {},
     "output_type": "execute_result"
    }
   ],
   "source": [
    "spoc.columns"
   ]
  },
  {
   "cell_type": "code",
   "execution_count": 96,
   "metadata": {},
   "outputs": [
    {
     "data": {
      "text/html": [
       "<div>\n",
       "<style scoped>\n",
       "    .dataframe tbody tr th:only-of-type {\n",
       "        vertical-align: middle;\n",
       "    }\n",
       "\n",
       "    .dataframe tbody tr th {\n",
       "        vertical-align: top;\n",
       "    }\n",
       "\n",
       "    .dataframe thead th {\n",
       "        text-align: right;\n",
       "    }\n",
       "</style>\n",
       "<table border=\"1\" class=\"dataframe\">\n",
       "  <thead>\n",
       "    <tr style=\"text-align: right;\">\n",
       "      <th></th>\n",
       "      <th>total_price</th>\n",
       "    </tr>\n",
       "    <tr>\n",
       "      <th>year_order</th>\n",
       "      <th></th>\n",
       "    </tr>\n",
       "  </thead>\n",
       "  <tbody>\n",
       "    <tr>\n",
       "      <th>2021</th>\n",
       "      <td>1031800</td>\n",
       "    </tr>\n",
       "  </tbody>\n",
       "</table>\n",
       "</div>"
      ],
      "text/plain": [
       "            total_price\n",
       "year_order             \n",
       "2021            1031800"
      ]
     },
     "execution_count": 96,
     "metadata": {},
     "output_type": "execute_result"
    }
   ],
   "source": [
    "spoc.groupby('year_order')[['total_price']].sum().sort_values(by='total_price',ascending = False)"
   ]
  },
  {
   "cell_type": "code",
   "execution_count": null,
   "metadata": {},
   "outputs": [],
   "source": [
    "pd.read"
   ]
  }
 ],
 "metadata": {
  "colab": {
   "name": "Shopping cart_EDA.ipynb",
   "provenance": []
  },
  "kernelspec": {
   "display_name": "Python 3.9.12 ('base')",
   "language": "python",
   "name": "python3"
  },
  "language_info": {
   "codemirror_mode": {
    "name": "ipython",
    "version": 3
   },
   "file_extension": ".py",
   "mimetype": "text/x-python",
   "name": "python",
   "nbconvert_exporter": "python",
   "pygments_lexer": "ipython3",
   "version": "3.9.12"
  },
  "vscode": {
   "interpreter": {
    "hash": "78c960279fecff9e244480132042affa22d495e3cfc64966045877e7ad2bb26d"
   }
  }
 },
 "nbformat": 4,
 "nbformat_minor": 1
}
